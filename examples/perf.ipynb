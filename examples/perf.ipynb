{
 "cells": [
  {
   "cell_type": "code",
   "execution_count": 1,
   "id": "76f3b1f6",
   "metadata": {},
   "outputs": [],
   "source": [
    "_=\"\"\"\n",
    "I mean, it's fast. What more do you want?\n",
    "\n",
    "How do we make this interesting?\n",
    "\n",
    "\"takes like 1ms\"\n",
    "\"\"\""
   ]
  },
  {
   "cell_type": "code",
   "execution_count": 2,
   "id": "f068ff55",
   "metadata": {},
   "outputs": [],
   "source": [
    "from hashbox import HashBox, FrozenHashBox\n",
    "from litebox import LiteBox\n",
    "import random\n",
    "from functools import partial"
   ]
  },
  {
   "cell_type": "code",
   "execution_count": 3,
   "id": "6f179545",
   "metadata": {},
   "outputs": [],
   "source": [
    "SHAPES = ['circle', 'plane', 'triangle', 'square', 'pentagon', 'hexagon', 'heptagon', 'octagon', 'nonagon', 'decagon']\n",
    "data = [\n",
    "    {'size': i, 'shape': random.choice(SHAPES)}\n",
    "    for i in range(10**6)\n",
    "]"
   ]
  },
  {
   "cell_type": "code",
   "execution_count": 4,
   "id": "473835e6",
   "metadata": {},
   "outputs": [],
   "source": [
    "n_items = 1000\n",
    "max_size = n_items*10"
   ]
  },
  {
   "cell_type": "code",
   "execution_count": 5,
   "id": "34916762",
   "metadata": {},
   "outputs": [],
   "source": [
    "lb = LiteBox(data, {'size': int, 'shape': str}, index=[('size',)])"
   ]
  },
  {
   "cell_type": "code",
   "execution_count": 6,
   "id": "eb6bd9c9",
   "metadata": {},
   "outputs": [],
   "source": [
    "def size_at_most_n(n, obj):\n",
    "    return obj['size'] <= n\n",
    "\n",
    "size_needed = partial(size_at_most_n, max_size)\n",
    "\n",
    "hb = HashBox(data, ['size', size_needed, 'shape'])\n",
    "fhb = FrozenHashBox(data, ['size', size_needed, 'shape'])"
   ]
  },
  {
   "cell_type": "code",
   "execution_count": 7,
   "id": "13b1f09c",
   "metadata": {},
   "outputs": [
    {
     "data": {
      "text/plain": [
       "1028"
      ]
     },
     "execution_count": 7,
     "metadata": {},
     "output_type": "execute_result"
    }
   ],
   "source": [
    "len(hb.find({size_needed: True, 'shape': 'square'}))\n"
   ]
  },
  {
   "cell_type": "code",
   "execution_count": 8,
   "id": "0170e189",
   "metadata": {},
   "outputs": [
    {
     "name": "stdout",
     "output_type": "stream",
     "text": [
      "3.7 ms ± 431 µs per loop (mean ± std. dev. of 10 runs, 10 loops each)\n"
     ]
    }
   ],
   "source": [
    "%%timeit -n 10 -r 10\n",
    "len(lb.find(f'size <= {max_size} and shape == \"square\"'))\n",
    "# litebox"
   ]
  },
  {
   "cell_type": "code",
   "execution_count": 9,
   "id": "75f7c06e",
   "metadata": {},
   "outputs": [
    {
     "name": "stdout",
     "output_type": "stream",
     "text": [
      "2.12 ms ± 234 µs per loop (mean ± std. dev. of 10 runs, 10 loops each)\n"
     ]
    }
   ],
   "source": [
    "%%timeit -n 10 -r 10\n",
    "len(hb.find({size_needed: True, 'shape': 'square'}))\n",
    "# hashbox"
   ]
  },
  {
   "cell_type": "code",
   "execution_count": 10,
   "id": "5099c566",
   "metadata": {},
   "outputs": [
    {
     "name": "stdout",
     "output_type": "stream",
     "text": [
      "68.2 µs ± 3.75 µs per loop (mean ± std. dev. of 10 runs, 10 loops each)\n"
     ]
    }
   ],
   "source": [
    "%%timeit -n 10 -r 10\n",
    "len(fhb.find({size_needed: True, 'shape': 'square'}))\n",
    "# frozenhashbox"
   ]
  },
  {
   "cell_type": "code",
   "execution_count": 11,
   "id": "bcbf3288",
   "metadata": {},
   "outputs": [],
   "source": [
    "fhb.indices[size_needed].objs_by_hash"
   ]
  },
  {
   "cell_type": "code",
   "execution_count": null,
   "id": "2db2209c",
   "metadata": {},
   "outputs": [],
   "source": []
  },
  {
   "cell_type": "code",
   "execution_count": 12,
   "id": "ea0b94c2",
   "metadata": {},
   "outputs": [],
   "source": [
    "def doit():\n",
    "    return len([x for x in data if x['size'] <= max_size and x['shape'] == 'square'])"
   ]
  },
  {
   "cell_type": "code",
   "execution_count": 13,
   "id": "cb94326c",
   "metadata": {},
   "outputs": [],
   "source": [
    "def setup(n_items):\n",
    "    pass"
   ]
  },
  {
   "cell_type": "code",
   "execution_count": 14,
   "id": "6080ccff",
   "metadata": {},
   "outputs": [
    {
     "name": "stdout",
     "output_type": "stream",
     "text": [
      "1028\n",
      "53.5 ms ± 1.16 ms per loop (mean ± std. dev. of 3 runs, 3 loops each)\n"
     ]
    }
   ],
   "source": [
    "setup(1)\n",
    "print(doit())\n",
    "t_ = %timeit -n 3 -r 3 -o doit()"
   ]
  },
  {
   "cell_type": "code",
   "execution_count": null,
   "id": "8a610d81",
   "metadata": {},
   "outputs": [],
   "source": []
  },
  {
   "cell_type": "code",
   "execution_count": null,
   "id": "bcdd5fb6",
   "metadata": {},
   "outputs": [],
   "source": []
  }
 ],
 "metadata": {
  "kernelspec": {
   "display_name": "Python 3 (ipykernel)",
   "language": "python",
   "name": "python3"
  },
  "language_info": {
   "codemirror_mode": {
    "name": "ipython",
    "version": 3
   },
   "file_extension": ".py",
   "mimetype": "text/x-python",
   "name": "python",
   "nbconvert_exporter": "python",
   "pygments_lexer": "ipython3",
   "version": "3.9.7"
  }
 },
 "nbformat": 4,
 "nbformat_minor": 5
}
