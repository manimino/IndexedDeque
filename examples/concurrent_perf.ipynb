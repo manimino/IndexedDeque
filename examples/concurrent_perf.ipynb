{
 "cells": [
  {
   "cell_type": "code",
   "execution_count": 1,
   "id": "baa0976a",
   "metadata": {},
   "outputs": [],
   "source": [
    "import time\n",
    "\n",
    "from filterbox import FilterBox, ConcurrentFilterBox, FAIR, READERS, WRITERS"
   ]
  },
  {
   "cell_type": "code",
   "execution_count": 2,
   "id": "7fa5b553",
   "metadata": {},
   "outputs": [
    {
     "data": {
      "text/plain": [
       "'\\nAdding 1M items\\n - FilterBox: 919 ms\\n - ConcurrentFilterBox, priority=READERS: 3.69 s\\n - ConcurrentFilterBox, priority=WRITERS: \\n - ConcurrentFilterBox, priority=FAIR: \\n \\nFind each of 1M items\\n - FilterBox: 2.91 s\\n - ConcurrentFilterBox, priority=READERS: 3.73 s\\n - ConcurrentFilterBox, priority=WRITERS: \\n - ConcurrentFilterBox, priority=FAIR: \\n'"
      ]
     },
     "execution_count": 2,
     "metadata": {},
     "output_type": "execute_result"
    }
   ],
   "source": [
    "\"\"\"\n",
    "Adding 1M items\n",
    " - FilterBox: 919 ms\n",
    " - ConcurrentFilterBox, priority=READERS: 3.69 s\n",
    " - ConcurrentFilterBox, priority=WRITERS: \n",
    " - ConcurrentFilterBox, priority=FAIR: \n",
    " \n",
    "Find each of 1M items\n",
    " - FilterBox: 2.91 s\n",
    " - ConcurrentFilterBox, priority=READERS: 3.73 s\n",
    " - ConcurrentFilterBox, priority=WRITERS: \n",
    " - ConcurrentFilterBox, priority=FAIR: \n",
    "\"\"\""
   ]
  },
  {
   "cell_type": "code",
   "execution_count": 3,
   "id": "9f3afff8",
   "metadata": {},
   "outputs": [],
   "source": [
    "data = [{'x': i} for i in range(10**6)]"
   ]
  },
  {
   "cell_type": "code",
   "execution_count": 4,
   "id": "200558db",
   "metadata": {},
   "outputs": [],
   "source": [
    "fb = FilterBox(None, on='x')\n",
    "cfb_read = ConcurrentFilterBox(None, on='x', priority=READERS)\n",
    "cfb_write = ConcurrentFilterBox(None, on='x', priority=WRITERS)\n",
    "cfb_fair = ConcurrentFilterBox(None, on='x', priority=FAIR)"
   ]
  },
  {
   "cell_type": "code",
   "execution_count": 5,
   "id": "6dfedc2d",
   "metadata": {},
   "outputs": [],
   "source": [
    "def adds(box):\n",
    "    t0 = time.time()\n",
    "    for d in data:\n",
    "        box.add(d)\n",
    "    return time.time() - t0"
   ]
  },
  {
   "cell_type": "code",
   "execution_count": 6,
   "id": "9dfcc06d",
   "metadata": {},
   "outputs": [],
   "source": [
    "def finds(box):\n",
    "    t0 = time.time()\n",
    "    for d in data:\n",
    "        box.find({'x' :d['x']})\n",
    "    return time.time() - t0\n"
   ]
  },
  {
   "cell_type": "code",
   "execution_count": 7,
   "id": "c998ba85",
   "metadata": {},
   "outputs": [
    {
     "name": "stdout",
     "output_type": "stream",
     "text": [
      "box_type, add, find\n",
      "FilterBox, 0.9054300785064697, 3.01261830329895\n",
      "readers, 3.5315771102905273, 8.01264214515686\n",
      "writers, 5.2841057777404785, 9.07332968711853\n",
      "fair, 4.2892725467681885, 8.714087963104248\n"
     ]
    }
   ],
   "source": [
    "print('box_type, add, find')\n",
    "for box in [fb, cfb_read, cfb_write, cfb_fair]:\n",
    "    if type(box) is FilterBox:\n",
    "        box_s = 'FilterBox'\n",
    "    else:\n",
    "        box_s = box.priority\n",
    "    t_add = adds(box)\n",
    "    t_read = finds(box)\n",
    "    print(f'{box_s}, {t_add}, {t_read}')"
   ]
  },
  {
   "cell_type": "code",
   "execution_count": 8,
   "id": "84c5e70e",
   "metadata": {
    "scrolled": true
   },
   "outputs": [
    {
     "name": "stdout",
     "output_type": "stream",
     "text": [
      "2.78 µs ± 23.8 ns per loop (mean ± std. dev. of 7 runs, 100000 loops each)\n"
     ]
    }
   ],
   "source": [
    "%%timeit \n",
    "fb.find({'x': 1})"
   ]
  },
  {
   "cell_type": "code",
   "execution_count": 9,
   "id": "9b891e11",
   "metadata": {},
   "outputs": [
    {
     "name": "stdout",
     "output_type": "stream",
     "text": [
      "8.09 µs ± 110 ns per loop (mean ± std. dev. of 7 runs, 100000 loops each)\n"
     ]
    }
   ],
   "source": [
    "%%timeit \n",
    "cfb_read.find({'x': 1})"
   ]
  },
  {
   "cell_type": "code",
   "execution_count": 10,
   "id": "68be8c54",
   "metadata": {},
   "outputs": [
    {
     "name": "stdout",
     "output_type": "stream",
     "text": [
      "8.84 µs ± 84.1 ns per loop (mean ± std. dev. of 7 runs, 100000 loops each)\n"
     ]
    }
   ],
   "source": [
    "%%timeit \n",
    "cfb_write.find({'x': 1})"
   ]
  },
  {
   "cell_type": "code",
   "execution_count": 11,
   "id": "10781c93",
   "metadata": {},
   "outputs": [
    {
     "name": "stdout",
     "output_type": "stream",
     "text": [
      "8.46 µs ± 86.8 ns per loop (mean ± std. dev. of 7 runs, 100000 loops each)\n"
     ]
    }
   ],
   "source": [
    "%%timeit \n",
    "cfb_fair.find({'x': 1})"
   ]
  },
  {
   "cell_type": "code",
   "execution_count": null,
   "id": "3883fec9",
   "metadata": {},
   "outputs": [],
   "source": []
  }
 ],
 "metadata": {
  "kernelspec": {
   "display_name": "Python 3 (ipykernel)",
   "language": "python",
   "name": "python3"
  },
  "language_info": {
   "codemirror_mode": {
    "name": "ipython",
    "version": 3
   },
   "file_extension": ".py",
   "mimetype": "text/x-python",
   "name": "python",
   "nbconvert_exporter": "python",
   "pygments_lexer": "ipython3",
   "version": "3.9.7"
  }
 },
 "nbformat": 4,
 "nbformat_minor": 5
}
