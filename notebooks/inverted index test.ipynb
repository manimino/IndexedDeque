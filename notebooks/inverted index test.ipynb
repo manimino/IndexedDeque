{
 "cells": [
  {
   "cell_type": "code",
   "execution_count": 1,
   "id": "b2f33b73",
   "metadata": {},
   "outputs": [],
   "source": [
    "_=\"\"\"\n",
    "Can we make a HashBox on 10,000 fields? Like, reverse index on doc set?\n",
    "POC: make \"documents\" of 3-letter random lowercase strings (17576 possibilities)\n",
    "and make a HashBox for counts of each word.\n",
    "\n",
    "Answer: It's possible but bad. A sparse matrix representation is far better in this case.\n",
    "A basic attempt to sparse-ify this did not improve performance much. Just the wrong tool for that job. \n",
    "\"\"\""
   ]
  },
  {
   "cell_type": "code",
   "execution_count": 2,
   "id": "5ba5fb93",
   "metadata": {},
   "outputs": [],
   "source": [
    "from hashbox import FrozenHashBox\n",
    "import random\n",
    "import string\n",
    "from functools import partial"
   ]
  },
  {
   "cell_type": "code",
   "execution_count": 3,
   "id": "00da3145",
   "metadata": {},
   "outputs": [
    {
     "data": {
      "text/plain": [
       "['prb', 'xzs', 'xlk', 'fwm', 'rcf', 'szf', 'dfh', 'kck', 'gls', 'kry']"
      ]
     },
     "execution_count": 3,
     "metadata": {},
     "output_type": "execute_result"
    }
   ],
   "source": [
    "def rand_word():\n",
    "    return ''.join([random.choice(string.ascii_lowercase) for _ in range(3)])\n",
    "\n",
    "\n",
    "def rand_doc():\n",
    "    return [rand_word() for _ in range(10)]\n",
    "\n",
    "docs = [rand_doc() for _ in range(1000)]\n",
    "docs[0]"
   ]
  },
  {
   "cell_type": "code",
   "execution_count": 4,
   "id": "ca63cf01",
   "metadata": {},
   "outputs": [],
   "source": [
    "all_words = set()\n",
    "for d in docs:\n",
    "    for w in d:\n",
    "        all_words.add(w)"
   ]
  },
  {
   "cell_type": "code",
   "execution_count": 5,
   "id": "eaa80438",
   "metadata": {},
   "outputs": [],
   "source": [
    "def word_count(w, doc):\n",
    "    return doc.count(w)\n",
    "\n",
    "def make_word_count_function(w):\n",
    "    p = partial(word_count, w)\n",
    "    p.__name__ = f'count_{w}'\n",
    "    return p\n",
    "\n",
    "w_count_fns = {word: make_word_count_function(word) for word in all_words}"
   ]
  },
  {
   "cell_type": "code",
   "execution_count": 6,
   "id": "0a31eea6",
   "metadata": {},
   "outputs": [
    {
     "name": "stdout",
     "output_type": "stream",
     "text": [
      "7.700803518295288\n"
     ]
    }
   ],
   "source": [
    "import time\n",
    "t0 = time.time()\n",
    "hi = FrozenHashBox(docs, on=list(w_count_fns.values()))\n",
    "t1 = time.time()\n",
    "print(t1-t0)"
   ]
  },
  {
   "cell_type": "code",
   "execution_count": 7,
   "id": "9cdb3b3b",
   "metadata": {},
   "outputs": [
    {
     "data": {
      "text/plain": [
       "7683"
      ]
     },
     "execution_count": 7,
     "metadata": {},
     "output_type": "execute_result"
    }
   ],
   "source": [
    "len(all_words)"
   ]
  },
  {
   "cell_type": "code",
   "execution_count": 13,
   "id": "5d75fabe",
   "metadata": {},
   "outputs": [],
   "source": [
    "s = next(iter(all_words))"
   ]
  },
  {
   "cell_type": "code",
   "execution_count": 14,
   "id": "fa735818",
   "metadata": {},
   "outputs": [
    {
     "data": {
      "text/plain": [
       "array([list(['pkn', 'uqz', 'wox', 'jgs', 'pfr', 'avb', 'ydl', 'awe', 'qil', 'btn'])],\n",
       "      dtype=object)"
      ]
     },
     "execution_count": 14,
     "metadata": {},
     "output_type": "execute_result"
    }
   ],
   "source": [
    "hi.find({w_count_fns[s]:1})"
   ]
  },
  {
   "cell_type": "code",
   "execution_count": null,
   "id": "de53bb40",
   "metadata": {},
   "outputs": [],
   "source": []
  }
 ],
 "metadata": {
  "kernelspec": {
   "display_name": "Python 3 (ipykernel)",
   "language": "python",
   "name": "python3"
  },
  "language_info": {
   "codemirror_mode": {
    "name": "ipython",
    "version": 3
   },
   "file_extension": ".py",
   "mimetype": "text/x-python",
   "name": "python",
   "nbconvert_exporter": "python",
   "pygments_lexer": "ipython3",
   "version": "3.9.7"
  }
 },
 "nbformat": 4,
 "nbformat_minor": 5
}
