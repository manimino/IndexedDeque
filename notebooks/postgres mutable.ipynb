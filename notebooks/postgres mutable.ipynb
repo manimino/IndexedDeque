{
 "cells": [
  {
   "cell_type": "markdown",
   "id": "c7c31d5f",
   "metadata": {},
   "source": [
    "```\n",
    "we want to change from\n",
    "\n",
    "lookup = {value: {objs}}\n",
    "\n",
    "to \n",
    "\n",
    "consistent_hash(value) = bucket_id\n",
    "lookup = {bucket_id: {objs}}\n",
    "```"
   ]
  },
  {
   "cell_type": "code",
   "execution_count": 94,
   "id": "ec7eba08",
   "metadata": {},
   "outputs": [],
   "source": [
    "from bisect import bisect_left\n",
    "import random\n",
    "import time\n",
    "import sys\n",
    "import numpy as np\n",
    "from sortedcontainers import SortedDict\n",
    "from pympler.asizeof import asizeof\n",
    "import sortednp as snp\n",
    "from cykhash import Int64Set\n",
    "from operator import itemgetter\n",
    "from typing import Callable, Union, List, Any, Tuple\n",
    "from collections import Counter, namedtuple\n",
    "from dataclasses import dataclass"
   ]
  },
  {
   "cell_type": "code",
   "execution_count": null,
   "id": "18e73eaf",
   "metadata": {},
   "outputs": [],
   "source": []
  },
  {
   "cell_type": "code",
   "execution_count": 2,
   "id": "09e70b2f",
   "metadata": {},
   "outputs": [],
   "source": [
    "_='''\n",
    "OK, so the implementation of choice is a \n",
    "SortedDict of {min_value: Bucket}\n",
    "and a heap of {size: min_value} containing the splittable buckets that are big.\n",
    "\n",
    "Bucket knows the keys it contains as well as their counts. \n",
    "If asked for a split point, it will give one that best bisects its keys. That's O(log(n)) probably.\n",
    "You can custom-write a bisection for that. \n",
    "'''"
   ]
  },
  {
   "cell_type": "code",
   "execution_count": 3,
   "id": "3260cc59",
   "metadata": {},
   "outputs": [],
   "source": [
    "PLANETS = ['mercury']*10000 + ['venus']*100 + ['earth', 'mars', 'jupiter', 'saturn', 'uranus', 'neptune']\n",
    "class Item:\n",
    "    def __init__(self):\n",
    "        self.s = random.choice(PLANETS)\n",
    "        self.x = random.random()\n",
    "    \n",
    "    def __str__(self):\n",
    "        return f'{self.s} {round(self.x, 2)}'"
   ]
  },
  {
   "cell_type": "code",
   "execution_count": null,
   "id": "567de3fb",
   "metadata": {},
   "outputs": [],
   "source": []
  },
  {
   "cell_type": "code",
   "execution_count": null,
   "id": "d862a7a9",
   "metadata": {},
   "outputs": [],
   "source": []
  },
  {
   "cell_type": "markdown",
   "id": "d44517a0",
   "metadata": {},
   "source": [
    "Best idea is:\n",
    "    \n",
    " - hash values to lie in some big range, like uint64\n",
    " - Initially, we have like 10 buckets containing even chunks of that range (pretend we have a good hash function...)\n",
    " - Maintain a data structure with easy max and min access (sorted deque? heaps? dict?) sorted by the number of elements stored in the bucket. Maybe have another one for n_keys or something too, we don't wanna keep trying to split one bucket that has a single high-card key in it. Ugh.\n",
    " - Anyway, split the biggest bucket when it comes time for adding more buckets. When do we add more buckets? Shit.\n",
    " - Wait. When a bucket is unsplittable, we could take it outta the list. It's its own thing now. That would work.\n",
    " - We might have to put it back in someday.\n",
    " "
   ]
  },
  {
   "cell_type": "code",
   "execution_count": null,
   "id": "5cc0a9c9",
   "metadata": {},
   "outputs": [],
   "source": []
  },
  {
   "cell_type": "code",
   "execution_count": null,
   "id": "85149e81",
   "metadata": {},
   "outputs": [],
   "source": []
  },
  {
   "cell_type": "code",
   "execution_count": null,
   "id": "49c1a4f5",
   "metadata": {},
   "outputs": [],
   "source": []
  },
  {
   "cell_type": "code",
   "execution_count": null,
   "id": "1ec046c3",
   "metadata": {},
   "outputs": [],
   "source": []
  },
  {
   "cell_type": "code",
   "execution_count": 4,
   "id": "b44d5855",
   "metadata": {},
   "outputs": [],
   "source": [
    "# initialize with 1 bucket spanning whole range\n",
    "# split when there are >1000 items in a splittable bucket\n",
    "n_bits_signed = sys.hash_info.hash_bits - 1  # typically 64 bits\n",
    "HASH_MIN = -2**n_bits_signed\n",
    "HASH_MAX = 2**n_bits_signed-1"
   ]
  },
  {
   "cell_type": "code",
   "execution_count": 5,
   "id": "3228af26",
   "metadata": {},
   "outputs": [],
   "source": [
    "SIZE_THRESH = 300\n",
    "\n",
    "class HashBucket:\n",
    "    \"\"\"\n",
    "    A HashBucket contains all obj_ids that have value hashes between some min and max value.\n",
    "    When the number of items in a HashBucket reaches SIZE_THRESH, the bucket will be split\n",
    "    into two buckets.\n",
    "    If a bucket ever gets empty, delete it unless it's the leftmost one -- we need at least one\n",
    "    always.\n",
    "    \"\"\"\n",
    "    def __init__(self):\n",
    "        self.obj_ids = set()  # uint64\n",
    "        self.val_hash_counts = dict()  # {int64: int64} - which hashes are stored in this bucket\n",
    "    \n",
    "    def add(self, val_hash, obj_id):\n",
    "        count = self.val_hash_counts.get(val_hash, 0)\n",
    "        self.val_hash_counts[val_hash] = count+1\n",
    "        self.obj_ids.add(obj_id)\n",
    "            \n",
    "    def update(self, new_val_hash_counts, new_obj_ids):\n",
    "        for v, c in new_val_hash_counts.items():\n",
    "            count = self.val_hash_counts.get(v, 0)\n",
    "            self.val_hash_counts[v] = count + c\n",
    "        self.obj_ids = self.obj_ids.union(new_obj_ids)\n",
    "\n",
    "    def get_all_ids(self):\n",
    "        return self.obj_ids\n",
    "    \n",
    "    def remove(self, val_hash, obj_id):\n",
    "        # todo handle exceptions\n",
    "        self.val_hash_counts[val_hash] -= 1\n",
    "        self.obj_ids.remove(obj_id)\n",
    "    \n",
    "    def split(self, field, obj_lookup):\n",
    "        my_hashes = list(sorted(self.val_hash_counts.keys()))\n",
    "        # dump out the upper half of our hashes\n",
    "        half_point = len(my_hashes) // 2\n",
    "        dumped_hash_counts = {v: self.val_hash_counts[v] for v in my_hashes[half_point:]}\n",
    "        \n",
    "        # dereference each object \n",
    "        # Find the objects with field_vals that hash to any of dumped_hashes\n",
    "        # we will move their ids to the new bucket\n",
    "        dumped_obj_ids = set()\n",
    "        for obj_id in list(self.obj_ids):\n",
    "            obj = obj_lookup.get(obj_id)\n",
    "            obj_val = getattr(obj, field, None)\n",
    "            if hash(obj_val) in dumped_hash_counts:\n",
    "                dumped_obj_ids.add(obj_id)\n",
    "                self.obj_ids.remove(obj_id)\n",
    "        for dh in dumped_hash_counts:\n",
    "            del self.val_hash_counts[dh]\n",
    "        return dumped_hash_counts, dumped_obj_ids\n",
    "        \n",
    "    def __len__(self):\n",
    "        return len(self.obj_ids)\n",
    "    \n",
    "\n",
    "class DictBucket:\n",
    "    \"\"\"\n",
    "    A DictBucket stores object ids corresponding to only one val_hash. Note that multiple values\n",
    "    coult have the same val_hash (collision).\n",
    "    It stores all entries in a dict of {val: obj_id_set}, so it supports lookup by field value.\n",
    "    This makes finding objects by val very fast. Unlike a HashBucket, we don't have to dereference\n",
    "    all the objects and check their values during a find(). \n",
    "    DictBucket is great when many objects have the same val. \n",
    "    \"\"\"\n",
    "    def __init__(self, val_hash, obj_ids, obj_lookup, field):\n",
    "        self.val_hash = val_hash\n",
    "        self.d = dict()\n",
    "        for obj_id in obj_ids:\n",
    "            obj = obj_lookup.get(obj_id)\n",
    "            val = getattr(obj, field, None)\n",
    "            if val in self.d:\n",
    "                self.d[val].add(obj_id)\n",
    "            else:\n",
    "                self.d[val] = set([obj_id])\n",
    "    \n",
    "    def add(self, val, obj_id):\n",
    "        obj_ids = self.d.get(val, Int64Set())\n",
    "        obj_ids.add(obj_id)\n",
    "        \n",
    "    def remove(self, val, obj_id):\n",
    "        if val not in self.d:\n",
    "            raise KeyError('Object value not in here')\n",
    "        if obj_id not in self.d[val]:\n",
    "            raise KeyError('Object ID not in here')\n",
    "        self.d[val].remove(obj_id)\n",
    "        if len(self.d[val]) == 0:\n",
    "            del self.d[val]\n",
    "\n",
    "    def get_matching_ids(self, val):\n",
    "        return self.d[val]\n",
    "    \n",
    "    def get_all_ids(self):\n",
    "        return set.union(*self.d.values())\n",
    "    \n",
    "    def __len__(self):\n",
    "        return sum(len(s) for s in self.d.values())\n",
    "    \n",
    "\n",
    "class ObjLookup:\n",
    "    \n",
    "    def __init__(self):\n",
    "        self.objs = dict()\n",
    "        \n",
    "    def get(self, obj_id):\n",
    "        return self.objs.get(obj_id)\n",
    "    \n",
    "    def add(self, obj_id, obj):\n",
    "        self.objs[obj_id] = obj"
   ]
  },
  {
   "cell_type": "code",
   "execution_count": 6,
   "id": "91ec3c7d",
   "metadata": {},
   "outputs": [],
   "source": [
    "class MutableFieldIndex:\n",
    "    # Stores the possible values of this field in a set of buckets\n",
    "    # Several values may be allocated to the same bucket for space efficiency reasons\n",
    "\n",
    "    def __init__(self, field: Union[Callable, str]):\n",
    "        self.buckets = SortedDict()  # O(1) add / remove, O(log(n)) find bucket for key\n",
    "        self.buckets[HASH_MIN] = HashBucket()  # always contains at least one bucket\n",
    "        self.objs = ObjLookup()  # todo move this to a higher level (?)\n",
    "        self.field = field\n",
    "    \n",
    "    def get_objs(self, val):\n",
    "        val_hash = hash(val)\n",
    "        k = self._get_bucket_key_for(val_hash)\n",
    "        bucket = self.buckets[k]\n",
    "        \n",
    "        if isinstance(bucket, DictBucket):\n",
    "            return [self.objs.get(obj_id) for obj_id in bucket.get_matching_ids(val)]\n",
    "        else:\n",
    "            # filter to just the objs that match val\n",
    "            matched_objs = []\n",
    "            for obj_id in bucket.get_all_ids():\n",
    "                obj = self.objs.get(obj_id)\n",
    "                obj_val = getattr(obj, self.field, None)\n",
    "                if obj_val is val or obj_val == val:\n",
    "                    matched_objs.append(obj)\n",
    "            return matched_objs\n",
    "    \n",
    "    def get_obj_ids(self, val):\n",
    "        val_hash = hash(val)\n",
    "        k = self._get_bucket_key_for(val_hash)\n",
    "        bucket = self.buckets[k]\n",
    "        \n",
    "        if isinstance(bucket, DictBucket):\n",
    "            return bucket.get_matching_ids(val)\n",
    "        else:\n",
    "            # filter to just the obj_ids that match val\n",
    "            matched_ids = []\n",
    "            for obj_id in bucket.get_all_ids():\n",
    "                obj = self.objs.get(obj_id)\n",
    "                obj_val = getattr(obj, self.field, None)\n",
    "                if obj_val is val or obj_val == val:\n",
    "                    matched_ids.append(obj)\n",
    "            return matched_ids\n",
    "    \n",
    "    def get_all_objs(self, obj_lookup):\n",
    "        return list(obj_lookup.objs.values())\n",
    "        \n",
    "    def _get_bucket_key_for(self, val_hash):\n",
    "        list_idx = self.buckets.bisect_right(val_hash) - 1\n",
    "        k, _ = self.buckets.peekitem(list_idx)\n",
    "        return k\n",
    "        \n",
    "    def _handle_big_hash_bucket(self, k):\n",
    "        # A HashBucket is over threshold. \n",
    "        # If it contains values that all hash to the same thing, make it a DictBucket.\n",
    "        # If it has many val_hashes, split it into two HashBuckets.\n",
    "        hb = self.buckets[k]\n",
    "        if len(hb.val_hash_counts) == 1:\n",
    "            # convert it to a dictbucket\n",
    "            db = DictBucket(list(hb.val_hash_counts.keys())[0], hb.obj_ids, self.objs, self.field)\n",
    "            del self.buckets[k]\n",
    "            self.buckets[db.val_hash] = db\n",
    "        else:\n",
    "            # split it into two hashbuckets\n",
    "            new_hash_counts, new_obj_ids = self.buckets[k].split(self.field, self.objs)\n",
    "            new_bucket = HashBucket()\n",
    "            new_bucket.update(new_hash_counts, new_obj_ids)\n",
    "            self.buckets[min(new_hash_counts.keys())] = new_bucket\n",
    "            \n",
    "    \n",
    "    def add(self, obj):\n",
    "        val = getattr(obj, self.field, None)\n",
    "        val_hash = hash(val)\n",
    "        obj_id = id(obj)\n",
    "        self.objs.add(obj_id, obj)\n",
    "        k = self._get_bucket_key_for(val_hash)\n",
    "        if isinstance(self.buckets[k], DictBucket):\n",
    "            if val_hash == self.buckets[k].val_hash:\n",
    "                # add to dictbucket\n",
    "                self.buckets[k].add(val, obj_id)\n",
    "            else:\n",
    "                # can't put it in this dictbucket, the val_hash doesn't match.\n",
    "                # Make a new hashbucket to hold this item. \n",
    "                self.buckets[k+1] = HashBucket()\n",
    "                self.buckets[k+1].add(val_hash, obj_id)\n",
    "        else:\n",
    "            # add to hashbucket\n",
    "            self.buckets[k].add(val_hash, obj_id)\n",
    "                \n",
    "        if isinstance(self.buckets[k], HashBucket) and len(self.buckets[k]) > SIZE_THRESH:\n",
    "            self._handle_big_hash_bucket(k)\n",
    "        \n",
    "    def remove(self, val, obj_id):\n",
    "        val_hash = hash(val)\n",
    "        k = self._get_bucket_key_for(val_hash)\n",
    "        if isinstance(self.buckets[k], HashBucket):\n",
    "            self.buckets[k].remove(val_hash, obj_id)\n",
    "        else:\n",
    "            self.buckets[k].remove(val, obj_id)\n",
    "        if len(self.buckets[k]) == 0 and k != HASH_MIN:\n",
    "            del self.buckets[k]\n",
    "                \n",
    "    def bucket_report(self):\n",
    "        ls = []\n",
    "        for bkey in self.buckets:\n",
    "            bucket = self.buckets[bkey]\n",
    "            bset = set()\n",
    "            for obj_id in bucket.get_all_ids():\n",
    "                o = self.objs.get(obj_id)\n",
    "                bset.add(getattr(o, self.field))\n",
    "            ls.append((bkey, bset, len(bucket), type(self.buckets[bkey]).__name__))\n",
    "        return ls"
   ]
  },
  {
   "cell_type": "code",
   "execution_count": null,
   "id": "a2976e1b",
   "metadata": {},
   "outputs": [],
   "source": []
  },
  {
   "cell_type": "code",
   "execution_count": 7,
   "id": "774ccc1b",
   "metadata": {},
   "outputs": [],
   "source": [
    "n = 10**6\n",
    "items = [Item() for _ in range(n)]"
   ]
  },
  {
   "cell_type": "code",
   "execution_count": 8,
   "id": "2d03c1d0",
   "metadata": {},
   "outputs": [
    {
     "name": "stdout",
     "output_type": "stream",
     "text": [
      "adding 1000000 items\n",
      "\n",
      " 2.863 seconds to build this field thing\n",
      "\n",
      "(-3057177238626995881, {'uranus'}, 90, 'HashBucket')\n",
      "(1902181302418005661, {'mercury'}, 989616, 'DictBucket')\n",
      "(1902181302418005662, {'neptune', 'saturn', 'mars'}, 288, 'HashBucket')\n",
      "(8688647582771633844, {'venus'}, 9673, 'DictBucket')\n",
      "(8688647582771633845, {'earth', 'jupiter'}, 170, 'HashBucket')\n"
     ]
    }
   ],
   "source": [
    "idx = MutableFieldIndex('s')\n",
    "print('adding', n, 'items')\n",
    "t0 = time.time()\n",
    "for item in items:\n",
    "    idx.add(item)\n",
    "t1 = time.time()\n",
    "print('\\n', round(t1-t0,3), 'seconds to build this field thing\\n')\n",
    "for b in idx.bucket_report():\n",
    "    print(b)\n"
   ]
  },
  {
   "cell_type": "code",
   "execution_count": null,
   "id": "4f5bf954",
   "metadata": {},
   "outputs": [],
   "source": []
  },
  {
   "cell_type": "code",
   "execution_count": 9,
   "id": "68e46487",
   "metadata": {},
   "outputs": [],
   "source": [
    "# What would improve build time? < 1M items / second means no one's using this for 100M items.\n",
    "# How fast could it go if all we had to do was hash all the values up front, and add them to sorteddict?\n",
    "# bout 5x faster, looks like."
   ]
  },
  {
   "cell_type": "code",
   "execution_count": 10,
   "id": "a0e9e6de",
   "metadata": {},
   "outputs": [
    {
     "name": "stdout",
     "output_type": "stream",
     "text": [
      "510 ms ± 11 ms per loop (mean ± std. dev. of 5 runs, 2 loops each)\n"
     ]
    }
   ],
   "source": [
    "%%timeit -n 2 -r 5\n",
    "_ = sorted([hash(random.random()) for _ in range(10**6)])\n",
    "s = SortedDict()\n",
    "for i in range(10*3):\n",
    "    s[i] = set(range(10**3))"
   ]
  },
  {
   "cell_type": "code",
   "execution_count": 318,
   "id": "34bffebe",
   "metadata": {},
   "outputs": [],
   "source": [
    "menu = list(x*0.9 for x in range(int(10**7)))\n",
    "class Inty:\n",
    "    def __init__(self):\n",
    "        self.s = random.choice(menu)\n",
    "        \n",
    "item_ints = [Inty() for _ in range(10**6)]"
   ]
  },
  {
   "cell_type": "code",
   "execution_count": 12,
   "id": "860aba7f",
   "metadata": {},
   "outputs": [
    {
     "name": "stdout",
     "output_type": "stream",
     "text": [
      "878 ms ± 7 ms per loop (mean ± std. dev. of 3 runs, 3 loops each)\n"
     ]
    }
   ],
   "source": [
    "%%timeit -n 3 -r 3\n",
    "# trying to be smart about hashing each value is much slower than just hashing each value\n",
    "prev_hash = None\n",
    "prev_val = None\n",
    "for i, item in enumerate(sorted(item_ints, key=lambda x: x.s)):\n",
    "    if i > 0 and item.s == prev_val:\n",
    "        h = prev_hash\n",
    "    else:\n",
    "        h = hash(item.s)\n",
    "        prev_hash = h\n",
    "        prev_val = item.s"
   ]
  },
  {
   "cell_type": "code",
   "execution_count": 13,
   "id": "9a2a1abf",
   "metadata": {},
   "outputs": [
    {
     "name": "stdout",
     "output_type": "stream",
     "text": [
      "193 ms ± 2.9 ms per loop (mean ± std. dev. of 3 runs, 3 loops each)\n"
     ]
    }
   ],
   "source": [
    "%%timeit -n 3 -r 3\n",
    "for item in item_ints:\n",
    "    _ = hash(item.s)"
   ]
  },
  {
   "cell_type": "code",
   "execution_count": 14,
   "id": "1cf81e48",
   "metadata": {},
   "outputs": [],
   "source": [
    "# todo sort both by the argsort etc"
   ]
  },
  {
   "cell_type": "code",
   "execution_count": 36,
   "id": "3bb3e912",
   "metadata": {},
   "outputs": [],
   "source": [
    "def run_length_encode(arr: np.ndarray):\n",
    "    if len(arr) == 0:\n",
    "        return None, None, None\n",
    "    mismatch = arr[1:] != arr[:-1]\n",
    "    i = np.append(np.where(mismatch), len(arr)-1)\n",
    "    counts = np.diff(np.append(-1, i))\n",
    "    starts = np.cumsum(np.append(0, counts))[:-1]\n",
    "    return starts, counts, arr[i]"
   ]
  },
  {
   "cell_type": "code",
   "execution_count": 160,
   "id": "f8fe1853",
   "metadata": {},
   "outputs": [],
   "source": [
    "def get_field(obj, field):\n",
    "    if callable(field):\n",
    "        val = field(obj)\n",
    "    elif isinstance(obj, dict):\n",
    "        val = obj.get(field, None)\n",
    "    else:\n",
    "        val = getattr(obj, field, None)\n",
    "    return val\n"
   ]
  },
  {
   "cell_type": "code",
   "execution_count": 248,
   "id": "997cfb1e",
   "metadata": {},
   "outputs": [],
   "source": [
    "def get_sorted_hashes(objs: List[Any], field: Union[Callable, str]) -> Tuple[np.array, List]:\n",
    "    \"\"\"\n",
    "    Hash the given attribute for all objs. Sort objs and hashes by the hashes.\n",
    "\n",
    "    Takes 350ms for 1M items.\n",
    "    \"\"\"\n",
    "    def _get_field(obj, field):\n",
    "        if getattr(obj, 'get', None):\n",
    "            return obj.get(field, None)\n",
    "        if isinstance(field, str):\n",
    "            val = getattr(obj, field, None)\n",
    "        return val\n",
    "\n",
    "    hashes = np.fromiter((hash(_get_field(item, field)) for item in objs), dtype='int64')\n",
    "    pos = np.argsort(hashes)\n",
    "    sorted_hashes = hashes[pos]\n",
    "    sorted_objs = itemgetter(*pos)(objs)  # slow AF\n",
    "    return sorted_hashes, sorted_objs\n"
   ]
  },
  {
   "cell_type": "code",
   "execution_count": 246,
   "id": "0e8895f1",
   "metadata": {},
   "outputs": [
    {
     "name": "stdout",
     "output_type": "stream",
     "text": [
      "667 ms ± 3.84 ms per loop (mean ± std. dev. of 3 runs, 3 loops each)\n"
     ]
    }
   ],
   "source": [
    "%%timeit -n 3 -r 3  # it's 450ms\n",
    "\n",
    "sorted_hashes, sorted_objs = get_sorted_hashes(item_ints, 's')\n"
   ]
  },
  {
   "cell_type": "code",
   "execution_count": 234,
   "id": "e49d8e67",
   "metadata": {},
   "outputs": [
    {
     "name": "stdout",
     "output_type": "stream",
     "text": [
      "214 ms ± 15.6 ms per loop (mean ± std. dev. of 3 runs, 3 loops each)\n"
     ]
    }
   ],
   "source": [
    "%%timeit -n 3 -r 3 \n",
    "hashes = np.fromiter((getattr(item, 's', None) for item in item_ints), dtype='int64')"
   ]
  },
  {
   "cell_type": "code",
   "execution_count": 232,
   "id": "0f38b573",
   "metadata": {},
   "outputs": [
    {
     "name": "stdout",
     "output_type": "stream",
     "text": [
      "97.1 ms ± 5.78 ms per loop (mean ± std. dev. of 3 runs, 3 loops each)\n"
     ]
    }
   ],
   "source": [
    "%%timeit -n 3 -r 3 \n",
    "np.argsort(hashes)"
   ]
  },
  {
   "cell_type": "code",
   "execution_count": 233,
   "id": "04cce959",
   "metadata": {},
   "outputs": [
    {
     "name": "stdout",
     "output_type": "stream",
     "text": [
      "848 µs ± 147 µs per loop (mean ± std. dev. of 3 runs, 3 loops each)\n"
     ]
    }
   ],
   "source": [
    "%%timeit -n 3 -r 3 \n",
    "np.zeros((10**6,))"
   ]
  },
  {
   "cell_type": "code",
   "execution_count": 171,
   "id": "fbccbaea",
   "metadata": {},
   "outputs": [],
   "source": [
    "\n",
    "def run_length_encode(arr: np.ndarray):\n",
    "    if len(arr) == 0:\n",
    "        return None, None, None\n",
    "    mismatch = arr[1:] != arr[:-1]\n",
    "    i = np.append(np.where(mismatch), len(arr)-1)\n",
    "    counts = np.diff(np.append(-1, i))\n",
    "    starts = np.cumsum(np.append(0, counts))[:-1]\n",
    "    return starts, counts, arr[i]\n"
   ]
  },
  {
   "cell_type": "code",
   "execution_count": 172,
   "id": "a7a3c107",
   "metadata": {},
   "outputs": [
    {
     "name": "stdout",
     "output_type": "stream",
     "text": [
      "9.56 ms ± 707 µs per loop (mean ± std. dev. of 3 runs, 3 loops each)\n"
     ]
    }
   ],
   "source": [
    "%%timeit -n 3 -r 3 \n",
    "starts, counts, val_hashes = run_length_encode(sorted_hashes)"
   ]
  },
  {
   "cell_type": "code",
   "execution_count": 97,
   "id": "61d8f5b9",
   "metadata": {},
   "outputs": [
    {
     "name": "stdout",
     "output_type": "stream",
     "text": [
      "550 ms ± 12.6 ms per loop (mean ± std. dev. of 3 runs, 3 loops each)\n"
     ]
    }
   ],
   "source": [
    "%%timeit -n 3 -r 3  # it's 500ms\n",
    "\n",
    "s_hash, s_obj = get_sorted_hashes(item_ints, 's')"
   ]
  },
  {
   "cell_type": "code",
   "execution_count": 174,
   "id": "7c82dcec",
   "metadata": {},
   "outputs": [],
   "source": [
    "#%%timeit -n 3 -r 3  # it's 500ms\n",
    "# compute all hashes and sort by hash\n",
    "hashes = np.fromiter((hash(item.s) for item in item_ints), dtype='int64')\n",
    "pos = np.argsort(hashes)\n",
    "sorted_hashes = hashes[pos]\n",
    "sorted_items = itemgetter(*pos)(item_ints)  # todo: handle itemgetter scenarios with 0 or 1 objects\n",
    "starts, counts, val_hashes = run_length_encode(sorted_hashes)"
   ]
  },
  {
   "cell_type": "code",
   "execution_count": 198,
   "id": "56e6dc8d",
   "metadata": {},
   "outputs": [],
   "source": [
    "@njit\n",
    "def find_bucket_starts(counts, limit):\n",
    "    \"\"\"\n",
    "    Find counts of each hash in sorted_hashes via run-length encoding.\n",
    "\n",
    "    Takes 10ms for 1M objs.\n",
    "    \"\"\"\n",
    "    result = np.empty(len(counts), dtype=np.uint64)\n",
    "    total = 0\n",
    "    idx = 0\n",
    "    for i, count in enumerate(counts):\n",
    "        total += count\n",
    "        if total > limit:\n",
    "            total = 0\n",
    "            result[idx] = i\n",
    "            idx += 1\n",
    "    return result[:idx]\n",
    "\n"
   ]
  },
  {
   "cell_type": "code",
   "execution_count": null,
   "id": "0376433e",
   "metadata": {},
   "outputs": [],
   "source": []
  },
  {
   "cell_type": "code",
   "execution_count": 331,
   "id": "5615338a",
   "metadata": {},
   "outputs": [],
   "source": [
    "\"\"\"\n",
    "When a large object list is provided in the constructor -- i.e., HashIndex(objs, on={...}) has lots of objs,\n",
    "adding the objs one at a time is naive and slow. Buckets will be created, overfilled, and split needlessly.\n",
    "There is a ~10X performance benefit to examining the objs and constructing all the needed buckets just once.\n",
    "\n",
    "The functions here provide that speedup. They have been squeezed pretty hard for performance. It matters here!\n",
    "Building the index is most likely going to be the bottleneck when working with large datasets, especially in the\n",
    "expected data-analysis niche for this library.\n",
    "\n",
    "Workflow:\n",
    " - Hash the given attribute for all objs\n",
    " - Sort the hashes\n",
    " - Get counts of each unique hash (via run-length encoding)\n",
    " - Use a cumulative sum-like algorithm to determine the span of each bucket\n",
    " - Return all information that init needs to create buckets\n",
    "\"\"\"\n",
    "\n",
    "import numpy as np\n",
    "from numba import njit\n",
    "from dataclasses import dataclass\n",
    "from typing import Tuple, List, Union, Callable, Any\n",
    "from hashindex.utils import get_field\n",
    "from operator import itemgetter\n",
    "\n",
    "\n",
    "def get_sorted_hashes(objs: List[Any], field: Union[Callable, str]) -> Tuple[np.array, np.ndarray]:\n",
    "    \"\"\"\n",
    "    Hash the given attribute for all objs. Sort objs and hashes by the hashes.\n",
    "\n",
    "    Takes 450ms for 1M objs on a numeric field. May take longer if field is a Callable or is hard to hash.\n",
    "    Breakdown:\n",
    "     - 100ms to do all the get_field() calls. Cost is the part that inspects each obj to see if it's a dict.\n",
    "     - 220ms to get and hash the field for each obj. No getting around that.\n",
    "     - 100ms to sort the hashes\n",
    "     - 30ms of whatever\n",
    "    \"\"\"\n",
    "    hashes = np.fromiter((hash(get_field(obj, field)) for obj in objs), dtype='int64')\n",
    "    pos = np.argsort(hashes)\n",
    "    sorted_hashes = hashes[pos]\n",
    "    sorted_objs = itemgetter(*pos)(objs)  # todo handle itemgetter len 0, 1 weirdness\n",
    "    return sorted_hashes, sorted_objs\n",
    "\n",
    "\n",
    "def run_length_encode(sorted_hashes: np.ndarray):\n",
    "    \"\"\"\n",
    "    Find counts of each hash in sorted_hashes via run-length encoding.\n",
    "\n",
    "    Takes 10ms for 1M objs.\n",
    "    \"\"\"\n",
    "    mismatch = sorted_hashes[1:] != sorted_hashes[:-1]\n",
    "    i = np.append(np.where(mismatch), len(sorted_hashes) - 1)\n",
    "    counts = np.diff(np.append(-1, i))\n",
    "    starts = np.cumsum(np.append(0, counts))[:-1]\n",
    "    return starts, counts, sorted_hashes[i]\n",
    "\n",
    "\n",
    "@njit\n",
    "def find_bucket_starts(counts, limit):\n",
    "    \"\"\"\n",
    "    Find the start positions for each bucket via a cumulative sum that resets when limit is exceeded.\n",
    "\n",
    "    Takes about 1ms for a counts length of 1M. 300x slower without numba (noticeable on high-cardinality data)\n",
    "    \"\"\"\n",
    "    result = np.empty(len(counts), dtype=np.uint64)\n",
    "    total = 0\n",
    "    idx = 0\n",
    "    for i, count in enumerate(counts):\n",
    "        total += count\n",
    "        if total > limit:\n",
    "            total = count\n",
    "            result[idx] = i\n",
    "            idx += 1\n",
    "    return result[:idx]\n",
    "\n",
    "\n",
    "@dataclass\n",
    "class BucketInfo:\n",
    "    distinct_hashes: np.ndarray\n",
    "    distinct_hash_counts: np.ndarray\n",
    "    obj_arr: np.ndarray\n",
    "    hash_arr: np.ndarray\n",
    "\n",
    "    def __str__(self):\n",
    "        d = dict(zip(self.distinct_hashes, self.distinct_hash_counts))\n",
    "        l1 = len(self.obj_arr)\n",
    "        l2 = len(self.hash_arr)\n",
    "        mh = min(self.hash_arr)\n",
    "        return f'{mh}: {l1}={l2}; ' + str(d)\n",
    "\n",
    "\n",
    "def compute_buckets(objs, field, bucket_size_limit):\n",
    "    sorted_hashes, sorted_objs = get_sorted_hashes(objs, field)\n",
    "    starts, counts, val_hashes = run_length_encode(sorted_hashes)\n",
    "    bucket_starts = find_bucket_starts(counts, bucket_size_limit)\n",
    "\n",
    "    bucket_infos = []\n",
    "    for i, s in enumerate(bucket_starts):\n",
    "        if i + 1 == len(bucket_starts):\n",
    "            distinct_hashes = val_hashes[i:]\n",
    "            distinct_hash_counts = counts[i:]\n",
    "            obj_arr = sorted_objs[starts[i]:]\n",
    "            hash_arr = sorted_hashes[starts[i]:]\n",
    "        else:\n",
    "            distinct_hashes = val_hashes[i:i + 1]\n",
    "            distinct_hash_counts = counts[i:i + 1]\n",
    "            obj_arr = sorted_objs[starts[i]:starts[i + 1]]\n",
    "            hash_arr = sorted_hashes[starts[i]:starts[i + 1]]\n",
    "        bucket_infos.append(\n",
    "            BucketInfo(\n",
    "                distinct_hashes=distinct_hashes,\n",
    "                distinct_hash_counts=distinct_hash_counts,\n",
    "                obj_arr=obj_arr,\n",
    "                hash_arr=hash_arr,\n",
    "            )\n",
    "        )\n",
    "\n",
    "\n",
    "def compute_buckets(objs, field, bucket_size_limit):\n",
    "    sorted_hashes, sorted_objs = get_sorted_hashes(objs, field)\n",
    "    starts, counts, val_hashes = run_length_encode(sorted_hashes)\n",
    "    bucket_starts = find_bucket_starts(counts, bucket_size_limit)\n",
    "\n",
    "    bucket_infos = []\n",
    "    for i, s in enumerate(bucket_starts):\n",
    "        if i + 1 == len(bucket_starts):\n",
    "            distinct_hashes = val_hashes[s:]\n",
    "            distinct_hash_counts = counts[s:]\n",
    "            obj_arr = sorted_objs[starts[s]:]\n",
    "            hash_arr = sorted_hashes[starts[s]:]\n",
    "        else:\n",
    "            t = bucket_starts[i + 1]\n",
    "            distinct_hashes = val_hashes[s:t]\n",
    "            distinct_hash_counts = counts[s:t]\n",
    "            obj_arr = sorted_objs[starts[s]:starts[t]]\n",
    "            hash_arr = sorted_hashes[starts[s]:starts[t]]\n",
    "        bucket_infos.append(\n",
    "            BucketInfo(\n",
    "                distinct_hashes=distinct_hashes,\n",
    "                distinct_hash_counts=distinct_hash_counts,\n",
    "                obj_arr=obj_arr,\n",
    "                hash_arr=hash_arr,\n",
    "            )\n",
    "        )\n",
    "    return bucket_infos"
   ]
  },
  {
   "cell_type": "code",
   "execution_count": 329,
   "id": "06f91328",
   "metadata": {},
   "outputs": [
    {
     "name": "stdout",
     "output_type": "stream",
     "text": [
      "738 ms ± 13.2 ms per loop (mean ± std. dev. of 5 runs, 5 loops each)\n"
     ]
    }
   ],
   "source": [
    "%%timeit -n 5 -r 5\n",
    "compute_buckets(item_ints, 's', 1000)"
   ]
  },
  {
   "cell_type": "code",
   "execution_count": 332,
   "id": "4ff06480",
   "metadata": {},
   "outputs": [
    {
     "name": "stdout",
     "output_type": "stream",
     "text": [
      "1000\n",
      "90963: 1000=1000; {90963: 1, 90972: 1, 91044: 1, 91107: 2, 91143: 1, 91179: 1, 91224: 2, 91287: 1, 91539: 1, 91593: 1, 91611: 1, 91647: 1, 91791: 1, 91854: 1, 91872: 1, 91944: 1, 92034: 1, 92088: 2, 92106: 2, 92349: 1, 92358: 1, 92367: 1, 92376: 1, 92385: 1, 92592: 1, 92610: 1, 92619: 1, 92745: 1, 92889: 1, 92907: 1, 92970: 1, 93006: 1, 93078: 1, 93510: 1, 93618: 1, 93726: 1, 93744: 1, 93780: 1, 93843: 1, 93852: 1, 93879: 1, 93888: 1, 94059: 1, 94104: 1, 94194: 1, 94221: 1, 94311: 1, 94554: 1, 94617: 1, 94743: 1, 94797: 1, 94932: 1, 95067: 1, 95175: 1, 95328: 2, 95553: 1, 95643: 1, 95706: 1, 95724: 1, 95823: 1, 95922: 1, 95940: 2, 95949: 1, 96039: 1, 96048: 1, 96120: 1, 96183: 1, 96273: 1, 96282: 1, 96291: 1, 96309: 1, 96408: 1, 96435: 1, 96579: 1, 96642: 1, 96696: 2, 96741: 1, 96876: 1, 97119: 1, 97164: 1, 97173: 2, 97209: 1, 97218: 1, 97560: 1, 97587: 1, 97749: 1, 97794: 1, 97839: 2, 97875: 1, 97956: 1, 98019: 1, 98091: 1, 98154: 1, 98244: 1, 98280: 1, 98298: 1, 98334: 1, 98361: 1, 98442: 1, 98451: 1, 98541: 1, 98613: 1, 98820: 1, 98901: 1, 99144: 1, 99378: 1, 99387: 1, 99414: 1, 99423: 1, 99504: 1, 99855: 1, 99900: 1, 100062: 1, 100206: 1, 100251: 1, 100269: 1, 100422: 1, 100458: 1, 100737: 1, 100764: 1, 100890: 1, 100935: 1, 100953: 1, 101106: 2, 101331: 1, 101367: 1, 101484: 1, 101673: 1, 101844: 1, 102024: 1, 102033: 1, 102654: 1, 102735: 1, 102789: 1, 103257: 1, 103392: 1, 103437: 1, 103509: 1, 103518: 1, 103671: 1, 103725: 1, 103761: 1, 103815: 1, 103833: 1, 103950: 1, 103977: 1, 104076: 1, 104166: 1, 104238: 1, 104265: 1, 104328: 1, 104400: 1, 104454: 1, 104553: 1, 104706: 1, 104724: 1, 105174: 1, 105282: 1, 105390: 1, 105399: 1, 105615: 1, 105696: 1, 105912: 1, 105921: 1, 106110: 1, 106146: 1, 106227: 1, 106281: 1, 106353: 1, 106434: 1, 106479: 1, 106515: 1, 106542: 1, 106614: 1, 106758: 1, 106767: 1, 106875: 1, 106902: 1, 106983: 1, 107199: 1, 107226: 1, 107343: 1, 107397: 1, 107514: 1, 107550: 1, 107676: 1, 107685: 1, 107712: 1, 107748: 1, 107811: 1, 107856: 1, 108063: 1, 108099: 1, 108198: 1, 108279: 1, 108297: 1, 108333: 1, 108360: 1, 108477: 1, 108531: 1, 108540: 1, 108666: 2, 108711: 1, 108837: 1, 108972: 1, 109314: 1, 109782: 1, 109836: 1, 110034: 1, 110043: 1, 110061: 1, 110169: 1, 110178: 1, 110286: 1, 110385: 1, 110601: 1, 110655: 1, 110664: 1, 110682: 1, 110862: 2, 111015: 1, 111069: 1, 111087: 1, 111114: 1, 111177: 1, 111231: 1, 111240: 1, 111258: 1, 111321: 1, 111465: 1, 111528: 1, 111573: 2, 111582: 1, 111663: 1, 111699: 1, 111834: 2, 111942: 1, 112086: 1, 112122: 1, 112140: 1, 112176: 1, 112329: 1, 112446: 2, 112527: 1, 112608: 1, 112761: 1, 112788: 1, 112797: 1, 112806: 1, 112833: 1, 112914: 1, 113058: 1, 113103: 1, 113220: 1, 113301: 1, 113409: 1, 113463: 1, 113643: 1, 113787: 1, 113814: 1, 114039: 1, 114093: 1, 114291: 1, 114471: 1, 114516: 1, 114840: 1, 114966: 1, 115002: 1, 115074: 1, 115137: 1, 115713: 1, 115740: 1, 115902: 1, 115974: 1, 115992: 1, 116055: 1, 116109: 1, 116118: 1, 116289: 1, 116424: 1, 116523: 1, 116559: 1, 116568: 1, 116676: 1, 116703: 1, 116712: 1, 116856: 1, 116973: 1, 117072: 1, 117108: 1, 117144: 1, 117162: 1, 117198: 1, 117270: 1, 117405: 2, 117486: 1, 117522: 1, 117531: 1, 117549: 1, 117639: 1, 117792: 1, 117801: 1, 117819: 1, 117918: 1, 118188: 1, 118332: 1, 118377: 1, 118395: 1, 118431: 1, 118440: 1, 118503: 1, 118521: 1, 118647: 1, 118692: 1, 118809: 1, 118827: 1, 118890: 2, 118971: 1, 119079: 1, 119115: 1, 119196: 1, 119313: 1, 119376: 2, 119394: 1, 119484: 1, 119538: 1, 119592: 1, 119700: 1, 119754: 1, 119799: 1, 119889: 1, 119898: 1, 120123: 1, 120222: 1, 120366: 1, 120438: 1, 120447: 1, 120492: 1, 120609: 1, 120753: 1, 120789: 1, 120807: 2, 121113: 1, 121149: 1, 121212: 1, 121275: 1, 121446: 1, 121464: 1, 121500: 1, 121554: 1, 121572: 1, 121626: 3, 121914: 1, 121977: 1, 122139: 1, 122220: 1, 122364: 3, 122427: 1, 122580: 1, 122652: 1, 122688: 1, 122697: 1, 122742: 1, 123021: 1, 123246: 1, 123300: 1, 123516: 1, 123588: 1, 123696: 1, 123885: 1, 124029: 1, 124200: 2, 124353: 1, 124497: 1, 124515: 1, 124641: 1, 124677: 2, 124758: 1, 124785: 1, 124902: 1, 125001: 1, 125262: 1, 125352: 1, 125415: 1, 125469: 1, 125568: 1, 125631: 2, 125739: 1, 125865: 1, 126009: 1, 126432: 1, 126648: 1, 126666: 1, 126972: 1, 126990: 1, 127053: 1, 127152: 1, 127188: 1, 127332: 1, 127683: 1, 127710: 1, 127818: 1, 127980: 1, 127989: 1, 128187: 1, 128295: 1, 128349: 1, 128457: 1, 128502: 1, 128727: 1, 128826: 1, 129195: 1, 129231: 1, 129258: 2, 129474: 1, 129555: 1, 129726: 1, 129897: 1, 129978: 1, 130086: 1, 130131: 1, 130257: 1, 130401: 1, 130410: 1, 130482: 1, 130572: 1, 130599: 1, 130608: 1, 130752: 1, 131004: 1, 131013: 1, 131148: 1, 131229: 1, 131373: 1, 131382: 2, 131562: 2, 131832: 1, 131886: 1, 131940: 1, 131967: 1, 132120: 1, 132156: 1, 132507: 1, 132516: 1, 132525: 1, 132561: 1, 132768: 1, 132777: 1, 132786: 1, 132858: 1, 132876: 1, 132930: 1, 132957: 2, 133083: 1, 133146: 1, 133164: 1, 133416: 1, 133479: 1, 133533: 1, 133740: 1, 133749: 1, 133776: 1, 133884: 1, 133911: 1, 134055: 1, 134082: 1, 134163: 1, 134271: 1, 134388: 1, 134451: 1, 134469: 1, 134532: 1, 134964: 1, 135009: 1, 135081: 1, 135324: 1, 135351: 1, 135450: 1, 135513: 1, 135585: 1, 135630: 1, 135828: 1, 135855: 1, 135918: 1, 135972: 1, 136026: 1, 136125: 1, 136242: 1, 136296: 1, 136359: 1, 136413: 1, 136440: 2, 136566: 1, 136575: 1, 136710: 1, 136737: 1, 136782: 2, 136899: 1, 136908: 1, 136962: 1, 137079: 1, 137268: 1, 137448: 1, 137511: 1, 137538: 1, 137592: 1, 137709: 1, 137925: 1, 137934: 1, 138006: 1, 138285: 1, 138402: 1, 138474: 1, 138555: 1, 138663: 1, 138798: 1, 138960: 1, 138969: 1, 139059: 1, 139086: 1, 139122: 1, 139167: 1, 139212: 1, 139266: 1, 139383: 1, 139464: 1, 139743: 1, 139824: 1, 139869: 1, 140112: 1, 140265: 1, 140292: 1, 140427: 1, 140544: 1, 140571: 1, 140652: 1, 141012: 2, 141048: 1, 141057: 1, 141102: 1, 141111: 1, 141138: 1, 141147: 2, 141174: 1, 141237: 1, 141246: 1, 141363: 1, 141381: 1, 141498: 1, 141678: 2, 141714: 1, 141750: 1, 141813: 1, 142209: 1, 142272: 1, 142308: 1, 142425: 1, 142578: 1, 142623: 1, 142758: 1, 142965: 2, 143109: 1, 143478: 1, 143595: 1, 143649: 1, 143658: 1, 143685: 1, 143721: 1, 143865: 2, 144018: 1, 144027: 2, 144036: 1, 144081: 1, 144117: 1, 144126: 1, 144171: 1, 144243: 1, 144333: 1, 144342: 1, 144540: 1, 144594: 1, 144720: 1, 144765: 1, 144783: 1, 144990: 1, 144999: 1, 145017: 1, 145116: 1, 145188: 1, 145305: 1, 145530: 1, 145584: 1, 145593: 1, 145665: 1, 145845: 1, 145917: 1, 145962: 1, 146016: 1, 146043: 1, 146079: 1, 146475: 1, 146556: 1, 146565: 1, 146574: 1, 146709: 1, 146718: 1, 146898: 1, 146979: 2, 147195: 1, 147276: 1, 147303: 1, 147393: 1, 147411: 1, 147762: 1, 148014: 1, 148041: 1, 148077: 1, 148158: 1, 148176: 1, 148275: 1, 148338: 1, 148374: 1, 148437: 1, 148518: 1, 148806: 1, 148860: 1, 148977: 1, 149031: 1, 149094: 1, 149121: 1, 149184: 1, 149346: 1, 149409: 1, 149436: 1, 149517: 1, 149535: 1, 149760: 1, 149796: 1, 149958: 1, 149994: 1, 150021: 1, 150192: 1, 150201: 1, 150228: 1, 150255: 1, 150345: 1, 150399: 1, 150462: 1, 150561: 1, 150588: 1, 150705: 1, 150759: 1, 151092: 1, 151200: 1, 151272: 1, 151326: 1, 151461: 1, 151506: 1, 151515: 1, 151542: 1, 151551: 1, 151668: 1, 151686: 1, 151884: 1, 151938: 1, 152010: 1, 152028: 1, 152127: 1, 152163: 1, 152217: 1, 152235: 1, 152244: 1, 152253: 1, 152271: 1, 152307: 1, 152343: 1, 152388: 1, 152397: 1, 152433: 1, 152568: 1, 152577: 1, 152631: 2, 152676: 1, 152919: 1, 152982: 1, 153243: 1, 153414: 1, 153450: 2, 153585: 1, 153729: 1, 153801: 1, 153819: 1, 153990: 1, 153999: 2, 154044: 2, 154053: 1, 154107: 1, 154197: 1, 154233: 1, 154251: 1, 154296: 1, 154521: 1, 154575: 1, 154584: 1, 154593: 1, 154602: 1, 154809: 1, 154944: 1, 155214: 1, 155394: 1, 155412: 1, 155430: 1, 155457: 1, 155619: 1, 155664: 1, 155700: 1, 155727: 1, 155835: 1, 155889: 2, 156033: 1, 156105: 1, 156177: 1, 156645: 1, 156672: 1, 157050: 1, 157095: 1, 157122: 1, 157131: 1, 157221: 1, 157248: 1, 157320: 1, 157419: 1, 157491: 1, 157509: 1, 157554: 1, 157617: 1, 157707: 1, 157734: 1, 157797: 1, 157824: 1, 157887: 1, 158139: 1, 158184: 1, 158292: 2, 158418: 2, 158499: 1, 158652: 1, 158670: 2, 158697: 2, 158760: 2, 158769: 1, 158877: 1, 158994: 1, 159102: 1, 159219: 1, 159264: 1, 159363: 1, 159408: 1, 159426: 2, 159660: 1, 159786: 1, 159849: 1, 159885: 1, 159939: 1, 160308: 1, 160587: 1, 160713: 1, 160893: 1, 160902: 1, 160947: 1, 160992: 1, 161001: 1, 161010: 1, 161109: 1, 161316: 1, 161433: 1, 161577: 1, 161595: 1, 161613: 1, 161703: 1, 161766: 1, 161775: 1, 161910: 1, 161946: 1, 162045: 1, 162072: 1, 162135: 1, 162162: 2, 162180: 1, 162198: 1, 162342: 1, 162441: 1, 162540: 1, 162567: 1, 162621: 1, 162666: 1, 162846: 1, 162864: 1, 162963: 1, 163044: 1, 163215: 1, 163269: 1, 163305: 1, 163332: 1, 163359: 1, 163647: 1, 163665: 1, 163746: 1, 163827: 1, 163890: 1, 163944: 1, 164007: 1, 164097: 1, 164115: 2, 164322: 1, 164340: 1, 164394: 1, 164403: 1, 164556: 1, 164592: 1, 164835: 1, 164970: 1, 164979: 1, 165015: 1, 165177: 1, 165186: 1, 165249: 2, 165276: 1, 165321: 1, 165366: 1, 165375: 1, 165411: 1, 165429: 1, 165501: 1, 165546: 1, 165573: 1, 165663: 1, 166014: 1, 166140: 1, 166158: 1, 166203: 3, 166338: 2, 166356: 1, 166473: 1, 166509: 1, 166581: 1, 166599: 1, 166653: 1, 166716: 1, 166842: 2, 166905: 1, 166914: 1, 167112: 1, 167157: 1, 167328: 1, 167382: 1, 167481: 1, 167553: 1, 167688: 1, 167715: 1, 167823: 1, 167859: 1, 167940: 1, 168012: 1, 168093: 1, 168102: 1, 168120: 1, 168147: 1, 168228: 1, 168237: 1, 168246: 1, 168399: 1, 168444: 1, 168525: 1, 168732: 1, 168741: 1, 168813: 1, 168840: 1, 168912: 1, 168966: 1, 169182: 1, 169488: 1, 169668: 1, 169893: 1, 170010: 1, 170091: 1, 170397: 1, 170406: 1, 170433: 1, 170451: 1, 170604: 1, 170703: 1, 170811: 1, 170829: 1, 170946: 2, 170964: 2, 171063: 1, 171072: 1, 171153: 1, 171225: 1, 171324: 1, 171333: 2, 171369: 1, 171441: 1, 171450: 1, 171540: 1, 171738: 1, 171837: 1, 171909: 1, 171927: 1, 171936: 1, 171990: 1, 172053: 1, 172071: 1, 172089: 1, 172269: 1, 172359: 1, 172386: 1, 172413: 1, 172440: 1, 172530: 1, 172539: 1, 172656: 1, 172674: 1, 172710: 1, 172773: 1, 172836: 1, 172845: 1, 172890: 1, 173052: 1, 173133: 1, 173151: 1, 173160: 1, 173259: 2, 173340: 1, 173394: 1, 173430: 1, 173439: 1, 173655: 1}\n",
      "173736: 999=999; {173736: 2, 173799: 1, 173862: 1, 173952: 1, 174006: 1, 174132: 1, 174159: 1, 174267: 1, 174276: 1, 174303: 1, 174348: 1, 174447: 1, 174546: 1, 174645: 1, 174654: 1, 174897: 1, 174924: 1, 175005: 1, 175059: 1, 175329: 1, 175572: 1, 175626: 2, 175653: 1, 175698: 1, 175869: 1, 176202: 1, 176355: 1, 176697: 2, 176733: 1, 176751: 1, 176760: 1, 176958: 1, 177021: 1, 177075: 1, 177120: 1, 177381: 1, 177390: 1, 177435: 1, 177489: 1, 177507: 1, 177525: 1, 177588: 1, 177714: 1, 177858: 1, 178065: 1, 178083: 1, 178164: 1, 178389: 1, 178398: 1, 178416: 1, 178425: 1, 178461: 1, 178533: 1, 178659: 1, 178722: 1, 178938: 1, 179046: 1, 179073: 1, 179163: 1, 179172: 1, 179235: 1, 179271: 1, 179424: 1, 179541: 1, 179631: 1, 179829: 1, 179937: 1, 179973: 1, 179991: 1, 180441: 1, 180450: 1, 180621: 1, 180774: 1, 180792: 1, 180828: 1, 180837: 1, 180882: 1, 181026: 1, 181116: 1, 181188: 1, 181260: 1, 181386: 1, 181431: 1, 181494: 1, 181512: 1, 181530: 1, 181755: 1, 182133: 1, 182223: 1, 182250: 1, 182313: 1, 182394: 1, 182448: 1, 182628: 1, 183195: 1, 183528: 1, 183627: 1, 183699: 1, 183744: 1, 183933: 1, 184041: 1, 184086: 1, 184221: 1, 184275: 1, 184293: 1, 184464: 1, 184689: 1, 184734: 1, 184770: 1, 184905: 1, 184914: 1, 184959: 1, 185166: 1, 185193: 1, 185256: 1, 185382: 1, 185778: 1, 185805: 2, 185904: 2, 186039: 1, 186327: 1, 186435: 1, 186525: 1, 186543: 1, 186588: 1, 186597: 1, 186633: 1, 186651: 1, 186777: 1, 186813: 1, 186894: 1, 187011: 1, 187092: 1, 187137: 1, 187182: 1, 187236: 1, 187515: 1, 187641: 1, 187650: 1, 187713: 1, 187731: 1, 187758: 1, 187866: 1, 187947: 1, 187974: 1, 188055: 1, 188190: 1, 188244: 1, 188271: 1, 188280: 2, 188289: 1, 188604: 1, 188649: 2, 188721: 1, 188766: 1, 188919: 1, 189000: 1, 189117: 1, 189270: 1, 189279: 3, 189297: 1, 189396: 2, 189459: 1, 189486: 1, 189513: 1, 189549: 1, 189720: 1, 189783: 1, 190008: 1, 190152: 1, 190260: 1, 190683: 1, 190809: 1, 190971: 1, 190989: 1, 191178: 1, 191205: 1, 191295: 1, 191304: 1, 191358: 1, 191394: 1, 191601: 1, 191646: 1, 191655: 1, 191727: 1, 191736: 1, 191790: 1, 191817: 1, 192033: 1, 192159: 1, 192366: 1, 192429: 1, 192780: 1, 192933: 1, 192942: 3, 193041: 1, 193113: 1, 193122: 1, 193239: 1, 193338: 1, 193347: 1, 193437: 1, 193482: 1, 193509: 1, 193680: 1, 193707: 1, 193725: 1, 193788: 1, 193824: 1, 193950: 1, 193968: 1, 194076: 1, 194301: 1, 194337: 1, 194445: 1, 194481: 1, 194499: 1, 194526: 1, 194571: 1, 194580: 1, 194607: 1, 194787: 1, 194805: 1, 194877: 1, 195021: 1, 195030: 1, 195084: 1, 195165: 1, 195237: 1, 195345: 1, 195507: 2, 195660: 1, 195759: 1, 195894: 1, 196092: 1, 196137: 1, 196191: 1, 196290: 1, 196389: 1, 196497: 1, 196506: 1, 196533: 2, 196650: 1, 196731: 2, 196785: 1, 196812: 1, 196911: 1, 197046: 1, 197055: 1, 197082: 1, 197127: 1, 197154: 2, 197298: 1, 197550: 1, 197559: 1, 197631: 1, 197730: 1, 198351: 1, 198387: 1, 198441: 1, 198522: 1, 198576: 1, 198630: 1, 198738: 1, 198792: 1, 198819: 1, 198846: 1, 198873: 1, 199107: 1, 199233: 1, 199287: 1, 199323: 1, 199332: 1, 199377: 1, 199575: 1, 199584: 1, 199728: 1, 199872: 1, 200205: 1, 200277: 1, 200331: 1, 200448: 1, 200547: 1, 200556: 1, 200574: 1, 200682: 1, 200709: 1, 200871: 1, 201006: 1, 201141: 1, 201276: 1, 201330: 1, 201348: 1, 201384: 2, 201402: 1, 201420: 1, 201546: 1, 201699: 1, 201834: 1, 201942: 1, 201996: 1, 202149: 1, 202248: 2, 202311: 1, 202383: 1, 202419: 1, 202446: 1, 202464: 1, 202680: 1, 202806: 1, 202878: 1, 203184: 1, 203328: 1, 203418: 2, 203436: 1, 203499: 1, 203535: 1, 203661: 1, 203904: 1, 203994: 1, 204003: 1, 204021: 1, 204057: 1, 204147: 1, 204399: 1, 204471: 1, 204489: 1, 204534: 1, 204651: 1, 204732: 1, 204948: 1, 204975: 1, 205011: 1, 205110: 1, 205155: 1, 205308: 1, 205353: 1, 205569: 1, 205776: 1, 205866: 1, 206019: 1, 206190: 1, 206298: 1, 206523: 1, 206586: 1, 206838: 1, 206847: 1, 206874: 1, 206883: 1, 206955: 1, 206964: 1, 207063: 1, 207378: 1, 207585: 1, 207675: 2, 207756: 1, 207801: 1, 207900: 1, 208152: 1, 208278: 1, 208422: 1, 208566: 1, 208602: 1, 208674: 1, 208863: 1, 208872: 1, 208890: 1, 208989: 1, 209043: 1, 209052: 1, 209097: 1, 209277: 1, 209304: 1, 209628: 1, 209736: 1, 209853: 1, 209898: 1, 209925: 1, 209934: 1, 209979: 1, 210123: 1, 210213: 1, 210240: 1, 210258: 1, 210276: 1, 210312: 1, 210357: 1, 210438: 1, 210465: 1, 210672: 1, 210708: 1, 210717: 1, 210771: 1, 210789: 1, 211113: 1, 211149: 1, 211203: 1, 211320: 1, 211347: 1, 211401: 1, 211410: 1, 211734: 1, 211878: 2, 211941: 1, 212085: 1, 212094: 1, 212193: 1, 212301: 1, 212436: 1, 212517: 1, 212652: 2, 212688: 2, 212715: 1, 212724: 1, 212787: 1, 212868: 1, 213120: 1, 213174: 2, 213210: 1, 213291: 1, 213336: 1, 213444: 1, 213462: 1, 213507: 1, 213795: 1, 213894: 1, 214047: 1, 214074: 1, 214173: 1, 214200: 1, 214227: 1, 214263: 1, 214281: 1, 214290: 1, 214335: 1, 214470: 1, 214857: 1, 215217: 1, 215370: 1, 215415: 1, 215424: 1, 215577: 1, 215793: 1, 215892: 1, 215964: 1, 216027: 1, 216081: 1, 216333: 1, 216378: 1, 216387: 1, 216423: 1, 216531: 1, 216594: 1, 216756: 1, 216792: 1, 216828: 1, 216846: 1, 216954: 1, 217035: 1, 217143: 1, 217152: 1, 217170: 1, 217233: 1, 217278: 1, 217305: 1, 217350: 1, 217404: 1, 217620: 1, 217656: 1, 217665: 1, 217800: 1, 217809: 2, 217818: 1, 217881: 1, 217917: 1, 218088: 1, 218097: 1, 218124: 1, 218430: 1, 218466: 1, 218547: 1, 218556: 1, 218898: 1, 219168: 1, 219258: 1, 219276: 1, 219726: 1, 220059: 1, 220113: 1, 220275: 1, 220446: 2, 220482: 1, 220635: 1, 220761: 1, 220779: 2, 220833: 1, 220878: 1, 220959: 1, 220995: 1, 221040: 1, 221076: 1, 221094: 1, 221265: 1, 221328: 1, 221445: 1, 221571: 2, 221760: 1, 221796: 1, 221877: 1, 221976: 1, 222192: 1, 222201: 1, 222264: 1, 222291: 1, 222318: 1, 222408: 1, 222489: 1, 222606: 1, 222624: 1, 222885: 1, 222894: 1, 222984: 1, 223020: 1, 223110: 1, 223371: 1, 223443: 1, 223902: 1, 224055: 1, 224469: 1, 224487: 1, 224739: 1, 224766: 1, 224829: 1, 224883: 1, 225126: 1, 225180: 1, 225189: 1, 225342: 1, 225378: 1, 225594: 1, 225819: 1, 225837: 1, 226116: 1, 226260: 1, 226413: 1, 226521: 1, 226530: 1, 226584: 1, 226620: 1, 226665: 1, 226701: 1, 227070: 1, 227340: 1, 227457: 1, 227475: 1, 227835: 1, 228015: 1, 228069: 1, 228231: 1, 228456: 1, 228501: 1, 228627: 1, 228744: 1, 228870: 1, 229023: 1, 229176: 1, 229293: 1, 229410: 1, 229554: 1, 229626: 1, 229851: 1, 229869: 1, 229923: 1, 230031: 1, 230112: 1, 230175: 1, 230193: 1, 230211: 1, 230301: 1, 230364: 1, 230643: 1, 230796: 1, 230913: 1, 230940: 1, 231147: 1, 231156: 1, 231363: 1, 231543: 1, 231822: 1, 231894: 1, 232020: 1, 232065: 1, 232137: 1, 232164: 2, 232200: 1, 232461: 1, 232578: 1, 232587: 1, 232623: 1, 232677: 1, 232740: 1, 232776: 1, 232803: 1, 232938: 1, 232974: 1, 233145: 1, 233316: 1, 233325: 1, 233379: 1, 233424: 1, 233460: 1, 233469: 1, 233631: 1, 233739: 1, 233784: 1, 233811: 1, 233910: 1, 234090: 1, 234117: 1, 234243: 1, 234297: 1, 234315: 1, 234333: 1, 234360: 1, 234477: 1, 234522: 1, 234594: 1, 234846: 1, 234882: 1, 235107: 3, 235332: 1, 235458: 1, 235602: 1, 235638: 1, 235701: 1, 235755: 1, 235872: 1, 235962: 1, 235989: 1, 236025: 1, 236034: 1, 236079: 1, 236124: 1, 236169: 1, 236439: 1, 236457: 1, 236637: 1, 237573: 1, 237609: 1, 237663: 1, 237717: 1, 237753: 1, 238032: 1, 238185: 1, 238221: 1, 238302: 1, 238401: 1, 238419: 1, 238941: 1, 239013: 1, 239058: 1, 239121: 1, 239175: 1, 239238: 1, 239247: 1, 239454: 1, 239517: 1, 239751: 1, 239778: 1, 239814: 1, 239832: 1, 239958: 1, 240075: 1, 240120: 1, 240291: 1, 240336: 1, 240390: 1, 240408: 1, 240453: 1, 240597: 2, 240831: 1, 240921: 1, 240975: 1, 241065: 1, 241182: 1, 241218: 1, 241236: 1, 241353: 1, 241389: 1, 241416: 1, 241614: 1, 241632: 1, 241677: 1, 241695: 1, 241794: 1, 241857: 1, 241938: 2, 241956: 1, 242109: 1, 242163: 1, 242217: 1, 242226: 1, 242244: 1, 242307: 1, 242316: 1, 242523: 1, 242577: 1, 242937: 1, 243027: 1, 243153: 1, 243234: 1, 243306: 1, 243405: 1, 243441: 1, 243468: 1, 243594: 1, 243666: 1, 243882: 1, 243909: 1, 243963: 1, 244179: 1, 244287: 1, 244503: 1, 244674: 1, 244917: 1, 244926: 1, 245142: 1, 245160: 1, 245187: 1, 245241: 1, 245349: 1, 245385: 1, 245799: 1, 245898: 1, 245907: 1, 245961: 1, 246024: 1, 246168: 1, 246195: 2, 246276: 1, 246456: 1, 246492: 1, 246573: 1, 246735: 1, 246744: 1, 246762: 1, 246771: 1, 246834: 1, 247050: 1, 247185: 1, 247194: 1, 247275: 1, 247500: 1, 247572: 1, 247635: 1, 247662: 1, 247725: 1, 247734: 1, 247743: 1, 247788: 1, 247878: 1, 247941: 1, 247968: 1, 248004: 1, 248202: 1, 248427: 1, 248463: 1, 248472: 1, 248580: 1, 248724: 1, 249003: 1, 249228: 1, 249237: 1, 249336: 1, 249354: 1, 249390: 1, 249561: 1, 249687: 1, 249714: 1, 249768: 1, 250002: 1, 250038: 1, 250056: 1, 250101: 1, 250191: 1, 250209: 1, 250344: 1, 250551: 1, 250587: 1, 251235: 2, 251631: 1, 251802: 1, 251892: 1, 252018: 1, 252261: 1, 252279: 1, 252288: 1, 252351: 1, 252360: 1, 252468: 1, 252522: 1, 252549: 1, 252558: 1, 252612: 1, 252729: 1, 252981: 1, 253017: 1, 253035: 1, 253098: 1, 253197: 1, 253548: 1, 253611: 1, 254016: 1, 254160: 1, 254169: 1, 254358: 1, 254520: 1, 254574: 1, 254682: 1, 254745: 1, 254790: 1, 255411: 1, 255510: 1, 255519: 1, 255564: 1, 255627: 1, 255681: 1, 255897: 1, 256311: 1, 256329: 1, 256563: 1, 256635: 1, 256788: 1, 256896: 1, 256923: 1, 256941: 1, 257013: 1, 257472: 1, 257535: 1, 257607: 1, 257625: 1, 257643: 1, 257778: 1, 257841: 1, 258075: 1, 258129: 1, 258381: 1, 258390: 1, 258498: 1, 258678: 1, 258732: 1, 258741: 1, 258759: 1, 259002: 1, 259011: 1, 259290: 1, 259353: 1, 259389: 1, 259488: 1, 259686: 1, 259776: 1, 259992: 1, 260028: 1, 260163: 1, 260181: 1, 260199: 1, 260352: 1, 260460: 1, 260640: 1, 260775: 1, 260793: 1, 260829: 1, 260946: 1, 260964: 1, 260991: 1, 261108: 1, 261171: 1, 261234: 1, 261261: 1, 261297: 1, 261531: 1, 261666: 2, 261675: 1, 261747: 1, 261828: 1, 261909: 1, 261990: 1, 262008: 1, 262125: 1, 262152: 1, 262161: 1, 262188: 2, 262287: 1, 262386: 1, 262611: 1, 262683: 1, 262755: 1, 262980: 1, 263106: 1, 263214: 2, 263232: 1, 263304: 1, 263394: 1, 263439: 2, 263448: 1, 263574: 1, 263628: 1, 263790: 1, 263835: 1, 263871: 1, 263916: 1, 263988: 1, 264006: 1, 264096: 1, 264168: 1, 264312: 1, 264447: 1, 264591: 1, 264861: 1, 264951: 1, 264978: 1, 265068: 1, 265140: 1, 265158: 1, 265257: 1, 265392: 1, 265689: 1, 265752: 1, 265761: 1, 265887: 1, 265923: 1, 266085: 1, 266229: 1, 266391: 1, 266409: 1, 266463: 1, 266508: 1, 266661: 1, 266733: 1, 266742: 1, 266769: 1, 266787: 1, 266922: 1, 267084: 1, 267282: 1, 267345: 2, 267480: 1, 267507: 1, 267561: 2, 267579: 2, 267687: 1, 267696: 1, 267705: 1, 267714: 1, 267795: 1, 267831: 1, 267840: 1}\n",
      "267849: 1000=1000; {267849: 3, 267930: 2, 268074: 1, 268101: 1, 268119: 1, 268128: 1, 268173: 1, 268290: 1, 268371: 1, 268407: 1, 268443: 1, 268578: 1, 268722: 1, 268731: 1, 268830: 1, 268992: 2, 269145: 1, 269271: 1, 269298: 1, 269397: 1, 269460: 1, 269550: 1, 269622: 1, 269694: 1, 269730: 2, 269919: 1, 270027: 1, 270036: 1, 270072: 1, 270117: 1, 270144: 1, 270198: 1, 270243: 1, 270288: 1, 270315: 1, 270324: 1, 270414: 1, 270459: 1, 270513: 1, 270549: 1, 270621: 1, 270639: 1, 270684: 1, 270720: 1, 270747: 1, 270810: 1, 270873: 1, 270981: 1, 271017: 1, 271026: 1, 271035: 1, 271152: 1, 271215: 1, 271233: 1, 271242: 1, 271413: 1, 271521: 1, 271746: 1, 271764: 1, 271782: 1, 271791: 1, 272052: 1, 272079: 1, 272106: 1, 272124: 1, 272151: 1, 272241: 1, 272250: 1, 272286: 1, 272295: 1, 272439: 1, 272493: 1, 272529: 1, 272763: 1, 272853: 1, 273096: 1, 273123: 1, 273186: 1, 273249: 1, 273330: 2, 273366: 1, 273744: 1, 274041: 1, 274149: 1, 274356: 1, 274419: 1, 274428: 1, 274455: 1, 274518: 1, 274617: 1, 274653: 1, 274761: 1, 274887: 1, 274995: 1, 275076: 1, 275094: 1, 275121: 1, 275274: 1, 275283: 1, 275310: 1, 275355: 1, 275616: 1, 275661: 1, 275697: 1, 275742: 1, 275877: 1, 275958: 1, 276021: 3, 276120: 1, 276390: 1, 276435: 1, 276723: 1, 276732: 1, 276885: 1, 276912: 1, 277056: 1, 277245: 1, 277272: 1, 277407: 1, 277641: 1, 277740: 1, 277785: 1, 277839: 1, 277857: 1, 277920: 1, 277974: 1, 278037: 1, 278118: 1, 278208: 1, 278289: 1, 278334: 1, 278784: 2, 278811: 1, 278856: 1, 278883: 1, 278901: 1, 278910: 1, 278946: 1, 278955: 1, 279045: 1, 279072: 1, 279180: 1, 279207: 1, 279270: 1, 279288: 1, 279315: 1, 279369: 1, 279756: 1, 280116: 1, 280269: 1, 280413: 1, 280503: 1, 280611: 1, 280773: 1, 281007: 1, 281034: 1, 281295: 1, 281313: 1, 281430: 1, 281439: 1, 281583: 1, 281664: 1, 281781: 1, 281853: 1, 281898: 1, 281988: 1, 282150: 1, 282168: 1, 282303: 1, 282312: 1, 282429: 1, 282537: 2, 282573: 1, 282627: 1, 282708: 1, 282735: 1, 282852: 2, 282861: 1, 282897: 1, 282978: 1, 283023: 1, 283104: 1, 283284: 1, 283464: 1, 283482: 1, 283554: 1, 283572: 1, 283734: 1, 283779: 1, 283797: 1, 283824: 1, 283896: 1, 284013: 1, 284031: 1, 284175: 1, 284328: 1, 284355: 1, 284526: 1, 284652: 1, 284850: 1, 284868: 1, 284877: 1, 284940: 1, 285084: 1, 285183: 1, 285237: 1, 285246: 1, 285327: 1, 285354: 1, 285381: 1, 285417: 1, 285552: 1, 285606: 1, 285786: 1, 285804: 1, 285930: 1, 286110: 1, 286254: 1, 286263: 1, 286443: 1, 286470: 1, 286533: 1, 286569: 1, 286596: 1, 286848: 1, 286866: 1, 286902: 1, 287055: 1, 287091: 1, 287100: 1, 287271: 1, 287343: 1, 287406: 1, 287433: 1, 287712: 1, 287739: 1, 287766: 1, 287955: 1, 287991: 1, 288036: 1, 288243: 1, 288378: 1, 288396: 1, 288450: 1, 288459: 1, 288522: 1, 288621: 1, 288918: 1, 288999: 1, 289161: 1, 289179: 1, 289206: 1, 289359: 1, 289458: 1, 289566: 1, 289674: 1, 289773: 1, 289827: 1, 289899: 1, 289944: 2, 289998: 1, 290016: 1, 290052: 1, 290178: 1, 290232: 1, 290313: 1, 290385: 1, 290403: 1, 290412: 1, 290538: 1, 290601: 1, 290628: 1, 290637: 1, 290691: 1, 290700: 1, 290781: 2, 290844: 1, 290862: 1, 291015: 1, 291123: 1, 291321: 1, 291447: 1, 291573: 1, 291600: 1, 291627: 1, 291636: 1, 291771: 1, 291906: 1, 291915: 1, 291951: 1, 292032: 1, 292059: 1, 292077: 1, 292086: 1, 292113: 1, 292212: 1, 292221: 1, 292500: 1, 292509: 1, 292617: 1, 292644: 1, 292734: 1, 292761: 1, 292770: 1, 293004: 1, 293013: 2, 293148: 1, 293265: 1, 293274: 1, 293382: 1, 293490: 1, 293643: 1, 293670: 1, 293805: 1, 293814: 1, 293832: 1, 293850: 1, 294057: 1, 294111: 1, 294129: 1, 294579: 2, 294741: 1, 294759: 1, 294894: 1, 294966: 1, 295011: 1, 295218: 1, 295263: 1, 295353: 1, 295542: 1, 295569: 1, 295641: 1, 295650: 1, 295704: 1, 295947: 1, 295974: 1, 296091: 1, 296127: 1, 296262: 1, 296532: 1, 296586: 1, 296640: 1, 296829: 1, 296883: 1, 297000: 1, 297018: 1, 297045: 1, 297090: 1, 297270: 1, 297297: 1, 297333: 1, 297585: 1, 297621: 1, 297702: 1, 297747: 2, 297882: 1, 298053: 1, 298116: 1, 298287: 1, 298386: 2, 298458: 1, 298512: 1, 298530: 1, 298899: 2, 299070: 1, 299133: 1, 299142: 2, 299196: 1, 299214: 1, 299241: 1, 299259: 1, 299304: 1, 299331: 1, 299430: 1, 299592: 1, 299691: 1, 299754: 1, 299772: 1, 299799: 2, 299826: 1, 300087: 1, 300105: 1, 300123: 1, 300231: 1, 300240: 1, 300294: 1, 300312: 1, 300429: 1, 300447: 1, 300456: 1, 300537: 1, 300681: 1, 300744: 1, 301014: 1, 301131: 1, 301203: 1, 301230: 1, 301275: 1, 301383: 1, 301473: 1, 301491: 1, 301581: 1, 301707: 1, 301824: 1, 301860: 1, 301905: 1, 302067: 1, 302220: 1, 302310: 1, 302454: 1, 302553: 1, 302580: 2, 302607: 1, 302616: 1, 302634: 1, 302724: 1, 302742: 1, 302760: 1, 302913: 1, 303219: 1, 303327: 1, 303390: 1, 303606: 1, 303984: 2, 303993: 1, 304020: 1, 304083: 1, 304236: 1, 304668: 1, 304713: 1, 304821: 1, 304947: 1, 305154: 1, 305478: 1, 305577: 1, 305586: 1, 305595: 1, 305658: 1, 305829: 1, 305838: 1, 306117: 1, 306189: 1, 306216: 1, 306306: 1, 306396: 1, 306450: 1, 306540: 1, 306549: 1, 306657: 1, 306729: 1, 306783: 1, 306792: 1, 306828: 1, 306864: 1, 307080: 1, 307089: 1, 307179: 1, 307278: 1, 307467: 1, 307998: 1, 308160: 1, 308196: 1, 308205: 1, 308277: 2, 308340: 1, 308430: 1, 308457: 1, 308637: 1, 308664: 1, 308844: 1, 309051: 1, 309060: 1, 309294: 1, 309501: 1, 309510: 1, 309915: 1, 309924: 1, 310068: 1, 310104: 1, 310131: 1, 310158: 1, 310176: 1, 310248: 1, 310383: 1, 310428: 1, 310437: 1, 310554: 2, 310779: 1, 310788: 1, 310860: 1, 310995: 1, 311040: 1, 311049: 1, 311121: 1, 311355: 1, 311400: 1, 311526: 1, 311544: 1, 311805: 1, 311823: 1, 312048: 1, 312129: 1, 312525: 1, 312615: 1, 312750: 1, 312795: 1, 312876: 1, 313002: 1, 313164: 1, 313209: 1, 313236: 2, 313245: 1, 313326: 1, 313362: 1, 313371: 1, 313389: 1, 313398: 1, 313650: 1, 313659: 1, 313668: 1, 313776: 1, 313866: 1, 313893: 1, 313992: 1, 314046: 1, 314766: 1, 314829: 1, 314874: 1, 314937: 1, 314955: 1, 314964: 1, 315009: 1, 315072: 1, 315081: 1, 315108: 1, 315459: 1, 315639: 1, 315657: 1, 315675: 2, 315747: 1, 315855: 1, 315900: 1, 316008: 1, 316161: 1, 316377: 1, 316548: 1, 316602: 1, 316701: 1, 316854: 1, 317025: 1, 317043: 1, 317097: 1, 317106: 1, 317358: 1, 317394: 1, 317439: 1, 317484: 1, 317871: 2, 318015: 1, 318123: 1, 318132: 1, 318204: 1, 318339: 1, 318429: 2, 318438: 1, 318762: 2, 318897: 1, 318924: 1, 319095: 2, 319140: 1, 319194: 1, 319203: 2, 319239: 1, 319347: 1, 319455: 1, 319509: 1, 319563: 1, 319617: 1, 319707: 1, 319806: 1, 319851: 1, 319869: 2, 319968: 1, 320058: 1, 320193: 1, 320238: 1, 320328: 1, 320373: 1, 320814: 1, 321237: 1, 321273: 1, 321462: 1, 321471: 2, 321669: 1, 321822: 1, 321903: 1, 322038: 1, 322047: 1, 322083: 1, 322119: 1, 322146: 1, 322344: 1, 322434: 1, 322704: 1, 322713: 1, 322731: 1, 322902: 1, 322911: 1, 322956: 1, 323163: 1, 323181: 1, 323199: 1, 323208: 1, 323289: 1, 323334: 1, 323352: 1, 323676: 1, 323703: 1, 323748: 1, 323847: 1, 323865: 1, 323919: 1, 323955: 2, 324036: 1, 324099: 2, 324135: 1, 324234: 1, 324414: 1, 324423: 1, 324486: 1, 324504: 1, 324549: 1, 324621: 1, 324648: 1, 324675: 1, 324855: 1, 324927: 1, 324954: 1, 325062: 1, 325179: 1, 325278: 1, 325422: 1, 325476: 1, 325485: 1, 325566: 1, 325989: 1, 326160: 1, 326376: 1, 326412: 1, 326448: 1, 326457: 1, 326475: 1, 326727: 1, 326781: 1, 327231: 1, 327258: 1, 327366: 1, 327411: 1, 327438: 1, 327519: 1, 327600: 1, 327816: 1, 327861: 1, 327960: 1, 327969: 1, 328059: 1, 328122: 1, 328185: 1, 328230: 1, 328554: 1, 328608: 1, 328725: 1, 328761: 1, 328806: 1, 328860: 1, 328887: 1, 329040: 1, 329049: 1, 329058: 1, 329328: 1, 329436: 1, 329454: 1, 329526: 1, 329634: 1, 329787: 1, 329949: 1, 329985: 1, 329994: 1, 330003: 1, 330039: 1, 330057: 1, 330120: 1, 330201: 1, 330282: 1, 330336: 1, 330435: 1, 330462: 1, 330471: 1, 330525: 1, 330543: 1, 330687: 1, 330822: 1, 330966: 1, 331020: 1, 331074: 1, 331407: 1, 331866: 1, 332082: 1, 332091: 1, 332217: 1, 332280: 1, 332370: 1, 332451: 1, 332613: 1, 332667: 1, 332739: 1, 332937: 1, 333081: 1, 333108: 1, 333135: 1, 333216: 1, 333351: 1, 333387: 1, 333414: 1, 333540: 1, 333594: 1, 333612: 1, 333702: 1, 333711: 1, 333837: 1, 333945: 1, 333990: 1, 334125: 1, 334179: 1, 334215: 1, 334287: 1, 334323: 1, 334386: 1, 334575: 1, 334692: 1, 334701: 1, 334935: 1, 335097: 1, 335151: 1, 335286: 1, 335331: 1, 335403: 1, 335412: 1, 335655: 1, 335718: 2, 335727: 1, 335817: 1, 335853: 1, 335898: 1, 335907: 1, 336042: 1, 336159: 1, 336177: 1, 336195: 1, 336213: 2, 336294: 1, 336312: 1, 336330: 1, 336411: 1, 336978: 1, 337032: 1, 337077: 1, 337149: 1, 337158: 1, 337239: 1, 337347: 1, 337383: 1, 337617: 1, 337815: 1, 337878: 1, 337914: 1, 338247: 1, 338355: 1, 338364: 1, 338373: 1, 338445: 1, 338535: 1, 338913: 1, 339039: 1, 339192: 1, 339201: 1, 339408: 1, 339498: 1, 339633: 2, 339687: 1, 339741: 1, 339777: 1, 339849: 1, 340047: 1, 340119: 2, 340434: 1, 340443: 1, 340677: 1, 340803: 1, 340812: 1, 340884: 1, 340902: 1, 340911: 1, 341010: 1, 341028: 1, 341136: 1, 341235: 1, 341244: 1, 341370: 1, 341559: 1, 341712: 1, 341811: 1, 341946: 1, 342045: 1, 342117: 1, 342126: 1, 342153: 1, 342261: 1, 342531: 1, 342630: 1, 342972: 1, 343359: 1, 343476: 1, 343503: 1, 343638: 1, 343683: 1, 343800: 1, 343944: 1, 343980: 1, 344070: 1, 344079: 1, 344097: 2, 344169: 1, 344358: 1, 344457: 1, 344502: 1, 344565: 1, 344637: 1, 344655: 1, 344727: 1, 344754: 2, 344889: 1, 345006: 1, 345015: 1, 345024: 1, 345051: 1, 345060: 1, 345096: 1, 345141: 1, 345303: 1, 345465: 1, 345519: 1, 345528: 1, 345573: 1, 345807: 1, 346014: 1, 346167: 1, 346257: 1, 346284: 1, 346311: 1, 346329: 1, 346491: 1, 346527: 1, 346563: 1, 346608: 1, 346626: 1, 346635: 1, 346644: 1, 346743: 1, 346833: 1, 346860: 1, 346959: 1, 347004: 1, 347067: 1, 347076: 1, 347229: 1, 347373: 1, 347391: 1, 347562: 1, 347616: 1, 347652: 1, 347724: 1, 347976: 1, 348201: 1, 348273: 1, 348300: 1, 348318: 1, 348444: 1, 348489: 1, 348570: 1, 348660: 1, 348678: 1, 348831: 1, 348849: 1, 348921: 1, 348966: 1, 349083: 1, 349209: 1, 349263: 1, 349308: 1, 349317: 1, 349371: 1, 349425: 2, 349434: 1, 349506: 1, 349578: 1, 349587: 2, 349794: 1, 349866: 1, 349920: 1, 349938: 1, 349974: 1, 350127: 1, 350199: 1, 350334: 1, 350343: 1, 350460: 1, 350559: 1, 350595: 1, 350676: 1, 350712: 1, 351234: 1, 351468: 1, 351477: 1, 351486: 1, 351504: 1, 351522: 1, 351657: 1, 351774: 2, 352116: 1, 352170: 1, 352395: 1, 352494: 1, 352503: 1, 352530: 1, 352818: 1, 352845: 1, 352863: 1, 352917: 1, 352998: 1, 353043: 1, 353187: 1, 353241: 1, 353466: 1, 353484: 1, 353601: 1, 353664: 1, 353826: 1, 353898: 1, 353943: 1, 353952: 1, 354024: 1, 354177: 1, 354402: 1, 354825: 1, 354852: 1}\n",
      "354888: 1000=1000; {354888: 1, 355041: 1, 355293: 1, 355401: 1, 355617: 1, 355806: 1, 355968: 1, 355995: 1, 356076: 1, 356292: 1, 356481: 1, 356562: 1, 356832: 1, 356904: 1, 356949: 1, 357057: 1, 357147: 1, 357156: 1, 357318: 2, 357372: 1, 357579: 1, 357660: 1, 357759: 1, 357822: 1, 357885: 1, 358101: 1, 358119: 1, 358542: 1, 358569: 1, 358605: 1, 358677: 1, 358731: 1, 358929: 1, 358938: 1, 358965: 1, 359100: 1, 359109: 1, 359307: 1, 359325: 1, 359334: 2, 359397: 1, 359424: 1, 359496: 1, 359802: 1, 360045: 1, 360180: 1, 360459: 1, 360522: 1, 360774: 1, 360963: 1, 361017: 1, 361233: 1, 361251: 1, 361404: 1, 361530: 1, 361593: 1, 361683: 1, 361719: 1, 361854: 1, 361872: 1, 362052: 1, 362088: 1, 362205: 2, 362277: 1, 362403: 1, 363231: 1, 363294: 1, 363321: 1, 363393: 1, 363501: 1, 363528: 1, 363708: 1, 363807: 1, 364023: 1, 364032: 1, 364050: 1, 364059: 1, 364068: 1, 364104: 1, 364158: 1, 364275: 1, 364707: 1, 364905: 1, 364914: 1, 364995: 1, 365004: 1, 365013: 1, 365085: 1, 365175: 1, 365184: 1, 365202: 1, 365292: 1, 365337: 1, 365481: 1, 365499: 1, 365625: 1, 365823: 1, 365868: 1, 365985: 1, 366093: 1, 366165: 2, 366291: 1, 366471: 1, 366525: 1, 366624: 1, 366633: 1, 366750: 1, 366786: 1, 366858: 1, 366903: 1, 366912: 1, 367290: 1, 367353: 1, 367461: 1, 367632: 1, 367686: 1, 367722: 1, 367947: 1, 368037: 1, 368136: 1, 368298: 1, 368406: 1, 368442: 1, 368604: 1, 368640: 1, 368739: 1, 368784: 1, 368946: 1, 369027: 1, 369207: 2, 369360: 1, 369432: 1, 369639: 1, 369999: 1, 370125: 1, 370260: 1, 370314: 1, 370377: 1, 370422: 1, 370494: 1, 370548: 1, 370665: 1, 370845: 1, 370863: 1, 370899: 1, 371088: 1, 371169: 1, 371232: 1, 371358: 1, 371412: 1, 371880: 1, 372042: 1, 372285: 1, 372312: 1, 372447: 1, 372618: 1, 372888: 1, 373176: 1, 373212: 1, 373320: 1, 373365: 1, 373392: 1, 373464: 1, 373617: 1, 373689: 2, 373734: 1, 373761: 1, 373806: 2, 374031: 1, 374166: 1, 374283: 1, 374328: 2, 374427: 1, 374463: 1, 374472: 1, 374616: 1, 374841: 1, 374940: 1, 375264: 1, 375327: 1, 375345: 1, 375372: 1, 375480: 1, 375507: 1, 375687: 1, 375768: 1, 375939: 1, 376236: 1, 376506: 1, 376578: 1, 376767: 1, 377028: 1, 377190: 1, 377424: 1, 377460: 1, 377586: 1, 377631: 1, 377739: 1, 377748: 1, 377775: 1, 377946: 1, 378207: 1, 378243: 1, 378504: 1, 378549: 1, 378567: 1, 378630: 1, 378657: 1, 378666: 1, 378675: 1, 378936: 1, 379008: 1, 379017: 1, 379368: 1, 379449: 1, 379485: 1, 379665: 1, 379674: 1, 379800: 1, 379953: 1, 379980: 1, 380043: 1, 380052: 1, 380223: 1, 380241: 1, 380259: 1, 380304: 1, 380340: 1, 380358: 1, 380601: 1, 380790: 1, 380835: 1, 380889: 1, 380934: 1, 381042: 1, 381087: 1, 381096: 1, 381150: 1, 381582: 1, 381816: 1, 381852: 1, 382014: 1, 382086: 1, 382230: 2, 382293: 1, 382356: 1, 382383: 1, 382419: 1, 382617: 1, 382689: 1, 382779: 1, 382797: 1, 382815: 1, 382959: 1, 382977: 1, 383121: 1, 383184: 1, 383265: 1, 383283: 1, 383337: 1, 383499: 1, 383616: 1, 383706: 1, 383913: 1, 383931: 2, 384003: 1, 384021: 1, 384120: 2, 384210: 1, 384309: 1, 384462: 1, 384705: 2, 384795: 1, 384903: 1, 384921: 1, 385110: 1, 385155: 1, 385182: 1, 385272: 1, 385443: 2, 385506: 1, 385560: 1, 385650: 1, 385677: 1, 385974: 1, 386262: 1, 386370: 2, 386532: 1, 386640: 1, 386667: 1, 386739: 2, 386946: 1, 387036: 1, 387045: 1, 387063: 1, 387090: 1, 387126: 1, 387135: 1, 387216: 1, 387252: 1, 387351: 1, 387531: 1, 387549: 1, 387954: 1, 387981: 1, 388170: 1, 388179: 1, 388188: 1, 388269: 1, 388305: 1, 388359: 1, 388377: 1, 388440: 1, 388458: 1, 388476: 1, 388512: 1, 388557: 1, 388575: 1, 388692: 1, 388944: 1, 389052: 1, 389124: 1, 389313: 2, 389340: 1, 389385: 2, 389439: 2, 389538: 1, 389610: 1, 389655: 1, 389754: 1, 389889: 1, 389997: 2, 390168: 1, 390186: 1, 390312: 1, 390510: 1, 390627: 1, 390798: 1, 390897: 1, 391068: 1, 391086: 1, 391167: 1, 391194: 1, 391329: 1, 391563: 1, 391608: 1, 391635: 1, 391653: 1, 391779: 2, 391887: 1, 392013: 1, 392067: 1, 392094: 1, 392103: 1, 392112: 1, 392130: 1, 392139: 1, 392184: 1, 392373: 1, 392535: 1, 392679: 1, 392688: 1, 392760: 1, 392850: 1, 392958: 1, 393066: 1, 393156: 1, 393534: 1, 393624: 1, 393750: 1, 393885: 1, 393993: 1, 394092: 1, 394101: 1, 394164: 1, 394245: 1, 394434: 1, 394506: 1, 394533: 1, 394578: 1, 394749: 1, 394965: 1, 395172: 1, 395235: 1, 395280: 2, 395415: 1, 395640: 1, 395757: 1, 395820: 1, 395829: 1, 395865: 2, 395874: 1, 395928: 1, 396207: 1, 396216: 1, 396234: 1, 396333: 1, 396441: 1, 396585: 1, 396684: 1, 397125: 1, 397134: 1, 397143: 1, 397170: 1, 397251: 1, 397386: 1, 397404: 1, 397503: 1, 397620: 1, 397665: 1, 397809: 1, 397836: 1, 398034: 1, 398070: 1, 398340: 2, 398502: 2, 398610: 1, 398673: 1, 398880: 1, 398898: 1, 398952: 1, 399015: 1, 399087: 1, 399105: 1, 399132: 1, 399150: 1, 399159: 1, 399195: 1, 399204: 1, 399267: 1, 399663: 1, 399753: 1, 399870: 1, 400293: 1, 400563: 1, 400644: 1, 400788: 1, 400995: 1, 401049: 1, 401184: 1, 401328: 1, 401346: 1, 401418: 1, 401490: 1, 401634: 1, 401985: 2, 402192: 1, 402417: 1, 402462: 1, 402534: 1, 402570: 1, 402678: 1, 402705: 1, 402858: 1, 403011: 1, 403227: 1, 403254: 1, 403281: 1, 403326: 1, 403335: 1, 403488: 1, 403560: 1, 403641: 1, 403695: 1, 403731: 1, 403848: 1, 403956: 1, 404091: 1, 404172: 1, 404487: 1, 404505: 1, 404514: 2, 404631: 1, 404676: 1, 404901: 1, 405162: 1, 405243: 1, 405351: 1, 405360: 1, 405486: 1, 405738: 1, 405801: 1, 405810: 1, 405954: 1, 406116: 1, 406269: 1, 406287: 1, 406440: 1, 406467: 1, 406539: 1, 406566: 1, 406638: 2, 406746: 1, 406863: 1, 406890: 1, 406917: 1, 406944: 1, 407187: 1, 407196: 1, 407205: 1, 407241: 1, 407313: 1, 407322: 1, 407340: 2, 407475: 2, 407556: 1, 407619: 1, 407754: 1, 407835: 1, 407853: 1, 407934: 1, 407970: 1, 408087: 1, 408186: 1, 408240: 1, 408321: 1, 408357: 1, 408411: 1, 408519: 1, 408609: 1, 408969: 1, 408996: 1, 409113: 1, 409149: 1, 409167: 1, 409248: 1, 409266: 1, 409338: 1, 409383: 1, 409509: 1, 409527: 1, 409626: 1, 409653: 1, 409788: 1, 409959: 1, 409977: 1, 410031: 1, 410058: 1, 410616: 1, 410670: 1, 410679: 1, 410751: 1, 410760: 1, 410778: 1, 411039: 1, 411057: 2, 411075: 1, 411192: 1, 411282: 1, 411363: 1, 411408: 1, 411561: 1, 411660: 1, 411678: 1, 411705: 1, 411795: 1, 411831: 1, 411858: 1, 411876: 2, 412119: 1, 412263: 1, 412425: 1, 412434: 1, 412551: 1, 412569: 1, 412659: 1, 412695: 1, 412857: 1, 412875: 1, 412956: 1, 413082: 1, 413136: 1, 413154: 1, 413172: 1, 413181: 3, 413199: 1, 413343: 2, 413676: 1, 413685: 1, 413829: 1, 413838: 1, 413919: 2, 413928: 1, 414027: 1, 414117: 1, 414198: 1, 414360: 1, 414369: 1, 414459: 1, 414549: 1, 414729: 1, 414756: 1, 414891: 1, 414999: 1, 415008: 1, 415107: 1, 415134: 1, 415206: 1, 415260: 1, 415494: 1, 415737: 1, 415881: 1, 415899: 2, 415926: 1, 416106: 1, 416133: 1, 416187: 1, 416214: 1, 416430: 1, 416502: 1, 416529: 1, 416655: 1, 416664: 1, 416763: 1, 416772: 1, 416835: 1, 416988: 1, 417006: 1, 417042: 1, 417132: 1, 417294: 1, 417357: 1, 417519: 1, 417573: 2, 417600: 1, 417672: 1, 417996: 1, 418158: 1, 418221: 1, 418482: 1, 418509: 1, 418644: 1, 418743: 1, 418914: 1, 419274: 1, 419364: 1, 419400: 1, 419409: 1, 419436: 1, 420012: 1, 420255: 1, 420390: 1, 420453: 1, 420489: 1, 420597: 1, 420624: 1, 420741: 1, 420750: 1, 420804: 1, 420957: 1, 420984: 2, 421092: 2, 421155: 1, 421281: 1, 421299: 1, 421380: 1, 421452: 1, 421560: 2, 421614: 1, 421686: 1, 421785: 1, 421830: 1, 422001: 2, 422073: 1, 422118: 1, 422136: 1, 422208: 1, 422217: 1, 422226: 1, 422280: 1, 422379: 1, 422406: 1, 422433: 1, 422559: 1, 422622: 1, 422631: 1, 422856: 1, 423018: 1, 423045: 1, 423090: 1, 423162: 1, 423270: 1, 423306: 1, 423324: 1, 423369: 1, 423396: 1, 423459: 1, 423603: 1, 423666: 1, 423684: 1, 423936: 1, 423954: 1, 423990: 1, 423999: 1, 424044: 1, 424053: 1, 424170: 1, 424341: 1, 424350: 1, 424368: 1, 424395: 1, 424476: 1, 424494: 1, 424539: 2, 424557: 1, 424782: 1, 424890: 1, 424917: 1, 424980: 1, 425196: 1, 425214: 1, 425268: 1, 425322: 1, 425331: 1, 425349: 1, 425376: 1, 425484: 1, 425511: 1, 425619: 1, 425637: 1, 425799: 1, 426006: 1, 426042: 1, 426069: 1, 426204: 1, 426213: 2, 426312: 1, 426330: 1, 426411: 1, 426420: 1, 426546: 1, 426555: 1, 426564: 1, 426708: 1, 426825: 1, 427068: 1, 427185: 1, 427311: 1, 427392: 1, 427446: 1, 427581: 1, 427626: 1, 427644: 1, 427698: 1, 427707: 1, 427743: 1, 427788: 1, 428013: 1, 428022: 2, 428193: 1, 428292: 1, 428463: 1, 428481: 1, 428526: 1, 428562: 1, 428607: 1, 428625: 1, 428814: 1, 428823: 1, 428877: 1, 428922: 1, 428994: 1, 429174: 1, 429210: 1, 429273: 1, 429318: 1, 429372: 1, 429615: 1, 430236: 2, 430299: 1, 430317: 1, 430362: 1, 430389: 1, 430452: 1, 430479: 1, 430596: 1, 430713: 1, 430830: 1, 430947: 1, 431019: 1, 431127: 1, 431136: 1, 431199: 2, 431217: 1, 431271: 1, 431388: 1, 431415: 1, 431505: 1, 431577: 1, 431595: 1, 431685: 1, 431730: 1, 431748: 1, 431874: 1, 432000: 1, 432009: 1, 432018: 1, 432045: 1, 432099: 1, 432513: 1, 432531: 1, 432549: 1, 432594: 1, 433017: 1, 433206: 1, 433476: 1, 433575: 1, 433629: 1, 433665: 1, 433800: 2, 433944: 1, 434187: 1, 434403: 1, 434457: 1, 434493: 1, 434736: 1, 434745: 1, 435276: 2, 435564: 1, 435735: 1, 436005: 1, 436095: 1, 436149: 1, 436311: 1, 436338: 1, 436365: 1, 436392: 1, 436428: 1, 436500: 1, 436527: 1, 436545: 1, 436626: 1, 436716: 1, 436905: 1, 436995: 1, 437004: 1, 437022: 1, 437283: 1, 437436: 1, 437499: 1, 437598: 1, 437607: 1, 437652: 1, 437850: 1, 437976: 1, 438012: 1, 438066: 1, 438075: 1, 438237: 1, 438291: 1, 438345: 1, 438471: 1, 438588: 1, 438597: 1, 438696: 1, 438795: 1, 438894: 1, 438903: 1, 439065: 1, 439101: 1, 439191: 2, 439443: 2, 439695: 1, 439767: 1, 439992: 1, 440019: 1, 440109: 1, 440244: 1, 440487: 1, 440505: 1, 440577: 1, 440847: 1, 440910: 1, 441126: 1, 441207: 1, 441216: 1, 441306: 1, 441477: 1, 441495: 1, 441504: 1, 441522: 1, 441594: 1, 441927: 1, 441963: 1, 441981: 1, 442017: 1, 442107: 1, 442143: 1, 442152: 1, 442161: 1, 442188: 1, 442287: 1, 442323: 1, 442422: 1, 442530: 2, 442629: 1, 442665: 1, 442674: 1, 442683: 1, 442701: 1, 442836: 1, 442953: 1, 443016: 1, 443070: 1, 443106: 1, 443214: 1, 443232: 1, 443286: 1, 443322: 1, 443331: 1, 443367: 1, 443430: 1, 443457: 1, 443583: 1, 443673: 1, 443700: 1, 443736: 1, 444015: 1, 444096: 1, 444141: 1, 444222: 1, 444240: 1, 444393: 1, 444510: 1, 444519: 1, 444699: 1, 444879: 1, 444951: 1, 445041: 1, 445158: 1, 445185: 1, 445284: 1, 445428: 1, 445455: 1, 445473: 1, 445482: 1, 445626: 1, 445797: 1, 446229: 1, 446292: 1, 446319: 1, 446409: 1, 446607: 1, 446679: 1, 446760: 1, 446796: 1, 446805: 1, 447003: 1, 447021: 1}\n",
      "447102: 1000=1000; {447102: 1, 447111: 1, 447174: 1, 447417: 1, 447543: 1, 447633: 1, 447795: 2, 447957: 1, 447984: 1, 448029: 1, 448218: 1, 448344: 1, 448362: 1, 448425: 1, 448524: 1, 448569: 1, 448650: 1, 448776: 1, 448830: 1, 448884: 1, 449028: 1, 449253: 1, 449406: 2, 449415: 1, 449505: 1, 449586: 1, 449658: 1, 449775: 1, 449820: 2, 450036: 1, 450261: 1, 450279: 1, 450387: 1, 450441: 1, 450504: 1, 450558: 1, 450684: 1, 450720: 1, 451305: 1, 451530: 1, 451539: 1, 451611: 1, 451764: 1, 451854: 2, 451962: 1, 452106: 1, 452133: 1, 452178: 1, 452196: 1, 452232: 1, 452331: 1, 452376: 1, 452385: 1, 452394: 1, 452484: 1, 452565: 1, 452619: 1, 452763: 1, 452772: 1, 452808: 1, 452853: 1, 452898: 1, 452934: 1, 453015: 1, 453024: 1, 453150: 1, 453177: 1, 453195: 1, 453249: 1, 453357: 1, 453366: 1, 453528: 1, 453555: 1, 453600: 1, 453609: 2, 453771: 1, 453780: 1, 453942: 1, 454131: 1, 454356: 1, 454428: 1, 454446: 1, 454581: 1, 454833: 1, 454941: 1, 454968: 1, 455004: 1, 455031: 2, 455112: 1, 455238: 1, 455274: 1, 455382: 1, 455427: 1, 455436: 1, 455463: 1, 455499: 1, 455535: 1, 455571: 1, 455607: 1, 455778: 1, 456129: 1, 456210: 1, 456291: 1, 456318: 1, 456336: 1, 456363: 1, 456489: 1, 456516: 1, 456588: 1, 456606: 1, 456732: 1, 456777: 1, 456858: 1, 457119: 1, 457191: 1, 457344: 1, 457353: 1, 457470: 1, 457488: 1, 457794: 1, 457866: 1, 457884: 1, 457902: 1, 458127: 1, 458145: 1, 458163: 1, 458325: 1, 458334: 1, 458388: 1, 458478: 1, 458487: 1, 458514: 1, 458604: 1, 458631: 1, 458703: 1, 458892: 1, 458910: 1, 458919: 1, 458973: 1, 458982: 1, 459045: 1, 459063: 1, 459423: 1, 459486: 1, 459513: 1, 459531: 1, 459540: 1, 459657: 1, 459702: 1, 459711: 1, 459792: 1, 459810: 1, 459981: 1, 460053: 1, 460116: 1, 460323: 1, 460449: 1, 460593: 1, 460773: 1, 460782: 2, 460791: 1, 460953: 1, 461034: 1, 461043: 1, 461070: 1, 461079: 1, 461232: 1, 461313: 1, 461331: 1, 461430: 1, 461502: 1, 461529: 1, 461574: 1, 461970: 1, 462168: 1, 462213: 1, 462231: 1, 462573: 1, 462663: 1, 462672: 1, 462744: 1, 462843: 1, 462942: 1, 462960: 1, 462996: 1, 463140: 1, 463248: 1, 463284: 2, 463356: 1, 463437: 1, 463455: 1, 463464: 2, 463527: 1, 463572: 1, 463779: 1, 463824: 2, 463851: 1, 463896: 1, 463905: 1, 463977: 1, 464103: 1, 464202: 1, 464364: 1, 464391: 1, 464436: 1, 464517: 1, 464661: 1, 464751: 1, 464940: 1, 464958: 1, 465057: 1, 465129: 1, 465417: 1, 465561: 1, 465804: 1, 465885: 1, 466020: 1, 466074: 1, 466119: 1, 466407: 1, 466434: 1, 466578: 1, 466722: 1, 466920: 1, 467010: 1, 467091: 1, 467235: 1, 467262: 1, 467451: 1, 467505: 1, 467568: 1, 467595: 1, 467757: 1, 467802: 1, 467847: 1, 468009: 1, 468036: 1, 468189: 1, 468207: 1, 468522: 1, 468585: 1, 468612: 1, 468639: 1, 468675: 1, 468711: 1, 468738: 1, 468747: 1, 468765: 1, 468936: 1, 468972: 1, 468999: 1, 469134: 1, 469170: 1, 469224: 1, 469278: 1, 469395: 1, 469467: 1, 469494: 1, 469827: 1, 469845: 1, 470097: 1, 470232: 1, 470403: 1, 470466: 1, 470592: 1, 470610: 1, 470619: 1, 470763: 1, 470997: 2, 471150: 1, 471177: 1, 471267: 1, 471303: 1, 471321: 1, 471348: 1, 471402: 1, 471591: 1, 471708: 1, 471888: 1, 471915: 1, 471933: 1, 472158: 1, 472230: 1, 472239: 1, 472320: 1, 472473: 1, 472509: 1, 472581: 1, 472608: 1, 472644: 1, 472689: 1, 472716: 1, 472734: 1, 473238: 1, 473355: 1, 473382: 1, 473409: 1, 473544: 1, 473562: 1, 473661: 1, 473679: 1, 473805: 1, 473814: 1, 473850: 1, 473949: 1, 474093: 1, 474111: 1, 474147: 1, 474156: 1, 474327: 1, 474399: 1, 474408: 1, 474489: 1, 474606: 1, 474615: 1, 474696: 1, 474723: 1, 474912: 1, 475182: 1, 475209: 1, 475245: 1, 475263: 1, 475434: 1, 475569: 1, 475749: 1, 475875: 1, 475983: 1, 476010: 1, 476082: 1, 476172: 1, 476181: 2, 476343: 1, 476370: 1, 476424: 1, 476469: 1, 476820: 1, 476856: 1, 476919: 1, 476946: 1, 477153: 1, 477270: 1, 477414: 1, 477468: 1, 477486: 1, 477531: 1, 477567: 1, 477585: 1, 477630: 1, 477711: 1, 477918: 1, 478125: 1, 478224: 1, 478413: 1, 478431: 2, 478485: 1, 478575: 1, 478584: 1, 478620: 1, 478710: 1, 478926: 1, 479079: 2, 479115: 1, 479160: 1, 479394: 1, 479439: 1, 479637: 1, 479736: 1, 479754: 1, 479763: 1, 479817: 1, 480294: 1, 480312: 1, 480366: 1, 480429: 1, 480555: 1, 480600: 1, 480870: 1, 480888: 1, 481086: 1, 481095: 1, 481131: 1, 481347: 1, 481365: 1, 481374: 1, 481419: 1, 481428: 1, 481509: 1, 481680: 1, 481878: 1, 481896: 1, 482211: 1, 482364: 1, 482472: 1, 482481: 1, 482562: 1, 482589: 1, 482607: 1, 482616: 1, 483039: 1, 483111: 1, 483192: 1, 483336: 2, 483354: 1, 483372: 1, 483435: 1, 483561: 1, 483651: 1, 483678: 1, 483687: 1, 483885: 1, 483894: 1, 484011: 1, 484290: 1, 484425: 1, 484452: 1, 484641: 1, 484686: 1, 484704: 1, 484713: 1, 484857: 1, 484983: 1, 485127: 2, 485208: 1, 485298: 2, 485343: 1, 485577: 1, 485649: 1, 485748: 1, 485946: 1, 485964: 1, 486027: 1, 486054: 1, 486063: 1, 486153: 1, 486270: 1, 486342: 1, 486369: 1, 486432: 1, 486504: 1, 486576: 2, 486693: 1, 486747: 1, 486828: 1, 487044: 1, 487251: 1, 487260: 1, 487602: 1, 487665: 1, 487764: 2, 487899: 1, 487971: 1, 487980: 1, 488151: 1, 488178: 1, 488187: 1, 488250: 1, 488349: 1, 488538: 1, 488817: 1, 488826: 1, 489087: 1, 489303: 1, 489429: 1, 489456: 1, 489519: 1, 489528: 1, 489753: 1, 489780: 1, 489915: 1, 489924: 1, 490185: 1, 490383: 1, 490437: 1, 490761: 1, 490842: 1, 490878: 1, 490959: 1, 490986: 1, 491004: 1, 491040: 1, 491310: 1, 491319: 1, 491400: 1, 491472: 1, 491670: 1, 491715: 1, 491832: 1, 491904: 1, 491922: 1, 492030: 1, 492084: 1, 492093: 1, 492282: 1, 492354: 1, 492498: 1, 492750: 1, 492804: 2, 492822: 1, 493020: 1, 493245: 1, 493443: 1, 493596: 2, 493695: 1, 493956: 1, 493983: 1, 494037: 1, 494136: 1, 494145: 1, 494271: 1, 494334: 2, 494388: 1, 494451: 1, 494766: 1, 494829: 1, 494838: 1, 494901: 1, 495009: 1, 495225: 1, 495324: 1, 495378: 1, 495450: 1, 495477: 1, 495486: 1, 495495: 1, 495531: 2, 495549: 1, 495801: 1, 495954: 1, 495981: 1, 496215: 1, 496233: 1, 496368: 1, 496422: 1, 496701: 1, 496755: 1, 496971: 1, 497070: 1, 497124: 1, 497376: 1, 497754: 1, 497763: 1, 497772: 1, 497835: 1, 498168: 1, 498276: 1, 498321: 1, 498465: 1, 498636: 1, 498699: 1, 498762: 1, 498798: 1, 498807: 1, 498825: 1, 499041: 1, 499140: 1, 499248: 1, 499302: 1, 499410: 1, 499680: 1, 499689: 1, 499716: 1, 499995: 1, 500049: 1, 500058: 1, 500076: 1, 500382: 1, 500436: 1, 500544: 1, 500643: 1, 500661: 1, 500706: 1, 500742: 1, 500814: 1, 500841: 1, 500859: 1, 500931: 1, 500994: 1, 501291: 1, 501363: 1, 501381: 1, 501444: 1, 501651: 1, 501813: 1, 501912: 2, 502416: 1, 502452: 1, 502686: 1, 502749: 1, 502821: 1, 502911: 1, 502983: 1, 503073: 2, 503145: 2, 503163: 1, 503253: 1, 503289: 1, 503307: 1, 503469: 1, 503568: 2, 503577: 1, 503640: 1, 503730: 1, 503802: 2, 503829: 1, 503946: 1, 504036: 1, 504054: 1, 504135: 1, 504216: 1, 504405: 1, 504423: 1, 504432: 1, 504450: 1, 504477: 2, 504666: 1, 505296: 1, 505368: 1, 505440: 1, 505575: 1, 505629: 1, 505674: 1, 505962: 1, 506097: 1, 506142: 1, 506268: 1, 506286: 1, 506520: 1, 506736: 1, 506763: 1, 506781: 1, 506808: 1, 506988: 1, 507060: 1, 507114: 1, 507204: 1, 507285: 1, 507375: 1, 507519: 1, 507555: 1, 507663: 1, 507690: 1, 507816: 1, 507861: 1, 507906: 1, 508005: 1, 508140: 1, 508194: 1, 508230: 1, 508284: 1, 508311: 1, 508401: 1, 508437: 1, 508464: 1, 508563: 1, 508662: 1, 508950: 1, 508959: 1, 509058: 1, 509193: 1, 509409: 1, 509643: 1, 509679: 1, 509805: 1, 510057: 1, 510075: 1, 510228: 1, 510255: 1, 510264: 1, 510282: 1, 510300: 1, 510615: 1, 510921: 1, 510984: 1, 511002: 1, 511029: 1, 511191: 1, 511461: 1, 511479: 1, 511686: 1, 511713: 1, 512001: 1, 512010: 1, 512019: 1, 512118: 1, 512145: 1, 512235: 1, 512388: 1, 512712: 1, 512766: 1, 512784: 1, 512946: 1, 513027: 1, 513090: 1, 513135: 1, 513171: 1, 513216: 2, 513234: 2, 513378: 1, 513486: 1, 513639: 1, 513675: 1, 513693: 1, 513729: 1, 513774: 1, 513846: 1, 514035: 1, 514161: 1, 514215: 1, 514242: 1, 514305: 1, 514323: 1, 514332: 1, 514395: 1, 514413: 1, 514440: 2, 514683: 1, 514755: 1, 514809: 1, 514926: 1, 514980: 1, 515205: 1, 515322: 1, 515421: 1, 515439: 1, 515493: 1, 515736: 1, 515961: 1, 515979: 1, 516096: 1, 516114: 1, 516249: 1, 516267: 1, 516276: 1, 516312: 1, 516492: 1, 516582: 1, 516681: 1, 516753: 1, 516807: 1, 516825: 1, 516843: 1, 516978: 1, 516996: 1, 517095: 1, 517122: 1, 517320: 1, 517365: 1, 517374: 1, 517464: 1, 517473: 1, 517536: 1, 517707: 1, 517725: 1, 517743: 1, 517779: 1, 517815: 1, 517833: 1, 517986: 1, 518076: 1, 518139: 1, 518166: 1, 518193: 1, 518202: 1, 518247: 1, 518346: 1, 518454: 1, 518481: 1, 518535: 1, 518571: 1, 518643: 1, 518652: 1, 518778: 1, 518796: 1, 518832: 1, 518850: 1, 518886: 1, 518940: 1, 519138: 1, 519291: 1, 519300: 1, 519309: 1, 519408: 1, 519480: 1, 519498: 1, 519588: 1, 519597: 1, 519651: 1, 519723: 1, 519741: 1, 519750: 1, 519768: 2, 519795: 1, 519849: 1, 519867: 1, 519912: 1, 520011: 1, 520236: 1, 520263: 1, 520443: 1, 520542: 1, 520605: 2, 520704: 1, 520767: 1, 520848: 1, 520938: 1, 520956: 1, 521046: 2, 521055: 1, 521109: 1, 521424: 1, 521631: 1, 521730: 1, 521784: 1, 521802: 1, 521829: 1, 521847: 1, 521874: 1, 521964: 2, 522018: 1, 522054: 1, 522081: 1, 522333: 1, 522459: 1, 522558: 1, 522603: 1, 522729: 1, 522783: 1, 522792: 1, 522828: 1, 522891: 1, 522936: 1, 522963: 1, 522972: 1, 523035: 1, 523071: 1, 523089: 1, 523206: 1, 523233: 1, 523350: 1, 523377: 1, 523629: 1, 523746: 1, 523791: 1, 524034: 1, 524196: 1, 524349: 1, 524502: 1, 524520: 1, 524592: 1, 524700: 1, 524718: 2, 524727: 1, 524799: 1, 524871: 1, 524943: 1, 525114: 1, 525348: 1, 525501: 1, 525519: 1, 525573: 1, 525582: 1, 525609: 1, 525681: 1, 525789: 1, 525879: 1, 525915: 1, 525924: 1, 525969: 1, 526194: 1, 526212: 1, 526626: 2, 526707: 1, 526734: 1, 526833: 1, 526842: 1, 526860: 1, 526869: 1, 526968: 1, 527013: 1, 527049: 1, 527067: 1, 527085: 1, 527184: 1, 527319: 1, 527427: 2, 527436: 1, 527499: 1, 527535: 1, 527796: 1, 527859: 1, 527922: 1, 527985: 1, 528003: 1, 528192: 1, 528345: 1, 528381: 1, 528732: 1, 528858: 1, 528930: 1, 529083: 1, 529254: 1, 529290: 1, 529389: 2, 529434: 1, 529470: 1, 529506: 2, 529515: 1, 529623: 1, 529695: 1, 529731: 1, 530010: 1, 530154: 1, 530199: 1, 530361: 1, 530415: 1, 530514: 1, 530631: 1, 530802: 1, 530829: 1, 530910: 1, 530946: 1, 531099: 1, 531288: 1, 531369: 1, 531450: 1, 531504: 1, 531612: 1, 531639: 1, 531702: 1, 531729: 1, 531873: 1, 531882: 1, 531972: 1, 532098: 1, 532134: 1, 532143: 2, 532179: 1, 532260: 1, 532296: 1, 532386: 1, 532476: 1, 532584: 1, 532593: 1, 532701: 1, 532890: 1, 533088: 1, 533133: 1, 533205: 1, 533241: 1, 533286: 1, 533943: 2, 534051: 1, 534114: 1, 534195: 1, 534366: 1, 534447: 2}\n",
      "534654: 1000=1000; {534654: 1, 534744: 1, 534807: 1, 534870: 1, 534951: 1, 535005: 1, 535023: 1, 535626: 1, 535671: 1, 535761: 1, 535815: 1, 535833: 2, 536049: 1, 536391: 1, 536409: 1, 536508: 1, 536544: 1, 536625: 1, 536688: 1, 536715: 1, 536742: 1, 536760: 2, 536814: 1, 536913: 1, 537021: 1, 537273: 1, 537354: 1, 537453: 1, 537462: 1, 537489: 1, 537543: 1, 537561: 1, 537669: 1, 537858: 1, 537948: 1, 537966: 1, 538200: 1, 538344: 1, 538362: 2, 538380: 1, 538497: 1, 538641: 1, 538911: 1, 538929: 1, 539073: 1, 539109: 1, 539316: 1, 539334: 1, 539406: 1, 539415: 1, 539523: 1, 539622: 1, 539649: 1, 539658: 1, 539946: 1, 540027: 1, 540072: 1, 540189: 1, 540342: 1, 540468: 1, 540486: 1, 540549: 1, 540846: 2, 540909: 1, 541161: 1, 541323: 1, 541413: 1, 541602: 1, 541647: 1, 541755: 2, 541773: 1, 541953: 1, 542070: 1, 542169: 1, 542205: 1, 542223: 1, 542277: 1, 542313: 1, 542673: 1, 542772: 1, 542862: 1, 543087: 1, 543096: 1, 543213: 1, 543402: 1, 543429: 1, 543717: 1, 543780: 1, 543834: 1, 543978: 1, 544230: 1, 544266: 1, 544347: 1, 544356: 1, 544455: 1, 544608: 2, 544770: 1, 544860: 1, 544896: 1, 544995: 1, 545040: 1, 545220: 2, 545265: 1, 545274: 1, 545364: 1, 545400: 1, 545472: 1, 545616: 1, 545940: 1, 545967: 1, 546453: 1, 546552: 1, 546579: 1, 546624: 2, 546714: 1, 546723: 1, 547227: 1, 547290: 1, 547434: 1, 547461: 1, 547578: 1, 547623: 1, 547677: 1, 547704: 1, 547740: 1, 547812: 1, 548064: 1, 548127: 1, 548217: 1, 548235: 2, 548298: 1, 548307: 1, 548334: 1, 548370: 1, 548388: 1, 548523: 1, 548676: 1, 548685: 1, 548703: 1, 548757: 1, 548775: 1, 548910: 1, 548973: 1, 548982: 2, 549054: 1, 549216: 1, 549270: 1, 549477: 1, 549612: 1, 549909: 1, 549963: 1, 550008: 1, 550026: 1, 550080: 1, 550098: 1, 550125: 1, 550224: 1, 550260: 1, 550341: 1, 550476: 1, 550485: 1, 550656: 2, 550674: 1, 550755: 1, 550899: 1, 551025: 1, 551133: 1, 551232: 1, 551295: 1, 551367: 1, 551502: 1, 551511: 1, 551628: 1, 551754: 1, 551763: 1, 551880: 1, 552141: 1, 552186: 2, 552195: 1, 552213: 1, 552231: 1, 552348: 2, 552366: 1, 552411: 1, 552789: 1, 552843: 1, 552996: 2, 553338: 1, 553446: 1, 553572: 2, 553833: 1, 553923: 1, 554031: 1, 554202: 1, 554310: 1, 554337: 1, 554364: 1, 554400: 1, 554409: 1, 554490: 1, 554616: 1, 554742: 1, 554769: 1, 554796: 2, 554922: 1, 555039: 1, 555264: 1, 555462: 3, 555498: 2, 555597: 1, 555651: 1, 555723: 1, 555741: 1, 555894: 1, 556002: 1, 556074: 1, 556083: 1, 556227: 2, 556245: 1, 556254: 1, 556515: 1, 556524: 1, 556560: 1, 556857: 1, 557235: 1, 557262: 1, 557451: 1, 557559: 1, 557685: 2, 557775: 1, 557892: 1, 557955: 1, 558180: 1, 558261: 1, 558306: 1, 558441: 1, 558513: 1, 558702: 1, 558729: 1, 558756: 1, 559071: 1, 559323: 1, 559332: 1, 559413: 1, 559692: 1, 559755: 1, 559890: 1, 559962: 1, 559980: 1, 560052: 1, 560403: 1, 560430: 1, 560583: 1, 560592: 2, 560601: 1, 560610: 1, 560637: 1, 560673: 1, 560700: 1, 560736: 1, 560763: 2, 560934: 1, 561033: 1, 561051: 1, 561339: 1, 561393: 1, 561447: 1, 561483: 1, 561501: 1, 561672: 1, 561888: 1, 562014: 1, 562059: 1, 562131: 1, 562158: 1, 562167: 1, 562239: 1, 562455: 1, 562464: 1, 562662: 1, 562671: 1, 562779: 1, 562887: 1, 563004: 1, 563049: 1, 563076: 1, 563112: 1, 563121: 2, 563202: 1, 563454: 1, 563499: 1, 563508: 1, 563535: 1, 563778: 1, 563940: 1, 563949: 1, 564246: 1, 564390: 1, 564444: 1, 564516: 1, 564624: 1, 564876: 1, 565011: 1, 565056: 1, 565074: 1, 565164: 1, 565317: 1, 565353: 1, 565362: 1, 565506: 1, 565578: 1, 565596: 1, 565677: 1, 565695: 1, 565713: 1, 566046: 1, 566064: 1, 566073: 1, 566136: 1, 566217: 1, 566235: 2, 566271: 1, 566298: 1, 566613: 1, 566721: 1, 566757: 1, 566793: 1, 566838: 1, 566883: 1, 566991: 2, 567180: 1, 567189: 1, 567405: 1, 567477: 1, 567576: 1, 567711: 1, 567828: 1, 567855: 1, 567936: 1, 568017: 1, 568080: 1, 568116: 1, 568188: 1, 568197: 1, 568512: 1, 568575: 1, 568593: 1, 568611: 1, 568719: 1, 568818: 1, 569097: 2, 569133: 1, 569160: 1, 569232: 1, 569313: 1, 569421: 1, 569646: 1, 569835: 1, 569862: 1, 569907: 1, 569979: 1, 570069: 1, 570123: 1, 570294: 1, 570339: 1, 570384: 1, 570483: 1, 570510: 1, 570528: 1, 570573: 1, 570636: 1, 570681: 1, 570924: 1, 570969: 1, 571122: 1, 571275: 1, 571500: 1, 571725: 1, 571743: 1, 571932: 1, 572022: 1, 572085: 1, 572166: 1, 572175: 1, 572211: 1, 572238: 1, 572328: 1, 572337: 1, 572355: 1, 572544: 1, 572670: 1, 572787: 1, 572841: 1, 572949: 1, 573003: 1, 573075: 1, 573165: 1, 573291: 1, 573345: 1, 573381: 1, 573417: 1, 573480: 1, 573615: 1, 573678: 1, 573903: 1, 573957: 1, 574155: 2, 574182: 1, 574209: 1, 574452: 1, 574731: 1, 574875: 1, 574920: 1, 575019: 1, 575046: 1, 575181: 1, 575199: 1, 575244: 1, 575316: 1, 575478: 1, 575856: 1, 575892: 1, 575955: 1, 576099: 1, 576171: 1, 576270: 1, 576342: 1, 576360: 1, 576468: 1, 576711: 1, 576765: 1, 576846: 1, 576954: 1, 577017: 1, 577125: 1, 577170: 1, 577215: 1, 577323: 1, 577485: 1, 577638: 1, 577800: 1, 577962: 1, 577971: 1, 578007: 1, 578097: 1, 578115: 1, 578205: 1, 578376: 1, 578421: 2, 578439: 1, 578484: 1, 578610: 1, 578817: 1, 578844: 1, 578943: 1, 579186: 1, 579240: 1, 579321: 1, 579357: 1, 579483: 1, 579528: 1, 579591: 1, 579672: 1, 579762: 1, 579834: 2, 579861: 1, 579987: 1, 580149: 1, 580167: 1, 580176: 1, 580212: 1, 580302: 1, 580410: 1, 580563: 1, 580608: 1, 580716: 1, 580725: 1, 580734: 1, 580761: 1, 581103: 1, 581220: 1, 581247: 1, 581265: 1, 581301: 1, 581445: 1, 581490: 1, 581625: 1, 581661: 1, 581787: 1, 581823: 1, 581868: 1, 581958: 1, 582021: 1, 582147: 1, 582156: 1, 582165: 1, 582201: 1, 582264: 1, 582462: 1, 582498: 1, 582507: 1, 582669: 1, 582687: 1, 582921: 1, 582975: 1, 582993: 1, 583038: 1, 583065: 1, 583209: 1, 583335: 1, 583758: 1, 583830: 1, 583857: 1, 583902: 1, 584154: 1, 584226: 1, 584271: 1, 584352: 1, 584361: 1, 584595: 1, 584703: 1, 584721: 1, 584757: 1, 584964: 1, 584973: 1, 585054: 1, 585126: 1, 585225: 1, 585279: 1, 585504: 1, 585603: 1, 585819: 1, 585990: 1, 586017: 1, 586395: 1, 586431: 1, 586440: 1, 586620: 1, 586629: 1, 586701: 1, 586710: 2, 586737: 1, 586818: 1, 587061: 1, 587259: 1, 587331: 1, 587367: 1, 587376: 1, 587457: 1, 587583: 1, 587610: 1, 587628: 1, 587727: 1, 587853: 1, 587889: 1, 588042: 1, 588069: 1, 588132: 1, 588303: 1, 588402: 1, 588420: 1, 588618: 1, 588654: 1, 588681: 1, 588753: 1, 588798: 1, 588879: 1, 589032: 1, 589149: 1, 589257: 1, 589311: 1, 589464: 1, 589473: 1, 589491: 1, 589608: 1, 589716: 1, 589725: 1, 589752: 1, 589797: 1, 589896: 1, 589977: 1, 590067: 1, 590139: 1, 590355: 1, 590364: 1, 590445: 1, 590490: 1, 590508: 1, 590580: 1, 590616: 1, 590724: 1, 590841: 1, 590886: 1, 590931: 1, 591012: 1, 591075: 1, 591156: 1, 591237: 1, 591327: 1, 591768: 1, 591840: 2, 592083: 1, 592191: 1, 592362: 1, 592389: 1, 592488: 1, 592515: 1, 592524: 1, 592632: 1, 592767: 1, 592794: 1, 592821: 1, 592857: 2, 592992: 1, 593028: 1, 593226: 1, 593424: 1, 593460: 1, 593532: 2, 593577: 1, 593694: 1, 593820: 1, 593829: 1, 593937: 1, 593973: 1, 593982: 2, 593991: 1, 594072: 1, 594099: 1, 594135: 1, 594225: 1, 594405: 1, 594603: 1, 594711: 1, 594774: 1, 594810: 1, 594954: 1, 595053: 1, 595062: 1, 595080: 1, 595161: 1, 595233: 1, 595368: 1, 595503: 1, 595935: 1, 595962: 1, 596034: 1, 596052: 1, 596232: 1, 596772: 1, 596925: 1, 596943: 1, 597033: 1, 597231: 1, 597420: 1, 597519: 1, 597528: 1, 597654: 1, 597681: 1, 597807: 1, 597843: 1, 597870: 1, 597969: 1, 598104: 1, 598131: 1, 598149: 1, 598176: 1, 598203: 1, 598266: 1, 598446: 1, 598482: 1, 598536: 1, 598590: 1, 598734: 1, 598743: 1, 598761: 1, 598842: 1, 598851: 1, 598896: 1, 599319: 1, 599337: 1, 599463: 1, 599481: 1, 599526: 1, 599607: 1, 599616: 1, 599769: 1, 599805: 1, 599931: 1, 600030: 1, 600057: 1, 600435: 1, 600453: 1, 600471: 1, 600561: 1, 600876: 1, 600975: 1, 601011: 1, 601056: 1, 601074: 1, 601101: 1, 601344: 1, 601353: 1, 601425: 1, 601569: 1, 601875: 1, 601920: 1, 601947: 1, 601956: 2, 602172: 1, 602262: 1, 602469: 1, 602523: 1, 602532: 1, 602712: 1, 602829: 2, 602892: 1, 602946: 2, 603072: 1, 603540: 1, 603603: 1, 603675: 1, 603819: 1, 603882: 1, 604008: 2, 604053: 1, 604089: 1, 604332: 1, 604467: 1, 604638: 1, 604647: 1, 604719: 1, 604890: 1, 604917: 1, 604944: 1, 605151: 1, 605304: 1, 605349: 1, 605457: 1, 605502: 1, 605655: 1, 605853: 1, 605871: 2, 606258: 1, 606312: 1, 606366: 1, 606456: 1, 606582: 1, 606690: 1, 606834: 1, 606942: 1, 606969: 1, 607023: 1, 607032: 1, 607077: 1, 607140: 1, 607167: 1, 607176: 1, 607329: 1, 607401: 1, 607500: 2, 607806: 1, 607923: 2, 607932: 1, 607968: 2, 608004: 1, 608103: 1, 608238: 1, 608589: 1, 608625: 1, 608661: 1, 608805: 1, 608850: 1, 608859: 1, 609237: 1, 609291: 1, 609624: 1, 609975: 1, 610029: 1, 610065: 1, 610137: 1, 610200: 1, 610263: 1, 610389: 1, 610587: 1, 610632: 1, 610695: 1, 610731: 1, 610866: 1, 610875: 1, 610947: 1, 610992: 1, 611199: 1, 611460: 1, 611469: 1, 611505: 1, 611613: 1, 611739: 1, 611937: 1, 611946: 1, 612009: 1, 612072: 1, 612153: 1, 612189: 1, 612243: 1, 612297: 1, 612342: 1, 612351: 1, 612369: 1, 612693: 1, 613035: 1, 613053: 1, 613260: 1, 613530: 1, 613548: 1, 613620: 1, 613629: 1, 613647: 1, 613818: 1, 613827: 1, 613971: 1, 614106: 1, 614268: 1, 614430: 1, 614439: 1, 614457: 1, 614466: 1, 614547: 1, 614565: 1, 614673: 1, 614700: 2, 614718: 1, 614736: 1, 615078: 1, 615087: 1, 615231: 1, 615240: 1, 615258: 1, 615348: 1, 615591: 2, 615654: 1, 615663: 1, 615699: 1, 615717: 1, 615726: 1, 615807: 1, 615834: 1, 615879: 1, 615906: 1, 615951: 1, 616248: 1, 616293: 1, 616365: 1, 616482: 1, 616626: 1, 616644: 1, 616734: 1, 616743: 1, 616869: 1, 616968: 1, 616977: 1, 617085: 1, 617238: 1, 617247: 1, 617310: 1, 617337: 1, 617409: 1, 617436: 1, 617499: 1, 617508: 1, 617526: 1, 617598: 1, 617607: 1, 617643: 1, 617688: 1, 617733: 1, 617823: 1, 617832: 2, 617877: 1, 618039: 1, 618057: 1, 618138: 1, 618228: 1, 618291: 1, 618354: 1, 618471: 1, 618669: 1, 618849: 1, 619047: 1, 619101: 1, 619200: 1, 619308: 1, 619389: 1, 619452: 1, 619542: 1, 619578: 1, 619857: 1, 619947: 1, 620145: 1, 620244: 1, 620388: 1, 620685: 1, 620784: 2, 620802: 1, 621135: 1, 621144: 1, 621198: 1, 621297: 1, 621414: 1, 621666: 1, 621684: 1, 621702: 1, 621729: 1, 621828: 1, 621963: 1, 622080: 1, 622125: 1, 622134: 1, 622296: 1, 622323: 1, 622359: 1, 622467: 1, 622566: 1, 622620: 1, 622728: 2, 622809: 1, 622971: 2, 622989: 2, 623115: 1, 623142: 1, 623205: 1, 623439: 1, 623619: 1, 623682: 1, 623754: 1, 623826: 1, 623835: 1, 623970: 1, 624177: 1, 624258: 2, 624447: 1, 624519: 1, 624546: 1, 624654: 1, 625158: 1, 625212: 1, 625329: 1, 625545: 1, 625653: 1}\n",
      "625707: 999=999; {625707: 2, 625851: 1, 626175: 1, 626211: 1, 626220: 1, 626256: 2, 626283: 1, 626526: 1, 626598: 1, 626706: 1, 626751: 1, 626976: 1, 627012: 1, 627048: 2, 627057: 1, 627255: 1, 627264: 1, 627732: 2, 627786: 1, 627822: 1, 627930: 1, 627966: 1, 628038: 1, 628083: 1, 628110: 1, 628263: 1, 628416: 1, 628506: 1, 628551: 1, 628713: 1, 628866: 1, 628947: 1, 628992: 1, 629028: 1, 629037: 1, 629064: 1, 629109: 2, 629136: 1, 629325: 1, 629361: 1, 629442: 2, 629478: 1, 629613: 1, 629739: 1, 629748: 1, 629865: 1, 629919: 1, 630090: 1, 630144: 1, 630252: 2, 630378: 1, 630387: 1, 630468: 1, 630495: 2, 630873: 1, 631017: 1, 631044: 1, 631233: 1, 631242: 1, 631359: 1, 631458: 1, 631638: 1, 631809: 1, 631881: 1, 631971: 1, 631989: 1, 632295: 1, 632367: 1, 632385: 1, 632655: 1, 632673: 1, 632718: 1, 632781: 1, 632835: 1, 632889: 1, 633240: 2, 633474: 1, 633483: 1, 633690: 1, 633942: 1, 633996: 1, 634077: 1, 634221: 1, 634230: 1, 634293: 1, 634446: 1, 634563: 1, 634635: 1, 634734: 1, 634743: 1, 634869: 1, 635031: 1, 635157: 1, 635319: 1, 635328: 1, 635337: 1, 635355: 1, 635391: 1, 635400: 1, 635427: 1, 635517: 1, 635643: 1, 635724: 2, 635751: 1, 635886: 1, 635994: 1, 636147: 1, 636453: 1, 636462: 1, 636489: 1, 636633: 1, 636642: 1, 636660: 1, 636714: 1, 636840: 1, 636912: 1, 636930: 1, 637155: 1, 637173: 1, 637326: 1, 637344: 1, 637380: 1, 637578: 1, 637587: 1, 637641: 1, 637884: 1, 638001: 1, 638109: 1, 638154: 1, 638163: 1, 638226: 1, 638253: 1, 638289: 1, 638415: 1, 638712: 1, 638793: 1, 638829: 1, 639225: 1, 639243: 1, 639333: 1, 639387: 1, 639594: 2, 639756: 1, 639900: 1, 639936: 1, 639981: 1, 640116: 1, 640134: 1, 640278: 1, 640332: 1, 640620: 1, 640629: 1, 640638: 1, 640674: 1, 640746: 1, 640773: 1, 640953: 1, 641106: 1, 641124: 1, 641169: 1, 641277: 2, 641304: 1, 641394: 1, 641457: 1, 641466: 1, 641511: 2, 641574: 1, 641817: 1, 641853: 1, 642069: 1, 642393: 1, 642429: 1, 642618: 1, 642771: 1, 642780: 2, 642816: 1, 642843: 1, 642915: 1, 642969: 1, 643140: 1, 643167: 1, 643266: 1, 643329: 1, 643347: 1, 643725: 1, 643752: 1, 643797: 1, 643923: 1, 643968: 1, 643995: 1, 644022: 1, 644058: 1, 644094: 1, 644121: 1, 644130: 1, 644157: 1, 644247: 1, 644301: 1, 644400: 1, 644463: 1, 644688: 1, 644724: 1, 644733: 1, 644787: 1, 644832: 1, 644877: 1, 644886: 1, 644940: 1, 644958: 1, 644985: 1, 645021: 1, 645192: 1, 645237: 1, 645246: 1, 645264: 1, 645300: 1, 645309: 1, 645345: 1, 645507: 1, 645543: 1, 645786: 1, 645939: 1, 646038: 1, 646137: 1, 646416: 1, 646443: 1, 646551: 1, 646641: 1, 646722: 1, 646884: 2, 646974: 1, 647046: 1, 647118: 1, 647172: 1, 647307: 1, 647325: 1, 647442: 1, 647595: 1, 647613: 1, 647757: 1, 647928: 1, 648270: 1, 648441: 1, 648765: 1, 648801: 1, 648828: 1, 649080: 1, 649305: 1, 649440: 1, 649494: 1, 649530: 1, 649683: 1, 649791: 1, 649845: 1, 649962: 1, 649989: 1, 650115: 1, 650160: 1, 650214: 1, 650349: 1, 650385: 1, 650493: 1, 650574: 1, 650637: 1, 650673: 1, 650781: 1, 650790: 1, 651024: 1, 651033: 1, 651177: 1, 651186: 1, 651348: 1, 651438: 1, 651501: 1, 651654: 1, 651717: 1, 651789: 1, 651870: 1, 651906: 1, 651969: 1, 652023: 1, 652095: 1, 652149: 1, 652230: 1, 652374: 1, 652509: 1, 652599: 1, 652662: 1, 653058: 1, 653238: 1, 653292: 1, 653472: 1, 653544: 1, 653733: 1, 653823: 1, 653931: 1, 654075: 1, 654129: 1, 654228: 1, 654561: 1, 654597: 1, 654876: 1, 655047: 1, 655209: 1, 655524: 1, 655641: 1, 655650: 1, 655659: 1, 655749: 1, 655857: 1, 656037: 1, 656064: 1, 656226: 1, 656532: 2, 656550: 1, 656631: 1, 656712: 1, 656775: 1, 656838: 1, 656847: 1, 656874: 1, 656982: 1, 657000: 1, 657063: 1, 657099: 1, 657162: 1, 657531: 1, 657783: 1, 657792: 1, 657846: 1, 657981: 1, 658008: 2, 658035: 1, 658179: 1, 658449: 1, 658530: 1, 658566: 1, 658602: 1, 658611: 1, 658620: 1, 658656: 1, 658710: 1, 658728: 1, 658737: 1, 658746: 1, 658800: 1, 659187: 1, 659466: 1, 659493: 1, 659718: 1, 659763: 1, 659799: 1, 659835: 1, 659862: 1, 659871: 1, 659889: 1, 660024: 1, 660087: 1, 660132: 1, 660177: 1, 660222: 1, 660357: 1, 660492: 1, 660528: 1, 660609: 1, 660690: 1, 660762: 1, 660879: 1, 661023: 1, 661059: 1, 661113: 1, 661140: 1, 661194: 1, 661203: 1, 661410: 1, 661626: 1, 661707: 1, 661932: 1, 661977: 1, 662157: 1, 662382: 1, 662544: 1, 662598: 1, 662607: 1, 662670: 1, 662832: 1, 662868: 1, 663021: 1, 663147: 1, 663156: 1, 663174: 1, 663390: 1, 663426: 1, 663525: 1, 663606: 1, 663696: 1, 663993: 1, 664020: 1, 664029: 1, 664056: 1, 664119: 1, 664236: 1, 664281: 1, 664326: 1, 664380: 2, 664569: 1, 664713: 1, 664776: 1, 664794: 1, 664857: 1, 665055: 1, 665145: 2, 665172: 1, 665208: 1, 665226: 1, 665280: 1, 665379: 1, 665415: 1, 665433: 1, 665451: 1, 665505: 1, 665622: 1, 665775: 1, 665856: 1, 665892: 1, 666009: 1, 666288: 1, 666306: 1, 666378: 1, 666387: 1, 666459: 2, 666756: 1, 667062: 1, 667170: 1, 667233: 1, 667305: 1, 667458: 1, 667872: 1, 667881: 1, 667989: 1, 668214: 1, 668232: 1, 668367: 1, 668385: 2, 668394: 1, 668574: 1, 668700: 1, 668754: 1, 668781: 1, 668889: 1, 669105: 1, 669258: 1, 669312: 1, 669330: 1, 669447: 1, 669456: 1, 669528: 1, 669564: 1, 669672: 1, 669798: 1, 669942: 1, 670086: 1, 670230: 1, 670266: 1, 670275: 1, 670293: 2, 670383: 1, 670473: 1, 670635: 1, 670644: 1, 670680: 1, 670707: 1, 670788: 1, 670869: 2, 670977: 1, 671049: 1, 671211: 1, 671274: 1, 671310: 1, 671391: 1, 671616: 1, 671805: 1, 671886: 1, 671904: 1, 671967: 1, 671985: 1, 672057: 1, 672174: 1, 672183: 1, 672210: 1, 672255: 1, 672381: 1, 672417: 1, 672498: 1, 672579: 1, 672624: 1, 672705: 1, 672804: 1, 672948: 1, 673092: 1, 673110: 1, 673380: 1, 673407: 1, 673443: 1, 673452: 1, 673632: 1, 673776: 1, 673848: 1, 673992: 2, 674055: 1, 674100: 1, 674145: 1, 674181: 1, 674208: 1, 674244: 1, 674388: 1, 674568: 1, 674667: 1, 674784: 1, 675189: 1, 675306: 1, 675423: 1, 675468: 1, 675612: 1, 675792: 1, 676053: 1, 676143: 1, 676332: 1, 676494: 1, 676611: 1, 676701: 1, 676872: 1, 676890: 1, 677169: 1, 677205: 1, 677277: 1, 677286: 1, 677331: 1, 677367: 1, 677376: 1, 677430: 2, 677475: 1, 677493: 1, 677592: 1, 677601: 1, 677655: 1, 677943: 2, 678195: 1, 678240: 1, 678402: 1, 678429: 1, 678465: 1, 678942: 1, 678951: 1, 679041: 1, 679050: 1, 679131: 1, 679248: 1, 679527: 1, 679599: 1, 679608: 2, 679698: 1, 679779: 1, 679851: 1, 680103: 1, 680184: 1, 680229: 1, 680256: 1, 680661: 1, 680715: 1, 680742: 1, 680796: 1, 681120: 1, 681192: 1, 681210: 1, 681246: 1, 681309: 1, 681363: 1, 681408: 1, 681687: 1, 681768: 1, 681831: 1, 681867: 1, 681912: 1, 681930: 1, 682254: 1, 682281: 1, 682515: 1, 682650: 1, 682686: 1, 682866: 1, 682947: 1, 683127: 1, 683226: 1, 683379: 1, 683577: 1, 683604: 1, 683703: 1, 683775: 1, 683874: 1, 683928: 1, 683937: 1, 684036: 1, 684126: 1, 684144: 1, 684243: 1, 684252: 1, 684333: 1, 684486: 1, 684522: 1, 684558: 1, 684810: 1, 684990: 1, 685017: 1, 685071: 1, 685125: 1, 685170: 1, 685197: 2, 685251: 1, 685269: 1, 685278: 1, 685377: 1, 685431: 1, 685476: 1, 685638: 1, 685737: 1, 685773: 1, 685998: 1, 686151: 1, 686178: 1, 686295: 1, 686313: 1, 686538: 1, 686718: 1, 686736: 1, 686745: 1, 686979: 1, 687006: 1, 687051: 1, 687078: 1, 687195: 2, 687222: 1, 687240: 1, 687564: 1, 687762: 1, 687996: 1, 688005: 1, 688014: 1, 688113: 1, 688266: 1, 688329: 1, 688446: 1, 688482: 1, 688599: 1, 688653: 1, 688734: 1, 688779: 1, 688878: 1, 688905: 1, 689103: 1, 689157: 1, 689238: 1, 689292: 1, 689382: 1, 689481: 1, 689553: 1, 689715: 1, 689796: 1, 689850: 1, 689859: 1, 690318: 1, 690381: 1, 690390: 1, 690543: 1, 690561: 1, 690579: 1, 690588: 1, 690633: 1, 690678: 1, 690768: 1, 690813: 1, 690831: 1, 690903: 1, 690948: 1, 690993: 1, 691029: 2, 691173: 1, 691308: 1, 691425: 1, 691470: 2, 691506: 1, 691803: 1, 691884: 1, 691902: 1, 691983: 1, 692100: 1, 692163: 1, 692235: 1, 692325: 1, 692568: 1, 692739: 1, 692784: 1, 692793: 2, 692820: 1, 692901: 2, 692955: 1, 693054: 2, 693216: 1, 693315: 1, 693324: 1, 693684: 1, 693747: 1, 693756: 1, 693810: 1, 693999: 1, 694125: 1, 694233: 1, 694242: 1, 694287: 1, 694359: 1, 694557: 1, 694611: 1, 694674: 1, 694728: 1, 694809: 1, 694818: 1, 695223: 1, 695232: 1, 695286: 1, 695358: 1, 695430: 1, 695502: 1, 695520: 1, 695565: 1, 695574: 1, 695601: 1, 695772: 1, 695826: 1, 695943: 1, 695997: 1, 696024: 1, 696033: 1, 696150: 1, 696276: 1, 696375: 1, 696474: 1, 696528: 1, 696591: 1, 696645: 1, 696681: 1, 696816: 1, 696825: 1, 696888: 1, 696897: 1, 696924: 1, 696987: 1, 697032: 1, 697059: 1, 697131: 1, 697140: 1, 697482: 1, 697608: 1, 697653: 1, 697887: 1, 698040: 1, 698121: 1, 698202: 1, 698292: 1, 698319: 1, 698463: 1, 698616: 1, 698643: 1, 698805: 1, 698814: 1, 698850: 1, 698931: 1, 698985: 1, 699066: 1, 699111: 1, 699129: 1, 699210: 1, 699246: 1, 699300: 1, 699354: 1, 699588: 1, 699606: 1, 699786: 1, 699849: 1, 699867: 1, 699930: 1, 700128: 1, 700218: 1, 700236: 1, 700272: 1, 700317: 1, 700326: 1, 700416: 1, 700533: 1, 700587: 1, 700695: 1, 700722: 1, 700821: 1, 700857: 1, 700875: 1, 701055: 1, 701199: 1, 701388: 1, 701559: 1, 701685: 1, 701694: 1, 701721: 1, 701739: 1, 701775: 1, 701874: 1, 702036: 1, 702081: 1, 702135: 2, 702171: 1, 702387: 1, 702567: 1, 702576: 1, 702612: 1, 702630: 2, 702648: 1, 702675: 1, 702684: 1, 702729: 1, 702846: 1, 702909: 1, 703116: 1, 703251: 1, 703296: 1, 703404: 1, 703422: 1, 703476: 1, 703566: 1, 703602: 1, 703620: 1, 703710: 1, 703818: 1, 703863: 1, 704052: 1, 704088: 1, 704133: 1, 704250: 1, 704286: 1, 704295: 1, 704313: 1, 704529: 1, 704718: 1, 704772: 1, 704790: 1, 704970: 2, 705042: 1, 705051: 1, 705069: 1, 705366: 2, 705429: 1, 705438: 1, 705852: 1, 706023: 1, 706041: 1, 706068: 1, 706284: 1, 706365: 1, 706518: 1, 706527: 1, 706581: 1, 706653: 1, 706680: 1, 706815: 1, 706941: 1, 707013: 1, 707058: 1, 707139: 1, 707274: 1, 707355: 1, 707499: 1, 707526: 1, 707544: 2, 707607: 1, 708021: 1, 708039: 1, 708147: 1, 708165: 1, 708201: 1, 708255: 1, 708300: 1, 708336: 1, 708489: 1, 708750: 1, 708840: 1, 708894: 1, 708912: 1, 708921: 1, 708930: 1, 709065: 1, 709209: 1, 709272: 1, 709317: 1, 709344: 1, 709398: 1, 709506: 1, 709515: 1, 709677: 1, 709740: 1, 709794: 1, 709938: 1, 709947: 1, 709974: 1, 710028: 1, 710154: 1, 710199: 1, 710208: 1, 710379: 1, 710451: 1, 710559: 1, 710631: 1, 710658: 1, 710766: 1, 710784: 1, 710829: 1, 710991: 1, 711027: 1, 711054: 1, 711144: 1, 711225: 1, 711378: 1, 711459: 1, 711486: 1, 711729: 1, 711774: 1, 711828: 1, 712125: 1, 712179: 1, 712656: 2, 712665: 1, 712890: 2, 712962: 1, 713025: 1, 713052: 1, 713070: 1, 713223: 1, 713250: 1, 713259: 1, 713511: 1, 713619: 1, 713799: 1, 713835: 2, 713889: 1, 713907: 1, 714006: 1, 714078: 1, 714177: 1, 714492: 1, 714627: 1, 714636: 1}\n",
      "714690: 999=999; {714690: 2, 714816: 1, 714825: 1, 714843: 1, 714969: 1, 715122: 1, 715185: 1, 715419: 1, 715446: 1, 715455: 1, 715599: 1, 715770: 1, 715842: 1, 715851: 1, 715941: 2, 715977: 2, 716004: 2, 716112: 1, 716148: 1, 716157: 1, 716193: 1, 716229: 1, 716292: 1, 716499: 1, 716526: 1, 716553: 1, 716589: 1, 716715: 1, 716733: 1, 716787: 1, 716805: 2, 716922: 1, 716940: 1, 717138: 1, 717183: 1, 717219: 1, 717237: 1, 717264: 1, 717318: 1, 717345: 1, 717444: 1, 717498: 1, 717534: 1, 717543: 1, 717579: 1, 717588: 1, 717876: 1, 717894: 1, 717930: 1, 717966: 1, 718047: 1, 718056: 1, 718083: 1, 718191: 1, 718686: 1, 718695: 1, 718722: 1, 718785: 1, 718947: 1, 719064: 2, 719118: 1, 719181: 1, 719199: 1, 719217: 1, 719298: 1, 719415: 1, 719451: 1, 719820: 1, 719955: 2, 720189: 1, 720360: 1, 720378: 1, 720441: 1, 720450: 2, 720459: 1, 720549: 2, 720558: 1, 720585: 1, 720684: 1, 720801: 1, 720873: 1, 720954: 1, 720981: 1, 721152: 1, 721188: 1, 721242: 1, 721305: 1, 721530: 1, 721548: 1, 721566: 1, 721656: 1, 721809: 1, 721818: 1, 721881: 1, 721989: 1, 722070: 1, 722088: 1, 722124: 1, 722151: 1, 722313: 1, 722358: 1, 722457: 1, 722484: 1, 722646: 1, 722718: 1, 722925: 2, 723105: 1, 723177: 1, 723339: 1, 723447: 1, 723483: 1, 723564: 1, 723573: 1, 723582: 1, 723681: 1, 723816: 1, 723861: 1, 723987: 1, 724041: 1, 724050: 1, 724086: 1, 724221: 1, 724311: 1, 724374: 1, 724455: 1, 724554: 1, 724590: 1, 724599: 1, 724869: 1, 724896: 1, 724905: 1, 724959: 1, 725220: 1, 725463: 1, 725562: 1, 725697: 1, 725760: 2, 725814: 2, 725931: 1, 725940: 1, 726102: 1, 726138: 1, 726264: 1, 726282: 1, 726336: 1, 726444: 1, 726633: 1, 726696: 1, 726705: 1, 726723: 2, 726768: 1, 726786: 1, 726912: 1, 726930: 1, 726957: 1, 726966: 1, 726993: 1, 727002: 1, 727047: 1, 727056: 1, 727146: 1, 727218: 2, 727317: 1, 727488: 1, 727533: 1, 727605: 1, 727650: 2, 727713: 1, 727857: 1, 728001: 1, 728019: 1, 728064: 1, 728091: 1, 728307: 1, 728352: 1, 728460: 1, 728523: 1, 728757: 1, 728793: 2, 728865: 1, 729198: 2, 729234: 1, 729477: 2, 729639: 1, 729666: 1, 729819: 1, 730035: 1, 730107: 1, 730134: 1, 730152: 1, 730224: 1, 730260: 1, 730278: 1, 730503: 1, 730602: 1, 730872: 2, 730926: 1, 730971: 1, 731142: 1, 731331: 1, 731340: 1, 731349: 1, 731394: 1, 731421: 1, 731556: 1, 731619: 1, 731673: 1, 731691: 1, 731727: 1, 731772: 1, 731844: 1, 731907: 1, 731952: 1, 731979: 1, 732105: 1, 732150: 1, 732195: 1, 732249: 1, 732294: 1, 732339: 1, 732492: 1, 732537: 1, 732573: 1, 732618: 1, 732627: 1, 732636: 1, 732645: 2, 732690: 1, 732699: 1, 732744: 1, 732924: 1, 732951: 1, 733077: 1, 733230: 1, 733284: 1, 733293: 1, 733374: 1, 733383: 1, 733473: 1, 733734: 1, 733752: 1, 733779: 1, 733869: 1, 733986: 1, 734148: 1, 734193: 2, 734364: 1, 734463: 1, 734571: 1, 734589: 1, 734670: 1, 734715: 1, 734922: 1, 735084: 1, 735120: 1, 735174: 1, 735210: 1, 735228: 1, 735282: 1, 735525: 1, 735588: 1, 735732: 1, 735804: 1, 735912: 1, 735921: 1, 736083: 1, 736101: 1, 736164: 1, 736398: 2, 736551: 1, 736614: 1, 736794: 1, 736920: 1, 736938: 1, 737001: 1, 737010: 1, 737028: 1, 737109: 1, 737289: 1, 737343: 1, 737379: 1, 737406: 1, 737478: 1, 737649: 1, 737775: 1, 737982: 1, 738360: 1, 738513: 1, 738522: 1, 738603: 2, 738693: 1, 738702: 1, 738738: 1, 738828: 1, 738981: 1, 739053: 1, 739116: 1, 739215: 1, 739467: 1, 739854: 1, 739899: 1, 740151: 2, 740376: 1, 740628: 1, 740799: 1, 740889: 1, 741357: 1, 741366: 1, 741474: 1, 741537: 1, 741564: 1, 741708: 1, 741726: 1, 741798: 1, 741888: 1, 742050: 1, 742221: 1, 742311: 1, 742410: 1, 742518: 1, 742545: 2, 742833: 1, 742878: 1, 742977: 1, 743211: 1, 743256: 1, 743445: 2, 743859: 1, 743949: 1, 743976: 1, 743994: 1, 744057: 1, 744075: 1, 744156: 1, 744219: 1, 744345: 1, 744444: 1, 744462: 1, 744525: 1, 744678: 1, 744723: 1, 744804: 1, 744885: 1, 745011: 1, 745065: 1, 745092: 1, 745209: 1, 745263: 1, 745542: 1, 745641: 1, 745695: 1, 745830: 1, 745875: 1, 746028: 1, 746037: 1, 746082: 1, 746199: 2, 746208: 1, 746217: 1, 746244: 1, 746271: 1, 746325: 2, 746352: 1, 746505: 1, 746559: 1, 746640: 1, 746667: 1, 746748: 1, 746829: 1, 746919: 1, 746982: 1, 747036: 1, 747099: 1, 747135: 2, 747243: 1, 747270: 1, 747306: 1, 747441: 1, 747459: 1, 747468: 2, 747495: 1, 747513: 1, 747549: 1, 747630: 1, 747738: 1, 747783: 1, 747828: 1, 747891: 2, 748026: 1, 748296: 1, 748395: 1, 748521: 1, 748575: 1, 748656: 1, 748728: 1, 748755: 1, 748863: 1, 748980: 1, 749007: 1, 749142: 2, 749259: 1, 749304: 1, 749340: 1, 749520: 1, 749592: 1, 749619: 1, 749790: 1, 749817: 1, 749889: 1, 750033: 1, 750078: 1, 750402: 1, 750456: 1, 750510: 1, 750663: 1, 750852: 1, 751086: 1, 751113: 1, 751194: 1, 751230: 1, 751275: 1, 751311: 1, 751563: 1, 751635: 1, 751689: 1, 752094: 1, 752211: 1, 752490: 1, 752625: 1, 752796: 1, 752868: 1, 752886: 1, 752913: 1, 753021: 1, 753066: 1, 753111: 1, 753192: 1, 753201: 1, 753309: 1, 753354: 1, 753579: 1, 753606: 1, 753633: 1, 753777: 1, 754038: 1, 754056: 1, 754110: 1, 754200: 1, 754218: 1, 754263: 1, 754452: 1, 754650: 1, 754758: 1, 754839: 2, 754857: 1, 754920: 1, 755019: 1, 755181: 1, 755235: 1, 755523: 1, 755550: 1, 755739: 1, 755766: 1, 755829: 1, 755892: 1, 756126: 1, 756351: 2, 756378: 1, 756396: 1, 756432: 1, 756702: 1, 756720: 2, 757143: 1, 757161: 1, 757386: 1, 757404: 1, 757440: 1, 757584: 1, 757791: 1, 758241: 1, 758250: 1, 758295: 1, 758322: 1, 758349: 1, 758637: 1, 758727: 1, 758835: 1, 758862: 1, 758880: 1, 758898: 1, 758988: 1, 759006: 1, 759033: 1, 759150: 1, 759285: 1, 759420: 1, 759474: 1, 759483: 1, 759510: 1, 759546: 1, 759591: 1, 759654: 1, 759834: 1, 759879: 1, 759942: 1, 760023: 1, 760203: 1, 760410: 1, 760455: 1, 760482: 1, 760572: 1, 760788: 1, 760806: 1, 760869: 1, 761049: 1, 761229: 1, 761256: 1, 761409: 1, 761778: 1, 762102: 1, 762246: 1, 762309: 1, 762444: 1, 762534: 1, 762588: 1, 762714: 1, 762750: 1, 762804: 1, 762867: 1, 762885: 1, 762930: 1, 762948: 1, 763011: 1, 763065: 1, 763101: 1, 763380: 1, 763542: 1, 763650: 1, 763740: 1, 763758: 1, 763992: 1, 764388: 1, 764433: 1, 764487: 1, 764757: 1, 764865: 1, 764901: 1, 764928: 1, 765072: 1, 765090: 1, 765198: 1, 765279: 1, 765342: 2, 765486: 1, 765603: 1, 765738: 1, 765801: 1, 765819: 1, 765828: 1, 765900: 1, 765936: 1, 765963: 1, 765999: 1, 766134: 1, 766197: 1, 766224: 1, 766332: 1, 766404: 1, 766413: 1, 766503: 1, 766800: 1, 766818: 1, 766845: 1, 766926: 1, 766980: 1, 766989: 1, 767277: 1, 767520: 1, 767538: 1, 767547: 2, 767556: 1, 767619: 1, 767754: 1, 767772: 1, 767853: 1, 767898: 1, 767961: 1, 768114: 1, 768132: 1, 768204: 1, 768375: 1, 768420: 1, 768537: 1, 768663: 1, 768726: 2, 768780: 1, 768897: 1, 768924: 1, 769203: 1, 769428: 1, 769527: 1, 769761: 1, 769806: 1, 769869: 1, 769878: 1, 770166: 1, 770229: 1, 770319: 1, 770355: 2, 770481: 1, 770688: 1, 770769: 1, 770796: 1, 770832: 1, 770886: 1, 770904: 1, 771003: 1, 771228: 1, 771237: 1, 771318: 2, 771579: 2, 771588: 1, 771957: 1, 771966: 1, 772083: 2, 772092: 1, 772110: 1, 772119: 1, 772155: 1, 772191: 1, 772218: 1, 772272: 1, 772290: 1, 772398: 1, 772407: 1, 772443: 1, 772515: 1, 772524: 1, 772605: 1, 772749: 1, 772785: 1, 772803: 1, 772830: 1, 772839: 1, 772848: 1, 772956: 1, 773028: 1, 773091: 1, 773181: 1, 773361: 1, 773388: 1, 773406: 1, 773505: 1, 773577: 1, 773631: 1, 773766: 1, 773802: 1, 774009: 1, 774126: 1, 774450: 1, 774531: 1, 774549: 1, 774891: 1, 774900: 1, 774909: 1, 775053: 1, 775116: 1, 775152: 1, 775323: 1, 775395: 1, 775467: 1, 775521: 1, 775620: 1, 775728: 1, 775737: 2, 775764: 1, 775773: 1, 776052: 1, 776313: 1, 776358: 1, 776421: 1, 776835: 1, 777168: 1, 777285: 1, 777321: 1, 777573: 1, 777618: 1, 777816: 1, 778005: 1, 778149: 1, 778212: 1, 778329: 1, 778365: 1, 778392: 1, 778437: 1, 778446: 1, 778509: 1, 778698: 1, 778743: 2, 778797: 1, 778986: 1, 778995: 1, 779202: 1, 779247: 1, 779454: 1, 779463: 1, 779760: 1, 779778: 1, 779787: 1, 779814: 1, 779832: 1, 779850: 1, 779967: 1, 779976: 1, 780300: 1, 780309: 1, 780444: 1, 780489: 2, 780534: 1, 780597: 1, 780705: 1, 780714: 1, 780849: 1, 780939: 1, 781137: 1, 781155: 1, 781200: 2, 781380: 1, 781425: 1, 781479: 1, 781596: 1, 781614: 1, 781623: 1, 781650: 1, 781704: 1, 781767: 1, 781785: 1, 781812: 2, 781830: 1, 782019: 1, 782118: 1, 782154: 1, 782271: 1, 782334: 1, 782343: 1, 782460: 1, 782514: 1, 782748: 2, 782874: 1, 783054: 1, 783108: 1, 783171: 1, 783450: 2, 783522: 2, 783693: 1, 783720: 1, 783837: 1, 783891: 1, 783909: 1, 784008: 1, 784026: 1, 784134: 1, 784152: 1, 784233: 2, 784251: 1, 784377: 1, 784674: 1, 784782: 1, 784881: 1, 784908: 1, 784935: 1, 785052: 1, 785061: 1, 785088: 1, 785124: 1, 785196: 1, 785250: 1, 785295: 1, 785484: 1, 785574: 1, 785601: 1, 785781: 1, 786033: 1, 786123: 1, 786132: 2, 786285: 1, 786339: 1, 786393: 1, 786447: 1, 786519: 1, 786771: 1, 787014: 1, 787329: 1, 787473: 1, 787500: 1, 787509: 1, 787590: 1, 787887: 1, 788076: 1, 788220: 1, 788517: 1, 788625: 1, 788679: 1, 788697: 1, 788733: 1, 788949: 1, 789075: 1, 789174: 1, 789219: 1, 789282: 1, 789408: 1, 789417: 1, 789471: 1, 789480: 1, 789624: 1, 789822: 1, 789903: 1, 789939: 1, 790020: 1, 790245: 1, 790326: 1, 790425: 1, 790479: 1, 790677: 1, 790794: 1, 790830: 1, 790884: 1, 790965: 1, 790992: 1, 791082: 1, 791199: 1, 791325: 1, 791406: 1, 791469: 1, 791568: 1, 791577: 1, 791685: 1, 791694: 2, 791793: 1, 791937: 1, 791982: 1, 792081: 1, 792144: 1, 792324: 1, 792486: 1, 792567: 1, 792585: 1, 792702: 1, 792828: 1, 792954: 1, 792972: 1, 792999: 1, 793062: 1, 793143: 2, 793215: 1, 793251: 1, 793296: 1, 793629: 1, 793647: 1, 793755: 1, 793854: 1, 793872: 1, 794115: 1, 794205: 1, 794241: 1, 794250: 3, 794304: 1, 794421: 1, 794466: 1, 794475: 1, 794556: 1, 794763: 1, 794790: 1, 794871: 1, 795078: 1, 795123: 1, 795339: 1, 795438: 1, 795510: 1, 795582: 1, 795690: 1, 795717: 1, 795933: 1, 795996: 1, 796068: 1, 796122: 1, 796302: 2, 796347: 1, 796401: 1, 796509: 1, 796662: 1, 796743: 1, 796770: 1, 796950: 1, 797112: 1, 797256: 1, 797427: 1, 797445: 1, 797472: 1, 797589: 1, 797634: 1, 797706: 1, 797958: 1, 798183: 1, 798210: 1, 798219: 1, 798273: 1, 798327: 1, 798399: 1, 798768: 1, 798795: 1, 798858: 1, 798948: 1, 798984: 1, 799020: 1, 799119: 1, 799200: 1, 799209: 1, 799263: 1, 799272: 1, 799371: 1, 799407: 1, 799533: 1, 799614: 1, 799677: 2, 799776: 2, 799893: 1, 800145: 1, 800253: 1, 800379: 1, 800523: 1, 800595: 1, 800622: 1, 800910: 1, 800964: 1, 800991: 1, 801423: 1, 802008: 1, 802332: 1, 802404: 1}\n",
      "802431: 1000=1000; {802431: 2, 802539: 1, 802557: 1, 802674: 1, 802701: 1, 802863: 1, 802998: 1, 803016: 1, 803547: 1, 804033: 1, 804141: 1, 804339: 2, 804582: 1, 804654: 1, 804717: 1, 804744: 1, 804915: 1, 805050: 1, 805068: 1, 805086: 2, 805185: 1, 805212: 1, 805266: 1, 805275: 1, 805329: 1, 805410: 1, 805500: 1, 805527: 1, 805563: 1, 805590: 1, 805644: 1, 805806: 1, 805860: 1, 805932: 2, 806049: 1, 806283: 1, 806292: 1, 806355: 1, 806418: 1, 806526: 1, 806535: 1, 806931: 1, 806958: 1, 807021: 1, 807075: 1, 807210: 1, 807300: 1, 807318: 1, 807480: 1, 807552: 1, 807570: 2, 807624: 1, 807885: 1, 807894: 1, 807921: 1, 807939: 1, 807984: 1, 808047: 1, 808263: 1, 808281: 1, 808335: 1, 808533: 1, 808821: 1, 808848: 1, 808902: 1, 809100: 1, 809145: 1, 809208: 1, 809262: 1, 809280: 2, 809343: 1, 809352: 1, 809424: 1, 809550: 1, 809730: 1, 810234: 1, 810243: 2, 810432: 1, 810603: 1, 810639: 1, 810873: 1, 810918: 1, 810945: 1, 811008: 2, 811143: 1, 811260: 1, 811296: 1, 811404: 2, 811818: 1, 811827: 1, 811962: 1, 812394: 1, 812484: 1, 812583: 1, 812610: 1, 812673: 1, 812727: 1, 812853: 1, 812961: 1, 813051: 1, 813060: 1, 813096: 1, 813105: 2, 813375: 2, 813456: 1, 813510: 1, 813555: 2, 813654: 1, 813762: 1, 813843: 1, 814032: 1, 814131: 1, 814176: 1, 814311: 1, 814617: 1, 814734: 1, 814842: 1, 814896: 1, 814959: 1, 815022: 1, 815058: 1, 815283: 1, 815364: 1, 815490: 1, 815499: 1, 815571: 1, 815922: 1, 815958: 1, 816111: 1, 816147: 1, 816318: 1, 816435: 1, 816534: 1, 816615: 1, 816633: 1, 816687: 1, 816723: 1, 816777: 1, 816840: 1, 816849: 1, 816903: 1, 816912: 1, 816984: 1, 817182: 1, 817200: 1, 817218: 1, 817272: 1, 817281: 1, 817443: 1, 817641: 1, 817740: 1, 817938: 1, 817956: 1, 817983: 1, 818055: 1, 818181: 1, 818217: 1, 818271: 1, 818298: 1, 818307: 1, 818361: 1, 818442: 1, 818523: 1, 818532: 1, 818541: 1, 819423: 1, 819459: 1, 819477: 1, 819621: 1, 819675: 1, 819756: 1, 820161: 1, 820233: 1, 820305: 1, 820458: 1, 820485: 1, 820890: 1, 820989: 1, 820998: 1, 821007: 1, 821070: 1, 821115: 1, 821196: 1, 821250: 1, 821457: 1, 821520: 1, 821628: 1, 821898: 1, 821961: 2, 821979: 1, 822096: 1, 822186: 1, 822213: 1, 822285: 1, 822519: 1, 822537: 1, 822717: 1, 822744: 1, 822762: 1, 822798: 1, 822924: 1, 822942: 1, 823374: 1, 823662: 1, 823779: 1, 823833: 1, 823896: 2, 824085: 1, 824175: 1, 824328: 1, 824418: 1, 824463: 2, 824715: 1, 824742: 1, 824769: 1, 824814: 1, 824841: 1, 824994: 1, 825093: 1, 825120: 1, 825408: 1, 825642: 1, 825741: 1, 825777: 1, 826002: 2, 826065: 2, 826092: 1, 826128: 1, 826146: 1, 826587: 1, 826776: 1, 826794: 1, 826803: 1, 826848: 1, 827037: 1, 827109: 1, 827244: 1, 827334: 1, 827397: 1, 827442: 1, 827451: 1, 827478: 1, 827559: 2, 827577: 1, 827748: 1, 827973: 1, 828000: 1, 828054: 1, 828090: 1, 828405: 1, 828504: 1, 828513: 1, 828567: 1, 828585: 1, 828621: 1, 828639: 1, 828657: 1, 828684: 1, 828873: 1, 828945: 1, 829224: 1, 829260: 1, 829287: 1, 829305: 1, 829467: 1, 829503: 1, 829908: 1, 829944: 1, 829953: 1, 829962: 1, 829989: 2, 830142: 2, 830169: 1, 830241: 1, 830250: 1, 830268: 1, 830313: 1, 830682: 2, 830700: 1, 830781: 1, 830835: 1, 830898: 1, 830979: 1, 831096: 1, 831231: 1, 831276: 1, 831366: 1, 831672: 1, 831708: 1, 831834: 1, 832077: 1, 832374: 1, 832824: 1, 832842: 1, 832869: 1, 832950: 1, 833022: 1, 833031: 1, 833103: 1, 833130: 1, 833319: 1, 833382: 1, 833553: 1, 833580: 1, 833877: 1, 833886: 1, 834372: 1, 834453: 1, 834507: 1, 834795: 1, 835038: 1, 835092: 1, 835119: 2, 835137: 1, 835353: 1, 835614: 1, 835641: 1, 835974: 1, 836010: 1, 836109: 1, 836325: 2, 836478: 1, 836505: 1, 836514: 1, 836631: 1, 836676: 1, 836712: 2, 836793: 1, 836820: 1, 836838: 1, 836847: 1, 836874: 1, 836973: 1, 837342: 1, 837468: 1, 837558: 1, 837675: 1, 837765: 1, 837954: 1, 838215: 1, 838296: 1, 838386: 1, 838467: 1, 838530: 1, 838602: 1, 838620: 1, 838764: 1, 838800: 1, 839025: 2, 839061: 1, 839070: 1, 839187: 1, 839241: 1, 839259: 1, 839277: 1, 839304: 1, 839412: 1, 839421: 1, 839520: 1, 839592: 1, 839664: 1, 839763: 1, 839781: 1, 839862: 1, 839871: 2, 839880: 1, 840096: 1, 840114: 1, 840276: 2, 840330: 1, 840447: 1, 840591: 1, 840744: 1, 840789: 1, 840825: 1, 840924: 1, 841284: 1, 841374: 1, 841608: 1, 841644: 1, 841653: 1, 841680: 1, 841698: 1, 841779: 1, 841842: 1, 842121: 1, 842373: 1, 842409: 1, 842553: 1, 842580: 1, 842670: 1, 842688: 1, 842958: 1, 843417: 1, 843426: 1, 843624: 1, 843660: 1, 843750: 1, 843813: 1, 843831: 1, 843957: 1, 844254: 1, 844263: 1, 844362: 1, 844425: 1, 844488: 1, 844542: 1, 844641: 1, 844659: 1, 844875: 1, 844902: 1, 844938: 1, 845154: 1, 845172: 2, 845343: 1, 845424: 1, 845433: 1, 845487: 1, 845604: 1, 845658: 1, 845712: 1, 845793: 1, 845865: 1, 845901: 1, 845946: 1, 846180: 1, 846216: 1, 846288: 1, 846414: 1, 846513: 1, 846693: 1, 846801: 1, 846828: 1, 846855: 2, 846981: 1, 847035: 1, 847206: 1, 847242: 1, 847251: 1, 847287: 1, 847305: 1, 847404: 1, 847449: 1, 847593: 1, 847764: 1, 847854: 1, 848043: 1, 848133: 1, 848457: 1, 848475: 1, 848583: 1, 848979: 1, 848988: 1, 848997: 2, 849213: 1, 849276: 1, 849285: 1, 849411: 1, 849771: 1, 849798: 1, 849861: 1, 849870: 1, 850005: 1, 850455: 1, 850491: 1, 850671: 1, 851040: 1, 851175: 1, 851202: 1, 851373: 1, 851472: 1, 851508: 1, 851517: 1, 851553: 1, 851679: 1, 851724: 1, 851805: 1, 851859: 1, 852039: 1, 852057: 1, 852093: 1, 852120: 1, 852129: 1, 852165: 1, 852192: 1, 852228: 1, 852237: 1, 852282: 1, 852381: 1, 852606: 1, 852723: 1, 852732: 1, 852867: 1, 853173: 1, 853209: 1, 853290: 1, 853299: 1, 853326: 1, 853479: 1, 853506: 1, 853524: 1, 853569: 2, 853902: 1, 853929: 1, 853974: 1, 853983: 1, 854181: 1, 854370: 1, 854496: 1, 854559: 1, 854685: 1, 854712: 1, 855495: 1, 855513: 3, 855585: 1, 855792: 1, 855828: 1, 855900: 1, 855936: 1, 856098: 1, 856188: 1, 856341: 1, 856404: 1, 856413: 1, 856611: 1, 856854: 1, 857061: 1, 857088: 1, 857115: 1, 857412: 1, 857493: 1, 857610: 1, 857637: 1, 857673: 1, 857745: 1, 857799: 1, 858051: 1, 858168: 1, 858375: 1, 858393: 1, 858402: 1, 858411: 1, 858456: 1, 858474: 1, 858672: 1, 858699: 1, 858735: 1, 858897: 1, 859149: 1, 859167: 1, 859239: 1, 859266: 1, 859347: 1, 859383: 1, 859428: 1, 859572: 1, 859653: 1, 859707: 1, 859734: 1, 859761: 1, 859833: 1, 860049: 1, 860193: 1, 860292: 1, 860346: 1, 860409: 1, 860436: 1, 860607: 2, 860652: 1, 860778: 1, 861030: 1, 861048: 1, 861138: 1, 861210: 1, 861327: 1, 861345: 1, 862029: 1, 862074: 1, 862119: 1, 862155: 1, 862164: 1, 862308: 1, 862335: 1, 862443: 1, 862488: 1, 862515: 1, 862605: 1, 862740: 1, 862767: 1, 862821: 1, 862839: 1, 862911: 1, 862965: 1, 863037: 1, 863064: 1, 863343: 1, 863352: 1, 863415: 1, 863433: 2, 863469: 1, 863523: 1, 863559: 1, 863604: 1, 863901: 1, 864036: 1, 864045: 1, 864063: 2, 864099: 1, 864261: 1, 864549: 1, 864603: 1, 864639: 1, 864711: 1, 864882: 1, 865008: 1, 865098: 1, 865188: 1, 865296: 1, 865314: 1, 865386: 1, 865422: 1, 865557: 1, 865998: 1, 866007: 1, 866061: 1, 866178: 1, 866214: 1, 866322: 1, 866340: 1, 866475: 1, 866502: 1, 866556: 1, 866700: 1, 866754: 1, 866835: 1, 866853: 1, 866898: 1, 866979: 1, 867105: 1, 867114: 1, 867285: 1, 867357: 1, 867537: 1, 867591: 1, 867618: 1, 867726: 1, 867933: 1, 868005: 1, 868059: 1, 868167: 1, 868410: 1, 868428: 1, 868662: 1, 868698: 1, 868707: 1, 868797: 1, 868959: 1, 869031: 1, 869139: 1, 869238: 1, 869265: 1, 869436: 1, 870039: 1, 870057: 1, 870066: 1, 870228: 1, 870246: 1, 870354: 1, 870399: 1, 870426: 1, 870570: 2, 870615: 1, 870633: 1, 870651: 1, 870723: 1, 870750: 1, 870786: 1, 870885: 1, 870975: 1, 871029: 1, 871173: 1, 871191: 1, 871209: 1, 871290: 1, 871416: 1, 871668: 1, 871812: 1, 871875: 1, 871938: 1, 871947: 1, 871983: 1, 871992: 1, 872019: 1, 872055: 1, 872109: 1, 872271: 1, 872289: 1, 872352: 1, 872406: 1, 872415: 1, 872442: 1, 872469: 1, 872730: 1, 872820: 1, 873054: 1, 873081: 1, 873198: 1, 873252: 1, 873396: 1, 873477: 1, 873549: 1, 873585: 1, 873594: 1, 873783: 1, 873828: 1, 873900: 2, 874053: 1, 874071: 1, 874278: 1, 874395: 1, 874413: 1, 874548: 1, 874647: 1, 874665: 1, 874728: 1, 874845: 1, 874989: 1, 875160: 1, 875214: 1, 875313: 1, 875403: 1, 875421: 2, 875601: 1, 875691: 1, 875817: 1, 876069: 1, 876249: 1, 876528: 1, 876726: 1, 876735: 1, 876816: 1, 877068: 1, 877140: 1, 877158: 1, 877320: 1, 877338: 1, 877356: 1, 877401: 1, 877410: 1, 877590: 1, 877608: 1, 877617: 1, 877698: 1, 877779: 1, 877950: 1, 877968: 1, 877986: 1, 878454: 1, 878634: 1, 878652: 2, 878985: 1, 878994: 1, 879021: 1, 879300: 1, 879336: 1, 879687: 2, 879714: 1, 879768: 1, 880029: 1, 880164: 1, 880263: 1, 880317: 1, 880353: 2, 880398: 1, 880434: 1, 880614: 3, 880650: 1, 880659: 1, 881226: 2, 881262: 2, 881289: 1, 881298: 1, 881334: 1, 881415: 1, 881721: 1, 881730: 1, 881757: 1, 881793: 1, 881964: 1, 881982: 1, 882000: 1, 882027: 1, 882126: 1, 882261: 1, 882369: 1, 882504: 1, 882540: 1, 882567: 1, 882648: 1, 882675: 1, 882765: 1, 882792: 1, 882810: 1, 882918: 1, 882963: 1, 882999: 1, 883026: 1, 883062: 1, 883116: 1, 883440: 1, 883485: 1, 883602: 1, 883854: 1, 884025: 1, 884088: 1, 884151: 1, 884250: 1, 884286: 1, 884376: 1, 884439: 1, 884574: 1, 884682: 1, 884754: 1, 884763: 1, 885006: 1, 885060: 1, 885159: 1, 885186: 1, 885258: 1, 885267: 1, 885609: 1, 885654: 1, 885699: 1, 885780: 1, 886257: 1, 886320: 1, 886356: 1, 886365: 1, 886500: 1, 886527: 1, 886599: 1, 886608: 1, 886635: 1, 886725: 1, 887067: 1, 887085: 1, 887094: 1, 887256: 1, 887292: 1, 887382: 1, 887427: 1, 887481: 1, 887706: 2, 887904: 1, 888030: 1, 888075: 1, 888309: 1, 888336: 1, 888444: 1, 888480: 1, 888543: 1, 888669: 1, 888678: 1, 888804: 1, 888822: 1, 888831: 1, 888840: 2, 888939: 1, 888966: 1, 889083: 1, 889164: 1, 889191: 1, 889263: 2, 889281: 1, 889569: 2, 889650: 1, 889713: 1, 889722: 1, 889749: 1, 889758: 1, 889875: 1, 890127: 1, 890136: 1, 890235: 1, 890253: 1, 890262: 1, 890298: 1, 890622: 1, 890676: 1, 890703: 1, 890802: 1, 890811: 1, 890865: 2, 891081: 1, 891099: 1, 891153: 1, 891162: 1, 891324: 1, 891378: 1, 891576: 1, 891603: 1, 891666: 1, 891693: 1, 891720: 1, 891954: 1, 891972: 1, 892134: 1, 892377: 1, 892458: 1, 892503: 1, 892548: 1, 892782: 1, 892935: 1, 893286: 1, 893448: 1, 893493: 1, 893592: 2, 893601: 1, 893637: 1, 893673: 1, 893700: 1, 893853: 1, 893889: 1, 893997: 1, 894024: 1, 894078: 1, 894321: 1, 894339: 1, 894357: 1, 894366: 1, 894501: 1, 894564: 1, 894591: 1, 894600: 1, 894825: 1, 894852: 1, 894879: 1, 894951: 1, 895167: 2, 895212: 1, 895230: 1, 895329: 1, 895338: 1, 895392: 1, 895473: 1, 895491: 1, 895590: 1}\n",
      "895617: 1000=1000; {895617: 1, 895680: 1, 895707: 1, 895824: 1, 895869: 1, 896373: 1, 896391: 1, 896535: 1, 896625: 1, 896652: 1, 896706: 1, 896841: 1, 897210: 1, 897282: 1, 897291: 1, 897507: 1, 897615: 1, 897651: 1, 897687: 1, 897732: 1, 897822: 2, 897984: 1, 898362: 1, 898488: 1, 898605: 1, 898641: 1, 898839: 1, 898956: 1, 899055: 1, 899091: 1, 899181: 1, 899262: 1, 899271: 1, 899280: 3, 899307: 2, 899334: 1, 899451: 1, 899487: 1, 900135: 1, 900198: 1, 900234: 1, 900333: 1, 900441: 1, 900513: 1, 900639: 1, 900774: 1, 900882: 1, 900900: 1, 900972: 1, 901062: 1, 901080: 1, 901116: 1, 901143: 1, 901152: 1, 901206: 1, 901431: 1, 901440: 1, 901485: 1, 901494: 1, 902106: 1, 902133: 1, 902214: 1, 902547: 1, 902619: 1, 902880: 1, 903015: 1, 903033: 2, 903267: 1, 903348: 1, 903393: 1, 903465: 1, 903555: 1, 903582: 1, 903645: 1, 903753: 1, 903762: 1, 903789: 1, 903870: 1, 903897: 1, 904311: 1, 904392: 1, 904518: 1, 904725: 1, 904914: 1, 904995: 2, 905085: 1, 905148: 1, 905265: 1, 905382: 1, 905427: 1, 905661: 1, 905769: 2, 905958: 1, 906102: 1, 906147: 1, 906273: 1, 906480: 1, 906570: 1, 906633: 1, 906714: 2, 906813: 1, 906831: 1, 907065: 1, 907119: 1, 907137: 2, 907209: 1, 907281: 1, 907344: 1, 907353: 1, 907371: 1, 907389: 1, 907461: 1, 907677: 1, 907911: 1, 907956: 2, 907983: 2, 908019: 1, 908190: 1, 908208: 1, 908217: 1, 908379: 1, 908460: 1, 908496: 1, 908613: 1, 908703: 1, 908757: 1, 908766: 1, 908793: 1, 908820: 1, 908991: 1, 909216: 1, 909351: 1, 909477: 1, 909513: 1, 909540: 1, 909558: 1, 909576: 1, 909603: 1, 909657: 1, 909729: 1, 909783: 1, 909810: 1, 909846: 1, 909864: 2, 909873: 1, 909882: 1, 909972: 1, 910071: 1, 910098: 1, 910260: 1, 910341: 1, 910377: 1, 910503: 1, 910512: 1, 910602: 1, 910629: 1, 910647: 1, 910989: 1, 911052: 1, 911097: 1, 911214: 1, 911232: 1, 911403: 1, 911457: 1, 911502: 1, 911511: 1, 911565: 1, 911619: 1, 911673: 1, 911736: 1, 911844: 1, 911916: 1, 912357: 1, 912618: 1, 912780: 1, 912861: 1, 913095: 1, 913185: 1, 913203: 1, 913257: 1, 913392: 1, 913590: 1, 913653: 1, 913662: 1, 913923: 1, 914220: 1, 914238: 1, 914274: 1, 914373: 1, 914445: 1, 914472: 1, 914499: 1, 914751: 1, 914886: 1, 915057: 1, 915066: 1, 915363: 1, 915471: 1, 915534: 1, 915552: 1, 915687: 1, 915750: 1, 915885: 1, 915894: 2, 915903: 1, 916065: 1, 916092: 1, 916155: 2, 916218: 1, 916245: 1, 916281: 1, 916362: 1, 916461: 1, 916587: 1, 916641: 1, 916758: 1, 916965: 1, 917019: 1, 917082: 1, 917118: 1, 917154: 1, 917388: 1, 917415: 1, 917532: 1, 917730: 2, 917793: 1, 918279: 1, 918351: 1, 918558: 1, 918594: 1, 918864: 1, 918918: 1, 918927: 1, 918945: 1, 919008: 1, 919044: 1, 919125: 1, 919278: 1, 919656: 1, 919701: 1, 919827: 1, 920394: 1, 920511: 1, 920583: 1, 920772: 1, 920799: 1, 920808: 1, 920844: 1, 921384: 1, 921402: 1, 921699: 1, 921762: 1, 921933: 1, 921987: 1, 922095: 1, 922257: 1, 922302: 1, 922437: 1, 922536: 1, 922617: 1, 922626: 1, 922698: 1, 922716: 1, 922725: 1, 922770: 1, 922896: 1, 922905: 1, 923022: 2, 923103: 1, 923256: 1, 923373: 1, 923400: 1, 923427: 1, 923472: 1, 923571: 1, 923607: 2, 923688: 1, 923724: 1, 923778: 1, 923823: 1, 923877: 1, 923895: 1, 924057: 1, 924084: 1, 924246: 1, 924327: 1, 924642: 1, 924822: 1, 924858: 1, 925155: 1, 925254: 1, 925290: 1, 925416: 1, 925722: 1, 925740: 1, 925821: 1, 925839: 1, 925866: 1, 925884: 1, 925911: 1, 926010: 1, 926046: 1, 926082: 1, 926154: 1, 926505: 2, 926550: 1, 926559: 1, 926604: 1, 926955: 1, 927261: 1, 927342: 1, 927360: 1, 927477: 1, 927639: 1, 927684: 1, 927747: 1, 927801: 1, 927855: 1, 928251: 1, 928296: 1, 928422: 1, 928458: 1, 928494: 1, 928575: 1, 928755: 1, 928773: 1, 928845: 1, 929061: 1, 929133: 1, 929250: 2, 929619: 1, 929763: 2, 929781: 1, 930087: 1, 930177: 1, 930294: 1, 930312: 1, 930330: 1, 930402: 1, 930411: 2, 930420: 1, 930438: 1, 930501: 1, 930510: 1, 930609: 1, 930690: 1, 930915: 1, 930942: 1, 931005: 2, 931014: 1, 931167: 1, 931446: 1, 931464: 1, 931473: 1, 931563: 1, 931806: 1, 931923: 1, 932022: 1, 932040: 1, 932166: 1, 932310: 1, 932418: 1, 932661: 1, 932832: 1, 932850: 1, 932895: 1, 932958: 1, 933003: 1, 933120: 1, 933129: 1, 933309: 1, 933318: 1, 933336: 1, 933354: 1, 933363: 1, 933462: 1, 933534: 1, 933687: 1, 933867: 1, 933885: 1, 933939: 1, 934029: 1, 934146: 1, 934245: 1, 934299: 1, 934362: 1, 934443: 1, 934461: 1, 934569: 1, 934668: 1, 934821: 1, 934857: 1, 934866: 1, 935127: 1, 935226: 2, 935289: 1, 935388: 1, 935559: 1, 935577: 1, 935640: 1, 935658: 1, 935721: 1, 935775: 1, 935865: 1, 935892: 1, 935937: 1, 936090: 1, 936117: 1, 936459: 1, 936486: 1, 936666: 1, 936756: 1, 936819: 1, 937026: 1, 937062: 1, 937080: 1, 937449: 1, 937575: 1, 937854: 1, 937926: 1, 938196: 1, 938223: 1, 938313: 1, 938358: 1, 938619: 1, 938754: 1, 938763: 1, 938853: 1, 938916: 1, 938961: 1, 939312: 1, 939330: 1, 939465: 1, 939645: 1, 939663: 1, 939780: 1, 939834: 1, 939852: 1, 939906: 1, 939942: 1, 940014: 1, 940086: 1, 940104: 1, 940131: 1, 940230: 1, 940365: 1, 940392: 1, 940437: 1, 940626: 1, 940725: 1, 940734: 1, 940788: 1, 940887: 1, 941121: 1, 941148: 1, 941184: 1, 941301: 1, 941400: 1, 941445: 1, 941454: 1, 941481: 1, 941616: 1, 941733: 1, 941913: 2, 942066: 1, 942111: 1, 942381: 1, 942408: 1, 942435: 1, 942444: 1, 942471: 1, 942678: 1, 942714: 1, 942759: 1, 942831: 1, 942894: 1, 942966: 1, 942975: 1, 943002: 1, 943092: 1, 943110: 1, 943182: 1, 943218: 1, 943236: 1, 943308: 1, 943344: 1, 943551: 1, 943578: 1, 943713: 1, 943731: 1, 943794: 1, 943884: 1, 944010: 1, 944046: 1, 944127: 1, 944136: 1, 944145: 1, 944325: 1, 944352: 1, 944433: 1, 944496: 1, 944568: 2, 944703: 1, 944937: 1, 945153: 1, 945207: 1, 945279: 1, 945324: 1, 945396: 1, 945405: 1, 945495: 1, 945558: 1, 945765: 1, 945801: 1, 945990: 1, 946017: 1, 946026: 1, 946035: 1, 946053: 2, 946080: 1, 946116: 1, 946179: 1, 946188: 1, 946278: 1, 946350: 1, 946467: 1, 946548: 1, 946692: 1, 946710: 1, 946764: 1, 946773: 1, 946818: 1, 946872: 1, 946917: 1, 947106: 1, 947169: 1, 947187: 1, 947214: 1, 947322: 1, 947421: 1, 947844: 1, 947862: 1, 947916: 1, 947961: 1, 948015: 1, 948078: 1, 948096: 1, 948321: 2, 948357: 1, 948438: 1, 948618: 1, 948825: 1, 948852: 1, 948897: 1, 948915: 1, 949284: 1, 949437: 1, 949662: 1, 949851: 1, 949896: 1, 949914: 1, 949941: 1, 949959: 2, 950031: 1, 950094: 1, 950112: 1, 950184: 1, 950220: 1, 950229: 1, 950373: 1, 950769: 1, 950922: 1, 951192: 1, 951462: 1, 951543: 1, 951705: 1, 951768: 1, 951957: 1, 952011: 1, 952029: 1, 952074: 1, 952173: 1, 952290: 1, 952335: 1, 952497: 1, 952668: 1, 952713: 1, 952848: 1, 952974: 1, 953208: 1, 953325: 1, 953334: 1, 953343: 1, 953415: 1, 953451: 1, 953586: 1, 953766: 1, 953874: 1, 953910: 1, 953991: 1, 954009: 1, 954135: 1, 954216: 1, 954684: 1, 954720: 1, 954738: 1, 955125: 1, 955350: 1, 955413: 1, 955593: 2, 955602: 1, 955692: 1, 955773: 1, 955836: 1, 956025: 1, 956070: 1, 956529: 1, 956583: 1, 956736: 1, 956763: 1, 956781: 1, 956853: 1, 957114: 1, 957150: 1, 957240: 1, 957366: 2, 957537: 1, 957627: 1, 957708: 1, 957825: 1, 957969: 1, 957987: 1, 958059: 1, 958068: 1, 958230: 1, 958239: 1, 958392: 1, 958401: 1, 958464: 1, 958770: 1, 958797: 1, 959085: 1, 959175: 1, 959193: 1, 959238: 1, 959382: 1, 959481: 1, 959517: 1, 959526: 1, 959580: 1, 959634: 1, 959742: 1, 959805: 1, 959850: 1, 959895: 1, 959967: 2, 960120: 1, 960156: 1, 960183: 1, 960345: 1, 960444: 1, 960579: 1, 960804: 2, 960858: 1, 960885: 1, 960984: 1, 961038: 1, 961101: 1, 961497: 1, 961569: 1, 962199: 1, 962379: 1, 962397: 1, 962451: 1, 962469: 1, 962505: 1, 962523: 1, 962541: 1, 962595: 1, 962604: 1, 962631: 1, 962703: 1, 962721: 1, 962811: 1, 962829: 1, 962892: 1, 962901: 1, 963018: 1, 963081: 1, 963117: 1, 963153: 1, 963198: 1, 963243: 1, 963306: 1, 963342: 2, 963369: 1, 963522: 1, 963621: 1, 963702: 1, 964053: 1, 964179: 1, 964260: 1, 964305: 1, 964314: 1, 964359: 1, 964422: 1, 964557: 1, 964575: 1, 964701: 1, 964737: 1, 964764: 1, 964845: 1, 965052: 1, 965169: 1, 965412: 1, 965547: 1, 965673: 1, 965817: 1, 965844: 1, 965997: 1, 966141: 1, 966321: 1, 966366: 1, 966465: 1, 966609: 2, 966627: 1, 966672: 2, 966825: 1, 966942: 1, 967122: 1, 967320: 1, 967338: 2, 967617: 1, 967716: 1, 967878: 1, 967932: 1, 968067: 1, 968202: 1, 968301: 1, 968364: 1, 968823: 1, 968886: 1, 968994: 1, 969003: 1, 969201: 1, 969336: 1, 969543: 1, 969579: 1, 969651: 1, 969732: 1, 969741: 1, 969795: 1, 969822: 1, 969984: 1, 970164: 1, 970308: 1, 970326: 1, 970371: 1, 970380: 2, 970623: 1, 970686: 1, 970713: 1, 970722: 1, 970740: 1, 970839: 1, 970893: 1, 970947: 1, 970992: 1, 971118: 1, 971217: 1, 971226: 1, 971316: 2, 971352: 1, 971388: 1, 971586: 1, 971640: 1, 971766: 1, 972054: 1, 972234: 1, 972342: 1, 972675: 1, 972729: 1, 972738: 1, 972873: 1, 972972: 1, 973017: 1, 973035: 1, 973044: 1, 973098: 1, 973485: 1, 973494: 1, 973602: 1, 973845: 1, 973980: 1, 973998: 2, 974016: 1, 974079: 1, 974358: 1, 974367: 1, 974376: 1, 974394: 1, 974457: 1, 974547: 1, 974610: 1, 974637: 1, 974682: 1, 974691: 1, 974781: 1, 974835: 1, 975006: 1, 975141: 1, 975150: 1, 975258: 1, 975267: 1, 975330: 1, 975672: 1, 975735: 1, 975816: 1, 975843: 1, 975888: 1, 975897: 1, 975951: 1, 975996: 1, 976032: 1, 976068: 1, 976095: 1, 976221: 1, 976275: 1, 976293: 1, 976455: 1, 976536: 1, 976842: 1, 977202: 1, 977553: 1, 977679: 1, 977760: 1, 977787: 1, 977859: 1, 977958: 1, 977967: 1, 977994: 1, 978129: 1, 978165: 1, 978237: 1, 978354: 1, 978444: 1, 978480: 1, 978525: 1, 978552: 1, 978579: 1, 979065: 1, 979092: 1, 979245: 1, 979272: 1, 979335: 1, 979524: 1, 979542: 1, 979677: 1, 979785: 1, 979794: 1, 979821: 1, 980064: 1, 980082: 1, 980145: 1, 980217: 1, 980271: 1, 980280: 1, 980352: 1, 980451: 1, 980514: 1, 980775: 1, 980847: 1, 980910: 1, 981099: 1, 981171: 1, 981333: 1, 981342: 1, 981414: 1, 981531: 1, 981702: 1, 981837: 1, 982188: 1, 982395: 1, 982773: 1, 982827: 1, 983097: 1, 983187: 1, 983574: 1, 983889: 1, 983943: 1, 983961: 1, 984015: 1, 984024: 1, 984078: 1, 984105: 1, 984150: 2, 984204: 1, 984429: 1, 984492: 1, 984528: 1, 984663: 1, 984708: 1, 984726: 1, 984762: 1, 984789: 1, 984924: 1, 984942: 1, 984969: 1, 985005: 1, 985068: 1, 985203: 1, 985230: 1, 985320: 1, 985392: 1, 985401: 1, 985446: 1, 985653: 1, 985725: 1, 985743: 1, 985788: 1, 985797: 1, 985842: 1, 985905: 1, 985977: 1, 986049: 1, 986220: 1, 986247: 1, 986283: 1, 986328: 1, 986382: 1, 986391: 1, 986463: 1, 986481: 1, 986499: 1, 986544: 1, 986580: 1, 986661: 1, 986913: 1, 987021: 1, 987057: 1, 987336: 1, 987633: 1, 987687: 1, 987921: 1, 987957: 1, 988164: 1, 988209: 2, 988308: 2, 988398: 1, 988434: 1, 988668: 1, 988812: 1, 988821: 1, 988857: 1, 988929: 1, 988965: 1, 989019: 1, 989388: 1}\n"
     ]
    }
   ],
   "source": [
    "bucket_infos = compute_buckets(item_ints, 's', 1000)\n",
    "print(len(bucket_infos))\n",
    "for b in bucket_infos[:10]:\n",
    "    print(b)"
   ]
  },
  {
   "cell_type": "code",
   "execution_count": 292,
   "id": "5b2c5560",
   "metadata": {},
   "outputs": [
    {
     "name": "stdout",
     "output_type": "stream",
     "text": [
      "[0 0 0 0 0 0 0 9 9 9 9 9 9 9 9 9 9 9 9 9]\n",
      "[ 0  7 24 31 37 51 63 68 74 81]\n",
      "[ 7 17  7  6 14 12  5  6  7  9]\n",
      "[ 0  9 18 27 36 45 54 63 72 81]\n"
     ]
    }
   ],
   "source": [
    "print(sorted_hashes[:20])\n",
    "print(starts[:10]) \n",
    "print(counts[:10])\n",
    "print(val_hashes[:10])"
   ]
  },
  {
   "cell_type": "code",
   "execution_count": 199,
   "id": "248a319b",
   "metadata": {
    "scrolled": true
   },
   "outputs": [
    {
     "name": "stdout",
     "output_type": "stream",
     "text": [
      "The slowest run took 41.64 times longer than the fastest. This could mean that an intermediate result is being cached.\n",
      "1.52 ms ± 3.57 ms per loop (mean ± std. dev. of 10 runs, 10 loops each)\n"
     ]
    }
   ],
   "source": [
    "%%timeit -n 10 -r 10\n",
    "find_bucket_starts(counts, SIZE_THRESH)"
   ]
  },
  {
   "cell_type": "code",
   "execution_count": 200,
   "id": "2df57480",
   "metadata": {},
   "outputs": [
    {
     "data": {
      "text/plain": [
       "631848"
      ]
     },
     "execution_count": 200,
     "metadata": {},
     "output_type": "execute_result"
    }
   ],
   "source": [
    "len(counts)"
   ]
  },
  {
   "cell_type": "code",
   "execution_count": 92,
   "id": "0bd9f587",
   "metadata": {},
   "outputs": [
    {
     "data": {
      "text/plain": [
       "1000000"
      ]
     },
     "execution_count": 92,
     "metadata": {},
     "output_type": "execute_result"
    }
   ],
   "source": [
    "len(item_ints)"
   ]
  },
  {
   "cell_type": "code",
   "execution_count": 38,
   "id": "0d2852da",
   "metadata": {},
   "outputs": [
    {
     "data": {
      "text/plain": [
       "632703"
      ]
     },
     "execution_count": 38,
     "metadata": {},
     "output_type": "execute_result"
    }
   ],
   "source": [
    "len(counts)"
   ]
  },
  {
   "cell_type": "code",
   "execution_count": null,
   "id": "4bdc3b13",
   "metadata": {},
   "outputs": [],
   "source": []
  },
  {
   "cell_type": "code",
   "execution_count": 39,
   "id": "d08f8ebe",
   "metadata": {},
   "outputs": [
    {
     "data": {
      "text/plain": [
       "array([1844674407377707863, 1844674407478945242,  922337203739473107,\n",
       "       1844674407478857798,  922337203739557383, 1614090106611372739,\n",
       "       1614090106476759893,              805977,  461168601870065832,\n",
       "        691752902872030564])"
      ]
     },
     "execution_count": 39,
     "metadata": {},
     "output_type": "execute_result"
    }
   ],
   "source": [
    "hashes[0:10]"
   ]
  },
  {
   "cell_type": "code",
   "execution_count": 40,
   "id": "4510a79f",
   "metadata": {},
   "outputs": [
    {
     "name": "stdout",
     "output_type": "stream",
     "text": [
      "first ten:  [  9  36  36  45  54  63  72  81  90  90 108 117 153 162 162 162 171 189\n",
      " 189 189]\n",
      "starts [0 1 3 4 5]\n",
      "counts [1 2 1 1 1]\n",
      "vals [ 9 36 45 54 63]\n"
     ]
    }
   ],
   "source": [
    "print('first ten: ', sorted_hashes[:20])\n",
    "print('starts', starts[:5])\n",
    "print('counts', counts[:5])\n",
    "print('vals', val_hashes[:5])"
   ]
  },
  {
   "cell_type": "code",
   "execution_count": 41,
   "id": "5f67b561",
   "metadata": {},
   "outputs": [],
   "source": [
    "def get_bucket_ranges(counts):\n",
    "    bin_items = []\n",
    "    bin_start_pos = []\n",
    "    start_pos = 0\n",
    "    csum = 0\n",
    "    prev_hash = None\n",
    "    for i, c in enumerate(counts):\n",
    "        if csum + c > SIZE_THRESH and csum > 0:\n",
    "            # need to dump current items\n",
    "            bin_items.append(csum)\n",
    "            bin_start_pos.append(start_pos)\n",
    "            csum = 0\n",
    "            start_pos = i\n",
    "        csum += c\n",
    "    if csum > 0:\n",
    "        bin_items.append(csum)\n",
    "        bin_start_pos.append(start_pos)\n",
    "    return bin_items, bin_start_pos\n"
   ]
  },
  {
   "cell_type": "code",
   "execution_count": null,
   "id": "07003527",
   "metadata": {},
   "outputs": [],
   "source": [
    "def cumsum_reset():\n",
    "    v = np.array([1., 1., 1., np.nan, 1., 1., 1., 1., np.nan, 1.])\n",
    "    n = np.isnan(v)\n",
    "    a = ~n  # todo change this\n",
    "    c = np.cumsum(a)\n",
    "    d = np.diff(np.concatenate(([0.], c[n])))\n",
    "    v[n] = -d\n",
    "    np.cumsum(v)\n"
   ]
  },
  {
   "cell_type": "code",
   "execution_count": 54,
   "id": "083bd4a1",
   "metadata": {},
   "outputs": [
    {
     "data": {
      "text/plain": [
       "array([ 2,  4,  5,  9, 10])"
      ]
     },
     "execution_count": 54,
     "metadata": {},
     "output_type": "execute_result"
    }
   ],
   "source": [
    "def cumsum_breach(arr, limit):\n",
    "    total = 0\n",
    "    for i, y in enumerate(arr):\n",
    "        total += y\n",
    "        if total > limit:\n",
    "            yield i\n",
    "            total = 0\n",
    "\n",
    "np.fromiter(cumsum_breach(np.array([1,2,3,1,6,6,3,1,1,4,6]), limit=5), dtype=int)"
   ]
  },
  {
   "cell_type": "code",
   "execution_count": 69,
   "id": "8c15fc67",
   "metadata": {},
   "outputs": [
    {
     "name": "stdout",
     "output_type": "stream",
     "text": [
      "127 ms ± 5.9 ms per loop (mean ± std. dev. of 3 runs, 3 loops each)\n"
     ]
    }
   ],
   "source": [
    "%%timeit -n 3 -r 3\n",
    "np.fromiter(cumsum_breach(counts, SIZE_THRESH), dtype=int)"
   ]
  },
  {
   "cell_type": "code",
   "execution_count": 62,
   "id": "f74eb8f5",
   "metadata": {},
   "outputs": [
    {
     "data": {
      "text/plain": [
       "3316"
      ]
     },
     "execution_count": 62,
     "metadata": {},
     "output_type": "execute_result"
    }
   ],
   "source": [
    "cz = np.fromiter(cumsum_breach(counts, SIZE_THRESH), dtype=int)\n",
    "len(cz)"
   ]
  },
  {
   "cell_type": "code",
   "execution_count": null,
   "id": "802c8c48",
   "metadata": {},
   "outputs": [],
   "source": []
  },
  {
   "cell_type": "code",
   "execution_count": 85,
   "id": "befdf19b",
   "metadata": {},
   "outputs": [],
   "source": [
    "from numba import njit\n",
    "\n",
    "@njit\n",
    "def cumsum_breach_numba2(x, target, result):\n",
    "    total = 0\n",
    "    iterID = 0\n",
    "    for i,x_i in enumerate(x):\n",
    "        total += x_i\n",
    "        if total > target:\n",
    "            result[iterID] = i\n",
    "            iterID += 1\n",
    "            total = 0\n",
    "    return iterID\n",
    "\n",
    "def cumsum_breach_array_init(x, target):\n",
    "    x = np.asarray(x)\n",
    "    result = np.empty(len(x),dtype=np.uint64)\n",
    "    idx = cumsum_breach_numba2(x, target, result)\n",
    "    return result[:idx]"
   ]
  },
  {
   "cell_type": "code",
   "execution_count": 90,
   "id": "d7220378",
   "metadata": {},
   "outputs": [
    {
     "name": "stdout",
     "output_type": "stream",
     "text": [
      "474 µs ± 0 ns per loop (mean ± std. dev. of 1 run, 5 loops each)\n"
     ]
    }
   ],
   "source": [
    "%%timeit -n 5 -r 1\n",
    "cumsum_breach_array_init(counts, SIZE_THRESH)"
   ]
  },
  {
   "cell_type": "code",
   "execution_count": 87,
   "id": "685c1c1f",
   "metadata": {},
   "outputs": [
    {
     "data": {
      "text/plain": [
       "3316"
      ]
     },
     "execution_count": 87,
     "metadata": {},
     "output_type": "execute_result"
    }
   ],
   "source": [
    "len(cumsum_breach_array_init(counts, SIZE_THRESH))"
   ]
  },
  {
   "cell_type": "code",
   "execution_count": 48,
   "id": "5dba1ff2",
   "metadata": {},
   "outputs": [],
   "source": [
    "# there is a vectorized way to do this.\n",
    "# First, find the dict buckets.\n",
    "# 1. make an array of zeros called start_pos_flags. Set first position is 1.\n",
    "# 2. Find my_counts > SIZE_THRESH. Set start_pos_flags to 1 for each position, and the position after it.\n",
    "# 3. Set counts to 0 for each of these.\n",
    "# Save array of dict bucket positions.\n",
    "# Next we find the hash buckets.\n",
    "# while True:\n",
    "# 1. compute cumulative sums of counts for each segment between two start_pos_flags, put it in csums\n",
    "# 2. Find the first spot where csums > SIZE_THRESH in each segment. \n",
    "# 3. break if all cumulative sums are <= SIZE_THRESH\n",
    "\n",
    "def bucket_ranges_vec(counts_, limit=SIZE_THRESH):\n",
    "    counts = np.copy(counts_)\n",
    "    start_pos_flags = np.zeros(len(counts), dtype=bool)\n",
    "    start_pos_flags[0] = True\n",
    "    \n",
    "    # mark and remove dictbuckets\n",
    "    dict_pos = np.where(counts > limit)\n",
    "    start_pos_flags[dict_pos] = True\n",
    "    for dp in dict_pos: \n",
    "        if dp+1 < len(counts):\n",
    "            start_pos_flags[dp+1] = True\n",
    "    counts[dict_pos] = 0\n",
    "    \n",
    "    # iterate adding buckets until there is no position in the\n",
    "    # cumulative sum greater than limit\n",
    "    while True:\n",
    "        csum_seg = np.zeros((len(counts),))\n",
    "        flag_pos = np.where(start_pos_flags)\n",
    "        for i in range(flag_pos):\n",
    "            if i < len(flag_pos)-1:\n",
    "                \n",
    "        overs = np.where(csum_seg > limit)\n",
    "        if not overs:\n",
    "            break\n",
    "        \n",
    "    return start_pos_flags\n",
    "    \n",
    "    \n",
    "bucket_ranges_vec(np.array([1,2,3,1,6,6,3,1,1,4,6]), limit=5)"
   ]
  },
  {
   "cell_type": "code",
   "execution_count": 51,
   "id": "2c888200",
   "metadata": {},
   "outputs": [
    {
     "data": {
      "text/plain": [
       "array([[1, 1, 1, 1]])"
      ]
     },
     "execution_count": 51,
     "metadata": {},
     "output_type": "execute_result"
    }
   ],
   "source": [
    "os = np.array([])\n",
    "cs = np.cumsum(os)\n",
    "np.diff(np.where(cs>5))"
   ]
  },
  {
   "cell_type": "code",
   "execution_count": 63,
   "id": "d9663d7b",
   "metadata": {},
   "outputs": [
    {
     "name": "stdout",
     "output_type": "stream",
     "text": [
      "158 ms ± 1.54 ms per loop (mean ± std. dev. of 3 runs, 3 loops each)\n"
     ]
    }
   ],
   "source": [
    "#%%timeit -n 3 -r 3  # 150ms when n_bins is big, otherwise fast\n",
    "\n",
    "bin_items, bin_start_pos = get_bucket_ranges(counts)\n"
   ]
  },
  {
   "cell_type": "code",
   "execution_count": 45,
   "id": "2752bb50",
   "metadata": {},
   "outputs": [
    {
     "data": {
      "text/plain": [
       "3339"
      ]
     },
     "execution_count": 45,
     "metadata": {},
     "output_type": "execute_result"
    }
   ],
   "source": [
    "len(bin_items)"
   ]
  },
  {
   "cell_type": "code",
   "execution_count": 23,
   "id": "6910cee1",
   "metadata": {},
   "outputs": [],
   "source": [
    "#timeit -n 3 -r 3  # 150ms when n_bins is big, otherwise fast\n",
    "\n",
    "# todo always have a hashbucket starting at MIN_HASH, even if first thing is a dictbucket\n",
    "buckets = SortedDict()\n",
    "for i in range(len(bin_start_pos)):\n",
    "    start_hash = val_hashes[bin_start_pos[i]]\n",
    "    b = HashBucket()  # todo fix dictbucket constructor -  DictBucket(val_hash, )\n",
    "    #b.val_hashes = sorted_hashes[]\n",
    "    buckets[start_hash] = b "
   ]
  },
  {
   "cell_type": "code",
   "execution_count": 24,
   "id": "5661bb32",
   "metadata": {},
   "outputs": [],
   "source": [
    "buckets = SortedDict()"
   ]
  },
  {
   "cell_type": "code",
   "execution_count": 33,
   "id": "03bdda29",
   "metadata": {},
   "outputs": [
    {
     "name": "stdout",
     "output_type": "stream",
     "text": [
      "4.65 ms ± 986 µs per loop (mean ± std. dev. of 3 runs, 3 loops each)\n"
     ]
    }
   ],
   "source": [
    "%%timeit -n 3 -r 3\n",
    "for i in range(len(bin_start_pos)):\n",
    "    start_hash = val_hashes[bin_start_pos[i]]\n",
    "    b = HashBucket()\n",
    "    b.val_hashes = sorted_hashes[i]\n",
    "    buckets[start_hash] = b "
   ]
  },
  {
   "cell_type": "code",
   "execution_count": 34,
   "id": "f1fbafb3",
   "metadata": {},
   "outputs": [
    {
     "data": {
      "text/plain": [
       "3339"
      ]
     },
     "execution_count": 34,
     "metadata": {},
     "output_type": "execute_result"
    }
   ],
   "source": [
    "len(buckets)"
   ]
  },
  {
   "cell_type": "code",
   "execution_count": 26,
   "id": "2513c418",
   "metadata": {},
   "outputs": [
    {
     "data": {
      "text/plain": [
       "461168601870040996"
      ]
     },
     "execution_count": 26,
     "metadata": {},
     "output_type": "execute_result"
    }
   ],
   "source": [
    "1614090106476887972-(2**60)"
   ]
  },
  {
   "cell_type": "code",
   "execution_count": 27,
   "id": "6c3964d7",
   "metadata": {},
   "outputs": [],
   "source": [
    "s = SortedDict()\n",
    "s[2**61] = 'a'"
   ]
  },
  {
   "cell_type": "code",
   "execution_count": 28,
   "id": "2d4fe1dc",
   "metadata": {},
   "outputs": [],
   "source": [
    "buckets[start_hash] = b "
   ]
  },
  {
   "cell_type": "code",
   "execution_count": 29,
   "id": "23083e11",
   "metadata": {},
   "outputs": [
    {
     "data": {
      "text/plain": [
       "array([                  0,                  27,                  36, ...,\n",
       "       2075258708346911576, 2075258708346911585, 2075258708346911621])"
      ]
     },
     "execution_count": 29,
     "metadata": {},
     "output_type": "execute_result"
    }
   ],
   "source": [
    "val_hashes[:]"
   ]
  },
  {
   "cell_type": "code",
   "execution_count": 30,
   "id": "0252c5e6",
   "metadata": {},
   "outputs": [
    {
     "ename": "IndexError",
     "evalue": "index 0 is out of bounds for axis 0 with size 0",
     "output_type": "error",
     "traceback": [
      "\u001b[0;31m---------------------------------------------------------------------------\u001b[0m",
      "\u001b[0;31mIndexError\u001b[0m                                Traceback (most recent call last)",
      "\u001b[0;32m/tmp/ipykernel_206897/176773012.py\u001b[0m in \u001b[0;36m<module>\u001b[0;34m\u001b[0m\n\u001b[1;32m     11\u001b[0m     \u001b[0;32mif\u001b[0m \u001b[0mi\u001b[0m \u001b[0;34m==\u001b[0m \u001b[0;34m-\u001b[0m\u001b[0;36m1\u001b[0m\u001b[0;34m:\u001b[0m\u001b[0;34m\u001b[0m\u001b[0;34m\u001b[0m\u001b[0m\n\u001b[1;32m     12\u001b[0m         \u001b[0mlo\u001b[0m \u001b[0;34m=\u001b[0m \u001b[0;36m0\u001b[0m\u001b[0;34m\u001b[0m\u001b[0;34m\u001b[0m\u001b[0m\n\u001b[0;32m---> 13\u001b[0;31m         \u001b[0mhi\u001b[0m \u001b[0;34m=\u001b[0m \u001b[0mbigs\u001b[0m\u001b[0;34m[\u001b[0m\u001b[0;36m0\u001b[0m\u001b[0;34m]\u001b[0m\u001b[0;34m\u001b[0m\u001b[0;34m\u001b[0m\u001b[0m\n\u001b[0m\u001b[1;32m     14\u001b[0m     \u001b[0;32melse\u001b[0m\u001b[0;34m:\u001b[0m\u001b[0;34m\u001b[0m\u001b[0;34m\u001b[0m\u001b[0m\n\u001b[1;32m     15\u001b[0m         \u001b[0mlo\u001b[0m \u001b[0;34m=\u001b[0m \u001b[0mbigs\u001b[0m\u001b[0;34m[\u001b[0m\u001b[0mi\u001b[0m\u001b[0;34m]\u001b[0m\u001b[0;34m+\u001b[0m\u001b[0;36m1\u001b[0m\u001b[0;34m\u001b[0m\u001b[0;34m\u001b[0m\u001b[0m\n",
      "\u001b[0;31mIndexError\u001b[0m: index 0 is out of bounds for axis 0 with size 0"
     ]
    }
   ],
   "source": [
    "# iteratively\n",
    "tots = np.zeros(len(counts), dtype=int)  # running total in bin\n",
    "bin_starts = np.zeros(len(counts), dtype=int)  # flagged 1 if a bin starts at that pos\n",
    "\n",
    "dict_bin_flag = np.zeros(len(counts), dtype=bool)\n",
    "counts[dict_bin_flag] = 0\n",
    "\n",
    "bigs = np.where(tots > SIZE_THRESH)[0]\n",
    "bin_starts[bigs] = 1\n",
    "for i in [-1] + list(range(len(bigs)-1)):\n",
    "    if i == -1:\n",
    "        lo = 0\n",
    "        hi = bigs[0]\n",
    "    else:\n",
    "        lo = bigs[i]+1\n",
    "        hi = bigs[i+1]\n",
    "    tots[lo:hi] = np.cumsum(counts[lo:hi])\n",
    "tots[:20]"
   ]
  },
  {
   "cell_type": "code",
   "execution_count": null,
   "id": "5f49cf9f",
   "metadata": {},
   "outputs": [],
   "source": []
  },
  {
   "cell_type": "code",
   "execution_count": null,
   "id": "4795f112",
   "metadata": {},
   "outputs": [],
   "source": []
  },
  {
   "cell_type": "code",
   "execution_count": null,
   "id": "383a0804",
   "metadata": {},
   "outputs": [],
   "source": [
    "counts[:20]"
   ]
  },
  {
   "cell_type": "code",
   "execution_count": null,
   "id": "735f771c",
   "metadata": {},
   "outputs": [],
   "source": []
  },
  {
   "cell_type": "code",
   "execution_count": null,
   "id": "0bb525c8",
   "metadata": {},
   "outputs": [],
   "source": [
    "counts.where()"
   ]
  },
  {
   "cell_type": "code",
   "execution_count": null,
   "id": "bc8c84c6",
   "metadata": {},
   "outputs": [],
   "source": [
    "%%timeit -n 3 -r 3 \n",
    "np.cumsum(counts)"
   ]
  },
  {
   "cell_type": "code",
   "execution_count": null,
   "id": "7637d6d1",
   "metadata": {},
   "outputs": [],
   "source": [
    "for i in range(len(bin_items[:10])):\n",
    "    print(bin_items[i], bin_start_pos[i])"
   ]
  },
  {
   "cell_type": "code",
   "execution_count": null,
   "id": "23b52139",
   "metadata": {},
   "outputs": [],
   "source": [
    "print(counts[10000])"
   ]
  },
  {
   "cell_type": "code",
   "execution_count": null,
   "id": "ddaac807",
   "metadata": {},
   "outputs": [],
   "source": [
    "# now make buckets for each range of max-1000 elements\n",
    "buckets = SortedDict()\n",
    "csum = 0\n",
    "bucket_min = HASH_MIN\n",
    "val_hash_counts = dict()\n",
    "obj_ids = []\n",
    "for i in range(len(vals)):\n",
    "    val_hash = val_hashes[i]\n",
    "    if counts[i] > SIZE_THRESH or csum + counts[i] > SIZE_THRESH:\n",
    "        # close current bucket, if any\n",
    "        if len(obj_ids):\n",
    "            b = HashBucket()\n",
    "            b.val_hash_counts = val_hash_counts\n",
    "            b.obj_ids = obj_ids\n",
    "            buckets[val_hash_min] = b\n",
    "            \n",
    "        # handle new element\n",
    "        if counts[i] > SIZE_THRESH:\n",
    "            # this thing goes in a new dict bucket\n",
    "            csum = 0\n",
    "            \n",
    "        else:\n",
    "            # start a new hash bucket to hold this thing\n",
    "            pass\n",
    "    else:\n",
    "        # continue adding to the \n",
    "        csum += counts[i]\n",
    "        val_hash_counts[val_hash] = counts[i]"
   ]
  },
  {
   "cell_type": "code",
   "execution_count": null,
   "id": "5105af52",
   "metadata": {},
   "outputs": [],
   "source": []
  },
  {
   "cell_type": "code",
   "execution_count": null,
   "id": "d41f1d70",
   "metadata": {},
   "outputs": [],
   "source": []
  },
  {
   "cell_type": "code",
   "execution_count": null,
   "id": "4aa74280",
   "metadata": {},
   "outputs": [],
   "source": [
    "print(type(sorted_hashes))\n",
    "print(type(np.asarray(sorted_hashes)))"
   ]
  },
  {
   "cell_type": "code",
   "execution_count": null,
   "id": "3d1d7c5d",
   "metadata": {},
   "outputs": [],
   "source": [
    "# build algo goes like...\n"
   ]
  },
  {
   "cell_type": "code",
   "execution_count": null,
   "id": "7eb3a818",
   "metadata": {},
   "outputs": [],
   "source": []
  },
  {
   "cell_type": "code",
   "execution_count": null,
   "id": "77413dc2",
   "metadata": {},
   "outputs": [],
   "source": []
  },
  {
   "cell_type": "code",
   "execution_count": null,
   "id": "768c84d8",
   "metadata": {},
   "outputs": [],
   "source": [
    "%%timeit -n 5 -r 5\n",
    "z = idx.get_obj_ids('saturn')"
   ]
  },
  {
   "cell_type": "code",
   "execution_count": null,
   "id": "dc7414e7",
   "metadata": {},
   "outputs": [],
   "source": [
    "planet = 'uranus'\n",
    "for o in idx.get_objs(planet):\n",
    "    idx.remove(planet, id(o))"
   ]
  },
  {
   "cell_type": "code",
   "execution_count": null,
   "id": "3d6bd834",
   "metadata": {},
   "outputs": [],
   "source": [
    "for b in idx.bucket_report():\n",
    "    print(b)"
   ]
  },
  {
   "cell_type": "code",
   "execution_count": null,
   "id": "7d78b8e5",
   "metadata": {},
   "outputs": [],
   "source": [
    "planet = 'venus'\n",
    "for o in idx.get_objs(planet):\n",
    "    idx.remove(planet, id(o))"
   ]
  },
  {
   "cell_type": "code",
   "execution_count": null,
   "id": "8521e64e",
   "metadata": {},
   "outputs": [],
   "source": [
    "for b in idx.bucket_report():\n",
    "    print(b)"
   ]
  },
  {
   "cell_type": "code",
   "execution_count": null,
   "id": "309b7594",
   "metadata": {},
   "outputs": [],
   "source": [
    "planet = 'mars'\n",
    "for o in idx.get_objs(planet):\n",
    "    idx.remove(planet, id(o))"
   ]
  },
  {
   "cell_type": "code",
   "execution_count": null,
   "id": "71d2308f",
   "metadata": {},
   "outputs": [],
   "source": [
    "for b in idx.bucket_report():\n",
    "    print(b)"
   ]
  },
  {
   "cell_type": "code",
   "execution_count": null,
   "id": "14dfa859",
   "metadata": {},
   "outputs": [],
   "source": [
    "class Crap:\n",
    "    def __init__(self):\n",
    "        self.s = random.random()\n",
    "crap_items = [Crap() for _ in range(10**6)]"
   ]
  },
  {
   "cell_type": "code",
   "execution_count": null,
   "id": "24bf1415",
   "metadata": {},
   "outputs": [],
   "source": [
    "idx = MutableFieldIndex('s')\n",
    "print('adding', n, 'items')\n",
    "t0 = time.time()\n",
    "for item in crap_items:\n",
    "    idx.add(item)\n",
    "t1 = time.time()\n",
    "print('\\n', round(t1-t0,3), 'seconds to build this field thing\\n')\n"
   ]
  },
  {
   "cell_type": "code",
   "execution_count": null,
   "id": "30044c8e",
   "metadata": {},
   "outputs": [],
   "source": [
    "len(idx.buckets)"
   ]
  },
  {
   "cell_type": "code",
   "execution_count": null,
   "id": "ef38aeae",
   "metadata": {},
   "outputs": [],
   "source": [
    "%%timeit -n 5 -r 5\n",
    "idx.get_obj_ids(crap_items[0].s)"
   ]
  },
  {
   "cell_type": "code",
   "execution_count": null,
   "id": "2b745255",
   "metadata": {},
   "outputs": [],
   "source": []
  },
  {
   "cell_type": "code",
   "execution_count": null,
   "id": "6808bacd",
   "metadata": {},
   "outputs": [],
   "source": []
  },
  {
   "cell_type": "code",
   "execution_count": null,
   "id": "4b753519",
   "metadata": {},
   "outputs": [],
   "source": []
  },
  {
   "cell_type": "code",
   "execution_count": null,
   "id": "a5b80cc2",
   "metadata": {},
   "outputs": [],
   "source": []
  },
  {
   "cell_type": "code",
   "execution_count": null,
   "id": "9693cf3f",
   "metadata": {},
   "outputs": [],
   "source": [
    "from hashindex import HashIndex\n",
    "\n",
    "t0 = time.time()\n",
    "hi = HashIndex(items, on='s')\n",
    "t1 = time.time()\n",
    "print(t1-t0, 'seconds to build a HashIndex')\n",
    "\n",
    "hi.freeze()"
   ]
  },
  {
   "cell_type": "code",
   "execution_count": null,
   "id": "feb560af",
   "metadata": {},
   "outputs": [],
   "source": [
    "t0 = time.time()\n",
    "d = dict()\n",
    "for i in items:\n",
    "    if i.s not in d:\n",
    "        d[i.s] = list()\n",
    "    d[i.s].append(i)\n",
    "t1 = time.time()\n",
    "print(t1-t0, 'seconds to build a dict')"
   ]
  },
  {
   "cell_type": "code",
   "execution_count": null,
   "id": "e37ceb7b",
   "metadata": {},
   "outputs": [],
   "source": [
    "planet = 'mercury'"
   ]
  },
  {
   "cell_type": "code",
   "execution_count": null,
   "id": "350ad249",
   "metadata": {},
   "outputs": [],
   "source": [
    "%%timeit -n 5 -r 5\n",
    "v = hi.find(match={'s': planet})"
   ]
  },
  {
   "cell_type": "code",
   "execution_count": null,
   "id": "38154ea2",
   "metadata": {},
   "outputs": [],
   "source": [
    "%%timeit -n 5 -r 5\n",
    "v = idx.get(planet)"
   ]
  },
  {
   "cell_type": "code",
   "execution_count": null,
   "id": "d8421c86",
   "metadata": {},
   "outputs": [],
   "source": [
    "%%timeit -n 5 -r 5\n",
    "v = d.get(planet)\n",
    "# yikes - how is this 1000x faster? something has gone really wrong here! let's see if it's the deref lookup that's\n",
    "# costing so much"
   ]
  },
  {
   "cell_type": "code",
   "execution_count": null,
   "id": "5284fad0",
   "metadata": {},
   "outputs": [],
   "source": [
    "class DerefDict():\n",
    "    \n",
    "    def __init__(self, items):\n",
    "        self.objs = {id(item): item for item in items}\n",
    "        self.d = dict()\n",
    "        for i in items:\n",
    "            if i.s not in self.d:\n",
    "                self.d[i.s] = list()\n",
    "            self.d[i.s].append(id(i))\n",
    "    \n",
    "    def get(self, val):\n",
    "        ids = self.d.get(val)\n",
    "        return [self.objs.get(i) for i in ids]\n",
    "\n",
    "t0 = time.time()\n",
    "dd  = DerefDict(items)\n",
    "t1 = time.time()\n",
    "print(t1-t0, 'seconds to build a deref dict')"
   ]
  },
  {
   "cell_type": "code",
   "execution_count": null,
   "id": "b812d49e",
   "metadata": {},
   "outputs": [],
   "source": []
  },
  {
   "cell_type": "code",
   "execution_count": null,
   "id": "9995e4fb",
   "metadata": {
    "scrolled": true
   },
   "outputs": [],
   "source": [
    "%%timeit -n 5 -r 5\n",
    "v = dd.get(planet)\n",
    "# the difference is that you are doing len(planets) dict lookups instead of just one dict lookup.\n",
    "# Can we keep the list literal around during processing instead?\n",
    "# e.g. - most of the time we will want an entire list (simple lookup, no intersection). Detect that \n",
    "# case and we've got something as good as dict()."
   ]
  },
  {
   "cell_type": "code",
   "execution_count": null,
   "id": "576dcb3c",
   "metadata": {},
   "outputs": [],
   "source": [
    "class DerefDictListy():\n",
    "    def __init__(self, items):\n",
    "        self.objs = []\n",
    "        self.d = dict()\n",
    "        for i in items:\n",
    "            if i.s not in self.d:\n",
    "                self.d[i.s] = list()\n",
    "            self.d[i.s].append(len(self.objs))\n",
    "            self.objs.append(obj)\n",
    "    \n",
    "    def get(self, val):\n",
    "        ids = self.d.get(val)\n",
    "        return itemgetter(*ids)(self.objs)\n",
    "\n",
    "t0 = time.time()\n",
    "ddl  = DerefDict(items)\n",
    "t1 = time.time()\n",
    "print(t1-t0, 'seconds to build a deref dict, listy edition')"
   ]
  },
  {
   "cell_type": "code",
   "execution_count": null,
   "id": "df2b7d9f",
   "metadata": {},
   "outputs": [],
   "source": [
    "%%timeit -n 5 -r 5\n",
    "v = ddl.get(planet)\n",
    "# the difference is that you are doing len(planets) dict lookups instead of just one dict lookup.\n",
    "# Can we keep the list literal around during processing instead?\n",
    "# e.g. - most of the time we will want an entire list (simple lookup, no intersection). Detect that \n",
    "# case and we've got something as good as dict()."
   ]
  },
  {
   "cell_type": "code",
   "execution_count": null,
   "id": "0cdc31f4",
   "metadata": {},
   "outputs": [],
   "source": [
    "a = list('abcdefg')\n",
    "isect_ids = snp.intersect(np.array([2,3,6]), np.array([1,2,3,4,5]), indices=True)[1][1]\n",
    "itemgetter(*isect_ids)(a)"
   ]
  },
  {
   "cell_type": "code",
   "execution_count": null,
   "id": "de7b6141",
   "metadata": {},
   "outputs": [],
   "source": [
    "v = hi.find({'s': planet})\n",
    "v"
   ]
  },
  {
   "cell_type": "code",
   "execution_count": null,
   "id": "e1a3b5a3",
   "metadata": {},
   "outputs": [],
   "source": []
  },
  {
   "cell_type": "code",
   "execution_count": null,
   "id": "077341f4",
   "metadata": {},
   "outputs": [],
   "source": []
  },
  {
   "cell_type": "code",
   "execution_count": null,
   "id": "6d7c39a6",
   "metadata": {},
   "outputs": [],
   "source": []
  },
  {
   "cell_type": "code",
   "execution_count": null,
   "id": "74507836",
   "metadata": {},
   "outputs": [],
   "source": []
  },
  {
   "cell_type": "code",
   "execution_count": null,
   "id": "b154fcd1",
   "metadata": {},
   "outputs": [],
   "source": []
  }
 ],
 "metadata": {
  "kernelspec": {
   "display_name": "Python 3 (ipykernel)",
   "language": "python",
   "name": "python3"
  },
  "language_info": {
   "codemirror_mode": {
    "name": "ipython",
    "version": 3
   },
   "file_extension": ".py",
   "mimetype": "text/x-python",
   "name": "python",
   "nbconvert_exporter": "python",
   "pygments_lexer": "ipython3",
   "version": "3.9.7"
  }
 },
 "nbformat": 4,
 "nbformat_minor": 5
}
