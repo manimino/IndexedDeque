{
 "cells": [
  {
   "cell_type": "markdown",
   "id": "fedb89f9",
   "metadata": {},
   "source": [
    "Started trying to make some kind of binned numpy array akin to Pandas. \n",
    "\n",
    "Maybe a million bins of a thousand hashes each or something. \n",
    "\n",
    "Would need an add_many() encouraged; could do decent allocations that way."
   ]
  },
  {
   "cell_type": "code",
   "execution_count": 1,
   "id": "5de2410e",
   "metadata": {},
   "outputs": [],
   "source": [
    "from bisect import bisect_left\n",
    "import random\n",
    "import time\n",
    "import sys\n",
    "import numpy as np\n",
    "from sortedcontainers import SortedDict, SortedSet\n",
    "from pympler.asizeof import asizeof\n",
    "import sortednp as snp\n",
    "from cykhash import Int64Set\n",
    "from operator import itemgetter\n",
    "from typing import Callable, Union, List, Any, Tuple\n",
    "from collections import Counter, namedtuple\n",
    "from dataclasses import dataclass\n",
    "from pympler.asizeof import asizeof"
   ]
  },
  {
   "cell_type": "code",
   "execution_count": 5,
   "id": "93190c3c",
   "metadata": {},
   "outputs": [],
   "source": [
    "\"\"\"\n",
    "OK, what if we had unsorted, dynamically sized numpy arrays of size-max 256 or so\n",
    "the arrays double in size so that add() is not disastrous\n",
    "\n",
    "the arrays are held in bins of [min, max] range so that locating an element is decently fast.\n",
    "will need a tree structure to find a bucket efficiently.\n",
    "\n",
    "Is this BTrees.IOBTree?\n",
    "\n",
    "256^4 = 4 billion, so that's 32 bits.\n",
    "\n",
    "It's like a halfway between point of Pandas BlockManager and sortednp?\n",
    "\"\"\"\n",
    "\n",
    "BIN_LENGTH = 128\n",
    "\n",
    "class BinnedArrays:\n",
    "    def __init__(self, objs=None, dtype='int64'):\n",
    "        self.bin_mins = []\n",
    "    \n",
    "    def intersect(self, other):\n",
    "        pass\n",
    "    \n",
    "    def union(self, other):\n",
    "        pass\n",
    "    \n",
    "    def remove(self):\n",
    "        pass\n",
    "    \n",
    "    def split_bin(self):\n",
    "        pass\n",
    "\n",
    "    def index(self, item):\n",
    "        pass\n",
    "    \n",
    "    def __iter__(self):\n",
    "        pass\n",
    "    \n",
    "    def __getitem__(self, i):\n",
    "        pass\n",
    "\n",
    "    def __setitem__(self, i, new_val):\n",
    "        # may move item to a different bin\n",
    "        pass"
   ]
  },
  {
   "cell_type": "code",
   "execution_count": null,
   "id": "51314759",
   "metadata": {},
   "outputs": [],
   "source": []
  }
 ],
 "metadata": {
  "kernelspec": {
   "display_name": "Python 3 (ipykernel)",
   "language": "python",
   "name": "python3"
  },
  "language_info": {
   "codemirror_mode": {
    "name": "ipython",
    "version": 3
   },
   "file_extension": ".py",
   "mimetype": "text/x-python",
   "name": "python",
   "nbconvert_exporter": "python",
   "pygments_lexer": "ipython3",
   "version": "3.9.7"
  }
 },
 "nbformat": 4,
 "nbformat_minor": 5
}
