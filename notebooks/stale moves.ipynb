{
 "cells": [
  {
   "cell_type": "code",
   "execution_count": 1,
   "id": "adca2844",
   "metadata": {},
   "outputs": [],
   "source": [
    "from hashindex import HashIndex, FrozenHashIndex"
   ]
  },
  {
   "cell_type": "code",
   "execution_count": 2,
   "id": "381b03ac",
   "metadata": {},
   "outputs": [],
   "source": [
    "objs = [{'a': i} for i in range(100)]\n",
    "hi = HashIndex(objs, on=['a'])"
   ]
  },
  {
   "cell_type": "code",
   "execution_count": 3,
   "id": "ea3aaa3d",
   "metadata": {},
   "outputs": [
    {
     "data": {
      "text/plain": [
       "[{'a': 1}]"
      ]
     },
     "execution_count": 3,
     "metadata": {},
     "output_type": "execute_result"
    }
   ],
   "source": [
    "hi.find({'a': 1})"
   ]
  },
  {
   "cell_type": "code",
   "execution_count": 4,
   "id": "549fb18c",
   "metadata": {},
   "outputs": [],
   "source": [
    "objs[1]['a'] = -1"
   ]
  },
  {
   "cell_type": "code",
   "execution_count": 5,
   "id": "91655ba9",
   "metadata": {},
   "outputs": [
    {
     "data": {
      "text/plain": [
       "[]"
      ]
     },
     "execution_count": 5,
     "metadata": {},
     "output_type": "execute_result"
    }
   ],
   "source": [
    "hi.find({'a': 1})"
   ]
  },
  {
   "cell_type": "code",
   "execution_count": 6,
   "id": "244ebccd",
   "metadata": {},
   "outputs": [],
   "source": [
    "for i in range(100, 200):\n",
    "    hi.add({'a': i})"
   ]
  },
  {
   "cell_type": "code",
   "execution_count": 7,
   "id": "4319c243",
   "metadata": {},
   "outputs": [
    {
     "data": {
      "text/plain": [
       "[{'a': 101}]"
      ]
     },
     "execution_count": 7,
     "metadata": {},
     "output_type": "execute_result"
    }
   ],
   "source": [
    "hi.find({'a': 101})"
   ]
  },
  {
   "cell_type": "code",
   "execution_count": 8,
   "id": "9fee196e",
   "metadata": {},
   "outputs": [
    {
     "data": {
      "text/plain": [
       "[]"
      ]
     },
     "execution_count": 8,
     "metadata": {},
     "output_type": "execute_result"
    }
   ],
   "source": [
    "hi.find({'a': 1})"
   ]
  },
  {
   "cell_type": "code",
   "execution_count": 9,
   "id": "98c67525",
   "metadata": {},
   "outputs": [],
   "source": [
    "hi.remove(objs[1])"
   ]
  },
  {
   "cell_type": "code",
   "execution_count": 10,
   "id": "127be259",
   "metadata": {},
   "outputs": [],
   "source": [
    "hi.add(objs[1])"
   ]
  },
  {
   "cell_type": "code",
   "execution_count": 11,
   "id": "62f7522f",
   "metadata": {},
   "outputs": [
    {
     "data": {
      "text/plain": [
       "[{'a': -1}]"
      ]
     },
     "execution_count": 11,
     "metadata": {},
     "output_type": "execute_result"
    }
   ],
   "source": [
    "hi.find({'a': -1})"
   ]
  },
  {
   "cell_type": "code",
   "execution_count": null,
   "id": "3f551d9b",
   "metadata": {},
   "outputs": [],
   "source": []
  }
 ],
 "metadata": {
  "kernelspec": {
   "display_name": "Python 3 (ipykernel)",
   "language": "python",
   "name": "python3"
  },
  "language_info": {
   "codemirror_mode": {
    "name": "ipython",
    "version": 3
   },
   "file_extension": ".py",
   "mimetype": "text/x-python",
   "name": "python",
   "nbconvert_exporter": "python",
   "pygments_lexer": "ipython3",
   "version": "3.9.7"
  }
 },
 "nbformat": 4,
 "nbformat_minor": 5
}
