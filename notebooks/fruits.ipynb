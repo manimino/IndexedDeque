{
 "cells": [
  {
   "cell_type": "markdown",
   "id": "8c42f99b",
   "metadata": {},
   "source": [
    "Find objects by attribute in Python -- fast\n",
    "\n",
    "Suppose you have a million objects in memory. And you want to find the few objects that matter to you. Fast.\n",
    "\n",
    "Let's make a million random fruits.\n",
    "```\n",
    "import random\n",
    "\n",
    "fruit_names = ['apple', 'grape', 'mango', 'banana', 'peach']\n",
    "colors = ['red', 'orange', 'yellow', 'green', 'blue']\n",
    "\n",
    "fruits = [\n",
    "    {\n",
    "        'fruit_num': i,\n",
    "        'name': random.choice(fruit_types),\n",
    "        'size': random.randint(1, 101),\n",
    "        'color: random.choice(color)\n",
    "    }\n",
    "    for i in range(1_000_000)\n",
    "]\n",
    "```\n",
    "\n",
    "**Challenge: Find all the blue grapes. You have 50 microseconds. Go!**\n",
    "\n",
    "The usual answers are to use an O(n) search, like a list comprehension, filter, or Pandas dataframe. That's fine for a small number of items, but it bogs down the more objects you have. Those methods can take 50 milliseconds, easy. That may not sound like much, but it's a thousand times too slow to beat the challenge.\n",
    "\n",
    "Let's run the timings and see.\n",
    "\n",
    "List comprehension:\n",
    "```\n",
    "%%timeit\n",
    "[]\n",
    "```\n",
    "\n",
    "```\n",
    "\n",
    "```\n",
    "\n",
    "OK, how about SQLite?\n",
    "\n",
    "SQLite looks like a great fit for this problem. With its tree-based indexing, it will surely beat the linear methods.\n",
    "\n"
   ]
  },
  {
   "cell_type": "code",
   "execution_count": 1,
   "id": "8cc0f8c6",
   "metadata": {},
   "outputs": [],
   "source": [
    "import random\n",
    "import pandas as pd\n",
    "from litebox import LiteBox\n",
    "from hashbox import HashBox, FrozenHashBox\n",
    "import cProfile\n",
    "import pstats\n",
    "from pstats import SortKey"
   ]
  },
  {
   "cell_type": "code",
   "execution_count": 2,
   "id": "117c079d",
   "metadata": {},
   "outputs": [],
   "source": [
    "fruit_names = ['apple', 'grape', 'mango', 'banana', 'peach']\n",
    "colors = ['red', 'orange', 'yellow', 'green', 'blue']\n",
    "shapes = ['cube', 'sphere', 'pyramid', 'dodecahedron']\n",
    "\n",
    "fruits = [\n",
    "    {\n",
    "        'fruit_num': i,\n",
    "        'name': random.choice(fruit_names),\n",
    "        'size': random.randint(1, 101),\n",
    "        'shape': random.choice(shapes),\n",
    "        'color': random.choice(colors)\n",
    "    }\n",
    "    for i in range(1_000_000)\n",
    "]"
   ]
  },
  {
   "cell_type": "code",
   "execution_count": 3,
   "id": "34dbdfc3",
   "metadata": {},
   "outputs": [],
   "source": [
    "fhb = FrozenHashBox(\n",
    "    fruits,\n",
    "    ['name', 'color', 'size', 'shape']\n",
    ")"
   ]
  },
  {
   "cell_type": "code",
   "execution_count": 4,
   "id": "a454dbef",
   "metadata": {},
   "outputs": [
    {
     "data": {
      "text/plain": [
       "array([{'fruit_num': 990604, 'name': 'grape', 'size': 100, 'shape': 'sphere', 'color': 'blue'},\n",
       "       {'fruit_num': 988937, 'name': 'grape', 'size': 100, 'shape': 'sphere', 'color': 'blue'},\n",
       "       {'fruit_num': 980652, 'name': 'grape', 'size': 100, 'shape': 'sphere', 'color': 'blue'},\n",
       "       {'fruit_num': 903416, 'name': 'grape', 'size': 100, 'shape': 'sphere', 'color': 'blue'},\n",
       "       {'fruit_num': 894470, 'name': 'grape', 'size': 100, 'shape': 'sphere', 'color': 'blue'},\n",
       "       {'fruit_num': 894564, 'name': 'grape', 'size': 100, 'shape': 'sphere', 'color': 'blue'},\n",
       "       {'fruit_num': 891593, 'name': 'grape', 'size': 100, 'shape': 'sphere', 'color': 'blue'},\n",
       "       {'fruit_num': 867905, 'name': 'grape', 'size': 100, 'shape': 'sphere', 'color': 'blue'},\n",
       "       {'fruit_num': 864861, 'name': 'grape', 'size': 100, 'shape': 'sphere', 'color': 'blue'},\n",
       "       {'fruit_num': 946943, 'name': 'grape', 'size': 100, 'shape': 'sphere', 'color': 'blue'},\n",
       "       {'fruit_num': 947015, 'name': 'grape', 'size': 100, 'shape': 'sphere', 'color': 'blue'},\n",
       "       {'fruit_num': 832207, 'name': 'grape', 'size': 100, 'shape': 'sphere', 'color': 'blue'},\n",
       "       {'fruit_num': 831175, 'name': 'grape', 'size': 100, 'shape': 'sphere', 'color': 'blue'},\n",
       "       {'fruit_num': 827508, 'name': 'grape', 'size': 100, 'shape': 'sphere', 'color': 'blue'},\n",
       "       {'fruit_num': 818962, 'name': 'grape', 'size': 100, 'shape': 'sphere', 'color': 'blue'},\n",
       "       {'fruit_num': 815384, 'name': 'grape', 'size': 100, 'shape': 'sphere', 'color': 'blue'},\n",
       "       {'fruit_num': 810536, 'name': 'grape', 'size': 100, 'shape': 'sphere', 'color': 'blue'},\n",
       "       {'fruit_num': 801481, 'name': 'grape', 'size': 100, 'shape': 'sphere', 'color': 'blue'},\n",
       "       {'fruit_num': 795521, 'name': 'grape', 'size': 100, 'shape': 'sphere', 'color': 'blue'},\n",
       "       {'fruit_num': 780372, 'name': 'grape', 'size': 100, 'shape': 'sphere', 'color': 'blue'},\n",
       "       {'fruit_num': 768723, 'name': 'grape', 'size': 100, 'shape': 'sphere', 'color': 'blue'},\n",
       "       {'fruit_num': 765865, 'name': 'grape', 'size': 100, 'shape': 'sphere', 'color': 'blue'},\n",
       "       {'fruit_num': 850240, 'name': 'grape', 'size': 100, 'shape': 'sphere', 'color': 'blue'},\n",
       "       {'fruit_num': 839746, 'name': 'grape', 'size': 100, 'shape': 'sphere', 'color': 'blue'},\n",
       "       {'fruit_num': 738329, 'name': 'grape', 'size': 100, 'shape': 'sphere', 'color': 'blue'},\n",
       "       {'fruit_num': 702516, 'name': 'grape', 'size': 100, 'shape': 'sphere', 'color': 'blue'},\n",
       "       {'fruit_num': 698556, 'name': 'grape', 'size': 100, 'shape': 'sphere', 'color': 'blue'},\n",
       "       {'fruit_num': 697368, 'name': 'grape', 'size': 100, 'shape': 'sphere', 'color': 'blue'},\n",
       "       {'fruit_num': 695771, 'name': 'grape', 'size': 100, 'shape': 'sphere', 'color': 'blue'},\n",
       "       {'fruit_num': 679893, 'name': 'grape', 'size': 100, 'shape': 'sphere', 'color': 'blue'},\n",
       "       {'fruit_num': 628376, 'name': 'grape', 'size': 100, 'shape': 'sphere', 'color': 'blue'},\n",
       "       {'fruit_num': 604384, 'name': 'grape', 'size': 100, 'shape': 'sphere', 'color': 'blue'},\n",
       "       {'fruit_num': 674933, 'name': 'grape', 'size': 100, 'shape': 'sphere', 'color': 'blue'},\n",
       "       {'fruit_num': 673574, 'name': 'grape', 'size': 100, 'shape': 'sphere', 'color': 'blue'},\n",
       "       {'fruit_num': 577024, 'name': 'grape', 'size': 100, 'shape': 'sphere', 'color': 'blue'},\n",
       "       {'fruit_num': 569803, 'name': 'grape', 'size': 100, 'shape': 'sphere', 'color': 'blue'},\n",
       "       {'fruit_num': 570299, 'name': 'grape', 'size': 100, 'shape': 'sphere', 'color': 'blue'},\n",
       "       {'fruit_num': 570486, 'name': 'grape', 'size': 100, 'shape': 'sphere', 'color': 'blue'},\n",
       "       {'fruit_num': 562964, 'name': 'grape', 'size': 100, 'shape': 'sphere', 'color': 'blue'},\n",
       "       {'fruit_num': 554766, 'name': 'grape', 'size': 100, 'shape': 'sphere', 'color': 'blue'},\n",
       "       {'fruit_num': 553049, 'name': 'grape', 'size': 100, 'shape': 'sphere', 'color': 'blue'},\n",
       "       {'fruit_num': 551494, 'name': 'grape', 'size': 100, 'shape': 'sphere', 'color': 'blue'},\n",
       "       {'fruit_num': 548506, 'name': 'grape', 'size': 100, 'shape': 'sphere', 'color': 'blue'},\n",
       "       {'fruit_num': 546923, 'name': 'grape', 'size': 100, 'shape': 'sphere', 'color': 'blue'},\n",
       "       {'fruit_num': 546226, 'name': 'grape', 'size': 100, 'shape': 'sphere', 'color': 'blue'},\n",
       "       {'fruit_num': 538665, 'name': 'grape', 'size': 100, 'shape': 'sphere', 'color': 'blue'},\n",
       "       {'fruit_num': 592806, 'name': 'grape', 'size': 100, 'shape': 'sphere', 'color': 'blue'},\n",
       "       {'fruit_num': 502104, 'name': 'grape', 'size': 100, 'shape': 'sphere', 'color': 'blue'},\n",
       "       {'fruit_num': 501564, 'name': 'grape', 'size': 100, 'shape': 'sphere', 'color': 'blue'},\n",
       "       {'fruit_num': 493122, 'name': 'grape', 'size': 100, 'shape': 'sphere', 'color': 'blue'},\n",
       "       {'fruit_num': 487963, 'name': 'grape', 'size': 100, 'shape': 'sphere', 'color': 'blue'},\n",
       "       {'fruit_num': 435547, 'name': 'grape', 'size': 100, 'shape': 'sphere', 'color': 'blue'},\n",
       "       {'fruit_num': 475792, 'name': 'grape', 'size': 100, 'shape': 'sphere', 'color': 'blue'},\n",
       "       {'fruit_num': 473384, 'name': 'grape', 'size': 100, 'shape': 'sphere', 'color': 'blue'},\n",
       "       {'fruit_num': 407342, 'name': 'grape', 'size': 100, 'shape': 'sphere', 'color': 'blue'},\n",
       "       {'fruit_num': 390824, 'name': 'grape', 'size': 100, 'shape': 'sphere', 'color': 'blue'},\n",
       "       {'fruit_num': 380152, 'name': 'grape', 'size': 100, 'shape': 'sphere', 'color': 'blue'},\n",
       "       {'fruit_num': 422221, 'name': 'grape', 'size': 100, 'shape': 'sphere', 'color': 'blue'},\n",
       "       {'fruit_num': 418982, 'name': 'grape', 'size': 100, 'shape': 'sphere', 'color': 'blue'},\n",
       "       {'fruit_num': 416549, 'name': 'grape', 'size': 100, 'shape': 'sphere', 'color': 'blue'},\n",
       "       {'fruit_num': 416174, 'name': 'grape', 'size': 100, 'shape': 'sphere', 'color': 'blue'},\n",
       "       {'fruit_num': 357888, 'name': 'grape', 'size': 100, 'shape': 'sphere', 'color': 'blue'},\n",
       "       {'fruit_num': 352359, 'name': 'grape', 'size': 100, 'shape': 'sphere', 'color': 'blue'},\n",
       "       {'fruit_num': 350999, 'name': 'grape', 'size': 100, 'shape': 'sphere', 'color': 'blue'},\n",
       "       {'fruit_num': 344838, 'name': 'grape', 'size': 100, 'shape': 'sphere', 'color': 'blue'},\n",
       "       {'fruit_num': 341750, 'name': 'grape', 'size': 100, 'shape': 'sphere', 'color': 'blue'},\n",
       "       {'fruit_num': 374735, 'name': 'grape', 'size': 100, 'shape': 'sphere', 'color': 'blue'},\n",
       "       {'fruit_num': 374117, 'name': 'grape', 'size': 100, 'shape': 'sphere', 'color': 'blue'},\n",
       "       {'fruit_num': 368518, 'name': 'grape', 'size': 100, 'shape': 'sphere', 'color': 'blue'},\n",
       "       {'fruit_num': 322086, 'name': 'grape', 'size': 100, 'shape': 'sphere', 'color': 'blue'},\n",
       "       {'fruit_num': 302743, 'name': 'grape', 'size': 100, 'shape': 'sphere', 'color': 'blue'},\n",
       "       {'fruit_num': 298525, 'name': 'grape', 'size': 100, 'shape': 'sphere', 'color': 'blue'},\n",
       "       {'fruit_num': 329195, 'name': 'grape', 'size': 100, 'shape': 'sphere', 'color': 'blue'},\n",
       "       {'fruit_num': 328170, 'name': 'grape', 'size': 100, 'shape': 'sphere', 'color': 'blue'},\n",
       "       {'fruit_num': 280534, 'name': 'grape', 'size': 100, 'shape': 'sphere', 'color': 'blue'},\n",
       "       {'fruit_num': 277697, 'name': 'grape', 'size': 100, 'shape': 'sphere', 'color': 'blue'},\n",
       "       {'fruit_num': 265608, 'name': 'grape', 'size': 100, 'shape': 'sphere', 'color': 'blue'},\n",
       "       {'fruit_num': 255140, 'name': 'grape', 'size': 100, 'shape': 'sphere', 'color': 'blue'},\n",
       "       {'fruit_num': 249599, 'name': 'grape', 'size': 100, 'shape': 'sphere', 'color': 'blue'},\n",
       "       {'fruit_num': 247553, 'name': 'grape', 'size': 100, 'shape': 'sphere', 'color': 'blue'},\n",
       "       {'fruit_num': 235687, 'name': 'grape', 'size': 100, 'shape': 'sphere', 'color': 'blue'},\n",
       "       {'fruit_num': 232101, 'name': 'grape', 'size': 100, 'shape': 'sphere', 'color': 'blue'},\n",
       "       {'fruit_num': 228815, 'name': 'grape', 'size': 100, 'shape': 'sphere', 'color': 'blue'},\n",
       "       {'fruit_num': 218021, 'name': 'grape', 'size': 100, 'shape': 'sphere', 'color': 'blue'},\n",
       "       {'fruit_num': 205143, 'name': 'grape', 'size': 100, 'shape': 'sphere', 'color': 'blue'},\n",
       "       {'fruit_num': 183652, 'name': 'grape', 'size': 100, 'shape': 'sphere', 'color': 'blue'},\n",
       "       {'fruit_num': 184188, 'name': 'grape', 'size': 100, 'shape': 'sphere', 'color': 'blue'},\n",
       "       {'fruit_num': 164784, 'name': 'grape', 'size': 100, 'shape': 'sphere', 'color': 'blue'},\n",
       "       {'fruit_num': 156976, 'name': 'grape', 'size': 100, 'shape': 'sphere', 'color': 'blue'},\n",
       "       {'fruit_num': 157490, 'name': 'grape', 'size': 100, 'shape': 'sphere', 'color': 'blue'},\n",
       "       {'fruit_num': 140289, 'name': 'grape', 'size': 100, 'shape': 'sphere', 'color': 'blue'},\n",
       "       {'fruit_num': 133936, 'name': 'grape', 'size': 100, 'shape': 'sphere', 'color': 'blue'},\n",
       "       {'fruit_num': 132799, 'name': 'grape', 'size': 100, 'shape': 'sphere', 'color': 'blue'},\n",
       "       {'fruit_num': 132866, 'name': 'grape', 'size': 100, 'shape': 'sphere', 'color': 'blue'},\n",
       "       {'fruit_num': 121694, 'name': 'grape', 'size': 100, 'shape': 'sphere', 'color': 'blue'},\n",
       "       {'fruit_num': 92645, 'name': 'grape', 'size': 100, 'shape': 'sphere', 'color': 'blue'},\n",
       "       {'fruit_num': 85060, 'name': 'grape', 'size': 100, 'shape': 'sphere', 'color': 'blue'},\n",
       "       {'fruit_num': 85353, 'name': 'grape', 'size': 100, 'shape': 'sphere', 'color': 'blue'},\n",
       "       {'fruit_num': 72090, 'name': 'grape', 'size': 100, 'shape': 'sphere', 'color': 'blue'},\n",
       "       {'fruit_num': 66744, 'name': 'grape', 'size': 100, 'shape': 'sphere', 'color': 'blue'},\n",
       "       {'fruit_num': 44308, 'name': 'grape', 'size': 100, 'shape': 'sphere', 'color': 'blue'},\n",
       "       {'fruit_num': 41275, 'name': 'grape', 'size': 100, 'shape': 'sphere', 'color': 'blue'},\n",
       "       {'fruit_num': 39425, 'name': 'grape', 'size': 100, 'shape': 'sphere', 'color': 'blue'},\n",
       "       {'fruit_num': 24464, 'name': 'grape', 'size': 100, 'shape': 'sphere', 'color': 'blue'},\n",
       "       {'fruit_num': 5753, 'name': 'grape', 'size': 100, 'shape': 'sphere', 'color': 'blue'}],\n",
       "      dtype=object)"
      ]
     },
     "execution_count": 4,
     "metadata": {},
     "output_type": "execute_result"
    }
   ],
   "source": [
    "fhb.find({'name': 'grape', 'color': 'blue', 'size': 100, 'shape': 'sphere'})"
   ]
  },
  {
   "cell_type": "code",
   "execution_count": null,
   "id": "46fc691d",
   "metadata": {},
   "outputs": [],
   "source": []
  },
  {
   "cell_type": "code",
   "execution_count": null,
   "id": "7fb5057c",
   "metadata": {},
   "outputs": [],
   "source": []
  },
  {
   "cell_type": "code",
   "execution_count": null,
   "id": "be004e17",
   "metadata": {},
   "outputs": [],
   "source": []
  },
  {
   "cell_type": "code",
   "execution_count": 5,
   "id": "42e86b42",
   "metadata": {},
   "outputs": [
    {
     "name": "stdout",
     "output_type": "stream",
     "text": [
      "55.1 ms ± 1.95 ms per loop (mean ± std. dev. of 7 runs, 10 loops each)\n"
     ]
    }
   ],
   "source": [
    "%%timeit\n",
    "[f for f in fruits if f['name'] == 'grape' and f['color'] == 'blue' and f['size'] == 100 and 'shape' == 'sphere']"
   ]
  },
  {
   "cell_type": "code",
   "execution_count": 6,
   "id": "9cb07f41",
   "metadata": {},
   "outputs": [],
   "source": [
    "df = pd.DataFrame.from_records(fruits)"
   ]
  },
  {
   "cell_type": "code",
   "execution_count": 7,
   "id": "85952dcb",
   "metadata": {},
   "outputs": [
    {
     "name": "stdout",
     "output_type": "stream",
     "text": [
      "68.5 ms ± 674 µs per loop (mean ± std. dev. of 7 runs, 10 loops each)\n"
     ]
    }
   ],
   "source": [
    "%%timeit\n",
    "df.query('name == \"grape\" and color == \"blue\" and size == 100 and shape == \"sphere\"')"
   ]
  },
  {
   "cell_type": "code",
   "execution_count": null,
   "id": "e00d4814",
   "metadata": {},
   "outputs": [],
   "source": []
  },
  {
   "cell_type": "code",
   "execution_count": 8,
   "id": "e6bc9157",
   "metadata": {},
   "outputs": [],
   "source": [
    "lb = LiteBox(\n",
    "    fruits,\n",
    "    {'name': str, 'color': str, 'size': int, 'shape': str}\n",
    ")"
   ]
  },
  {
   "cell_type": "code",
   "execution_count": 9,
   "id": "1622127d",
   "metadata": {},
   "outputs": [
    {
     "name": "stdout",
     "output_type": "stream",
     "text": [
      "5.35 ms ± 591 µs per loop (mean ± std. dev. of 7 runs, 100 loops each)\n"
     ]
    }
   ],
   "source": [
    "%%timeit\n",
    "_ = lb.find('name == \"grape\" and color == \"blue\" and size == 100 and shape == \"sphere\"')"
   ]
  },
  {
   "cell_type": "code",
   "execution_count": null,
   "id": "50fd13ac",
   "metadata": {},
   "outputs": [],
   "source": []
  },
  {
   "cell_type": "code",
   "execution_count": null,
   "id": "d4da5fb2",
   "metadata": {},
   "outputs": [],
   "source": []
  },
  {
   "cell_type": "code",
   "execution_count": null,
   "id": "ccdde386",
   "metadata": {},
   "outputs": [],
   "source": []
  },
  {
   "cell_type": "code",
   "execution_count": 10,
   "id": "7a39c151",
   "metadata": {},
   "outputs": [],
   "source": [
    "hb = HashBox(\n",
    "    fruits,\n",
    "    ['name', 'color', 'size', 'shape']\n",
    ")"
   ]
  },
  {
   "cell_type": "code",
   "execution_count": 11,
   "id": "b1e3fa2d",
   "metadata": {},
   "outputs": [
    {
     "name": "stdout",
     "output_type": "stream",
     "text": [
      "1.08 ms ± 9.43 µs per loop (mean ± std. dev. of 7 runs, 1000 loops each)\n"
     ]
    }
   ],
   "source": [
    "%%timeit\n",
    "_ = hb.find({'name': 'grape', 'color': 'blue', 'size': 100, 'shape': 'sphere'})"
   ]
  },
  {
   "cell_type": "code",
   "execution_count": 12,
   "id": "880988d9",
   "metadata": {},
   "outputs": [],
   "source": [
    "fhb = FrozenHashBox(\n",
    "    fruits,\n",
    "    ['name', 'color', 'size', 'shape']\n",
    ")"
   ]
  },
  {
   "cell_type": "code",
   "execution_count": 13,
   "id": "20829ac2",
   "metadata": {},
   "outputs": [
    {
     "name": "stdout",
     "output_type": "stream",
     "text": [
      "593 µs ± 5.68 µs per loop (mean ± std. dev. of 7 runs, 1000 loops each)\n"
     ]
    }
   ],
   "source": [
    "%%timeit\n",
    "_ = fhb.find({'name': 'grape', 'color': 'blue', 'size': 100, 'shape': 'sphere'})"
   ]
  },
  {
   "cell_type": "code",
   "execution_count": 14,
   "id": "93d818e9",
   "metadata": {},
   "outputs": [],
   "source": [
    "cProfile.run(\"fhb.find({'name': 'grape', 'color': 'blue', 'size': 100, 'shape': 'sphere'})\", 'fstats')"
   ]
  },
  {
   "cell_type": "code",
   "execution_count": 15,
   "id": "c987754d",
   "metadata": {},
   "outputs": [
    {
     "name": "stdout",
     "output_type": "stream",
     "text": [
      "Sun Jul 31 14:45:50 2022    fstats\n",
      "\n",
      "         36 function calls in 0.001 seconds\n",
      "\n",
      "   Ordered by: cumulative time\n",
      "\n",
      "   ncalls  tottime  percall  cumtime  percall filename:lineno(function)\n",
      "        1    0.000    0.000    0.001    0.001 {built-in method builtins.exec}\n",
      "        1    0.000    0.000    0.001    0.001 <string>:1(<module>)\n",
      "        1    0.000    0.000    0.001    0.001 /home/theo/anaconda3/lib/python3.9/site-packages/hashbox/frozen/main.py:49(find)\n",
      "        4    0.001    0.000    0.001    0.000 {built-in method sortednp._internal.intersect}\n",
      "        1    0.000    0.000    0.000    0.000 /home/theo/anaconda3/lib/python3.9/site-packages/hashbox/frozen/main.py:157(_get_objs_by_ids)\n",
      "        1    0.000    0.000    0.000    0.000 /home/theo/anaconda3/lib/python3.9/site-packages/hashbox/utils.py:22(validate_query)\n",
      "        4    0.000    0.000    0.000    0.000 /home/theo/anaconda3/lib/python3.9/site-packages/hashbox/frozen/main.py:135(_match_any_of)\n",
      "        4    0.000    0.000    0.000    0.000 /home/theo/anaconda3/lib/python3.9/site-packages/hashbox/frozen/frozen_attr.py:99(get)\n",
      "        4    0.000    0.000    0.000    0.000 {built-in method builtins.len}\n",
      "        1    0.000    0.000    0.000    0.000 {built-in method builtins.sorted}\n",
      "        1    0.000    0.000    0.000    0.000 {method 'difference' of 'set' objects}\n",
      "        5    0.000    0.000    0.000    0.000 {built-in method builtins.isinstance}\n",
      "        1    0.000    0.000    0.000    0.000 {method 'update' of 'set' objects}\n",
      "        4    0.000    0.000    0.000    0.000 {method 'append' of 'list' objects}\n",
      "        1    0.000    0.000    0.000    0.000 {method 'disable' of '_lsprof.Profiler' objects}\n",
      "        1    0.000    0.000    0.000    0.000 {method 'keys' of 'dict' objects}\n",
      "        1    0.000    0.000    0.000    0.000 {method 'items' of 'dict' objects}\n",
      "\n",
      "\n"
     ]
    },
    {
     "data": {
      "text/plain": [
       "<pstats.Stats at 0x7fb4f98354c0>"
      ]
     },
     "execution_count": 15,
     "metadata": {},
     "output_type": "execute_result"
    }
   ],
   "source": [
    "p = pstats.Stats('fstats')\n",
    "p.sort_stats(SortKey.CUMULATIVE)\n",
    "p.print_stats()"
   ]
  },
  {
   "cell_type": "code",
   "execution_count": null,
   "id": "6428327c",
   "metadata": {},
   "outputs": [],
   "source": []
  },
  {
   "cell_type": "code",
   "execution_count": 16,
   "id": "1b2dda42",
   "metadata": {},
   "outputs": [
    {
     "data": {
      "text/plain": [
       "413"
      ]
     },
     "execution_count": 16,
     "metadata": {},
     "output_type": "execute_result"
    }
   ],
   "source": [
    "len(fhb.find({'name': \"grape\", 'color': \"blue\", 'size': 100}))"
   ]
  },
  {
   "cell_type": "code",
   "execution_count": 17,
   "id": "6dbaeb77",
   "metadata": {},
   "outputs": [
    {
     "data": {
      "text/plain": [
       "413"
      ]
     },
     "execution_count": 17,
     "metadata": {},
     "output_type": "execute_result"
    }
   ],
   "source": [
    "len(hb.find({'name': \"grape\", 'color': \"blue\", 'size': 100}))"
   ]
  },
  {
   "cell_type": "code",
   "execution_count": 18,
   "id": "6f13aee2",
   "metadata": {},
   "outputs": [
    {
     "data": {
      "text/plain": [
       "413"
      ]
     },
     "execution_count": 18,
     "metadata": {},
     "output_type": "execute_result"
    }
   ],
   "source": [
    "len(lb.find('name == \"grape\" and color == \"blue\" and size == 100'))"
   ]
  },
  {
   "cell_type": "code",
   "execution_count": null,
   "id": "7078643d",
   "metadata": {},
   "outputs": [],
   "source": []
  }
 ],
 "metadata": {
  "kernelspec": {
   "display_name": "Python 3 (ipykernel)",
   "language": "python",
   "name": "python3"
  },
  "language_info": {
   "codemirror_mode": {
    "name": "ipython",
    "version": 3
   },
   "file_extension": ".py",
   "mimetype": "text/x-python",
   "name": "python",
   "nbconvert_exporter": "python",
   "pygments_lexer": "ipython3",
   "version": "3.9.7"
  }
 },
 "nbformat": 4,
 "nbformat_minor": 5
}
