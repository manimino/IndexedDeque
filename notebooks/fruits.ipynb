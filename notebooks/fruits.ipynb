{
 "cells": [
  {
   "cell_type": "markdown",
   "id": "8c42f99b",
   "metadata": {},
   "source": [
    "Find objects by attribute in Python -- fast\n",
    "\n",
    "Suppose you have a million objects in memory. And you want to find the few objects that matter to you. Fast.\n",
    "\n",
    "Let's make a million random fruits.\n",
    "```\n",
    "import random\n",
    "\n",
    "fruit_names = ['apple', 'grape', 'mango', 'banana', 'peach']\n",
    "colors = ['red', 'orange', 'yellow', 'green', 'blue']\n",
    "\n",
    "fruits = [\n",
    "    {\n",
    "        'fruit_num': i,\n",
    "        'name': random.choice(fruit_types),\n",
    "        'size': random.randint(1, 101),\n",
    "        'color: random.choice(color)\n",
    "    }\n",
    "    for i in range(1_000_000)\n",
    "]\n",
    "```\n",
    "\n",
    "**Challenge: Find all the blue grapes. You have 50 microseconds. Go!**\n",
    "\n",
    "The usual answers are to use an O(n) search, like a list comprehension, filter, or Pandas dataframe. That's fine for a small number of items, but it bogs down the more objects you have. Those methods can take 50 milliseconds, easy. That may not sound like much, but it's a thousand times too slow to beat the challenge.\n",
    "\n",
    "Let's run the timings and see.\n",
    "\n",
    "List comprehension:\n",
    "```\n",
    "%%timeit\n",
    "[]\n",
    "```\n",
    "\n",
    "```\n",
    "\n",
    "```\n",
    "\n",
    "OK, how about SQLite?\n",
    "\n",
    "SQLite looks like a great fit for this problem. With its tree-based indexing, it will surely beat the linear methods.\n",
    "\n"
   ]
  },
  {
   "cell_type": "code",
   "execution_count": 2,
   "id": "8cc0f8c6",
   "metadata": {},
   "outputs": [],
   "source": [
    "import random\n",
    "import pandas as pd\n",
    "from litebox import LiteBox\n",
    "from hashbox import HashBox, FrozenHashBox\n",
    "import cProfile\n",
    "import pstats\n",
    "from pstats import SortKey"
   ]
  },
  {
   "cell_type": "markdown",
   "id": "80a4764e",
   "metadata": {},
   "source": [
    "Dataset - 2 million fruits of different sizes, shapes, colors, and types."
   ]
  },
  {
   "cell_type": "code",
   "execution_count": 3,
   "id": "117c079d",
   "metadata": {},
   "outputs": [],
   "source": [
    "fruit_names = ['apple', 'grape', 'mango', 'banana', 'peach']\n",
    "colors = ['red', 'orange', 'yellow', 'green', 'blue']\n",
    "shapes = ['cube', 'sphere', 'pyramid', 'dodecahedron']\n",
    "\n",
    "fruits = [\n",
    "    {\n",
    "        'fruit_num': i,\n",
    "        'type': random.choice(fruit_names),\n",
    "        'size': random.randint(1, 101),\n",
    "        'shape': random.choice(shapes),\n",
    "        'color': random.choice(colors)\n",
    "    }\n",
    "    for i in range(2_000_000)\n",
    "]"
   ]
  },
  {
   "cell_type": "markdown",
   "id": "a16fd005",
   "metadata": {},
   "source": []
  },
  {
   "cell_type": "code",
   "execution_count": 3,
   "id": "79af24c2",
   "metadata": {},
   "outputs": [],
   "source": [
    "fhb = FrozenHashBox(\n",
    "    fruits,\n",
    "    ['name', 'color', 'size', 'shape']\n",
    ")"
   ]
  },
  {
   "cell_type": "code",
   "execution_count": 4,
   "id": "74bfd920",
   "metadata": {},
   "outputs": [
    {
     "data": {
      "text/plain": [
       "array([{'fruit_num': 11643, 'name': 'grape', 'size': 100, 'shape': 'sphere', 'color': 'blue'},\n",
       "       {'fruit_num': 22593, 'name': 'grape', 'size': 100, 'shape': 'sphere', 'color': 'blue'},\n",
       "       {'fruit_num': 55809, 'name': 'grape', 'size': 100, 'shape': 'sphere', 'color': 'blue'},\n",
       "       {'fruit_num': 61252, 'name': 'grape', 'size': 100, 'shape': 'sphere', 'color': 'blue'},\n",
       "       {'fruit_num': 67027, 'name': 'grape', 'size': 100, 'shape': 'sphere', 'color': 'blue'},\n",
       "       {'fruit_num': 71211, 'name': 'grape', 'size': 100, 'shape': 'sphere', 'color': 'blue'},\n",
       "       {'fruit_num': 84675, 'name': 'grape', 'size': 100, 'shape': 'sphere', 'color': 'blue'},\n",
       "       {'fruit_num': 85854, 'name': 'grape', 'size': 100, 'shape': 'sphere', 'color': 'blue'},\n",
       "       {'fruit_num': 86649, 'name': 'grape', 'size': 100, 'shape': 'sphere', 'color': 'blue'},\n",
       "       {'fruit_num': 87664, 'name': 'grape', 'size': 100, 'shape': 'sphere', 'color': 'blue'},\n",
       "       {'fruit_num': 89116, 'name': 'grape', 'size': 100, 'shape': 'sphere', 'color': 'blue'},\n",
       "       {'fruit_num': 100362, 'name': 'grape', 'size': 100, 'shape': 'sphere', 'color': 'blue'},\n",
       "       {'fruit_num': 102997, 'name': 'grape', 'size': 100, 'shape': 'sphere', 'color': 'blue'},\n",
       "       {'fruit_num': 103125, 'name': 'grape', 'size': 100, 'shape': 'sphere', 'color': 'blue'},\n",
       "       {'fruit_num': 107155, 'name': 'grape', 'size': 100, 'shape': 'sphere', 'color': 'blue'},\n",
       "       {'fruit_num': 133788, 'name': 'grape', 'size': 100, 'shape': 'sphere', 'color': 'blue'},\n",
       "       {'fruit_num': 135894, 'name': 'grape', 'size': 100, 'shape': 'sphere', 'color': 'blue'},\n",
       "       {'fruit_num': 175838, 'name': 'grape', 'size': 100, 'shape': 'sphere', 'color': 'blue'},\n",
       "       {'fruit_num': 178692, 'name': 'grape', 'size': 100, 'shape': 'sphere', 'color': 'blue'},\n",
       "       {'fruit_num': 188423, 'name': 'grape', 'size': 100, 'shape': 'sphere', 'color': 'blue'},\n",
       "       {'fruit_num': 194039, 'name': 'grape', 'size': 100, 'shape': 'sphere', 'color': 'blue'},\n",
       "       {'fruit_num': 218237, 'name': 'grape', 'size': 100, 'shape': 'sphere', 'color': 'blue'},\n",
       "       {'fruit_num': 233151, 'name': 'grape', 'size': 100, 'shape': 'sphere', 'color': 'blue'},\n",
       "       {'fruit_num': 235389, 'name': 'grape', 'size': 100, 'shape': 'sphere', 'color': 'blue'},\n",
       "       {'fruit_num': 258355, 'name': 'grape', 'size': 100, 'shape': 'sphere', 'color': 'blue'},\n",
       "       {'fruit_num': 259858, 'name': 'grape', 'size': 100, 'shape': 'sphere', 'color': 'blue'},\n",
       "       {'fruit_num': 269387, 'name': 'grape', 'size': 100, 'shape': 'sphere', 'color': 'blue'},\n",
       "       {'fruit_num': 284223, 'name': 'grape', 'size': 100, 'shape': 'sphere', 'color': 'blue'},\n",
       "       {'fruit_num': 316921, 'name': 'grape', 'size': 100, 'shape': 'sphere', 'color': 'blue'},\n",
       "       {'fruit_num': 317506, 'name': 'grape', 'size': 100, 'shape': 'sphere', 'color': 'blue'},\n",
       "       {'fruit_num': 322389, 'name': 'grape', 'size': 100, 'shape': 'sphere', 'color': 'blue'},\n",
       "       {'fruit_num': 329024, 'name': 'grape', 'size': 100, 'shape': 'sphere', 'color': 'blue'},\n",
       "       {'fruit_num': 339180, 'name': 'grape', 'size': 100, 'shape': 'sphere', 'color': 'blue'},\n",
       "       {'fruit_num': 343000, 'name': 'grape', 'size': 100, 'shape': 'sphere', 'color': 'blue'},\n",
       "       {'fruit_num': 346585, 'name': 'grape', 'size': 100, 'shape': 'sphere', 'color': 'blue'},\n",
       "       {'fruit_num': 367663, 'name': 'grape', 'size': 100, 'shape': 'sphere', 'color': 'blue'},\n",
       "       {'fruit_num': 375007, 'name': 'grape', 'size': 100, 'shape': 'sphere', 'color': 'blue'},\n",
       "       {'fruit_num': 379132, 'name': 'grape', 'size': 100, 'shape': 'sphere', 'color': 'blue'},\n",
       "       {'fruit_num': 383335, 'name': 'grape', 'size': 100, 'shape': 'sphere', 'color': 'blue'},\n",
       "       {'fruit_num': 434013, 'name': 'grape', 'size': 100, 'shape': 'sphere', 'color': 'blue'},\n",
       "       {'fruit_num': 440066, 'name': 'grape', 'size': 100, 'shape': 'sphere', 'color': 'blue'},\n",
       "       {'fruit_num': 447622, 'name': 'grape', 'size': 100, 'shape': 'sphere', 'color': 'blue'},\n",
       "       {'fruit_num': 465530, 'name': 'grape', 'size': 100, 'shape': 'sphere', 'color': 'blue'},\n",
       "       {'fruit_num': 473439, 'name': 'grape', 'size': 100, 'shape': 'sphere', 'color': 'blue'},\n",
       "       {'fruit_num': 479971, 'name': 'grape', 'size': 100, 'shape': 'sphere', 'color': 'blue'},\n",
       "       {'fruit_num': 495886, 'name': 'grape', 'size': 100, 'shape': 'sphere', 'color': 'blue'},\n",
       "       {'fruit_num': 501782, 'name': 'grape', 'size': 100, 'shape': 'sphere', 'color': 'blue'},\n",
       "       {'fruit_num': 502621, 'name': 'grape', 'size': 100, 'shape': 'sphere', 'color': 'blue'},\n",
       "       {'fruit_num': 519488, 'name': 'grape', 'size': 100, 'shape': 'sphere', 'color': 'blue'},\n",
       "       {'fruit_num': 533272, 'name': 'grape', 'size': 100, 'shape': 'sphere', 'color': 'blue'},\n",
       "       {'fruit_num': 541131, 'name': 'grape', 'size': 100, 'shape': 'sphere', 'color': 'blue'},\n",
       "       {'fruit_num': 552171, 'name': 'grape', 'size': 100, 'shape': 'sphere', 'color': 'blue'},\n",
       "       {'fruit_num': 552301, 'name': 'grape', 'size': 100, 'shape': 'sphere', 'color': 'blue'},\n",
       "       {'fruit_num': 579301, 'name': 'grape', 'size': 100, 'shape': 'sphere', 'color': 'blue'},\n",
       "       {'fruit_num': 588403, 'name': 'grape', 'size': 100, 'shape': 'sphere', 'color': 'blue'},\n",
       "       {'fruit_num': 602257, 'name': 'grape', 'size': 100, 'shape': 'sphere', 'color': 'blue'},\n",
       "       {'fruit_num': 606759, 'name': 'grape', 'size': 100, 'shape': 'sphere', 'color': 'blue'},\n",
       "       {'fruit_num': 611963, 'name': 'grape', 'size': 100, 'shape': 'sphere', 'color': 'blue'},\n",
       "       {'fruit_num': 643222, 'name': 'grape', 'size': 100, 'shape': 'sphere', 'color': 'blue'},\n",
       "       {'fruit_num': 653853, 'name': 'grape', 'size': 100, 'shape': 'sphere', 'color': 'blue'},\n",
       "       {'fruit_num': 667386, 'name': 'grape', 'size': 100, 'shape': 'sphere', 'color': 'blue'},\n",
       "       {'fruit_num': 673975, 'name': 'grape', 'size': 100, 'shape': 'sphere', 'color': 'blue'},\n",
       "       {'fruit_num': 708078, 'name': 'grape', 'size': 100, 'shape': 'sphere', 'color': 'blue'},\n",
       "       {'fruit_num': 710730, 'name': 'grape', 'size': 100, 'shape': 'sphere', 'color': 'blue'},\n",
       "       {'fruit_num': 724463, 'name': 'grape', 'size': 100, 'shape': 'sphere', 'color': 'blue'},\n",
       "       {'fruit_num': 728777, 'name': 'grape', 'size': 100, 'shape': 'sphere', 'color': 'blue'},\n",
       "       {'fruit_num': 735211, 'name': 'grape', 'size': 100, 'shape': 'sphere', 'color': 'blue'},\n",
       "       {'fruit_num': 742853, 'name': 'grape', 'size': 100, 'shape': 'sphere', 'color': 'blue'},\n",
       "       {'fruit_num': 746874, 'name': 'grape', 'size': 100, 'shape': 'sphere', 'color': 'blue'},\n",
       "       {'fruit_num': 749040, 'name': 'grape', 'size': 100, 'shape': 'sphere', 'color': 'blue'},\n",
       "       {'fruit_num': 751813, 'name': 'grape', 'size': 100, 'shape': 'sphere', 'color': 'blue'},\n",
       "       {'fruit_num': 754872, 'name': 'grape', 'size': 100, 'shape': 'sphere', 'color': 'blue'},\n",
       "       {'fruit_num': 781333, 'name': 'grape', 'size': 100, 'shape': 'sphere', 'color': 'blue'},\n",
       "       {'fruit_num': 785615, 'name': 'grape', 'size': 100, 'shape': 'sphere', 'color': 'blue'},\n",
       "       {'fruit_num': 793279, 'name': 'grape', 'size': 100, 'shape': 'sphere', 'color': 'blue'},\n",
       "       {'fruit_num': 795306, 'name': 'grape', 'size': 100, 'shape': 'sphere', 'color': 'blue'},\n",
       "       {'fruit_num': 798338, 'name': 'grape', 'size': 100, 'shape': 'sphere', 'color': 'blue'},\n",
       "       {'fruit_num': 801230, 'name': 'grape', 'size': 100, 'shape': 'sphere', 'color': 'blue'},\n",
       "       {'fruit_num': 840280, 'name': 'grape', 'size': 100, 'shape': 'sphere', 'color': 'blue'},\n",
       "       {'fruit_num': 841105, 'name': 'grape', 'size': 100, 'shape': 'sphere', 'color': 'blue'},\n",
       "       {'fruit_num': 844788, 'name': 'grape', 'size': 100, 'shape': 'sphere', 'color': 'blue'},\n",
       "       {'fruit_num': 845021, 'name': 'grape', 'size': 100, 'shape': 'sphere', 'color': 'blue'},\n",
       "       {'fruit_num': 862723, 'name': 'grape', 'size': 100, 'shape': 'sphere', 'color': 'blue'},\n",
       "       {'fruit_num': 864598, 'name': 'grape', 'size': 100, 'shape': 'sphere', 'color': 'blue'},\n",
       "       {'fruit_num': 884362, 'name': 'grape', 'size': 100, 'shape': 'sphere', 'color': 'blue'},\n",
       "       {'fruit_num': 894490, 'name': 'grape', 'size': 100, 'shape': 'sphere', 'color': 'blue'},\n",
       "       {'fruit_num': 914729, 'name': 'grape', 'size': 100, 'shape': 'sphere', 'color': 'blue'},\n",
       "       {'fruit_num': 920859, 'name': 'grape', 'size': 100, 'shape': 'sphere', 'color': 'blue'},\n",
       "       {'fruit_num': 930082, 'name': 'grape', 'size': 100, 'shape': 'sphere', 'color': 'blue'},\n",
       "       {'fruit_num': 930115, 'name': 'grape', 'size': 100, 'shape': 'sphere', 'color': 'blue'},\n",
       "       {'fruit_num': 938981, 'name': 'grape', 'size': 100, 'shape': 'sphere', 'color': 'blue'},\n",
       "       {'fruit_num': 947522, 'name': 'grape', 'size': 100, 'shape': 'sphere', 'color': 'blue'},\n",
       "       {'fruit_num': 950012, 'name': 'grape', 'size': 100, 'shape': 'sphere', 'color': 'blue'},\n",
       "       {'fruit_num': 982872, 'name': 'grape', 'size': 100, 'shape': 'sphere', 'color': 'blue'}],\n",
       "      dtype=object)"
      ]
     },
     "execution_count": 4,
     "metadata": {},
     "output_type": "execute_result"
    }
   ],
   "source": [
    "fhb.find({'name': 'grape', 'color': 'blue', 'size': 100, 'shape': 'sphere'})"
   ]
  },
  {
   "cell_type": "code",
   "execution_count": 21,
   "id": "f00593e8",
   "metadata": {},
   "outputs": [
    {
     "name": "stdout",
     "output_type": "stream",
     "text": [
      "563 µs ± 32.6 µs per loop (mean ± std. dev. of 7 runs, 1000 loops each)\n"
     ]
    }
   ],
   "source": [
    "%%timeit\n",
    "_ = fhb.find({'name': 'grape', 'color': 'blue', 'size': 100, 'shape': 'sphere'})"
   ]
  },
  {
   "cell_type": "code",
   "execution_count": null,
   "id": "a27ca4bf",
   "metadata": {},
   "outputs": [],
   "source": []
  },
  {
   "cell_type": "code",
   "execution_count": null,
   "id": "f166180a",
   "metadata": {},
   "outputs": [],
   "source": []
  },
  {
   "cell_type": "code",
   "execution_count": 6,
   "id": "42e86b42",
   "metadata": {},
   "outputs": [
    {
     "name": "stdout",
     "output_type": "stream",
     "text": [
      "53.3 ms ± 1.08 ms per loop (mean ± std. dev. of 7 runs, 10 loops each)\n"
     ]
    }
   ],
   "source": [
    "%%timeit\n",
    "[f for f in fruits if f['name'] == 'grape' and f['color'] == 'blue' and f['size'] == 100 and 'shape' == 'sphere']"
   ]
  },
  {
   "cell_type": "code",
   "execution_count": 7,
   "id": "9cb07f41",
   "metadata": {},
   "outputs": [],
   "source": [
    "df = pd.DataFrame.from_records(fruits)"
   ]
  },
  {
   "cell_type": "code",
   "execution_count": 8,
   "id": "85952dcb",
   "metadata": {},
   "outputs": [
    {
     "name": "stdout",
     "output_type": "stream",
     "text": [
      "70.9 ms ± 896 µs per loop (mean ± std. dev. of 7 runs, 10 loops each)\n"
     ]
    }
   ],
   "source": [
    "%%timeit\n",
    "df.query('name == \"grape\" and color == \"blue\" and size == 100 and shape == \"sphere\"')"
   ]
  },
  {
   "cell_type": "code",
   "execution_count": null,
   "id": "e00d4814",
   "metadata": {},
   "outputs": [],
   "source": []
  },
  {
   "cell_type": "code",
   "execution_count": 4,
   "id": "e6bc9157",
   "metadata": {},
   "outputs": [
    {
     "data": {
      "text/plain": [
       "<litebox.main.LiteBox at 0x7fe06e599400>"
      ]
     },
     "execution_count": 4,
     "metadata": {},
     "output_type": "execute_result"
    }
   ],
   "source": [
    "lb = LiteBox(\n",
    "    fruits,\n",
    "    {'name': str, 'color': str, 'size': int, 'shape': str}\n",
    ")"
   ]
  },
  {
   "cell_type": "code",
   "execution_count": 20,
   "id": "1622127d",
   "metadata": {},
   "outputs": [
    {
     "name": "stdout",
     "output_type": "stream",
     "text": [
      "5.01 ms ± 197 µs per loop (mean ± std. dev. of 7 runs, 100 loops each)\n"
     ]
    }
   ],
   "source": [
    "%%timeit\n",
    "_ = lb.find('name == \"grape\" and color == \"blue\" and size == 100 and shape == \"sphere\"')"
   ]
  },
  {
   "cell_type": "code",
   "execution_count": null,
   "id": "1788afe6",
   "metadata": {},
   "outputs": [],
   "source": []
  },
  {
   "cell_type": "code",
   "execution_count": null,
   "id": "30dd826a",
   "metadata": {},
   "outputs": [],
   "source": []
  },
  {
   "cell_type": "code",
   "execution_count": null,
   "id": "5d52070c",
   "metadata": {},
   "outputs": [],
   "source": []
  },
  {
   "cell_type": "code",
   "execution_count": null,
   "id": "7a39c151",
   "metadata": {},
   "outputs": [],
   "source": [
    "hb = HashBox(\n",
    "    fruits,\n",
    "    ['name', 'color', 'size', 'shape']\n",
    ")"
   ]
  },
  {
   "cell_type": "code",
   "execution_count": null,
   "id": "b1e3fa2d",
   "metadata": {},
   "outputs": [],
   "source": [
    "%%timeit\n",
    "_ = hb.find({'name': 'grape', 'color': 'blue', 'size': 100, 'shape': 'sphere'})"
   ]
  },
  {
   "cell_type": "code",
   "execution_count": null,
   "id": "880988d9",
   "metadata": {},
   "outputs": [],
   "source": []
  },
  {
   "cell_type": "code",
   "execution_count": null,
   "id": "20829ac2",
   "metadata": {},
   "outputs": [],
   "source": []
  },
  {
   "cell_type": "code",
   "execution_count": null,
   "id": "7572efd7",
   "metadata": {},
   "outputs": [],
   "source": [
    "cProfile.run(\"fhb.find({'name': 'grape', 'color': 'blue', 'size': 100, 'shape': 'sphere'})\", 'fstats')"
   ]
  },
  {
   "cell_type": "code",
   "execution_count": null,
   "id": "357ecb50",
   "metadata": {},
   "outputs": [],
   "source": [
    "p = pstats.Stats('fstats')\n",
    "p.sort_stats(SortKey.CUMULATIVE)\n",
    "p.print_stats()"
   ]
  },
  {
   "cell_type": "code",
   "execution_count": null,
   "id": "c1b52836",
   "metadata": {},
   "outputs": [],
   "source": []
  },
  {
   "cell_type": "code",
   "execution_count": null,
   "id": "1b2dda42",
   "metadata": {},
   "outputs": [],
   "source": [
    "len(fhb.find({'name': \"grape\", 'color': \"blue\", 'size': 100}))"
   ]
  },
  {
   "cell_type": "code",
   "execution_count": null,
   "id": "6dbaeb77",
   "metadata": {},
   "outputs": [],
   "source": [
    "len(hb.find({'name': \"grape\", 'color': \"blue\", 'size': 100}))"
   ]
  },
  {
   "cell_type": "code",
   "execution_count": null,
   "id": "6f13aee2",
   "metadata": {},
   "outputs": [],
   "source": [
    "len(lb.find('name == \"grape\" and color == \"blue\" and size == 100'))"
   ]
  },
  {
   "cell_type": "code",
   "execution_count": null,
   "id": "7078643d",
   "metadata": {},
   "outputs": [],
   "source": []
  }
 ],
 "metadata": {
  "kernelspec": {
   "display_name": "Python 3 (ipykernel)",
   "language": "python",
   "name": "python3"
  },
  "language_info": {
   "codemirror_mode": {
    "name": "ipython",
    "version": 3
   },
   "file_extension": ".py",
   "mimetype": "text/x-python",
   "name": "python",
   "nbconvert_exporter": "python",
   "pygments_lexer": "ipython3",
   "version": "3.9.7"
  }
 },
 "nbformat": 4,
 "nbformat_minor": 5
}
