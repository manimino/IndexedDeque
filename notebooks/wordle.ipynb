{
 "cells": [
  {
   "cell_type": "markdown",
   "id": "a245e7b1",
   "metadata": {},
   "source": [
    "```\n",
    "Let's use hashindex to solve Wordle and see if it's fast!\n",
    "\n",
    "Here is the game hashindex played.\n",
    "```"
   ]
  },
  {
   "cell_type": "markdown",
   "id": "3dcd66b1",
   "metadata": {},
   "source": [
    "![wordle game](wordle.png)"
   ]
  },
  {
   "cell_type": "code",
   "execution_count": 1,
   "id": "57892ce8",
   "metadata": {},
   "outputs": [],
   "source": [
    "# note: 469 us and 4.21ms were the timings of Frozen and Mutable respectively, prior to the rewrite.\n",
    "# wonder how crappy they'll be now.\n",
    "\n",
    "# hey nice!! Mutable is actually a little faster for whatever reason. 3.12ms now.\n",
    "# Gotta write Frozen still but, you know. Yay!"
   ]
  },
  {
   "cell_type": "code",
   "execution_count": 2,
   "id": "20449aca",
   "metadata": {},
   "outputs": [],
   "source": [
    "import string\n",
    "from functools import partial\n",
    "from hashindex import HashIndex\n",
    "from words import all_wordle_words  # contains all 5-letter Wordle words as tuples of (word, frequency in English)"
   ]
  },
  {
   "cell_type": "code",
   "execution_count": 3,
   "id": "2b92e4d2",
   "metadata": {},
   "outputs": [],
   "source": [
    "# Generate 5 functions to fetch the letter at each position in the word.\n",
    "def char_at(pos, w):\n",
    "    return w[0][pos]\n",
    "\n",
    "def make_char_at_function(pos):\n",
    "    p = partial(char_at, pos)\n",
    "    p.__name__ = f'at_{pos}'\n",
    "    return p\n",
    "\n",
    "char_at = {pos: make_char_at_function(pos) for pos in range(5)}"
   ]
  },
  {
   "cell_type": "code",
   "execution_count": 4,
   "id": "71673079",
   "metadata": {},
   "outputs": [],
   "source": [
    "# Generate 26 functions that count the occurrences of the specific letter.\n",
    "\n",
    "def char_count(c, w):\n",
    "    return w[0].count(c)\n",
    "\n",
    "def make_char_count_function(letter):\n",
    "    p = partial(char_count, letter)\n",
    "    p.__name__ = f'has_{letter}'\n",
    "    return p\n",
    "\n",
    "char_count = {letter: make_char_count_function(letter) for letter in string.ascii_uppercase}"
   ]
  },
  {
   "cell_type": "code",
   "execution_count": 5,
   "id": "ebd7da8f",
   "metadata": {},
   "outputs": [],
   "source": [
    "hi = HashIndex(all_wordle_words, on=list(char_at.values()) + list(char_count.values()))\n",
    "#  hi.freeze()"
   ]
  },
  {
   "cell_type": "code",
   "execution_count": 6,
   "id": "0747bda8",
   "metadata": {
    "scrolled": true
   },
   "outputs": [
    {
     "data": {
      "text/plain": [
       "[('ABOUT', 1226734006),\n",
       " ('OTHER', 978481319),\n",
       " ('WHICH', 810514085),\n",
       " ('THEIR', 782849411),\n",
       " ('THERE', 701170205),\n",
       " ('FIRST', 578161543),\n",
       " ('WOULD', 572644147),\n",
       " ('THESE', 541003982),\n",
       " ('CLICK', 536746424),\n",
       " ('PRICE', 501651226)]"
      ]
     },
     "execution_count": 6,
     "metadata": {},
     "output_type": "execute_result"
    }
   ],
   "source": [
    "ws = hi.find(\n",
    "    match = {\n",
    "    },\n",
    "    exclude = {\n",
    "    }\n",
    ")\n",
    "list(sorted(ws, key = lambda w: w[1], reverse=True))[:10]"
   ]
  },
  {
   "cell_type": "code",
   "execution_count": 7,
   "id": "ce57d3e8",
   "metadata": {},
   "outputs": [
    {
     "data": {
      "text/plain": [
       "[('STUDY', 152978354),\n",
       " ('UNTIL', 113090086),\n",
       " ('STUFF', 81444510),\n",
       " ('QUITE', 58777731),\n",
       " ('UNITS', 56512308),\n",
       " ('SUITE', 44829675),\n",
       " ('TRUTH', 35345925),\n",
       " ('TRUCK', 32136249),\n",
       " ('TRULY', 21693553),\n",
       " ('DUTCH', 19000979)]"
      ]
     },
     "execution_count": 7,
     "metadata": {},
     "output_type": "execute_result"
    }
   ],
   "source": [
    "ws = hi.find(\n",
    "    match = {\n",
    "        char_count['A']: 0,\n",
    "        char_count['B']: 0,\n",
    "        char_count['O']: 0,\n",
    "    },\n",
    "    exclude = {\n",
    "        char_count['U']: 0,\n",
    "        char_count['T']: 0,\n",
    "        char_at[3]: 'U',\n",
    "        char_at[4]: 'T',\n",
    "    }\n",
    ")\n",
    "list(sorted(ws, key = lambda w: w[1], reverse=True))[:10]"
   ]
  },
  {
   "cell_type": "code",
   "execution_count": 8,
   "id": "17bc045c",
   "metadata": {},
   "outputs": [
    {
     "data": {
      "text/plain": [
       "[('HUTCH', 1373107),\n",
       " ('CUTER', 152750),\n",
       " ('MUTCH', 106606),\n",
       " ('KUTCH', 67973),\n",
       " ('TUTEE', 17303),\n",
       " ('MUTER', 6358),\n",
       " ('CUTCH', 6358)]"
      ]
     },
     "execution_count": 8,
     "metadata": {},
     "output_type": "execute_result"
    }
   ],
   "source": [
    "ws = hi.find(\n",
    "    match = {\n",
    "        char_count['S']: 0,\n",
    "        char_count['A']: 0,\n",
    "        char_count['B']: 0,\n",
    "        char_count['O']: 0,\n",
    "        char_count['Y']: 0,\n",
    "        char_count['D']: 0,\n",
    "        char_count['N']: 0,\n",
    "        char_count['I']: 0,\n",
    "        char_count['L']: 0,\n",
    "        char_at[2]: 'T'\n",
    "    },\n",
    "    exclude = {\n",
    "        char_count['U']: 0,\n",
    "        char_count['T']: 0,\n",
    "        char_at[0]: 'U',\n",
    "        char_at[1]: 'T',\n",
    "        char_at[2]: 'U',\n",
    "        char_at[3]: 'U',\n",
    "        char_at[4]: 'T',\n",
    "    }\n",
    ")\n",
    "list(sorted(ws, key = lambda w: w[1], reverse=True))[:10]"
   ]
  },
  {
   "cell_type": "code",
   "execution_count": 9,
   "id": "d4e8e977",
   "metadata": {},
   "outputs": [
    {
     "name": "stdout",
     "output_type": "stream",
     "text": [
      "3.18 ms ± 83.9 µs per loop (mean ± std. dev. of 5 runs, 25 loops each)\n"
     ]
    }
   ],
   "source": [
    "%%timeit -n 25 -r 5 \n",
    "ws = hi.find(\n",
    "    match = {\n",
    "        char_count['S']: 0,\n",
    "        char_count['A']: 0,\n",
    "        char_count['B']: 0,\n",
    "        char_count['O']: 0,\n",
    "        char_count['Y']: 0,\n",
    "        char_count['D']: 0,\n",
    "        char_count['N']: 0,\n",
    "        char_count['I']: 0,\n",
    "        char_count['L']: 0,\n",
    "        char_at[2]: 'T'\n",
    "    },\n",
    "    exclude = {\n",
    "        char_count['U']: 0,\n",
    "        char_count['T']: 0,\n",
    "        char_at[0]: 'U',\n",
    "        char_at[1]: 'T',\n",
    "        char_at[2]: 'U',\n",
    "        char_at[3]: 'U',\n",
    "        char_at[4]: 'T',\n",
    "    }\n",
    ")"
   ]
  },
  {
   "cell_type": "markdown",
   "id": "be0f8b83",
   "metadata": {},
   "source": [
    "```\n",
    "Compare: find words by list comprehension\n",
    "    \n",
    "A frozen HashIndex is 10x faster or so. Not too shabby for such a small dataset!\n",
    "```"
   ]
  },
  {
   "cell_type": "code",
   "execution_count": 10,
   "id": "c1020b45",
   "metadata": {},
   "outputs": [
    {
     "name": "stdout",
     "output_type": "stream",
     "text": [
      "4.07 ms ± 87.3 µs per loop (mean ± std. dev. of 5 runs, 25 loops each)\n"
     ]
    }
   ],
   "source": [
    "%%timeit -n 25 -r 5 \n",
    "z = [w for w in all_wordle_words if \n",
    "    w[0].count('S') == 0 and\n",
    "    w[0].count('A') == 0 and\n",
    "    w[0].count('B') == 0 and\n",
    "    w[0].count('O') == 0 and\n",
    "    w[0].count('Y') == 0 and\n",
    "    w[0].count('Y') == 0 and\n",
    "    w[0].count('D') == 0 and\n",
    "    w[0].count('N') == 0 and\n",
    "    w[0].count('I') == 0 and\n",
    "    w[0].count('L') == 0 and\n",
    "    w[0][2] == 'T' and\n",
    "    w[0].count('U') != 0 and\n",
    "    w[0].count('T') != 0 and\n",
    "    w[0][0] != 'U' and\n",
    "    w[0][1] != 'T' and\n",
    "    w[0][2] != 'U' and\n",
    "    w[0][3] != 'U' and\n",
    "    w[0][4] != 'T' \n",
    "]"
   ]
  },
  {
   "cell_type": "code",
   "execution_count": 11,
   "id": "0885d68b",
   "metadata": {},
   "outputs": [
    {
     "data": {
      "text/plain": [
       "[('HUTCH', 1373107),\n",
       " ('CUTER', 152750),\n",
       " ('MUTCH', 106606),\n",
       " ('KUTCH', 67973),\n",
       " ('TUTEE', 17303),\n",
       " ('MUTER', 6358),\n",
       " ('CUTCH', 6358)]"
      ]
     },
     "execution_count": 11,
     "metadata": {},
     "output_type": "execute_result"
    }
   ],
   "source": [
    "z = [w for w in all_wordle_words if \n",
    "    w[0].count('S') == 0 and\n",
    "    w[0].count('A') == 0 and\n",
    "    w[0].count('B') == 0 and\n",
    "    w[0].count('O') == 0 and\n",
    "    w[0].count('Y') == 0 and\n",
    "    w[0].count('Y') == 0 and\n",
    "    w[0].count('D') == 0 and\n",
    "    w[0].count('N') == 0 and\n",
    "    w[0].count('I') == 0 and\n",
    "    w[0].count('L') == 0 and\n",
    "    w[0][2] == 'T' and\n",
    "    w[0].count('U') != 0 and\n",
    "    w[0].count('T') != 0 and\n",
    "    w[0][0] != 'U' and\n",
    "    w[0][1] != 'T' and\n",
    "    w[0][2] != 'U' and\n",
    "    w[0][3] != 'U' and\n",
    "    w[0][4] != 'T' \n",
    "]\n",
    "z"
   ]
  },
  {
   "cell_type": "code",
   "execution_count": null,
   "id": "d544bf81",
   "metadata": {},
   "outputs": [],
   "source": []
  }
 ],
 "metadata": {
  "kernelspec": {
   "display_name": "Python 3 (ipykernel)",
   "language": "python",
   "name": "python3"
  },
  "language_info": {
   "codemirror_mode": {
    "name": "ipython",
    "version": 3
   },
   "file_extension": ".py",
   "mimetype": "text/x-python",
   "name": "python",
   "nbconvert_exporter": "python",
   "pygments_lexer": "ipython3",
   "version": "3.9.7"
  }
 },
 "nbformat": 4,
 "nbformat_minor": 5
}
