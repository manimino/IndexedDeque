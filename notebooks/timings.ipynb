{
 "cells": [
  {
   "cell_type": "code",
   "execution_count": 1,
   "id": "d0970b52",
   "metadata": {},
   "outputs": [],
   "source": [
    "from dataclasses import dataclass\n",
    "from bisect import bisect_left\n",
    "import random\n",
    "import string\n",
    "import time\n",
    "import numpy as np\n",
    "from sortedcontainers import SortedDict\n",
    "from pympler.asizeof import asizeof\n",
    "import sortednp as snp\n",
    "from operator import itemgetter\n",
    "from typing import List, Optional, Any\n",
    "from cykhash import Int64Set"
   ]
  },
  {
   "cell_type": "markdown",
   "id": "46555f61",
   "metadata": {},
   "source": [
    "### How long does it take to look up 1M objects in a large dictionary?"
   ]
  },
  {
   "cell_type": "code",
   "execution_count": 51,
   "id": "478fa71c",
   "metadata": {},
   "outputs": [],
   "source": [
    "large = 10**7\n",
    "\n",
    "# Even at small n_gets, the sortednp lookup is much faster thanks to galloping search.\n",
    "n_get = 10**6"
   ]
  },
  {
   "cell_type": "code",
   "execution_count": 52,
   "id": "507bdf70",
   "metadata": {},
   "outputs": [
    {
     "data": {
      "text/plain": [
       "9999949"
      ]
     },
     "execution_count": 52,
     "metadata": {},
     "output_type": "execute_result"
    }
   ],
   "source": [
    "# make a dict of size 'large'\n",
    "rand_ints = [int(random.random()*10**12) for _ in range(large)]\n",
    "d = {rand_ints[i]: 'a' for i in range(large)}\n",
    "len(d)"
   ]
  },
  {
   "cell_type": "code",
   "execution_count": 53,
   "id": "c2a15e61",
   "metadata": {},
   "outputs": [
    {
     "name": "stdout",
     "output_type": "stream",
     "text": [
      "352 ms ± 4.51 ms per loop (mean ± std. dev. of 5 runs, 5 loops each)\n"
     ]
    }
   ],
   "source": [
    "%%timeit -n 5 -r 5\n",
    "# get 1M of them (list)\n",
    "_ = [d[ri] for ri in rand_ints[-n_get:]]"
   ]
  },
  {
   "cell_type": "code",
   "execution_count": 92,
   "id": "9c7e7e6f",
   "metadata": {},
   "outputs": [
    {
     "ename": "SyntaxError",
     "evalue": "unexpected EOF while parsing (<unknown>, line 2)",
     "output_type": "error",
     "traceback": [
      "Traceback \u001b[0;36m(most recent call last)\u001b[0m:\n",
      "  File \u001b[1;32m\"/home/theo/anaconda3/lib/python3.9/site-packages/IPython/core/interactiveshell.py\"\u001b[0m, line \u001b[1;32m3444\u001b[0m, in \u001b[1;35mrun_code\u001b[0m\n    exec(code_obj, self.user_global_ns, self.user_ns)\n",
      "  File \u001b[1;32m\"/tmp/ipykernel_134875/1150238540.py\"\u001b[0m, line \u001b[1;32m1\u001b[0m, in \u001b[1;35m<module>\u001b[0m\n    get_ipython().run_cell_magic('timeit', '-n 5 -r 5', '# get 1M of them (itemgetter)\\n_ = (itemgetter(*rand_ints[-n_get:])(d)\\n')\n",
      "  File \u001b[1;32m\"/home/theo/anaconda3/lib/python3.9/site-packages/IPython/core/interactiveshell.py\"\u001b[0m, line \u001b[1;32m2406\u001b[0m, in \u001b[1;35mrun_cell_magic\u001b[0m\n    result = fn(*args, **kwargs)\n",
      "  File \u001b[1;32m\"/home/theo/anaconda3/lib/python3.9/site-packages/decorator.py\"\u001b[0m, line \u001b[1;32m232\u001b[0m, in \u001b[1;35mfun\u001b[0m\n    return caller(func, *(extras + args), **kw)\n",
      "  File \u001b[1;32m\"/home/theo/anaconda3/lib/python3.9/site-packages/IPython/core/magic.py\"\u001b[0m, line \u001b[1;32m187\u001b[0m, in \u001b[1;35m<lambda>\u001b[0m\n    call = lambda f, *a, **k: f(*a, **k)\n",
      "  File \u001b[1;32m\"/home/theo/anaconda3/lib/python3.9/site-packages/IPython/core/magics/execution.py\"\u001b[0m, line \u001b[1;32m1115\u001b[0m, in \u001b[1;35mtimeit\u001b[0m\n    ast_stmt = self.shell.compile.ast_parse(transform(cell))\n",
      "\u001b[0;36m  File \u001b[0;32m\"/home/theo/anaconda3/lib/python3.9/site-packages/IPython/core/compilerop.py\"\u001b[0;36m, line \u001b[0;32m101\u001b[0;36m, in \u001b[0;35mast_parse\u001b[0;36m\u001b[0m\n\u001b[0;31m    return compile(source, filename, symbol, self.flags | PyCF_ONLY_AST, 1)\u001b[0m\n",
      "\u001b[0;36m  File \u001b[0;32m\"<unknown>\"\u001b[0;36m, line \u001b[0;32m2\u001b[0m\n\u001b[0;31m    _ = (itemgetter(*rand_ints[-n_get:])(d)\u001b[0m\n\u001b[0m                                           ^\u001b[0m\n\u001b[0;31mSyntaxError\u001b[0m\u001b[0;31m:\u001b[0m unexpected EOF while parsing\n"
     ]
    }
   ],
   "source": [
    "%%timeit -n 5 -r 5\n",
    "# get 1M of them (itemgetter)\n",
    "_ = itemgetter(*rand_ints[-n_get:])(d))"
   ]
  },
  {
   "cell_type": "code",
   "execution_count": 82,
   "id": "97244c4e",
   "metadata": {},
   "outputs": [
    {
     "name": "stdout",
     "output_type": "stream",
     "text": [
      "407 ms ± 6.39 ms per loop (mean ± std. dev. of 5 runs, 5 loops each)\n"
     ]
    }
   ],
   "source": [
    "%%timeit -n 5 -r 5\n",
    "# get 1M of them as np array (itemgetter)\n",
    "_ = np.array(itemgetter(*rand_ints[-n_get:])(d))"
   ]
  },
  {
   "cell_type": "markdown",
   "id": "b3988fee",
   "metadata": {},
   "source": [
    "### How long does it take to get 1M items from a large sorted numpy array?"
   ]
  },
  {
   "cell_type": "code",
   "execution_count": 64,
   "id": "bcc2460b",
   "metadata": {},
   "outputs": [
    {
     "data": {
      "text/plain": [
       "array([  4,  16,  30,  37,  43,  69,  73,  97,  98, 107])"
      ]
     },
     "execution_count": 64,
     "metadata": {},
     "output_type": "execute_result"
    }
   ],
   "source": [
    "arr = np.array(range(large))\n",
    "items_ls = ['a' for _ in range(large)]\n",
    "items_np = np.array(items_ls)\n",
    "sub = np.random.choice(arr, size=(n_get,), replace=False)\n",
    "sub = np.sort(sub)\n",
    "sub[:10]"
   ]
  },
  {
   "cell_type": "code",
   "execution_count": 69,
   "id": "7e95e572",
   "metadata": {},
   "outputs": [
    {
     "name": "stdout",
     "output_type": "stream",
     "text": [
      "34.4 ms ± 1.9 ms per loop (mean ± std. dev. of 5 runs, 5 loops each)\n"
     ]
    }
   ],
   "source": [
    "%%timeit -n 5 -r 5\n",
    "# get as numpy array\n",
    "idxs = snp.intersect(sub, arr, indices=True)[1][1]\n",
    "_ = items_np[idxs]"
   ]
  },
  {
   "cell_type": "code",
   "execution_count": 87,
   "id": "ad2da821",
   "metadata": {},
   "outputs": [
    {
     "name": "stdout",
     "output_type": "stream",
     "text": [
      "100 ms ± 2.89 ms per loop (mean ± std. dev. of 5 runs, 5 loops each)\n"
     ]
    }
   ],
   "source": [
    "%%timeit -n 5 -r 5\n",
    "# get as list, using itemgetter on items_ls\n",
    "idxs = snp.intersect(sub, arr, indices=True)[1][1]\n",
    "_ = list(itemgetter(*idxs)(items_ls))"
   ]
  },
  {
   "cell_type": "code",
   "execution_count": 88,
   "id": "412ed349",
   "metadata": {},
   "outputs": [
    {
     "name": "stdout",
     "output_type": "stream",
     "text": [
      "118 ms ± 4.43 ms per loop (mean ± std. dev. of 5 runs, 5 loops each)\n"
     ]
    }
   ],
   "source": [
    "%%timeit -n 5 -r 5\n",
    "# get as list, using generator on list version\n",
    "idxs = snp.intersect(sub, arr, indices=True)[1][1]\n",
    "_ = list(items_ls[i] for i in idxs)"
   ]
  },
  {
   "cell_type": "code",
   "execution_count": 72,
   "id": "5c5ce85a",
   "metadata": {},
   "outputs": [
    {
     "name": "stdout",
     "output_type": "stream",
     "text": [
      "239 ms ± 6.23 ms per loop (mean ± std. dev. of 5 runs, 5 loops each)\n"
     ]
    }
   ],
   "source": [
    "%%timeit -n 5 -r 5\n",
    "# get as list, converted from numpy array\n",
    "idxs = snp.intersect(sub, arr, indices=True)[1][1]\n",
    "_ = list(items_np[idxs])"
   ]
  },
  {
   "cell_type": "code",
   "execution_count": 79,
   "id": "3e59c834",
   "metadata": {},
   "outputs": [
    {
     "name": "stdout",
     "output_type": "stream",
     "text": [
      "357 ms ± 10.6 ms per loop (mean ± std. dev. of 5 runs, 5 loops each)\n"
     ]
    }
   ],
   "source": [
    "%%timeit -n 5 -r 5\n",
    "# get as list, using generator on np version\n",
    "idxs = snp.intersect(sub, arr, indices=True)[1][1]\n",
    "_ = list(items_np[i] for i in idxs)"
   ]
  },
  {
   "cell_type": "code",
   "execution_count": 76,
   "id": "c1d8f73b",
   "metadata": {},
   "outputs": [
    {
     "name": "stdout",
     "output_type": "stream",
     "text": [
      "346 ms ± 7.47 ms per loop (mean ± std. dev. of 5 runs, 5 loops each)\n"
     ]
    }
   ],
   "source": [
    "%%timeit -n 5 -r 5\n",
    "# get as list, using itemgetter on items_np\n",
    "idxs = snp.intersect(sub, arr, indices=True)[1][1]\n",
    "_ = list(itemgetter(*idxs)(items_np))"
   ]
  },
  {
   "cell_type": "code",
   "execution_count": 90,
   "id": "87692efc",
   "metadata": {},
   "outputs": [
    {
     "name": "stdout",
     "output_type": "stream",
     "text": [
      "[  4  16  30  37  43  69  73  97  98 107] ['a' 'a' 'a' 'a' 'a' 'a' 'a' 'a' 'a' 'a']\n"
     ]
    }
   ],
   "source": [
    "# just looking at the output here to confirm it's doing the thing\n",
    "idxs = snp.intersect(sub, arr, indices=True)[1][1]\n",
    "arr_found = items_np[idxs]\n",
    "print(idxs[:10], arr_found[:10])"
   ]
  },
  {
   "cell_type": "code",
   "execution_count": 91,
   "id": "ec02409d",
   "metadata": {},
   "outputs": [
    {
     "name": "stdout",
     "output_type": "stream",
     "text": [
      "203 ms ± 2.74 ms per loop (mean ± std. dev. of 5 runs, 5 loops each)\n"
     ]
    }
   ],
   "source": [
    "%%timeit -n 5 -r 5\n",
    "# literally just converting a numpy obj array takes 200ms, ugh\n",
    "_ = list(arr_found)"
   ]
  },
  {
   "cell_type": "markdown",
   "id": "bb5e3280",
   "metadata": {},
   "source": [
    "### How long does it take to sort a big numpy array?"
   ]
  },
  {
   "cell_type": "code",
   "execution_count": 9,
   "id": "5997da80",
   "metadata": {},
   "outputs": [
    {
     "data": {
      "text/plain": [
       "10000000"
      ]
     },
     "execution_count": 9,
     "metadata": {},
     "output_type": "execute_result"
    }
   ],
   "source": [
    "some_data = np.array(range(8*10**6))  # we have some sorted data\n",
    "more_data = np.array(range(2*10**6))  # add a bunch of unsorted at the end\n",
    "np.random.shuffle(more_data)\n",
    "big_arr = np.concatenate([some_data, more_data])\n",
    "len(big_arr)"
   ]
  },
  {
   "cell_type": "code",
   "execution_count": 10,
   "id": "8d6b16b0",
   "metadata": {},
   "outputs": [
    {
     "name": "stdout",
     "output_type": "stream",
     "text": [
      "514 ms ± 9.03 ms per loop (mean ± std. dev. of 5 runs, 5 loops each)\n"
     ]
    }
   ],
   "source": [
    "%%timeit -n 5 -r 5\n",
    "# we can sort ~10M items in 1 second. Bit faster if most of them are sorted first, but 1 second generally.\n",
    "# With a lot of indices, that could get quite expensive in time. A billion-item dataset with 10 indices is\n",
    "# just not gonna be performant here.\n",
    "# Doing it on freeze() is OK, doing it on mutation (or deferred to on-query) is not. \n",
    "z = np.argsort(big_arr)"
   ]
  },
  {
   "cell_type": "markdown",
   "id": "a99e3d7c",
   "metadata": {},
   "source": [
    "### What's the fastest data structure to run intersect / union on? \n",
    " - set \n",
    " - cykhash set\n",
    " - sortednp"
   ]
  },
  {
   "cell_type": "code",
   "execution_count": 27,
   "id": "0cf0110d",
   "metadata": {},
   "outputs": [],
   "source": [
    "exp = 7\n",
    "sub_exp = exp - 1  # change this to -2 etc. You'll see changes, but relative winners / losers are the same.\n",
    "ids_1 = list(range(10**exp))\n",
    "ids_2 = list(range(10**exp-10**sub_exp, 10**exp))\n",
    "\n",
    "# sorted\n",
    "np_1 = np.array(ids_1)\n",
    "np_2 = np.array(ids_2)\n",
    "\n",
    "# not sorted\n",
    "random.shuffle(ids_1)\n",
    "random.shuffle(ids_2)\n",
    "set_1 = set(ids_1)\n",
    "set_2 = set(ids_2)\n",
    "cyk_1 = Int64Set(ids_1)\n",
    "cyk_2 = Int64Set(ids_2)\n"
   ]
  },
  {
   "cell_type": "markdown",
   "id": "c0cf98c6",
   "metadata": {},
   "source": [
    "#### Intersections"
   ]
  },
  {
   "cell_type": "code",
   "execution_count": 28,
   "id": "f0415ed9",
   "metadata": {},
   "outputs": [
    {
     "name": "stdout",
     "output_type": "stream",
     "text": [
      "130 ms ± 898 µs per loop (mean ± std. dev. of 5 runs, 5 loops each)\n"
     ]
    }
   ],
   "source": [
    "%%timeit -n 5 -r 5\n",
    "# gotta flip manually - cykhash doesn't do this for you\n",
    "# note that attempting cyk_1, cyk_2 = cyk_2, cyk_1 breaks in strange ways\n",
    "if len(cyk_1) < len(cyk_2):\n",
    "    _ = cyk_1.intersection(cyk_2)\n",
    "else:\n",
    "    _ = cyk_2.intersection(cyk_1)"
   ]
  },
  {
   "cell_type": "code",
   "execution_count": 29,
   "id": "eebc87ce",
   "metadata": {},
   "outputs": [
    {
     "name": "stdout",
     "output_type": "stream",
     "text": [
      "441 ms ± 2.17 ms per loop (mean ± std. dev. of 5 runs, 5 loops each)\n"
     ]
    }
   ],
   "source": [
    "%%timeit -n 5 -r 5\n",
    "# see, it's slower the other way\n",
    "if len(cyk_1) > len(cyk_2):\n",
    "    _ = cyk_1.intersection(cyk_2)\n",
    "else:\n",
    "    _ = cyk_2.intersection(cyk_1)"
   ]
  },
  {
   "cell_type": "code",
   "execution_count": 30,
   "id": "753df1b3",
   "metadata": {},
   "outputs": [
    {
     "name": "stdout",
     "output_type": "stream",
     "text": [
      "42.5 ms ± 1.18 ms per loop (mean ± std. dev. of 5 runs, 5 loops each)\n"
     ]
    }
   ],
   "source": [
    "%%timeit -n 5 -r 5\n",
    "_ = set_1.intersection(set_2)"
   ]
  },
  {
   "cell_type": "code",
   "execution_count": 31,
   "id": "95f68555",
   "metadata": {
    "scrolled": true
   },
   "outputs": [
    {
     "name": "stdout",
     "output_type": "stream",
     "text": [
      "7.52 ms ± 282 µs per loop (mean ± std. dev. of 5 runs, 5 loops each)\n"
     ]
    }
   ],
   "source": [
    "%%timeit -n 5 -r 5\n",
    "_ = snp.intersect(np_1, np_2, indices=True)"
   ]
  },
  {
   "cell_type": "markdown",
   "id": "1d98019e",
   "metadata": {},
   "source": [
    "#### Unions"
   ]
  },
  {
   "cell_type": "code",
   "execution_count": 32,
   "id": "14ee7182",
   "metadata": {},
   "outputs": [
    {
     "name": "stdout",
     "output_type": "stream",
     "text": [
      "393 ms ± 6.32 ms per loop (mean ± std. dev. of 5 runs, 5 loops each)\n"
     ]
    }
   ],
   "source": [
    "%%timeit -n 5 -r 5\n",
    "# for union, it's better if the bigger set is the \"base\"\n",
    "if len(cyk_1) > len(cyk_2):\n",
    "    _ = cyk_1.union(cyk_2)\n",
    "else:\n",
    "    _ = cyk_2.union(cyk_1)"
   ]
  },
  {
   "cell_type": "markdown",
   "id": "dc04257b",
   "metadata": {},
   "source": [
    "## Design\n",
    "\n",
    "There are several configurations. Probably we want two of them. One for mutable case, one for frozen case.\n",
    "\n",
    "Sorted numpy arrays are great but there's no way to make mutability work with them. On high-cardinality fields where you'd want them the most, they are gonna need re-sorting all the time. On low-card they don't help much. So they're frozen-only.\n",
    "\n",
    "### Goals:\n",
    " - Fast add / remove / update in mutable case\n",
    " - Fast lookup (small number of returned items)\n",
    " - Fast simple lookup (single-term match, no exclude, 1M+ items)\n",
    " - Fast near-simple lookup (get many items, remove a few of them)\n",
    " - RAM efficiency (low cardinality)\n",
    " - RAM efficiency (high cardinality / in general)\n",
    " - RAM efficiency (many indices)\n",
    "\n",
    "### Mutable case\n",
    "\n",
    "1. Nothing bucketed\n",
    " - Current implementation\n",
    " - one cykhash set of obj_ids per field value\n",
    " - global dict of {obj_id: obj}\n",
    " - Bad for low-cardinality field values\n",
    " - Lookups are slow when a simple match hits 1M items\n",
    "\n",
    "2. Bucketed field values, buckets have obj_id sets. Global dict lookup.\n",
    " - one cykhash set of obj_ids per bucket of field values\n",
    " - global dict of {obj_id: obj}\n",
    " - Good for low-cardinality field values\n",
    " - A bit slower to build than current implementation\n",
    " - Lookups are slow when a simple match hits 1M items\n",
    "\n",
    "3. Bucketed field values, buckets have obj_id sets. Uhh, I don't think there's a way to pre-store obj lists in the buckets. Dicts are way too RAM-expensive, and anything else would have bad mutability. So yeah, it's 2 or what we have already.\n",
    "\n",
    "\n",
    "### Frozen case\n",
    "\n",
    "1. Nothing bucketed\n",
    " - Current implementation\n",
    " - one numpy array of obj_ids per field value\n",
    " - global dict of {obj_id: obj}\n",
    " - Bad for low-cardinality field values\n",
    " - Lookups are slow (330ms) when a simple match hits 1M items\n",
    "\n",
    "\n",
    "2. Bucketed field values, buckets have obj_id arrays. Global np array pair lookup.\n",
    " - one numpy array of obj_ids per bucket of field values\n",
    " - global sorted parallel arrays of obj_id and obj\n",
    " - Good for low-cardinality field values\n",
    " - A bit slower to build than current implementation\n",
    " - Lookups are tolerable (34ms) when a simple match hits 1M items\n",
    "\n",
    "\n",
    "3. Bucketed field values, buckets have obj_id arrays and obj arrays. \n",
    " - Each field index contains a full copy of all obj_ids and all obj_id arrays and obj arrays (16 bytes / item / index).\n",
    " - Good for low-cardinality field values\n",
    " - Complex intersect / union logic\n",
    " - Same build time as (2)\n",
    " - Lookups are basically instant (0ms) when a simple match hits 1M items\n"
   ]
  },
  {
   "cell_type": "code",
   "execution_count": 33,
   "id": "8986fac2",
   "metadata": {},
   "outputs": [
    {
     "name": "stdout",
     "output_type": "stream",
     "text": [
      "2.88 s ± 177 ms per loop (mean ± std. dev. of 5 runs, 5 loops each)\n"
     ]
    }
   ],
   "source": [
    "%%timeit -n 5 -r 5\n",
    "# see? this is the wrong way\n",
    "if len(cyk_1) < len(cyk_2):\n",
    "    _ = cyk_1.union(cyk_2)\n",
    "else:\n",
    "    _ = cyk_2.union(cyk_1)"
   ]
  },
  {
   "cell_type": "code",
   "execution_count": 34,
   "id": "4db739a1",
   "metadata": {},
   "outputs": [
    {
     "name": "stdout",
     "output_type": "stream",
     "text": [
      "295 ms ± 12.9 ms per loop (mean ± std. dev. of 5 runs, 5 loops each)\n"
     ]
    }
   ],
   "source": [
    "%%timeit -n 5 -r 5\n",
    "_ = set_1.union(set_2)"
   ]
  },
  {
   "cell_type": "code",
   "execution_count": 35,
   "id": "d18f8b93",
   "metadata": {},
   "outputs": [
    {
     "name": "stdout",
     "output_type": "stream",
     "text": [
      "37.7 ms ± 628 µs per loop (mean ± std. dev. of 5 runs, 5 loops each)\n"
     ]
    }
   ],
   "source": [
    "%%timeit -n 5 -r 5\n",
    "_ = snp.merge(np_1, np_2, duplicates=snp.DROP)"
   ]
  },
  {
   "cell_type": "code",
   "execution_count": null,
   "id": "70284215",
   "metadata": {},
   "outputs": [],
   "source": []
  },
  {
   "cell_type": "code",
   "execution_count": null,
   "id": "d8f6c0af",
   "metadata": {},
   "outputs": [],
   "source": []
  },
  {
   "cell_type": "code",
   "execution_count": null,
   "id": "765418ea",
   "metadata": {},
   "outputs": [],
   "source": []
  }
 ],
 "metadata": {
  "kernelspec": {
   "display_name": "Python 3 (ipykernel)",
   "language": "python",
   "name": "python3"
  },
  "language_info": {
   "codemirror_mode": {
    "name": "ipython",
    "version": 3
   },
   "file_extension": ".py",
   "mimetype": "text/x-python",
   "name": "python",
   "nbconvert_exporter": "python",
   "pygments_lexer": "ipython3",
   "version": "3.9.7"
  }
 },
 "nbformat": 4,
 "nbformat_minor": 5
}
