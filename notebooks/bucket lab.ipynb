{
 "cells": [
  {
   "cell_type": "code",
   "execution_count": 61,
   "id": "5cbbd26d",
   "metadata": {},
   "outputs": [],
   "source": [
    "_=\"\"\"\n",
    "Gotta make the bucket split / remove logic perfect.\n",
    "\n",
    "Problems to solve:\n",
    "- Initialization needs correct buckets\n",
    "- Buckets must remain correct as they are split and removed\n",
    "- \n",
    "\n",
    "Correct buckets:\n",
    "- Must span the entire hash space with no gaps\n",
    "- No 2 buckets should have the same hash\n",
    "- OK more rules: \n",
    "  - A bucket must cover the leftmost value (HASH_MIN)\n",
    "  - A bucket must cover each hash value that is == (1 + a DictBucket hash value)\n",
    "  - We could just leave 0-sized buckets alone? nooooo. Bad idea.\n",
    "  - On item removal, if bucket size < min, merge it with adjacent buckets if possible.\n",
    "  \n",
    "Bonus:\n",
    "Is it worth considering merge() logic as tems are removed? Right now it is possible to have a lot of \n",
    "buckets of size 1, if all but 1 element were removed. That would still be correct, just inefficient on RAM.\n",
    "\n",
    "\"\"\""
   ]
  },
  {
   "cell_type": "code",
   "execution_count": 62,
   "id": "12496ffb",
   "metadata": {},
   "outputs": [],
   "source": [
    "from sortedcollections import SortedDict\n",
    "from collections import Counter\n",
    "from bisect import bisect_left, bisect_right"
   ]
  },
  {
   "cell_type": "code",
   "execution_count": 3,
   "id": "5f6c58a1",
   "metadata": {},
   "outputs": [],
   "source": [
    "from sortedcontainers import SortedDict as SD"
   ]
  },
  {
   "cell_type": "code",
   "execution_count": 4,
   "id": "87cd3140",
   "metadata": {},
   "outputs": [
    {
     "data": {
      "text/plain": [
       "True"
      ]
     },
     "execution_count": 4,
     "metadata": {},
     "output_type": "execute_result"
    }
   ],
   "source": [
    "SD == SortedDict"
   ]
  },
  {
   "cell_type": "markdown",
   "id": "2eaaa553",
   "metadata": {},
   "source": [
    "Set up a toy problem - the only complexity is in the part we're trying to solve. \n",
    "\n",
    "The bucket contents are intentionally simplified here."
   ]
  },
  {
   "cell_type": "code",
   "execution_count": 30,
   "id": "b5ec3055",
   "metadata": {},
   "outputs": [],
   "source": [
    "hash_min = 0\n",
    "hash_max = 10\n",
    "num_range = 100\n",
    "\n",
    "bucket_max_size=5\n",
    "bucket_min_size=1  # ?\n",
    "\n",
    "class TallBucket:\n",
    "    # stores a single hash value, no max value\n",
    "    def __init__(self):\n",
    "        self.counter = Counter()  # value: count\n",
    "        self.my_hash = None\n",
    "     \n",
    "    def add(self, value):\n",
    "        if self.my_hash is None:\n",
    "            self.my_hash = value % max_hash\n",
    "        assert value % max_hash == self.my_hash\n",
    "        count = self.counter.get(value, 0)\n",
    "        self.counter[value] = count + 1\n",
    "    \n",
    "    def remove(self, value):\n",
    "        self.counter[value] -= 1\n",
    "        if self.counter[value] == 0:\n",
    "            del self.counter[value]\n",
    "    \n",
    "    def __len__(self):\n",
    "        return sum(self.counter.values())\n",
    "\n",
    "    \n",
    "class WideBucket:\n",
    "    # stores a range of hashes, max items: bucket_limit \n",
    "    def __init__(self):\n",
    "        self.counter = Counter()  # value: count\n",
    "\n",
    "    def add(self, value):\n",
    "        count = self.counter.get(value, 0)\n",
    "        self.counter[value] = count + 1\n",
    "\n",
    "    def remove(self, value):\n",
    "        self.counter[value] -= 1\n",
    "        if self.counter[value] == 0:\n",
    "            del self.counter[value]\n",
    "        \n",
    "    def __len__(self):\n",
    "        return sum(self.counter.values())\n",
    "\n",
    "\n",
    "class BucketList:\n",
    "    \n",
    "    def __init__(self):\n",
    "        self.buckets = SortedDict()\n",
    "        self.buckets[hash_min] = WideBucket()\n",
    "\n",
    "    def _find_bucket_key(self, val):\n",
    "        val_hash = val % hash_max\n",
    "        idx = self.buckets.bisect_right(val_hash) - 1\n",
    "        return self.buckets.iloc[list_idx]\n",
    "        \n",
    "    def add(self, val):\n",
    "        bucket_key = self._find_bucket_key(val)\n",
    "        self.buckets[bucket_key].add(value)\n",
    "        self.check_max(bucket_key)\n",
    "    \n",
    "    def remove(self, val):\n",
    "        bucket_key = self._find_bucket_key(val)\n",
    "        self.buckets[bucket_key].remove(value)\n",
    "        self.check_min(bucket_key)\n",
    "    \n",
    "    def check_max(self, bucket_key):\n",
    "        b = self.buckets[bucket_key]\n",
    "        if isinstance(b, WideBucket) and len(b) > bucket_max_size:\n",
    "            pass\n",
    "            # invariant violated. Fix it\n",
    "    \n",
    "    def check_min(self, bucket_key):\n",
    "        b = self.buckets[bucket_key]\n",
    "        if len(b) < bucket_min_size:\n",
    "            # invariant violated. Fix it\n",
    "            left_key, right_key = self.get_neighbors(bucket_key)\n",
    "            # Case 1: There is a hash bucket to the left. \n",
    "            # Just move any bucket's items there, and delete this bucket, no rearrange needed.\n",
    "            # Case 2: The left neighbor is nonexistent, or is a DictBucket. Let's look right.\n",
    "            #   Case 2a. The right neighbor is nonexistent, or is a DictBucket. \n",
    "            #       We cannot delete this bucket, even if empty. Done.\n",
    "            #   Case 2b. The right neighbor is a hash bucket. We can extend it left to cover this space.\n",
    "    \n",
    "        \n",
    "    def get_neighbors(self, bucket_key):\n",
    "        try:\n",
    "            left_idx = self.buckets.bisect_left(bucket_key-1)\n",
    "            left_key = self.buckets.iloc[left_idx]\n",
    "        except IndexError:\n",
    "            left_key = None\n",
    "        try:\n",
    "            right_idx = self.buckets.bisect_right(bucket_key)\n",
    "            right_key = self.buckets.iloc[right_idx]\n",
    "        except IndexError:\n",
    "            right_key = None\n",
    "        return left_key, right_key"
   ]
  },
  {
   "cell_type": "code",
   "execution_count": null,
   "id": "71dc194a",
   "metadata": {},
   "outputs": [],
   "source": []
  },
  {
   "cell_type": "code",
   "execution_count": 60,
   "id": "91e964de",
   "metadata": {},
   "outputs": [
    {
     "name": "stdout",
     "output_type": "stream",
     "text": [
      "(10, 'd')\n",
      "(30, 'h')\n",
      "(50, 'h')\n",
      "(70, 'd')\n",
      "(90, 'd')\n",
      "[(0, 'h'), (10, 'd'), (11, 'h'), (50, 'h'), (70, 'd'), (71, 'h'), (90, 'd'), (91, 'h')]\n"
     ]
    }
   ],
   "source": [
    "bucket_plans = [\n",
    "    (10, 'd'),\n",
    "    (30, 'h'),\n",
    "    (50, 'h'),\n",
    "    (70, 'd'),\n",
    "    (90, 'd')\n",
    "]\n",
    "\n",
    "def fix_gaps(bucket_plans):\n",
    "    fixed_plans = []\n",
    "    next_needed = hash_min\n",
    "    for b in bucket_plans:\n",
    "        print(b)\n",
    "        mh, btype = b\n",
    "        # resolve any gaps\n",
    "        if next_needed is not None and mh > next_needed:\n",
    "            if btype == 'h':\n",
    "                # expand this bucket to the left\n",
    "                mh = next_needed\n",
    "                next_needed = None\n",
    "            else:  # btype == 'd'\n",
    "                # this is a dictbucket; add a hashbucket to fill the empty space\n",
    "                fixed_plans.append((next_needed, 'h'))\n",
    "        # add this bucket\n",
    "        fixed_plans.append((mh, btype))\n",
    "        if btype == 'd':\n",
    "            next_needed = mh+1\n",
    "        else:\n",
    "            next_needed = None\n",
    "    # handle last dictbucket if needed\n",
    "    if next_needed is not None:\n",
    "        fixed_plans.append((next_needed, 'h'))\n",
    "    return fixed_plans\n",
    "\n",
    "print(fix_gaps(bucket_plans))"
   ]
  },
  {
   "cell_type": "code",
   "execution_count": null,
   "id": "e5df795e",
   "metadata": {},
   "outputs": [],
   "source": [
    "def fix_gaps(bucket_plans):\n",
    "    fixed_plans = []\n",
    "    next_needed = hash_min\n",
    "    for b in bucket_plans:\n",
    "        print(b)\n",
    "        mh, btype = b\n",
    "        # resolve any gaps\n",
    "        if next_needed is not None and mh > next_needed:\n",
    "            if btype == 'h':\n",
    "                # expand this bucket to the left\n",
    "                mh = next_needed\n",
    "                next_needed = None\n",
    "            else:  # btype == 'd'\n",
    "                # this is a dictbucket; add a hashbucket to fill the empty space\n",
    "                fixed_plans.append((next_needed, 'h'))\n",
    "        # add this bucket\n",
    "        fixed_plans.append((mh, btype))\n",
    "        if btype == 'd':\n",
    "            next_needed = mh+1\n",
    "        else:\n",
    "            next_needed = None\n",
    "    # handle last dictbucket if needed\n",
    "    if next_needed is not None:\n",
    "        fixed_plans.append((next_needed, 'h'))\n",
    "    return fixed_plans\n"
   ]
  },
  {
   "cell_type": "code",
   "execution_count": null,
   "id": "84674a9a",
   "metadata": {},
   "outputs": [],
   "source": []
  },
  {
   "cell_type": "code",
   "execution_count": null,
   "id": "ac2adfed",
   "metadata": {},
   "outputs": [],
   "source": []
  },
  {
   "cell_type": "code",
   "execution_count": null,
   "id": "5806fbe0",
   "metadata": {},
   "outputs": [],
   "source": []
  },
  {
   "cell_type": "code",
   "execution_count": null,
   "id": "c776e110",
   "metadata": {},
   "outputs": [],
   "source": []
  },
  {
   "cell_type": "code",
   "execution_count": null,
   "id": "af68d1c6",
   "metadata": {},
   "outputs": [],
   "source": []
  },
  {
   "cell_type": "code",
   "execution_count": null,
   "id": "4deaa150",
   "metadata": {},
   "outputs": [],
   "source": [
    "sd = SortedDict()\n"
   ]
  }
 ],
 "metadata": {
  "kernelspec": {
   "display_name": "Python 3 (ipykernel)",
   "language": "python",
   "name": "python3"
  },
  "language_info": {
   "codemirror_mode": {
    "name": "ipython",
    "version": 3
   },
   "file_extension": ".py",
   "mimetype": "text/x-python",
   "name": "python",
   "nbconvert_exporter": "python",
   "pygments_lexer": "ipython3",
   "version": "3.9.7"
  }
 },
 "nbformat": 4,
 "nbformat_minor": 5
}
