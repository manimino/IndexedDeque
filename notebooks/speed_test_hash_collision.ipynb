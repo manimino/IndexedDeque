{
 "cells": [
  {
   "cell_type": "code",
   "execution_count": 1,
   "id": "049a4ae8",
   "metadata": {},
   "outputs": [],
   "source": [
    "_=\"\"\"\n",
    "I'm considering a code simplification - removing the hash collision slowdown prevention in FrozenHashIndex.\n",
    "What's the worst that could happen?\n",
    "\n",
    "Scenario it averts:\n",
    "- We have two objects with the same hash\n",
    "- One value has many objects, the other has few\n",
    "- When we look up the \"few-object\" value, we get the hash, and have to crawl through all the \"many-object\" values.\n",
    "\n",
    "Question: How bad is that scenario on a typical few-million-object case? \n",
    "It's a numpy array -- can we do it with SIMD in nanoseconds / a few microseconds?\n",
    "\n",
    "To refine the question further:\n",
    " - We have a large numpy array of objects, grouped by value\n",
    " - How fast can we find the group of objects with the same value?\n",
    "\"\"\""
   ]
  },
  {
   "cell_type": "code",
   "execution_count": 2,
   "id": "dc00f040",
   "metadata": {},
   "outputs": [],
   "source": [
    "import numpy as np"
   ]
  },
  {
   "cell_type": "code",
   "execution_count": 4,
   "id": "598c2a66",
   "metadata": {},
   "outputs": [
    {
     "data": {
      "text/plain": [
       "array([1, 1, 1, ..., 'abc', 'abc', 'abc'], dtype=object)"
      ]
     },
     "execution_count": 4,
     "metadata": {},
     "output_type": "execute_result"
    }
   ],
   "source": [
    "arr = np.array([1]*(10**6)+['abc']*(10**2), dtype='O')\n",
    "arr"
   ]
  },
  {
   "cell_type": "code",
   "execution_count": 11,
   "id": "d17ad021",
   "metadata": {},
   "outputs": [
    {
     "name": "stdout",
     "output_type": "stream",
     "text": [
      "14.1 ms ± 653 µs per loop (mean ± std. dev. of 5 runs, 5 loops each)\n"
     ]
    }
   ],
   "source": [
    "%%timeit -n 5 -r 5\n",
    "np.where(arr =='abc')\n",
    "# yeowch!! not that!"
   ]
  },
  {
   "cell_type": "code",
   "execution_count": 64,
   "id": "8ac71b66",
   "metadata": {},
   "outputs": [
    {
     "name": "stdout",
     "output_type": "stream",
     "text": [
      "194 ms ± 2.67 ms per loop (mean ± std. dev. of 5 runs, 5 loops each)\n"
     ]
    }
   ],
   "source": [
    "%%timeit -n 5 -r 5\n",
    "for index, x in np.ndenumerate(arr):\n",
    "    if x == 'abc':\n",
    "        break\n",
    "# oh no no no. This is bad. OK, we're keeping things as is."
   ]
  },
  {
   "cell_type": "code",
   "execution_count": null,
   "id": "35a23bcf",
   "metadata": {},
   "outputs": [],
   "source": []
  },
  {
   "cell_type": "code",
   "execution_count": null,
   "id": "e8ef4c6f",
   "metadata": {},
   "outputs": [],
   "source": []
  }
 ],
 "metadata": {
  "kernelspec": {
   "display_name": "Python 3 (ipykernel)",
   "language": "python",
   "name": "python3"
  },
  "language_info": {
   "codemirror_mode": {
    "name": "ipython",
    "version": 3
   },
   "file_extension": ".py",
   "mimetype": "text/x-python",
   "name": "python",
   "nbconvert_exporter": "python",
   "pygments_lexer": "ipython3",
   "version": "3.9.7"
  }
 },
 "nbformat": 4,
 "nbformat_minor": 5
}
