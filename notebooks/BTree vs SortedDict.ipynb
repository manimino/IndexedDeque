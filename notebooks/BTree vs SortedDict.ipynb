{
 "cells": [
  {
   "cell_type": "markdown",
   "id": "9703058f",
   "metadata": {},
   "source": [
    "This analyzes the performance of BTrees. BTrees.LOBTree is a btree of Long->Object which is a nice id-to-object mapping.\n",
    "But it takes a long time to build - 1M objects takes 8 seconds. A dict is much faster. Unless you need `>`, `<` there's no reason to use a BTree.\n",
    "\n",
    "Still -- SortedDict might be slower than a BTree. Consider that!\n",
    "\n",
    "Nope, looks like SortedDict is better on build time and access time; only advantage of BTree is it uses half the RAM. Not worth using BTree."
   ]
  },
  {
   "cell_type": "code",
   "execution_count": 2,
   "id": "427a71f9",
   "metadata": {},
   "outputs": [],
   "source": [
    "from bisect import bisect_left\n",
    "import random\n",
    "import time\n",
    "import sys\n",
    "import numpy as np\n",
    "from sortedcontainers import SortedDict, SortedSet\n",
    "from pympler.asizeof import asizeof\n",
    "import sortednp as snp\n",
    "from cykhash import Int64Set\n",
    "from operator import itemgetter\n",
    "from typing import Callable, Union, List, Any, Tuple\n",
    "from collections import Counter, namedtuple\n",
    "from dataclasses import dataclass\n",
    "from pympler.asizeof import asizeof\n",
    "from BTrees.LOBTree import LOBTreePy\n"
   ]
  },
  {
   "cell_type": "code",
   "execution_count": null,
   "id": "1997c5a6",
   "metadata": {},
   "outputs": [],
   "source": []
  },
  {
   "cell_type": "code",
   "execution_count": 3,
   "id": "72433f41",
   "metadata": {},
   "outputs": [],
   "source": [
    "n=10**5\n",
    "items = [random.random() for _ in range(n)]\n",
    "ids = [id(item) for item in items]"
   ]
  },
  {
   "cell_type": "code",
   "execution_count": 9,
   "id": "dd802278",
   "metadata": {},
   "outputs": [
    {
     "name": "stdout",
     "output_type": "stream",
     "text": [
      "btree build 0.6621558666229248\n"
     ]
    }
   ],
   "source": [
    "t0 = time.time()\n",
    "bt = LOBTreePy()\n",
    "for i in range(n):\n",
    "    t[ids[i]] = items[i]\n",
    "t1 = time.time()\n",
    "print('btree build', t1-t0)"
   ]
  },
  {
   "cell_type": "code",
   "execution_count": 10,
   "id": "9e172719",
   "metadata": {},
   "outputs": [
    {
     "name": "stdout",
     "output_type": "stream",
     "text": [
      "sorteddict build 0.1623368263244629\n"
     ]
    }
   ],
   "source": [
    "t0 = time.time()\n",
    "sd = SortedDict()\n",
    "for i in range(n):\n",
    "    sd[ids[i]] = items[i]\n",
    "t1 = time.time()\n",
    "print('sorteddict build', t1-t0)"
   ]
  },
  {
   "cell_type": "code",
   "execution_count": 19,
   "id": "78ae85da",
   "metadata": {},
   "outputs": [
    {
     "name": "stdout",
     "output_type": "stream",
     "text": [
      "sorteddict is 2.11x the size of btree\n"
     ]
    }
   ],
   "source": [
    "sd_size = asizeof(sd)\n",
    "bt_size = 51.4*n  # from a benchmark -- asizeof doesn't work on bt since it's a c object\n",
    "print(f'sorteddict is {round(sd_size / bt_size, 2)}x the size of btree')"
   ]
  },
  {
   "cell_type": "code",
   "execution_count": 20,
   "id": "c4c1bbca",
   "metadata": {},
   "outputs": [],
   "source": [
    "rand_ids = list(random.choice(ids) for _ in range(10**4))"
   ]
  },
  {
   "cell_type": "code",
   "execution_count": 21,
   "id": "8c4e8967",
   "metadata": {},
   "outputs": [
    {
     "name": "stdout",
     "output_type": "stream",
     "text": [
      "7.37 ms ± 2.67 ms per loop (mean ± std. dev. of 3 runs, 3 loops each)\n"
     ]
    }
   ],
   "source": [
    "%%timeit -n 3 -r 3\n",
    "list(bt.get(r) for r in rand_ids)"
   ]
  },
  {
   "cell_type": "code",
   "execution_count": 22,
   "id": "25e832a9",
   "metadata": {},
   "outputs": [
    {
     "name": "stdout",
     "output_type": "stream",
     "text": [
      "4.53 ms ± 2.19 ms per loop (mean ± std. dev. of 3 runs, 3 loops each)\n"
     ]
    }
   ],
   "source": [
    "%%timeit -n 3 -r 3\n",
    "list(sd.get(r) for r in rand_ids)"
   ]
  },
  {
   "cell_type": "code",
   "execution_count": null,
   "id": "1245636f",
   "metadata": {},
   "outputs": [],
   "source": []
  }
 ],
 "metadata": {
  "kernelspec": {
   "display_name": "Python 3 (ipykernel)",
   "language": "python",
   "name": "python3"
  },
  "language_info": {
   "codemirror_mode": {
    "name": "ipython",
    "version": 3
   },
   "file_extension": ".py",
   "mimetype": "text/x-python",
   "name": "python",
   "nbconvert_exporter": "python",
   "pygments_lexer": "ipython3",
   "version": "3.9.7"
  }
 },
 "nbformat": 4,
 "nbformat_minor": 5
}
