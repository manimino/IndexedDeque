{
 "cells": [
  {
   "cell_type": "markdown",
   "id": "5e17014a",
   "metadata": {},
   "source": [
    "## Benchmarks\n",
    " - Range query, 1 attribute\n",
    " - Range query, 2 attributes\n",
    " "
   ]
  },
  {
   "cell_type": "code",
   "execution_count": 1,
   "id": "9c246cee",
   "metadata": {},
   "outputs": [],
   "source": [
    "from dexer import Dexer, FrozenDexer\n",
    "import time\n",
    "import pandas as pd\n",
    "from timeit import timeit, repeat\n",
    "from litebox import LiteBox\n",
    "from statistics import stdev, mean"
   ]
  },
  {
   "cell_type": "code",
   "execution_count": 156,
   "id": "b7f1d9b9",
   "metadata": {},
   "outputs": [],
   "source": []
  },
  {
   "cell_type": "code",
   "execution_count": 178,
   "id": "6c0cce05",
   "metadata": {},
   "outputs": [
    {
     "name": "stdout",
     "output_type": "stream",
     "text": [
      "1000000\n"
     ]
    }
   ],
   "source": [
    "cookies = []\n",
    "FLAVORS = ['Peanut', 'Chocolate', 'Macadamia', 'Almond', 'Cinnamon', \n",
    "           'Butter', 'Caramel', 'Fudge', 'Candy', 'Mystery']\n",
    "COLORS = ['Red', 'Orange', 'Yellow', 'Green', 'Blue',\n",
    "         'Purple', 'Rainbow', 'Black', 'White', 'Invisible']\n",
    "TAGS = [str(i).zfill(4) for i in range(10**4)]\n",
    "cookies = []\n",
    "num = 0\n",
    "for i in range(10**6):\n",
    "    \n",
    "    cookie = {\n",
    "        'num': num,\n",
    "        'size': i % 10**6, \n",
    "        'chips': i % 10**5, \n",
    "        'sugar': i % 10**4, \n",
    "        'flavor': FLAVORS[i % 10], \n",
    "        'tag': TAGS[(i // 10) % len(TAGS)],\n",
    "        'color': COLORS[(i // 100) % 10]\n",
    "    }\n",
    "    cookies.append(cookie)\n",
    "    num += 1\n",
    "\n",
    "\n",
    "print(len(cookies))"
   ]
  },
  {
   "cell_type": "code",
   "execution_count": 179,
   "id": "7d3c129b",
   "metadata": {},
   "outputs": [
    {
     "name": "stdout",
     "output_type": "stream",
     "text": [
      "CPU times: user 1.03 s, sys: 23.3 ms, total: 1.05 s\n",
      "Wall time: 1.05 s\n"
     ]
    }
   ],
   "source": [
    "%%time\n",
    "df = pd.DataFrame(cookies)"
   ]
  },
  {
   "cell_type": "code",
   "execution_count": 180,
   "id": "30f155ea",
   "metadata": {},
   "outputs": [
    {
     "name": "stdout",
     "output_type": "stream",
     "text": [
      "CPU times: user 6.67 s, sys: 113 ms, total: 6.78 s\n",
      "Wall time: 6.79 s\n"
     ]
    }
   ],
   "source": [
    "%%time\n",
    "lb = LiteBox(cookies, {'num': int, 'size': int, 'chips': int, 'sugar': int, 'flavor': str, 'tag': str, 'color': str})"
   ]
  },
  {
   "cell_type": "code",
   "execution_count": 181,
   "id": "b8087f4e",
   "metadata": {},
   "outputs": [
    {
     "name": "stdout",
     "output_type": "stream",
     "text": [
      "CPU times: user 9.47 s, sys: 52.8 ms, total: 9.52 s\n",
      "Wall time: 9.53 s\n"
     ]
    }
   ],
   "source": [
    "%%time\n",
    "dex = Dexer(cookies, on=['num', 'size', 'chips', 'sugar' 'flavor', 'tag', 'color'])"
   ]
  },
  {
   "cell_type": "code",
   "execution_count": 182,
   "id": "4d6ac177",
   "metadata": {},
   "outputs": [
    {
     "name": "stdout",
     "output_type": "stream",
     "text": [
      "CPU times: user 6.14 s, sys: 32.9 ms, total: 6.17 s\n",
      "Wall time: 6.17 s\n"
     ]
    }
   ],
   "source": [
    "%%time\n",
    "fdex = FrozenDexer(cookies, on=['num', 'size', 'chips', 'sugar' 'flavor', 'tag', 'color'])"
   ]
  },
  {
   "cell_type": "code",
   "execution_count": null,
   "id": "e8c325f7",
   "metadata": {},
   "outputs": [],
   "source": []
  },
  {
   "cell_type": "code",
   "execution_count": 171,
   "id": "f9ccfa9c",
   "metadata": {},
   "outputs": [],
   "source": [
    "# One-attribute range query returning 100 results\n",
    "\n",
    "def find_range1_df():\n",
    "    return df[df['size'] < 100]\n",
    "\n",
    "def find_range1_lc():\n",
    "    return [o for o in cookies if o['size'] < 100]\n",
    "\n",
    "def find_range1_lb():\n",
    "    return lb.find('size < 100')\n",
    "\n",
    "def find_range1_dex():\n",
    "    return dex.find({\n",
    "        'size': {'<': 100},\n",
    "    })\n",
    "\n",
    "def find_range1_fdex():\n",
    "    return fdex.find({\n",
    "        'size': {'<': 100},\n",
    "    })\n",
    "\n",
    "RANGE1 = [find_range1_df, find_range1_lc, find_range1_lb, find_range1_dex, find_range1_fdex]"
   ]
  },
  {
   "cell_type": "code",
   "execution_count": 172,
   "id": "420d4187",
   "metadata": {},
   "outputs": [
    {
     "name": "stdout",
     "output_type": "stream",
     "text": [
      "100\n",
      "100\n",
      "100\n",
      "100\n",
      "100\n"
     ]
    }
   ],
   "source": [
    "for f in RANGE1:\n",
    "    print(len(f()))\n"
   ]
  },
  {
   "cell_type": "code",
   "execution_count": 173,
   "id": "884272fd",
   "metadata": {},
   "outputs": [],
   "source": [
    "# Two-attribute range query returning 100 results\n",
    "def find_range2_df():\n",
    "    return df[(df['size'] < 100) & (df['chips'] < 100)]\n",
    "\n",
    "def find_range2_lc():\n",
    "    return [o for o in cookies if o['size'] < 1000 and o['chips'] < 100]\n",
    "\n",
    "def find_range2_lb():\n",
    "    return lb.find('size < 1000 and chips < 100')\n",
    "\n",
    "def find_range2_dex():\n",
    "    return dex.find({\n",
    "        'size': {'<': 1000},\n",
    "        'chips': {'<': 100},\n",
    "    })\n",
    "\n",
    "def find_range2_fdex():\n",
    "    return fdex.find({\n",
    "        'size': {'<': 1000},\n",
    "        'chips': {'<': 100},\n",
    "    })\n",
    "\n",
    "RANGE2 = [find_range2_df, find_range2_lc, find_range2_lb, find_range2_dex, find_range2_fdex]"
   ]
  },
  {
   "cell_type": "code",
   "execution_count": 174,
   "id": "534be384",
   "metadata": {},
   "outputs": [
    {
     "name": "stdout",
     "output_type": "stream",
     "text": [
      "100\n",
      "100\n",
      "100\n",
      "100\n",
      "100\n"
     ]
    }
   ],
   "source": [
    "for f in RANGE2:\n",
    "    print(len(f()))\n"
   ]
  },
  {
   "cell_type": "code",
   "execution_count": null,
   "id": "59675ff1",
   "metadata": {},
   "outputs": [],
   "source": []
  },
  {
   "cell_type": "code",
   "execution_count": null,
   "id": "5e8fad87",
   "metadata": {},
   "outputs": [],
   "source": []
  },
  {
   "cell_type": "code",
   "execution_count": 187,
   "id": "3b443b72",
   "metadata": {},
   "outputs": [],
   "source": [
    "# One-attribute exact match query returning 100 results\n",
    "def find_eq1_df():\n",
    "    return df[(df['tag'] == '1111')]\n",
    "\n",
    "def find_eq1_lc():\n",
    "    return [o for o in cookies if o['tag'] == '1111']\n",
    "\n",
    "def find_eq1_lb():\n",
    "    return lb.find('tag == \"1111\"')\n",
    "\n",
    "def find_eq1_dex():\n",
    "    return dex.find({\n",
    "        'tag': '1111'\n",
    "    })\n",
    "\n",
    "def find_eq1_fdex():\n",
    "    return fdex.find({\n",
    "        'tag': '1111'\n",
    "    })\n",
    "\n",
    "EQ1 = [find_eq1_df, find_eq1_lc, find_eq1_lb, find_eq1_dex, find_eq1_fdex]"
   ]
  },
  {
   "cell_type": "code",
   "execution_count": null,
   "id": "c3bbca8a",
   "metadata": {},
   "outputs": [],
   "source": []
  },
  {
   "cell_type": "code",
   "execution_count": null,
   "id": "e1cbc5b2",
   "metadata": {},
   "outputs": [],
   "source": []
  },
  {
   "cell_type": "code",
   "execution_count": 148,
   "id": "07b5c96c",
   "metadata": {},
   "outputs": [],
   "source": [
    "def run_timings(f, result_len, n_times=10):\n",
    "    assert len(f()) == result_len\n",
    "    return min(repeat(f, number=n_times))/n_times\n"
   ]
  },
  {
   "cell_type": "code",
   "execution_count": 188,
   "id": "84c6ec42",
   "metadata": {},
   "outputs": [
    {
     "name": "stdout",
     "output_type": "stream",
     "text": [
      "find_range1_df\n",
      "find_range1_lc\n",
      "find_range1_lb\n",
      "find_range1_dex\n",
      "find_range1_fdex\n",
      "find_range2_df\n",
      "find_range2_lc\n",
      "find_range2_lb\n",
      "find_range2_dex\n",
      "find_range2_fdex\n",
      "find_eq1_df\n",
      "find_eq1_lc\n",
      "find_eq1_lb\n",
      "find_eq1_dex\n",
      "find_eq1_fdex\n"
     ]
    }
   ],
   "source": [
    "n_repeat = 100\n",
    "results = dict()\n",
    "for f in RANGE1 + RANGE2 + EQ1:\n",
    "    print(f.__name__)\n",
    "    results[f.__name__] = run_timings(f, 100)"
   ]
  },
  {
   "cell_type": "code",
   "execution_count": null,
   "id": "635245dc",
   "metadata": {},
   "outputs": [],
   "source": []
  },
  {
   "cell_type": "code",
   "execution_count": 189,
   "id": "6783869e",
   "metadata": {},
   "outputs": [
    {
     "name": "stdout",
     "output_type": "stream",
     "text": [
      "find_range1_df 0.0009101113071665167\n",
      "find_range1_lc 0.051943747501354665\n",
      "find_range1_lb 5.443879636004567e-05\n",
      "find_range1_dex 4.8754794988781214e-05\n",
      "find_range1_fdex 1.6833702102303504e-05\n",
      "find_range2_df 0.0022733806050382554\n",
      "find_range2_lc 0.0498123213998042\n",
      "find_range2_lb 0.0003733630990609527\n",
      "find_range2_dex 0.0005058821989223361\n",
      "find_range2_fdex 6.0588796623051165e-05\n",
      "find_eq1_df 0.04267703660298139\n",
      "find_eq1_lc 0.04795632830355316\n",
      "find_eq1_lb 5.073370411992073e-05\n",
      "find_eq1_dex 1.3539998326450586e-05\n",
      "find_eq1_fdex 1.1276802979409695e-05\n"
     ]
    }
   ],
   "source": [
    "for r, t in results.items():\n",
    "    print(r, t)"
   ]
  },
  {
   "cell_type": "code",
   "execution_count": null,
   "id": "acfa6774",
   "metadata": {},
   "outputs": [],
   "source": []
  },
  {
   "cell_type": "code",
   "execution_count": null,
   "id": "9d5b4eb5",
   "metadata": {},
   "outputs": [],
   "source": []
  },
  {
   "cell_type": "code",
   "execution_count": null,
   "id": "d57de5f1",
   "metadata": {},
   "outputs": [],
   "source": [
    "# One-attribute 'in' query, 1000 results\n",
    "match_tags = [str(t).zfill(4) for t in range(1000, 1010)]\n",
    "\n",
    "def find_in1_df():\n",
    "    return df[(df['tag'] in match_tags)]\n",
    "\n",
    "def find_in1_lc():\n",
    "    return [o for o in cookies if o['tag'] in match_tags]\n",
    "\n",
    "def find_in1_lb():\n",
    "    return lb.find(f'tag in {match_tags}')\n",
    "\n",
    "def find_in1_dex():\n",
    "    return dex.find({\n",
    "        'tag': {'in': match_tags}\n",
    "    })\n",
    "\n",
    "def find_in1_fdex():\n",
    "    return fdex.find({\n",
    "        'tag': {'in': match_tags}\n",
    "    })\n",
    "\n",
    "IN1 = [find_in1_df, find_in1_lc, find_in1_lb, find_in1_dex, find_in1_fdex]"
   ]
  },
  {
   "cell_type": "code",
   "execution_count": null,
   "id": "6954be5b",
   "metadata": {},
   "outputs": [],
   "source": []
  }
 ],
 "metadata": {
  "kernelspec": {
   "display_name": "Python 3 (ipykernel)",
   "language": "python",
   "name": "python3"
  },
  "language_info": {
   "codemirror_mode": {
    "name": "ipython",
    "version": 3
   },
   "file_extension": ".py",
   "mimetype": "text/x-python",
   "name": "python",
   "nbconvert_exporter": "python",
   "pygments_lexer": "ipython3",
   "version": "3.9.7"
  }
 },
 "nbformat": 4,
 "nbformat_minor": 5
}
