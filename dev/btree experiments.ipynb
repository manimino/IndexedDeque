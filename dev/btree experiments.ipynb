{
 "cells": [
  {
   "cell_type": "code",
   "execution_count": 1,
   "id": "da931664",
   "metadata": {},
   "outputs": [],
   "source": [
    "from bisect import bisect_left,bisect_right\n",
    "import numpy as np\n",
    "from cykhash import Int64Set\n",
    "import random\n",
    "from BTrees.OOBTree import OOBTree\n",
    "from pympler.asizeof import asizeof"
   ]
  },
  {
   "cell_type": "markdown",
   "id": "4bacb89c",
   "metadata": {},
   "source": [
    "### Numpy array tests\n",
    "\n",
    "We'll use a sorted numpy array and bisection to mimic a tree.\n",
    "- Check what happens when we have unsortable types\n",
    "- Write a quick bisect implementation that gets array indices etc"
   ]
  },
  {
   "cell_type": "code",
   "execution_count": 2,
   "id": "c6f62502",
   "metadata": {},
   "outputs": [
    {
     "name": "stdout",
     "output_type": "stream",
     "text": [
      "'<' not supported between instances of 'str' and 'tuple'\n"
     ]
    }
   ],
   "source": [
    "# Mixed objects raises TypeError\n",
    "weird_objs = [(i, i+1) for i in range(10)] + ['astring']\n",
    "arr = np.array(weird_objs, dtype='O')\n",
    "try:\n",
    "    np.argsort(arr)\n",
    "except TypeError as e:\n",
    "    print(e)"
   ]
  },
  {
   "cell_type": "code",
   "execution_count": 3,
   "id": "664a8d41",
   "metadata": {},
   "outputs": [
    {
     "name": "stdout",
     "output_type": "stream",
     "text": [
      "'<' not supported between instances of 'AnObj' and 'AnObj'\n"
     ]
    }
   ],
   "source": [
    "# Non-comparable objects raises TypeError\n",
    "class AnObj:\n",
    "    def __init__(self):\n",
    "        self.x = 3\n",
    "    def __hash__(self):\n",
    "        return 3\n",
    "arr = np.array([AnObj(), AnObj()])\n",
    "try:\n",
    "    np.argsort(arr)\n",
    "except TypeError as e:\n",
    "    print(e)"
   ]
  },
  {
   "cell_type": "markdown",
   "id": "d9a1cf4c",
   "metadata": {},
   "source": [
    "### BTree Tests\n",
    "\n",
    "Check that we can make a reasonable BTree implementation and make sure it performs well enough"
   ]
  },
  {
   "cell_type": "code",
   "execution_count": 4,
   "id": "71e78bb4",
   "metadata": {},
   "outputs": [],
   "source": [
    "bt = OOBTree()\n",
    "\n",
    "for f in range(10):\n",
    "    bt.insert(f, 's' + str(f))"
   ]
  },
  {
   "cell_type": "code",
   "execution_count": 5,
   "id": "152e3c5c",
   "metadata": {},
   "outputs": [
    {
     "name": "stdout",
     "output_type": "stream",
     "text": [
      "s4\n",
      "s5\n",
      "s6\n"
     ]
    }
   ],
   "source": [
    "for item in bt.values(4, 6):\n",
    "    print(item)"
   ]
  },
  {
   "cell_type": "code",
   "execution_count": 6,
   "id": "2ba185b8",
   "metadata": {},
   "outputs": [],
   "source": [
    "floats = [{'x': random.random()} for _ in range(10**6)] + [{'x':10}] + [{'x': 10}]  # a million + 2 items\n",
    "ids = [id(f) for f in floats]\n",
    "bt = OOBTree()"
   ]
  },
  {
   "cell_type": "code",
   "execution_count": 7,
   "id": "15e655ad",
   "metadata": {},
   "outputs": [
    {
     "name": "stdout",
     "output_type": "stream",
     "text": [
      "CPU times: user 872 ms, sys: 1.65 ms, total: 874 ms\n",
      "Wall time: 874 ms\n"
     ]
    }
   ],
   "source": [
    "%%time\n",
    "for i in range(len(floats)):\n",
    "    bt.insert(floats[i]['x'], ids[i])"
   ]
  },
  {
   "cell_type": "code",
   "execution_count": 8,
   "id": "e4de6b3d",
   "metadata": {},
   "outputs": [
    {
     "name": "stdout",
     "output_type": "stream",
     "text": [
      "None\n",
      "1000001\n"
     ]
    }
   ],
   "source": [
    "# OK, so keys are expected to be unique. We'll have to handle that.\n",
    "print(bt.get(2))\n",
    "print(len(bt))"
   ]
  },
  {
   "cell_type": "code",
   "execution_count": 9,
   "id": "46a116bf",
   "metadata": {},
   "outputs": [
    {
     "data": {
      "text/plain": [
       "False"
      ]
     },
     "execution_count": 9,
     "metadata": {},
     "output_type": "execute_result"
    }
   ],
   "source": [
    "2 in bt"
   ]
  },
  {
   "cell_type": "code",
   "execution_count": 10,
   "id": "ef049369",
   "metadata": {},
   "outputs": [],
   "source": [
    "def add(bt, key, value):\n",
    "    if key in bt:\n",
    "        cur_val = bt.get(key)\n",
    "        if type(cur_val) is Int64Set:\n",
    "            cur_val.add(value)\n",
    "        else:\n",
    "            bt[key] = Int64Set([cur_val, value])\n",
    "    else:\n",
    "        bt[key] = value\n",
    "        \n",
    "bt = OOBTree()\n",
    "for i in range(len(floats)):\n",
    "    add(bt, floats[i]['x'], ids[i])"
   ]
  },
  {
   "cell_type": "code",
   "execution_count": 11,
   "id": "f4dc0097",
   "metadata": {},
   "outputs": [
    {
     "data": {
      "text/plain": [
       "{139716039894336,139716031064704}"
      ]
     },
     "execution_count": 11,
     "metadata": {},
     "output_type": "execute_result"
    }
   ],
   "source": [
    "bt.get(10)"
   ]
  },
  {
   "cell_type": "code",
   "execution_count": 12,
   "id": "781d28e4",
   "metadata": {},
   "outputs": [
    {
     "data": {
      "text/plain": [
       "128"
      ]
     },
     "execution_count": 12,
     "metadata": {},
     "output_type": "execute_result"
    }
   ],
   "source": [
    "# can't measure ram usage directly, it needs to be external.\n",
    "asizeof(bt)"
   ]
  },
  {
   "cell_type": "code",
   "execution_count": 13,
   "id": "10c93de3",
   "metadata": {
    "scrolled": true
   },
   "outputs": [
    {
     "name": "stdout",
     "output_type": "stream",
     "text": [
      "308 ns ± 2.16 ns per loop (mean ± std. dev. of 7 runs, 1000000 loops each)\n"
     ]
    }
   ],
   "source": [
    "%%timeit \n",
    "bt.get(10)"
   ]
  },
  {
   "cell_type": "code",
   "execution_count": 14,
   "id": "a9005160",
   "metadata": {},
   "outputs": [],
   "source": [
    "d = {10: Int64Set([140121445528896,140121445528960])}\n",
    "for f in floats:\n",
    "    d[f['x']] = id(f)"
   ]
  },
  {
   "cell_type": "code",
   "execution_count": 15,
   "id": "7a2eadc2",
   "metadata": {},
   "outputs": [
    {
     "name": "stdout",
     "output_type": "stream",
     "text": [
      "24 ns ± 0.245 ns per loop (mean ± std. dev. of 7 runs, 10000000 loops each)\n"
     ]
    }
   ],
   "source": [
    "%%timeit \n",
    "d.get(10)\n",
    "# dicts are an order of magnitude faster on lookup. Food for thought there."
   ]
  },
  {
   "cell_type": "code",
   "execution_count": 16,
   "id": "aba5e1cf",
   "metadata": {},
   "outputs": [
    {
     "data": {
      "text/plain": [
       "10135"
      ]
     },
     "execution_count": 16,
     "metadata": {},
     "output_type": "execute_result"
    }
   ],
   "source": [
    "len(list(bt.values(0.11, 0.12)))"
   ]
  },
  {
   "cell_type": "code",
   "execution_count": 17,
   "id": "8733d7b7",
   "metadata": {},
   "outputs": [
    {
     "name": "stdout",
     "output_type": "stream",
     "text": [
      "146 µs ± 1.29 µs per loop (mean ± std. dev. of 7 runs, 10000 loops each)\n"
     ]
    }
   ],
   "source": [
    "%%timeit\n",
    "_ = list(bt.values(0.11, 0.12))\n",
    "# getting a range of objects is decently fast... \n"
   ]
  },
  {
   "cell_type": "code",
   "execution_count": 18,
   "id": "6136a077",
   "metadata": {},
   "outputs": [
    {
     "name": "stdout",
     "output_type": "stream",
     "text": [
      "that many dict lookups would take 499µs\n"
     ]
    }
   ],
   "source": [
    "# but doing that same number of dict lookups actually isn't much slower!\n",
    "micros = round(50 * 10**-9 * 9987 * 10**6)\n",
    "print(f\"that many dict lookups would take {micros}µs\")"
   ]
  },
  {
   "cell_type": "code",
   "execution_count": 19,
   "id": "537e4610",
   "metadata": {},
   "outputs": [],
   "source": [
    "vals = list(set(f['x'] for f in floats))"
   ]
  },
  {
   "cell_type": "code",
   "execution_count": 20,
   "id": "78669157",
   "metadata": {},
   "outputs": [
    {
     "name": "stdout",
     "output_type": "stream",
     "text": [
      "49.7 ms ± 829 µs per loop (mean ± std. dev. of 7 runs, 10 loops each)\n"
     ]
    }
   ],
   "source": [
    "%%timeit\n",
    "r = [v for v in vals if v < 0.12 and v > 0.11]\n",
    "_ = list(d[v] for v in r)\n",
    "# let's make it a more fair test -- we do need to prefilter for the range."
   ]
  },
  {
   "cell_type": "code",
   "execution_count": 21,
   "id": "039c89ad",
   "metadata": {},
   "outputs": [
    {
     "name": "stdout",
     "output_type": "stream",
     "text": [
      "53.5 ms ± 1.76 ms per loop (mean ± std. dev. of 7 runs, 10 loops each)\n"
     ]
    }
   ],
   "source": [
    "%%timeit\n",
    "r1 = [v for v in vals if v < 0.12]\n",
    "r2 = [v for v in r1 if v > 0.11]\n",
    "_ = list(d[v] for v in r2)\n",
    "# let's make it a more fair test -- we do need to prefilter for the range."
   ]
  },
  {
   "cell_type": "code",
   "execution_count": 22,
   "id": "3c138c69",
   "metadata": {},
   "outputs": [],
   "source": [
    "r = [v for v in vals if v < 0.12 and v > 0.11]"
   ]
  },
  {
   "cell_type": "code",
   "execution_count": 23,
   "id": "5ae51d2a",
   "metadata": {},
   "outputs": [
    {
     "name": "stdout",
     "output_type": "stream",
     "text": [
      "948 µs ± 6.54 µs per loop (mean ± std. dev. of 7 runs, 1000 loops each)\n"
     ]
    }
   ],
   "source": [
    "%%timeit\n",
    "_ = list(d[v] for v in r)"
   ]
  },
  {
   "cell_type": "code",
   "execution_count": null,
   "id": "0b0af3a6",
   "metadata": {},
   "outputs": [],
   "source": []
  },
  {
   "cell_type": "code",
   "execution_count": null,
   "id": "f6875b19",
   "metadata": {},
   "outputs": [],
   "source": [
    "# yeah, filtering the 1M objects to find the 10k keys that fit the constraints is very slow.\n",
    "# Range queries should always be btree if possible.\n",
    "# what about hash queries? How much worse are those on btree?\n",
    "# The keys are unique in the btree... so it's kinda the same thing...?"
   ]
  },
  {
   "cell_type": "code",
   "execution_count": null,
   "id": "df792bc3",
   "metadata": {},
   "outputs": [],
   "source": [
    "# So ok. We're sure we want value-based lookups in frozen. Maybe?\n",
    "# When do we use them?\n",
    "# Right... when vals are comparable n stuff\n",
    "# ok yeah, use the wordle thingy as your perf test on the value-version of Frozen."
   ]
  },
  {
   "cell_type": "code",
   "execution_count": null,
   "id": "c0298f29",
   "metadata": {},
   "outputs": [],
   "source": [
    "# whoa hey, the conversion story from btree <-> dict-of-set is a pretty good one\n",
    "# they both support [] so that's okay\n",
    "# how much is 10K conversions, you think?"
   ]
  },
  {
   "cell_type": "code",
   "execution_count": null,
   "id": "5abf1fc3",
   "metadata": {},
   "outputs": [],
   "source": [
    "d = {random.random(): random.random() for _ in range(10000)}"
   ]
  },
  {
   "cell_type": "code",
   "execution_count": null,
   "id": "7c3759ad",
   "metadata": {},
   "outputs": [],
   "source": [
    "%%timeit\n",
    "bt = OOBTree()\n",
    "for k, v in d.items():\n",
    "    bt[k] = v\n",
    "\n",
    "# duuuuuuude. We can *do* this. Changing it over on a single add is easy. 4ms for an insert is *nothing*!"
   ]
  },
  {
   "cell_type": "code",
   "execution_count": null,
   "id": "38553d88",
   "metadata": {},
   "outputs": [],
   "source": [
    "# Proposed design...\n",
    "# Frozen:\n",
    "# - it's an array-as-tree-of-set if the values are comparable. \n",
    "# - Otherwise fail over to arrays-as-dict-of-set.\n",
    "# Mutable:\n",
    "# - Starts life as dict-of-set\n",
    "# - When 10K unique keys reached, try converting to BTree.\n",
    "#   - If it fails, never try again; these values are too weird.\n",
    "#   - If it succeeds, it's now a BTree, even if values are added / removed later.\n",
    "#   - If it's a BTree, and a new un-comarable value arrives, what happens? Convert back to dict? Or raise TypeError?"
   ]
  },
  {
   "cell_type": "code",
   "execution_count": null,
   "id": "ab8ca6a3",
   "metadata": {},
   "outputs": [],
   "source": [
    "_=\"\"\"\n",
    "But what does all that *do* exactly?\n",
    "- Makes range queries good\n",
    "- Increases code complexity\n",
    "- Consider: Do we just want BTrees everywhere? 500ns vs 50ns per key lookup may be 10x, but it's still\n",
    "a small part of our overall cost. Doing intersections and id->obj lookups are what eats the real milliseconds. \n",
    "- I am emotionally attached to the hash implementation. Sunk cost. But I bet 0 of the tests would fail on a \n",
    "tree-based implementation. \n",
    "- Also having a bad brain day\n",
    "- Also overwhelmed by the idea of replacing so much code at once\n",
    "  - Maybe needs to be cut up smaller to feel doable\n",
    "- Is it really so bad to just replace `dict` with `OOBTree`? \n",
    "\"\"\""
   ]
  },
  {
   "cell_type": "code",
   "execution_count": null,
   "id": "8b46ec73",
   "metadata": {},
   "outputs": [],
   "source": [
    "from filterbox import FilterBox"
   ]
  },
  {
   "cell_type": "code",
   "execution_count": null,
   "id": "ed294ad3",
   "metadata": {},
   "outputs": [],
   "source": [
    "sinks = [{'x': round(z['x']*10)} for z in floats]"
   ]
  },
  {
   "cell_type": "code",
   "execution_count": null,
   "id": "1d8f65c1",
   "metadata": {},
   "outputs": [],
   "source": [
    "%%time\n",
    "fb = FilterBox(floats, on='x')\n",
    "# it's slow because so many distincts. Sigh."
   ]
  },
  {
   "cell_type": "code",
   "execution_count": null,
   "id": "23c2507f",
   "metadata": {},
   "outputs": [],
   "source": [
    "%%time\n",
    "fb = FilterBox(sinks, on='x')\n",
    "# yeah see that's faster. Also insertion into the BTree is gonna be slow with add()."
   ]
  },
  {
   "cell_type": "code",
   "execution_count": null,
   "id": "bb98378a",
   "metadata": {},
   "outputs": [],
   "source": [
    "%%time\n",
    "bt = OOBTree()\n",
    "for s in sinks:\n",
    "    add(bt, s['x'], id(s))\n",
    "# what that's not fair how is this so much better"
   ]
  },
  {
   "cell_type": "code",
   "execution_count": null,
   "id": "e28f4b0f",
   "metadata": {},
   "outputs": [],
   "source": [
    "len(bt[0])"
   ]
  },
  {
   "cell_type": "code",
   "execution_count": null,
   "id": "34c9f91c",
   "metadata": {},
   "outputs": [],
   "source": [
    "len(bt)"
   ]
  },
  {
   "cell_type": "code",
   "execution_count": null,
   "id": "0c22d605",
   "metadata": {},
   "outputs": [],
   "source": []
  },
  {
   "cell_type": "code",
   "execution_count": null,
   "id": "a76559b8",
   "metadata": {},
   "outputs": [],
   "source": []
  },
  {
   "cell_type": "code",
   "execution_count": 25,
   "id": "98d9000e",
   "metadata": {},
   "outputs": [
    {
     "data": {
      "text/plain": [
       "[1, 2, 3]"
      ]
     },
     "execution_count": 25,
     "metadata": {},
     "output_type": "execute_result"
    }
   ],
   "source": [
    "bt = OOBTree()\n",
    "bt.insert('Eevee', 1)\n",
    "bt.insert('Pikachu', 2)\n",
    "bt.insert('Zapdos', 3)\n",
    "bt.insert('dd', 4)\n",
    "bt.insert('e', 5)\n",
    "\n",
    "list(bt.values('Eevee', 'Zapdos'))"
   ]
  },
  {
   "cell_type": "code",
   "execution_count": 32,
   "id": "c46b5f50",
   "metadata": {},
   "outputs": [
    {
     "data": {
      "text/plain": [
       "<OOBTreeItems at 0x7f12413aefb0>"
      ]
     },
     "execution_count": 32,
     "metadata": {},
     "output_type": "execute_result"
    }
   ],
   "source": [
    "bt.values('Eevee', 'Pikachu')"
   ]
  },
  {
   "cell_type": "code",
   "execution_count": 37,
   "id": "31eb90ab-4a33-4b9f-acc5-1ec05524f49a",
   "metadata": {},
   "outputs": [
    {
     "data": {
      "text/plain": [
       "[1]"
      ]
     },
     "execution_count": 37,
     "metadata": {},
     "output_type": "execute_result"
    }
   ],
   "source": [
    "list(bt.values(None, 'Eevee'))"
   ]
  },
  {
   "cell_type": "code",
   "execution_count": 38,
   "id": "90d826e0-6edd-4348-99e0-a49fb7aa3e15",
   "metadata": {},
   "outputs": [
    {
     "ename": "AttributeError",
     "evalue": "'NoneType' object has no attribute 'items'",
     "output_type": "error",
     "traceback": [
      "\u001b[0;31m---------------------------------------------------------------------------\u001b[0m",
      "\u001b[0;31mAttributeError\u001b[0m                            Traceback (most recent call last)",
      "\u001b[0;32m/tmp/ipykernel_22150/2036591088.py\u001b[0m in \u001b[0;36m<module>\u001b[0;34m\u001b[0m\n\u001b[0;32m----> 1\u001b[0;31m \u001b[0mOOBTree\u001b[0m\u001b[0;34m(\u001b[0m\u001b[0;32mNone\u001b[0m\u001b[0;34m)\u001b[0m\u001b[0;34m\u001b[0m\u001b[0;34m\u001b[0m\u001b[0m\n\u001b[0m",
      "\u001b[0;31mAttributeError\u001b[0m: 'NoneType' object has no attribute 'items'"
     ]
    }
   ],
   "source": [
    "OOBTree(None)"
   ]
  },
  {
   "cell_type": "code",
   "execution_count": null,
   "id": "52987886-ed33-42e1-9de7-0c83e2ff6232",
   "metadata": {},
   "outputs": [],
   "source": []
  }
 ],
 "metadata": {
  "kernelspec": {
   "display_name": "Python 3 (ipykernel)",
   "language": "python",
   "name": "python3"
  },
  "language_info": {
   "codemirror_mode": {
    "name": "ipython",
    "version": 3
   },
   "file_extension": ".py",
   "mimetype": "text/x-python",
   "name": "python",
   "nbconvert_exporter": "python",
   "pygments_lexer": "ipython3",
   "version": "3.9.7"
  }
 },
 "nbformat": 4,
 "nbformat_minor": 5
}
