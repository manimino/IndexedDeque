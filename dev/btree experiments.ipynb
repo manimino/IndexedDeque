{
 "cells": [
  {
   "cell_type": "code",
   "execution_count": 95,
   "id": "f2cb3cfe",
   "metadata": {},
   "outputs": [],
   "source": [
    "from bisect import bisect_left,bisect_right\n",
    "import numpy as np\n",
    "from cykhash import Int64Set\n",
    "import random\n",
    "from BTrees.OOBTree import OOBTree\n",
    "from pympler.asizeof import asizeof"
   ]
  },
  {
   "cell_type": "markdown",
   "id": "7e51733a",
   "metadata": {},
   "source": [
    "### Numpy array tests\n",
    "\n",
    "We'll use a sorted numpy array and bisection to mimic a tree.\n",
    "- Check what happens when we have unsortable types\n",
    "- Write a quick bisect implementation that gets array indices etc"
   ]
  },
  {
   "cell_type": "code",
   "execution_count": 23,
   "id": "ac85fecd",
   "metadata": {},
   "outputs": [
    {
     "name": "stdout",
     "output_type": "stream",
     "text": [
      "'<' not supported between instances of 'str' and 'tuple'\n"
     ]
    }
   ],
   "source": [
    "# Mixed objects raises TypeError\n",
    "weird_objs = [(i, i+1) for i in range(10)] + ['astring']\n",
    "arr = np.array(weird_objs, dtype='O')\n",
    "try:\n",
    "    np.argsort(arr)\n",
    "except TypeError as e:\n",
    "    print(e)"
   ]
  },
  {
   "cell_type": "code",
   "execution_count": 26,
   "id": "09f853b4",
   "metadata": {},
   "outputs": [
    {
     "name": "stdout",
     "output_type": "stream",
     "text": [
      "'<' not supported between instances of 'AnObj' and 'AnObj'\n"
     ]
    }
   ],
   "source": [
    "# Non-comparable objects raises TypeError\n",
    "class AnObj:\n",
    "    def __init__(self):\n",
    "        self.x = 3\n",
    "    def __hash__(self):\n",
    "        return 3\n",
    "arr = np.array([AnObj(), AnObj()])\n",
    "try:\n",
    "    np.argsort(arr)\n",
    "except TypeError as e:\n",
    "    print(e)"
   ]
  },
  {
   "cell_type": "markdown",
   "id": "b9371578",
   "metadata": {},
   "source": [
    "### BTree Tests\n",
    "\n",
    "Check that we can make a reasonable BTree implementation and make sure it performs well enough"
   ]
  },
  {
   "cell_type": "code",
   "execution_count": 42,
   "id": "5c9b31fe",
   "metadata": {},
   "outputs": [],
   "source": [
    "bt = OOBTree()\n",
    "\n",
    "for f in range(10):\n",
    "    bt.insert(f, 's' + str(f))"
   ]
  },
  {
   "cell_type": "code",
   "execution_count": 45,
   "id": "d7f9cbac",
   "metadata": {},
   "outputs": [
    {
     "name": "stdout",
     "output_type": "stream",
     "text": [
      "s4\n",
      "s5\n",
      "s6\n"
     ]
    }
   ],
   "source": [
    "for item in bt.values(4, 6):\n",
    "    print(item)"
   ]
  },
  {
   "cell_type": "code",
   "execution_count": 83,
   "id": "9a4c078f",
   "metadata": {},
   "outputs": [],
   "source": [
    "floats = [{'x': random.random()} for _ in range(10**6)] + [{'x':10}] + [{'x': 10}]  # a million + 2 items\n",
    "ids = [id(f) for f in floats]\n",
    "bt = OOBTree()"
   ]
  },
  {
   "cell_type": "code",
   "execution_count": 84,
   "id": "8c8abe71",
   "metadata": {},
   "outputs": [
    {
     "name": "stdout",
     "output_type": "stream",
     "text": [
      "CPU times: user 2 s, sys: 0 ns, total: 2 s\n",
      "Wall time: 2 s\n"
     ]
    }
   ],
   "source": [
    "%%time\n",
    "for i in range(len(floats)):\n",
    "    bt.insert(floats[i]['x'], ids[i])"
   ]
  },
  {
   "cell_type": "code",
   "execution_count": 85,
   "id": "297a11a6",
   "metadata": {},
   "outputs": [
    {
     "name": "stdout",
     "output_type": "stream",
     "text": [
      "None\n",
      "1000001\n"
     ]
    }
   ],
   "source": [
    "# OK, so keys are expected to be unique. We'll have to handle that.\n",
    "print(bt.get(2))\n",
    "print(len(bt))"
   ]
  },
  {
   "cell_type": "code",
   "execution_count": 86,
   "id": "899d381e",
   "metadata": {},
   "outputs": [
    {
     "data": {
      "text/plain": [
       "False"
      ]
     },
     "execution_count": 86,
     "metadata": {},
     "output_type": "execute_result"
    }
   ],
   "source": [
    "2 in bt"
   ]
  },
  {
   "cell_type": "code",
   "execution_count": 92,
   "id": "98aebaf8",
   "metadata": {},
   "outputs": [],
   "source": [
    "def add(bt, key, value):\n",
    "    if key in bt:\n",
    "        cur_val = bt.get(key)\n",
    "        if type(cur_val) is Int64Set:\n",
    "            cur_val.add(value)\n",
    "        else:\n",
    "            bt[key] = Int64Set([cur_val, value])\n",
    "    else:\n",
    "        bt[key] = value\n",
    "        \n",
    "bt = OOBTree()\n",
    "for i in range(len(floats)):\n",
    "    add(bt, floats[i]['x'], ids[i])"
   ]
  },
  {
   "cell_type": "code",
   "execution_count": 93,
   "id": "6e3e3392",
   "metadata": {},
   "outputs": [
    {
     "data": {
      "text/plain": [
       "{140121445528896,140121445528960}"
      ]
     },
     "execution_count": 93,
     "metadata": {},
     "output_type": "execute_result"
    }
   ],
   "source": [
    "bt.get(10)"
   ]
  },
  {
   "cell_type": "code",
   "execution_count": 99,
   "id": "169d872f",
   "metadata": {},
   "outputs": [
    {
     "data": {
      "text/plain": [
       "128"
      ]
     },
     "execution_count": 99,
     "metadata": {},
     "output_type": "execute_result"
    }
   ],
   "source": [
    "# can't measure ram usage directly, it needs to be external.\n",
    "asizeof(bt)"
   ]
  },
  {
   "cell_type": "code",
   "execution_count": 100,
   "id": "60e20f11",
   "metadata": {
    "scrolled": true
   },
   "outputs": [
    {
     "name": "stdout",
     "output_type": "stream",
     "text": [
      "614 ns ± 10.8 ns per loop (mean ± std. dev. of 7 runs, 1000000 loops each)\n"
     ]
    }
   ],
   "source": [
    "%%timeit \n",
    "bt.get(10)"
   ]
  },
  {
   "cell_type": "code",
   "execution_count": 104,
   "id": "eb464ee8",
   "metadata": {},
   "outputs": [],
   "source": [
    "d = {10: Int64Set([140121445528896,140121445528960])}\n",
    "for f in floats:\n",
    "    d[f['x']] = id(f)"
   ]
  },
  {
   "cell_type": "code",
   "execution_count": 105,
   "id": "b6bbb034",
   "metadata": {},
   "outputs": [
    {
     "name": "stdout",
     "output_type": "stream",
     "text": [
      "50 ns ± 0.776 ns per loop (mean ± std. dev. of 7 runs, 10000000 loops each)\n"
     ]
    }
   ],
   "source": [
    "%%timeit \n",
    "d.get(10)\n",
    "# dicts are an order of magnitude faster on lookup. Food for thought there."
   ]
  },
  {
   "cell_type": "code",
   "execution_count": 129,
   "id": "fc049268",
   "metadata": {},
   "outputs": [
    {
     "data": {
      "text/plain": [
       "9987"
      ]
     },
     "execution_count": 129,
     "metadata": {},
     "output_type": "execute_result"
    }
   ],
   "source": [
    "len(list(bt.values(0.11, 0.12)))"
   ]
  },
  {
   "cell_type": "code",
   "execution_count": 130,
   "id": "657b141d",
   "metadata": {},
   "outputs": [
    {
     "name": "stdout",
     "output_type": "stream",
     "text": [
      "356 µs ± 4.32 µs per loop (mean ± std. dev. of 7 runs, 1000 loops each)\n"
     ]
    }
   ],
   "source": [
    "%%timeit\n",
    "_ = list(bt.values(0.11, 0.12))\n",
    "# getting a range of objects is decently fast... \n"
   ]
  },
  {
   "cell_type": "code",
   "execution_count": 131,
   "id": "270eefdc",
   "metadata": {},
   "outputs": [
    {
     "name": "stdout",
     "output_type": "stream",
     "text": [
      "that many dict lookups would take 499µs\n"
     ]
    }
   ],
   "source": [
    "# but doing that same number of dict lookups actually isn't much slower!\n",
    "micros = round(50 * 10**-9 * 9987 * 10**6)\n",
    "print(f\"that many dict lookups would take {micros}µs\")"
   ]
  },
  {
   "cell_type": "code",
   "execution_count": 143,
   "id": "7f78e564",
   "metadata": {},
   "outputs": [],
   "source": [
    "vals = list(set(f['x'] for f in floats))"
   ]
  },
  {
   "cell_type": "code",
   "execution_count": 145,
   "id": "6089b7ef",
   "metadata": {},
   "outputs": [
    {
     "name": "stdout",
     "output_type": "stream",
     "text": [
      "126 ms ± 4.14 ms per loop (mean ± std. dev. of 7 runs, 10 loops each)\n"
     ]
    }
   ],
   "source": [
    "%%timeit\n",
    "r = [v for v in vals if v < 0.12 and v > 0.11]\n",
    "_ = list(d[v] for v in r)\n",
    "# let's make it a more fair test -- we do need to prefilter for the range."
   ]
  },
  {
   "cell_type": "code",
   "execution_count": 147,
   "id": "73ce5943",
   "metadata": {},
   "outputs": [
    {
     "name": "stdout",
     "output_type": "stream",
     "text": [
      "144 ms ± 3.06 ms per loop (mean ± std. dev. of 7 runs, 10 loops each)\n"
     ]
    }
   ],
   "source": [
    "%%timeit\n",
    "r1 = [v for v in vals if v < 0.12]\n",
    "r2 = [v for v in r1 if v > 0.11]\n",
    "_ = list(d[v] for v in r2)\n",
    "# let's make it a more fair test -- we do need to prefilter for the range."
   ]
  },
  {
   "cell_type": "code",
   "execution_count": 148,
   "id": "64caed88",
   "metadata": {},
   "outputs": [],
   "source": [
    "r = [v for v in vals if v < 0.12 and v > 0.11]"
   ]
  },
  {
   "cell_type": "code",
   "execution_count": 150,
   "id": "05a97b6d",
   "metadata": {},
   "outputs": [
    {
     "name": "stdout",
     "output_type": "stream",
     "text": [
      "2.6 ms ± 637 µs per loop (mean ± std. dev. of 7 runs, 100 loops each)\n"
     ]
    }
   ],
   "source": [
    "%%timeit\n",
    "_ = list(d[v] for v in r)"
   ]
  },
  {
   "cell_type": "code",
   "execution_count": 140,
   "id": "b0748f6b",
   "metadata": {},
   "outputs": [
    {
     "data": {
      "text/plain": [
       "9987"
      ]
     },
     "execution_count": 140,
     "metadata": {},
     "output_type": "execute_result"
    }
   ],
   "source": [
    "len(ls)"
   ]
  },
  {
   "cell_type": "code",
   "execution_count": 151,
   "id": "e07aaf99",
   "metadata": {},
   "outputs": [],
   "source": [
    "# yeah, filtering the 1M objects to find the 10k keys that fit the constraints is very slow.\n",
    "# Range queries should always be btree if possible.\n",
    "# what about hash queries? How much worse are those on btree?\n",
    "# The keys are unique in the btree... so it's kinda the same thing...?"
   ]
  },
  {
   "cell_type": "code",
   "execution_count": 153,
   "id": "fe161838",
   "metadata": {},
   "outputs": [],
   "source": [
    "# So ok. We're sure we want value-based lookups in frozen. Maybe?\n",
    "# When do we use them?\n",
    "# Right... when vals are comparable n stuff\n",
    "# ok yeah, use the wordle thingy as your perf test on the value-version of Frozen."
   ]
  },
  {
   "cell_type": "code",
   "execution_count": 154,
   "id": "a2ac31bf",
   "metadata": {},
   "outputs": [],
   "source": [
    "# whoa hey, the conversion story from btree <-> dict-of-set is a pretty good one\n",
    "# they both support [] so that's okay\n",
    "# how much is 10K conversions, you think?"
   ]
  },
  {
   "cell_type": "code",
   "execution_count": 155,
   "id": "6cc1d5e2",
   "metadata": {},
   "outputs": [],
   "source": [
    "d = {random.random(): random.random() for _ in range(10000)}"
   ]
  },
  {
   "cell_type": "code",
   "execution_count": 163,
   "id": "62211447",
   "metadata": {},
   "outputs": [
    {
     "name": "stdout",
     "output_type": "stream",
     "text": [
      "3.74 ms ± 75.8 µs per loop (mean ± std. dev. of 7 runs, 100 loops each)\n"
     ]
    }
   ],
   "source": [
    "%%timeit\n",
    "bt = OOBTree()\n",
    "for k, v in d.items():\n",
    "    bt[k] = v\n",
    "\n",
    "# duuuuuuude. We can *do* this. Changing it over on a single add is easy. 4ms for an insert is *nothing*!"
   ]
  },
  {
   "cell_type": "code",
   "execution_count": 162,
   "id": "a99a23b0",
   "metadata": {},
   "outputs": [],
   "source": [
    "# Proposed design...\n",
    "# Frozen:\n",
    "# - it's an array-as-tree-of-set if the values are comparable. \n",
    "# - Otherwise fail over to arrays-as-dict-of-set.\n",
    "# Mutable:\n",
    "# - Starts life as dict-of-set\n",
    "# - When 10K unique keys reached, try converting to BTree.\n",
    "#   - If it fails, never try again; these values are too weird.\n",
    "#   - If it succeeds, it's now a BTree, even if values are added / removed later.\n",
    "#   - If it's a BTree, and a new un-comarable value arrives, what happens? Convert back to dict? Or raise TypeError?"
   ]
  },
  {
   "cell_type": "code",
   "execution_count": 175,
   "id": "f8954fa4",
   "metadata": {},
   "outputs": [],
   "source": [
    "_=\"\"\"\n",
    "But what does all that *do* exactly?\n",
    "- Makes range queries good\n",
    "- Increases code complexity\n",
    "- Consider: Do we just want BTrees everywhere? 500ns vs 50ns per key lookup may be 10x, but it's still\n",
    "a small part of our overall cost. Doing intersections and id->obj lookups are what eats the real milliseconds. \n",
    "- I am emotionally attached to the hash implementation. Sunk cost. But I bet 0 of the tests would fail on a \n",
    "tree-based implementation. \n",
    "- Also having a bad brain day\n",
    "- Also overwhelmed by the idea of replacing so much code at once\n",
    "  - Maybe needs to be cut up smaller to feel doable\n",
    "- Is it really so bad to just replace `dict` with `OOBTree`? \n",
    "\"\"\""
   ]
  },
  {
   "cell_type": "code",
   "execution_count": 165,
   "id": "1b9169c5",
   "metadata": {},
   "outputs": [],
   "source": [
    "from filterbox import FilterBox"
   ]
  },
  {
   "cell_type": "code",
   "execution_count": 169,
   "id": "8381c030",
   "metadata": {},
   "outputs": [],
   "source": [
    "sinks = [{'x': round(z['x']*10)} for z in floats]"
   ]
  },
  {
   "cell_type": "code",
   "execution_count": 168,
   "id": "d30a16a1",
   "metadata": {},
   "outputs": [
    {
     "name": "stdout",
     "output_type": "stream",
     "text": [
      "CPU times: user 2.3 s, sys: 83.2 ms, total: 2.38 s\n",
      "Wall time: 2.38 s\n"
     ]
    }
   ],
   "source": [
    "%%time\n",
    "fb = FilterBox(floats, on='x')\n",
    "# it's slow because so many distincts. Sigh."
   ]
  },
  {
   "cell_type": "code",
   "execution_count": 170,
   "id": "7f317c3d",
   "metadata": {},
   "outputs": [
    {
     "name": "stdout",
     "output_type": "stream",
     "text": [
      "CPU times: user 1.34 s, sys: 50 ms, total: 1.39 s\n",
      "Wall time: 1.39 s\n"
     ]
    }
   ],
   "source": [
    "%%time\n",
    "fb = FilterBox(sinks, on='x')\n",
    "# yeah see that's faster. Also insertion into the BTree is gonna be slow with add()."
   ]
  },
  {
   "cell_type": "code",
   "execution_count": 174,
   "id": "ca056b53",
   "metadata": {},
   "outputs": [
    {
     "name": "stdout",
     "output_type": "stream",
     "text": [
      "CPU times: user 684 ms, sys: 15 µs, total: 684 ms\n",
      "Wall time: 683 ms\n"
     ]
    }
   ],
   "source": [
    "%%time\n",
    "bt = OOBTree()\n",
    "for s in sinks:\n",
    "    add(bt, s['x'], id(s))\n",
    "# what that's not fair how is this so much better"
   ]
  },
  {
   "cell_type": "code",
   "execution_count": 173,
   "id": "9a5bb751",
   "metadata": {},
   "outputs": [
    {
     "data": {
      "text/plain": [
       "49585"
      ]
     },
     "execution_count": 173,
     "metadata": {},
     "output_type": "execute_result"
    }
   ],
   "source": [
    "len(bt[0])"
   ]
  },
  {
   "cell_type": "code",
   "execution_count": null,
   "id": "4dc9acec",
   "metadata": {},
   "outputs": [],
   "source": []
  },
  {
   "cell_type": "code",
   "execution_count": null,
   "id": "6d095d43",
   "metadata": {},
   "outputs": [],
   "source": []
  },
  {
   "cell_type": "code",
   "execution_count": 186,
   "id": "9d1441a4",
   "metadata": {},
   "outputs": [
    {
     "data": {
      "text/plain": [
       "[1, 2, 3]"
      ]
     },
     "execution_count": 186,
     "metadata": {},
     "output_type": "execute_result"
    }
   ],
   "source": [
    "bt = OOBTree()\n",
    "bt.insert('Eevee', 1)\n",
    "bt.insert('Pikachu', 2)\n",
    "bt.insert('Zapdos', 3)\n",
    "bt.insert('dd', 4)\n",
    "bt.insert('e', 5)\n",
    "\n",
    "list(bt.values('Eevee', 'Zapdos'))"
   ]
  },
  {
   "cell_type": "code",
   "execution_count": null,
   "id": "7af82e35",
   "metadata": {},
   "outputs": [],
   "source": []
  }
 ],
 "metadata": {
  "kernelspec": {
   "display_name": "Python 3 (ipykernel)",
   "language": "python",
   "name": "python3"
  },
  "language_info": {
   "codemirror_mode": {
    "name": "ipython",
    "version": 3
   },
   "file_extension": ".py",
   "mimetype": "text/x-python",
   "name": "python",
   "nbconvert_exporter": "python",
   "pygments_lexer": "ipython3",
   "version": "3.9.7"
  }
 },
 "nbformat": 4,
 "nbformat_minor": 5
}
