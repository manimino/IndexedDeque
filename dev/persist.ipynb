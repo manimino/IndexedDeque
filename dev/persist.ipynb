{
 "cells": [
  {
   "cell_type": "markdown",
   "id": "de5ab8ae-2b3e-4b13-94f9-82da03c47610",
   "metadata": {},
   "source": [
    "we can pickle it!\n",
    "\n",
    "...hopefully"
   ]
  },
  {
   "cell_type": "code",
   "execution_count": 10,
   "id": "e79f0961-099d-4f2b-af48-39b2da7492a5",
   "metadata": {},
   "outputs": [],
   "source": [
    "import pickle\n",
    "from cykhash import Int64Set\n",
    "from filterbox import FilterBox, FrozenFilterBox\n",
    "from BTrees.OOBTree import OOBTree"
   ]
  },
  {
   "cell_type": "code",
   "execution_count": 3,
   "id": "0fe49b7a-6006-43af-aab1-dd8ba6ec8fb4",
   "metadata": {},
   "outputs": [],
   "source": [
    "s = Int64Set([1,2,3])"
   ]
  },
  {
   "cell_type": "code",
   "execution_count": 6,
   "id": "8736c5dc-3517-4dd9-8845-88f65949db13",
   "metadata": {},
   "outputs": [
    {
     "ename": "TypeError",
     "evalue": "no default __reduce__ due to non-trivial __cinit__",
     "output_type": "error",
     "traceback": [
      "\u001b[0;31m---------------------------------------------------------------------------\u001b[0m",
      "\u001b[0;31mTypeError\u001b[0m                                 Traceback (most recent call last)",
      "\u001b[0;32m/tmp/ipykernel_107710/1143623025.py\u001b[0m in \u001b[0;36m<module>\u001b[0;34m\u001b[0m\n\u001b[1;32m      1\u001b[0m \u001b[0mfn\u001b[0m \u001b[0;34m=\u001b[0m \u001b[0;34m'iset'\u001b[0m\u001b[0;34m\u001b[0m\u001b[0;34m\u001b[0m\u001b[0m\n\u001b[1;32m      2\u001b[0m \u001b[0;32mwith\u001b[0m \u001b[0mopen\u001b[0m\u001b[0;34m(\u001b[0m\u001b[0mfn\u001b[0m\u001b[0;34m,\u001b[0m \u001b[0;34m'wb'\u001b[0m\u001b[0;34m)\u001b[0m \u001b[0;32mas\u001b[0m \u001b[0mfh\u001b[0m\u001b[0;34m:\u001b[0m\u001b[0;34m\u001b[0m\u001b[0;34m\u001b[0m\u001b[0m\n\u001b[0;32m----> 3\u001b[0;31m     \u001b[0mpickle\u001b[0m\u001b[0;34m.\u001b[0m\u001b[0mdump\u001b[0m\u001b[0;34m(\u001b[0m\u001b[0ms\u001b[0m\u001b[0;34m,\u001b[0m \u001b[0mfh\u001b[0m\u001b[0;34m)\u001b[0m\u001b[0;34m\u001b[0m\u001b[0;34m\u001b[0m\u001b[0m\n\u001b[0m",
      "\u001b[0;32m~/anaconda3/lib/python3.9/site-packages/cykhash/khashsets.cpython-39-x86_64-linux-gnu.so\u001b[0m in \u001b[0;36mcykhash.khashsets.Int64Set.__reduce_cython__\u001b[0;34m()\u001b[0m\n",
      "\u001b[0;31mTypeError\u001b[0m: no default __reduce__ due to non-trivial __cinit__"
     ]
    }
   ],
   "source": [
    "fn = 'iset.pkl'\n",
    "with open(fn, 'wb') as fh:\n",
    "    pickle.dump(s, fh)"
   ]
  },
  {
   "cell_type": "code",
   "execution_count": 9,
   "id": "649321cd-7094-41ce-86cd-1c26ceb955a1",
   "metadata": {},
   "outputs": [],
   "source": [
    "t = OOBTree({'a': 1, 'b': 2})\n",
    "fn = 'itree.pkl'\n",
    "with open(fn, 'wb') as fh:\n",
    "    pickle.dump(t, fh)"
   ]
  },
  {
   "cell_type": "code",
   "execution_count": null,
   "id": "bf8d11b1-acbb-44f0-a5ea-4a6a66c4a001",
   "metadata": {},
   "outputs": [],
   "source": [
    "\"\"\"\n",
    "ok save mutable looks like:\n",
    " - dictify the BTree\n",
    " - Cast values to list of obj id\n",
    " - save map as list of objs and list of obj_ids\n",
    " - save none_ids as list\n",
    "\n",
    "load:\n",
    " - build lookup of old_id: new_id\n",
    " - do reverse shit\n",
    " \n",
    "** Let's do frozen first to get used to the process. **\n",
    "\"\"\""
   ]
  },
  {
   "cell_type": "code",
   "execution_count": 16,
   "id": "52bed16e-3d5e-4c28-95a5-20068e14a5ca",
   "metadata": {},
   "outputs": [],
   "source": [
    "objs = [{'x':i} for i in range(10)]\n",
    "def thresh(obj):\n",
    "    return obj['x'] > 5\n",
    "ffb = FrozenFilterBox(objs, ['x', thresh])\n"
   ]
  },
  {
   "cell_type": "code",
   "execution_count": 24,
   "id": "c72f40fe-ef89-4303-83b7-76a181bf5050",
   "metadata": {},
   "outputs": [],
   "source": [
    "fn = 'frozen.pkl'\n",
    "with open(fn, 'wb') as fh:\n",
    "    pickle.dump(ffb, fh)"
   ]
  },
  {
   "cell_type": "code",
   "execution_count": 25,
   "id": "69689ee4-6a3e-4ad8-ba10-17498e1873ce",
   "metadata": {},
   "outputs": [],
   "source": [
    "with open(fn, 'rb') as fh:\n",
    "    ffb2 = pickle.load(fh)"
   ]
  },
  {
   "cell_type": "code",
   "execution_count": 26,
   "id": "a2e95991-aca5-4f67-b9e8-583d01a05be0",
   "metadata": {},
   "outputs": [
    {
     "data": {
      "text/plain": [
       "array([{'x': 6}, {'x': 7}, {'x': 8}, {'x': 9}], dtype=object)"
      ]
     },
     "execution_count": 26,
     "metadata": {},
     "output_type": "execute_result"
    }
   ],
   "source": [
    "ffb2.find({thresh: True})"
   ]
  },
  {
   "cell_type": "code",
   "execution_count": null,
   "id": "88ed2b97-5b75-4d96-896d-c42a4d8217f8",
   "metadata": {},
   "outputs": [],
   "source": []
  },
  {
   "cell_type": "code",
   "execution_count": null,
   "id": "f62acc81-8616-4622-b0ec-be5bc7fe1c8e",
   "metadata": {},
   "outputs": [],
   "source": []
  }
 ],
 "metadata": {
  "kernelspec": {
   "display_name": "Python 3 (ipykernel)",
   "language": "python",
   "name": "python3"
  },
  "language_info": {
   "codemirror_mode": {
    "name": "ipython",
    "version": 3
   },
   "file_extension": ".py",
   "mimetype": "text/x-python",
   "name": "python",
   "nbconvert_exporter": "python",
   "pygments_lexer": "ipython3",
   "version": "3.9.7"
  }
 },
 "nbformat": 4,
 "nbformat_minor": 5
}
