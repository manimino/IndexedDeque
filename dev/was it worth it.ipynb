{
 "cells": [
  {
   "cell_type": "code",
   "execution_count": 1,
   "id": "703e74c0",
   "metadata": {},
   "outputs": [],
   "source": [
    "from filterbox import FrozenFilterBox, FilterBox\n",
    "from litebox import LiteBox\n",
    "from BTrees.OOBTree import OOBTree\n",
    "import random"
   ]
  },
  {
   "cell_type": "code",
   "execution_count": 21,
   "id": "62c34e42-6316-49fa-81cb-4f5d1e0c5bb0",
   "metadata": {},
   "outputs": [
    {
     "name": "stdout",
     "output_type": "stream",
     "text": [
      "CPU times: user 1.26 s, sys: 66.6 ms, total: 1.33 s\n",
      "Wall time: 1.33 s\n"
     ]
    }
   ],
   "source": [
    "%%time\n",
    "# let's try regular filterbox\n",
    "objs = [{'x': i} for i in range(10**6)]\n",
    "fb = FilterBox(objs, 'x')"
   ]
  },
  {
   "cell_type": "code",
   "execution_count": 22,
   "id": "87aa69b9-4ef7-4600-9273-2605571002fb",
   "metadata": {},
   "outputs": [
    {
     "name": "stdout",
     "output_type": "stream",
     "text": [
      "CPU times: user 628 ms, sys: 6.67 ms, total: 635 ms\n",
      "Wall time: 634 ms\n"
     ]
    }
   ],
   "source": [
    "%%time\n",
    "ffb = FrozenFilterBox(objs, 'x')"
   ]
  },
  {
   "cell_type": "code",
   "execution_count": 23,
   "id": "46298a52-4d3b-492d-8049-3c51c9c91b89",
   "metadata": {},
   "outputs": [
    {
     "name": "stdout",
     "output_type": "stream",
     "text": [
      "CPU times: user 1.94 s, sys: 46.6 ms, total: 1.98 s\n",
      "Wall time: 1.98 s\n"
     ]
    }
   ],
   "source": [
    "%%time\n",
    "lb = LiteBox(objs, {'x': int})"
   ]
  },
  {
   "cell_type": "code",
   "execution_count": null,
   "id": "f5b1113a-e550-45b8-8efc-44dd3d387c77",
   "metadata": {},
   "outputs": [],
   "source": []
  },
  {
   "cell_type": "code",
   "execution_count": null,
   "id": "14f36864",
   "metadata": {},
   "outputs": [],
   "source": []
  },
  {
   "cell_type": "code",
   "execution_count": null,
   "id": "75f2665d",
   "metadata": {},
   "outputs": [],
   "source": []
  },
  {
   "cell_type": "code",
   "execution_count": 4,
   "id": "ba8be1d1",
   "metadata": {},
   "outputs": [],
   "source": []
  },
  {
   "cell_type": "code",
   "execution_count": 5,
   "id": "dda7eb59",
   "metadata": {},
   "outputs": [],
   "source": [
    "# test small queries"
   ]
  },
  {
   "cell_type": "code",
   "execution_count": 24,
   "id": "7f729281-77f3-4a79-89a4-9bcdc1babb04",
   "metadata": {},
   "outputs": [
    {
     "name": "stdout",
     "output_type": "stream",
     "text": [
      "4.7 µs ± 44.4 ns per loop (mean ± std. dev. of 7 runs, 100000 loops each)\n"
     ]
    }
   ],
   "source": [
    "%%timeit\n",
    "fb.find({'x': {'<': 10**5, '>': 10**5-10}})"
   ]
  },
  {
   "cell_type": "code",
   "execution_count": 6,
   "id": "865017d0",
   "metadata": {},
   "outputs": [
    {
     "name": "stdout",
     "output_type": "stream",
     "text": [
      "4.77 µs ± 51.3 ns per loop (mean ± std. dev. of 7 runs, 100000 loops each)\n"
     ]
    }
   ],
   "source": [
    "%%timeit\n",
    "ffb.find({'x': {'<': 10**5, '>': 10**5-10}})"
   ]
  },
  {
   "cell_type": "code",
   "execution_count": 7,
   "id": "15145bbe",
   "metadata": {},
   "outputs": [
    {
     "name": "stdout",
     "output_type": "stream",
     "text": [
      "3.59 µs ± 31.3 ns per loop (mean ± std. dev. of 7 runs, 100000 loops each)\n"
     ]
    }
   ],
   "source": [
    "%%timeit\n",
    "lb.find(f'x < {10**5} and x > {10**5-10}')"
   ]
  },
  {
   "cell_type": "code",
   "execution_count": 8,
   "id": "044b0687",
   "metadata": {},
   "outputs": [],
   "source": [
    "# test medium queries"
   ]
  },
  {
   "cell_type": "code",
   "execution_count": 28,
   "id": "4cae5322-c39a-491c-8232-476303655f2b",
   "metadata": {},
   "outputs": [
    {
     "name": "stdout",
     "output_type": "stream",
     "text": [
      "18.3 µs ± 169 ns per loop (mean ± std. dev. of 7 runs, 100000 loops each)\n"
     ]
    }
   ],
   "source": [
    "%%timeit\n",
    "fb.find({'x': {'<': 10**5, '>': 10**5-100}})"
   ]
  },
  {
   "cell_type": "code",
   "execution_count": 26,
   "id": "2c372a84",
   "metadata": {},
   "outputs": [
    {
     "name": "stdout",
     "output_type": "stream",
     "text": [
      "5.17 µs ± 35.7 ns per loop (mean ± std. dev. of 7 runs, 100000 loops each)\n"
     ]
    }
   ],
   "source": [
    "%%timeit\n",
    "ffb.find({'x': {'<': 10**5, '>': 10**5-100}})"
   ]
  },
  {
   "cell_type": "code",
   "execution_count": 27,
   "id": "976639c9",
   "metadata": {},
   "outputs": [
    {
     "name": "stdout",
     "output_type": "stream",
     "text": [
      "24.4 µs ± 244 ns per loop (mean ± std. dev. of 7 runs, 10000 loops each)\n"
     ]
    }
   ],
   "source": [
    "%%timeit\n",
    "lb.find(f'x < {10**5} and x > {10**5-100}')"
   ]
  },
  {
   "cell_type": "code",
   "execution_count": 11,
   "id": "ca628047",
   "metadata": {},
   "outputs": [],
   "source": [
    "# yes for long queries though."
   ]
  },
  {
   "cell_type": "code",
   "execution_count": 29,
   "id": "45ec2c1d-d987-4454-8d39-7ba82ec1134c",
   "metadata": {},
   "outputs": [
    {
     "name": "stdout",
     "output_type": "stream",
     "text": [
      "162 µs ± 1.03 µs per loop (mean ± std. dev. of 7 runs, 10000 loops each)\n"
     ]
    }
   ],
   "source": [
    "%%timeit\n",
    "fb.find({'x': {'<': 10**5, '>': 10**5-1000}})"
   ]
  },
  {
   "cell_type": "code",
   "execution_count": 12,
   "id": "ec813d1f",
   "metadata": {},
   "outputs": [
    {
     "name": "stdout",
     "output_type": "stream",
     "text": [
      "10.1 µs ± 131 ns per loop (mean ± std. dev. of 7 runs, 100000 loops each)\n"
     ]
    }
   ],
   "source": [
    "%%timeit\n",
    "ffb.find({'x': {'<': 10**5, '>': 10**5-1000}})"
   ]
  },
  {
   "cell_type": "code",
   "execution_count": 13,
   "id": "94d73230",
   "metadata": {},
   "outputs": [
    {
     "name": "stdout",
     "output_type": "stream",
     "text": [
      "223 µs ± 3.09 µs per loop (mean ± std. dev. of 7 runs, 1000 loops each)\n"
     ]
    }
   ],
   "source": [
    "%%timeit\n",
    "lb.find(f'x < {10**5} and x > {10**5-1000}')"
   ]
  },
  {
   "cell_type": "code",
   "execution_count": null,
   "id": "f05d6718",
   "metadata": {},
   "outputs": [],
   "source": []
  },
  {
   "cell_type": "code",
   "execution_count": 14,
   "id": "39eb3ff9",
   "metadata": {},
   "outputs": [
    {
     "name": "stdout",
     "output_type": "stream",
     "text": [
      "CPU times: user 199 ms, sys: 16.6 ms, total: 215 ms\n",
      "Wall time: 215 ms\n"
     ]
    }
   ],
   "source": [
    "%%time\n",
    "bt = OOBTree()\n",
    "for s in range(10**6):\n",
    "    bt[s] = s\n",
    "# ??????????"
   ]
  },
  {
   "cell_type": "code",
   "execution_count": 15,
   "id": "a25c7bc0",
   "metadata": {},
   "outputs": [],
   "source": [
    "nums = list(range(10**6))"
   ]
  },
  {
   "cell_type": "code",
   "execution_count": 16,
   "id": "860cef01",
   "metadata": {},
   "outputs": [
    {
     "name": "stdout",
     "output_type": "stream",
     "text": [
      "CPU times: user 303 ms, sys: 2 µs, total: 303 ms\n",
      "Wall time: 303 ms\n"
     ]
    }
   ],
   "source": [
    "%%time\n",
    "bt = OOBTree()\n",
    "for _ in range(10**6):\n",
    "    random.choice(nums)\n",
    "    bt[s] = s\n",
    "# ??????????"
   ]
  },
  {
   "cell_type": "code",
   "execution_count": 17,
   "id": "2fd93f47",
   "metadata": {},
   "outputs": [
    {
     "name": "stdout",
     "output_type": "stream",
     "text": [
      "CPU times: user 1.14 s, sys: 80 ms, total: 1.22 s\n",
      "Wall time: 1.22 s\n"
     ]
    }
   ],
   "source": [
    "%%time\n",
    "# now let's try regular filterbox\n",
    "objs = [{'x': i} for i in range(1000000)]\n",
    "# WTF!!! why so slow omg\n",
    "# maybe we still need fast init or something, dang...\n",
    "fb = FilterBox(objs, 'x')"
   ]
  },
  {
   "cell_type": "code",
   "execution_count": 18,
   "id": "985624b5",
   "metadata": {},
   "outputs": [
    {
     "name": "stdout",
     "output_type": "stream",
     "text": [
      "18.6 µs ± 73.7 ns per loop (mean ± std. dev. of 7 runs, 100000 loops each)\n"
     ]
    }
   ],
   "source": [
    "%%timeit\n",
    "fb.find({'x': {'<': 10**5, '>': 10**5-100}})"
   ]
  },
  {
   "cell_type": "code",
   "execution_count": 19,
   "id": "16e36f4b",
   "metadata": {},
   "outputs": [
    {
     "name": "stdout",
     "output_type": "stream",
     "text": [
      "24.1 µs ± 298 ns per loop (mean ± std. dev. of 7 runs, 10000 loops each)\n"
     ]
    }
   ],
   "source": [
    "%%timeit\n",
    "lb.find(f'x < {10**5} and x > {10**5-100}')"
   ]
  },
  {
   "cell_type": "code",
   "execution_count": 20,
   "id": "7e0c7388",
   "metadata": {},
   "outputs": [],
   "source": [
    "_=\"\"\"\n",
    "OK, so BTrees is comparable to LiteBox on range queries.\n",
    "It'd be faster (albeit less general) if the objects were hashable and we could do set ops on them driectly but that's OK.\n",
    "Why not store the objs in the tree, and only deal in IDs if there's a combination to do?\n",
    "So it'd be a BTree of key -> list[obj]. Worth considering.\n",
    "\"\"\""
   ]
  },
  {
   "cell_type": "code",
   "execution_count": null,
   "id": "b9a2e0b2",
   "metadata": {},
   "outputs": [],
   "source": []
  }
 ],
 "metadata": {
  "kernelspec": {
   "display_name": "Python 3 (ipykernel)",
   "language": "python",
   "name": "python3"
  },
  "language_info": {
   "codemirror_mode": {
    "name": "ipython",
    "version": 3
   },
   "file_extension": ".py",
   "mimetype": "text/x-python",
   "name": "python",
   "nbconvert_exporter": "python",
   "pygments_lexer": "ipython3",
   "version": "3.9.7"
  }
 },
 "nbformat": 4,
 "nbformat_minor": 5
}
