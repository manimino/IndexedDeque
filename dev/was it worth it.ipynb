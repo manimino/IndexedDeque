{
 "cells": [
  {
   "cell_type": "code",
   "execution_count": 18,
   "id": "703e74c0",
   "metadata": {},
   "outputs": [],
   "source": [
    "from filterbox import FrozenFilterBox, FilterBox\n",
    "from litebox import LiteBox\n",
    "from BTrees.OOBTree import OOBTree\n",
    "import random"
   ]
  },
  {
   "cell_type": "code",
   "execution_count": 2,
   "id": "14f36864",
   "metadata": {},
   "outputs": [],
   "source": [
    "objs = [{'x': i} for i in range(10**6)]"
   ]
  },
  {
   "cell_type": "code",
   "execution_count": null,
   "id": "75f2665d",
   "metadata": {},
   "outputs": [],
   "source": []
  },
  {
   "cell_type": "code",
   "execution_count": 3,
   "id": "ba8be1d1",
   "metadata": {},
   "outputs": [],
   "source": [
    "ffb = FrozenFilterBox(objs, 'x')"
   ]
  },
  {
   "cell_type": "code",
   "execution_count": 30,
   "id": "dda7eb59",
   "metadata": {},
   "outputs": [],
   "source": [
    "lb = LiteBox(objs, {'x': int})"
   ]
  },
  {
   "cell_type": "code",
   "execution_count": 6,
   "id": "865017d0",
   "metadata": {},
   "outputs": [
    {
     "name": "stdout",
     "output_type": "stream",
     "text": [
      "8.47 µs ± 83.2 ns per loop (mean ± std. dev. of 7 runs, 100000 loops each)\n"
     ]
    }
   ],
   "source": [
    "%%timeit\n",
    "ffb.find({'x': {'<': 10**5, '>': 10**5-10}})"
   ]
  },
  {
   "cell_type": "code",
   "execution_count": 8,
   "id": "15145bbe",
   "metadata": {},
   "outputs": [
    {
     "name": "stdout",
     "output_type": "stream",
     "text": [
      "6.98 µs ± 83 ns per loop (mean ± std. dev. of 7 runs, 100000 loops each)\n"
     ]
    }
   ],
   "source": [
    "%%timeit\n",
    "lb.find(f'x < {10**5} and x > {10**5-10}')"
   ]
  },
  {
   "cell_type": "code",
   "execution_count": 9,
   "id": "044b0687",
   "metadata": {},
   "outputs": [],
   "source": [
    "# Not for short queries"
   ]
  },
  {
   "cell_type": "code",
   "execution_count": 10,
   "id": "2c372a84",
   "metadata": {},
   "outputs": [
    {
     "name": "stdout",
     "output_type": "stream",
     "text": [
      "9.3 µs ± 123 ns per loop (mean ± std. dev. of 7 runs, 100000 loops each)\n"
     ]
    }
   ],
   "source": [
    "%%timeit\n",
    "ffb.find({'x': {'<': 10**5, '>': 10**5-100}})"
   ]
  },
  {
   "cell_type": "code",
   "execution_count": 11,
   "id": "976639c9",
   "metadata": {},
   "outputs": [
    {
     "name": "stdout",
     "output_type": "stream",
     "text": [
      "47.1 µs ± 415 ns per loop (mean ± std. dev. of 7 runs, 10000 loops each)\n"
     ]
    }
   ],
   "source": [
    "%%timeit\n",
    "lb.find(f'x < {10**5} and x > {10**5-100}')"
   ]
  },
  {
   "cell_type": "code",
   "execution_count": 12,
   "id": "ca628047",
   "metadata": {},
   "outputs": [],
   "source": [
    "# yes for long queries though."
   ]
  },
  {
   "cell_type": "code",
   "execution_count": 15,
   "id": "ec813d1f",
   "metadata": {},
   "outputs": [
    {
     "name": "stdout",
     "output_type": "stream",
     "text": [
      "20.9 µs ± 1.29 µs per loop (mean ± std. dev. of 7 runs, 10000 loops each)\n"
     ]
    }
   ],
   "source": [
    "%%timeit\n",
    "ffb.find({'x': {'<': 10**5, '>': 10**5-1000}})"
   ]
  },
  {
   "cell_type": "code",
   "execution_count": 16,
   "id": "94d73230",
   "metadata": {},
   "outputs": [
    {
     "name": "stdout",
     "output_type": "stream",
     "text": [
      "444 µs ± 11.5 µs per loop (mean ± std. dev. of 7 runs, 1000 loops each)\n"
     ]
    }
   ],
   "source": [
    "%%timeit\n",
    "lb.find(f'x < {10**5} and x > {10**5-1000}')"
   ]
  },
  {
   "cell_type": "code",
   "execution_count": null,
   "id": "f05d6718",
   "metadata": {},
   "outputs": [],
   "source": []
  },
  {
   "cell_type": "code",
   "execution_count": 16,
   "id": "39eb3ff9",
   "metadata": {},
   "outputs": [
    {
     "name": "stdout",
     "output_type": "stream",
     "text": [
      "CPU times: user 494 ms, sys: 6.64 ms, total: 501 ms\n",
      "Wall time: 499 ms\n"
     ]
    }
   ],
   "source": [
    "%%time\n",
    "bt = OOBTree()\n",
    "for s in range(10**6):\n",
    "    bt[s] = s\n",
    "# ??????????"
   ]
  },
  {
   "cell_type": "code",
   "execution_count": 20,
   "id": "a25c7bc0",
   "metadata": {},
   "outputs": [],
   "source": [
    "nums = list(range(10**6))"
   ]
  },
  {
   "cell_type": "code",
   "execution_count": 24,
   "id": "860cef01",
   "metadata": {},
   "outputs": [
    {
     "name": "stdout",
     "output_type": "stream",
     "text": [
      "CPU times: user 661 ms, sys: 11 µs, total: 661 ms\n",
      "Wall time: 661 ms\n"
     ]
    }
   ],
   "source": [
    "%%time\n",
    "bt = OOBTree()\n",
    "for _ in range(10**6):\n",
    "    random.choice(nums)\n",
    "    bt[s] = s\n",
    "# ??????????"
   ]
  },
  {
   "cell_type": "code",
   "execution_count": 9,
   "id": "2fd93f47",
   "metadata": {},
   "outputs": [
    {
     "name": "stdout",
     "output_type": "stream",
     "text": [
      "CPU times: user 3min 20s, sys: 161 ms, total: 3min 20s\n",
      "Wall time: 3min 20s\n"
     ]
    }
   ],
   "source": [
    "%%time\n",
    "# now let's try regular filterbox\n",
    "objs = [{'x': i} for i in range(1000000)]\n",
    "# WTF!!! why so slow omg\n",
    "# maybe we still need fast init or something, dang...\n",
    "fb = FilterBox(objs, 'x')"
   ]
  },
  {
   "cell_type": "code",
   "execution_count": 34,
   "id": "985624b5",
   "metadata": {},
   "outputs": [
    {
     "name": "stdout",
     "output_type": "stream",
     "text": [
      "51.6 µs ± 2.79 µs per loop (mean ± std. dev. of 7 runs, 10000 loops each)\n"
     ]
    }
   ],
   "source": [
    "%%timeit\n",
    "fb.find({'x': {'<': 10**5, '>': 10**5-100}})"
   ]
  },
  {
   "cell_type": "code",
   "execution_count": 35,
   "id": "16e36f4b",
   "metadata": {},
   "outputs": [
    {
     "name": "stdout",
     "output_type": "stream",
     "text": [
      "47.8 µs ± 447 ns per loop (mean ± std. dev. of 7 runs, 10000 loops each)\n"
     ]
    }
   ],
   "source": [
    "%%timeit\n",
    "lb.find(f'x < {10**5} and x > {10**5-100}')"
   ]
  },
  {
   "cell_type": "code",
   "execution_count": 36,
   "id": "7e0c7388",
   "metadata": {},
   "outputs": [],
   "source": [
    "_=\"\"\"\n",
    "OK, so BTrees is comparable to LiteBox on range queries.\n",
    "It'd be faster (albeit less general) if the objects were hashable and we could do set ops on them driectly but that's OK.\n",
    "Why not store the objs in the tree, and only deal in IDs if there's a combination to do?\n",
    "So it'd be a BTree of key -> list[obj]. Worth considering.\n",
    "\"\"\""
   ]
  },
  {
   "cell_type": "code",
   "execution_count": null,
   "id": "b9a2e0b2",
   "metadata": {},
   "outputs": [],
   "source": []
  }
 ],
 "metadata": {
  "kernelspec": {
   "display_name": "Python 3 (ipykernel)",
   "language": "python",
   "name": "python3"
  },
  "language_info": {
   "codemirror_mode": {
    "name": "ipython",
    "version": 3
   },
   "file_extension": ".py",
   "mimetype": "text/x-python",
   "name": "python",
   "nbconvert_exporter": "python",
   "pygments_lexer": "ipython3",
   "version": "3.9.7"
  }
 },
 "nbformat": 4,
 "nbformat_minor": 5
}
