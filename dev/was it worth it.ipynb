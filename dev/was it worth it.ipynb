{
 "cells": [
  {
   "cell_type": "code",
   "execution_count": 1,
   "id": "703e74c0",
   "metadata": {},
   "outputs": [],
   "source": [
    "from filterbox import FrozenFilterBox, FilterBox\n",
    "from litebox import LiteBox\n",
    "from BTrees.OOBTree import OOBTree\n",
    "import random"
   ]
  },
  {
   "cell_type": "code",
   "execution_count": 5,
   "id": "62c34e42-6316-49fa-81cb-4f5d1e0c5bb0",
   "metadata": {},
   "outputs": [
    {
     "name": "stdout",
     "output_type": "stream",
     "text": [
      "CPU times: user 917 ms, sys: 86.7 ms, total: 1 s\n",
      "Wall time: 1 s\n"
     ]
    }
   ],
   "source": [
    "%%time\n",
    "# let's try regular filterbox\n",
    "objs = [{'x': i} for i in range(10**6)]\n",
    "fb = FilterBox(objs, 'x')"
   ]
  },
  {
   "cell_type": "code",
   "execution_count": null,
   "id": "87aa69b9-4ef7-4600-9273-2605571002fb",
   "metadata": {},
   "outputs": [],
   "source": []
  },
  {
   "cell_type": "code",
   "execution_count": null,
   "id": "46298a52-4d3b-492d-8049-3c51c9c91b89",
   "metadata": {},
   "outputs": [],
   "source": []
  },
  {
   "cell_type": "code",
   "execution_count": null,
   "id": "f5b1113a-e550-45b8-8efc-44dd3d387c77",
   "metadata": {},
   "outputs": [],
   "source": []
  },
  {
   "cell_type": "code",
   "execution_count": 2,
   "id": "14f36864",
   "metadata": {},
   "outputs": [],
   "source": [
    "objs = [{'x': i} for i in range(10**6)]"
   ]
  },
  {
   "cell_type": "code",
   "execution_count": null,
   "id": "75f2665d",
   "metadata": {},
   "outputs": [],
   "source": []
  },
  {
   "cell_type": "code",
   "execution_count": 3,
   "id": "ba8be1d1",
   "metadata": {},
   "outputs": [],
   "source": [
    "ffb = FrozenFilterBox(objs, 'x')"
   ]
  },
  {
   "cell_type": "code",
   "execution_count": 4,
   "id": "dda7eb59",
   "metadata": {},
   "outputs": [],
   "source": [
    "lb = LiteBox(objs, {'x': int})"
   ]
  },
  {
   "cell_type": "code",
   "execution_count": 5,
   "id": "865017d0",
   "metadata": {},
   "outputs": [
    {
     "name": "stdout",
     "output_type": "stream",
     "text": [
      "3.83 µs ± 75.2 ns per loop (mean ± std. dev. of 7 runs, 100000 loops each)\n"
     ]
    }
   ],
   "source": [
    "%%timeit\n",
    "ffb.find({'x': {'<': 10**5, '>': 10**5-10}})"
   ]
  },
  {
   "cell_type": "code",
   "execution_count": 6,
   "id": "15145bbe",
   "metadata": {},
   "outputs": [
    {
     "name": "stdout",
     "output_type": "stream",
     "text": [
      "3.6 µs ± 31.2 ns per loop (mean ± std. dev. of 7 runs, 100000 loops each)\n"
     ]
    }
   ],
   "source": [
    "%%timeit\n",
    "lb.find(f'x < {10**5} and x > {10**5-10}')"
   ]
  },
  {
   "cell_type": "code",
   "execution_count": 7,
   "id": "044b0687",
   "metadata": {},
   "outputs": [],
   "source": [
    "# Not for short queries"
   ]
  },
  {
   "cell_type": "code",
   "execution_count": 8,
   "id": "2c372a84",
   "metadata": {},
   "outputs": [
    {
     "name": "stdout",
     "output_type": "stream",
     "text": [
      "4.22 µs ± 75.6 ns per loop (mean ± std. dev. of 7 runs, 100000 loops each)\n"
     ]
    }
   ],
   "source": [
    "%%timeit\n",
    "ffb.find({'x': {'<': 10**5, '>': 10**5-100}})"
   ]
  },
  {
   "cell_type": "code",
   "execution_count": 9,
   "id": "976639c9",
   "metadata": {},
   "outputs": [
    {
     "name": "stdout",
     "output_type": "stream",
     "text": [
      "24.7 µs ± 123 ns per loop (mean ± std. dev. of 7 runs, 10000 loops each)\n"
     ]
    }
   ],
   "source": [
    "%%timeit\n",
    "lb.find(f'x < {10**5} and x > {10**5-100}')"
   ]
  },
  {
   "cell_type": "code",
   "execution_count": 10,
   "id": "ca628047",
   "metadata": {},
   "outputs": [],
   "source": [
    "# yes for long queries though."
   ]
  },
  {
   "cell_type": "code",
   "execution_count": 11,
   "id": "ec813d1f",
   "metadata": {},
   "outputs": [
    {
     "name": "stdout",
     "output_type": "stream",
     "text": [
      "9.09 µs ± 114 ns per loop (mean ± std. dev. of 7 runs, 100000 loops each)\n"
     ]
    }
   ],
   "source": [
    "%%timeit\n",
    "ffb.find({'x': {'<': 10**5, '>': 10**5-1000}})"
   ]
  },
  {
   "cell_type": "code",
   "execution_count": 12,
   "id": "94d73230",
   "metadata": {},
   "outputs": [
    {
     "name": "stdout",
     "output_type": "stream",
     "text": [
      "242 µs ± 13.1 µs per loop (mean ± std. dev. of 7 runs, 1000 loops each)\n"
     ]
    }
   ],
   "source": [
    "%%timeit\n",
    "lb.find(f'x < {10**5} and x > {10**5-1000}')"
   ]
  },
  {
   "cell_type": "code",
   "execution_count": null,
   "id": "f05d6718",
   "metadata": {},
   "outputs": [],
   "source": []
  },
  {
   "cell_type": "code",
   "execution_count": 13,
   "id": "39eb3ff9",
   "metadata": {},
   "outputs": [
    {
     "name": "stdout",
     "output_type": "stream",
     "text": [
      "CPU times: user 209 ms, sys: 13.3 ms, total: 222 ms\n",
      "Wall time: 221 ms\n"
     ]
    }
   ],
   "source": [
    "%%time\n",
    "bt = OOBTree()\n",
    "for s in range(10**6):\n",
    "    bt[s] = s\n",
    "# ??????????"
   ]
  },
  {
   "cell_type": "code",
   "execution_count": 14,
   "id": "a25c7bc0",
   "metadata": {},
   "outputs": [],
   "source": [
    "nums = list(range(10**6))"
   ]
  },
  {
   "cell_type": "code",
   "execution_count": 15,
   "id": "860cef01",
   "metadata": {},
   "outputs": [
    {
     "name": "stdout",
     "output_type": "stream",
     "text": [
      "CPU times: user 375 ms, sys: 0 ns, total: 375 ms\n",
      "Wall time: 375 ms\n"
     ]
    }
   ],
   "source": [
    "%%time\n",
    "bt = OOBTree()\n",
    "for _ in range(10**6):\n",
    "    random.choice(nums)\n",
    "    bt[s] = s\n",
    "# ??????????"
   ]
  },
  {
   "cell_type": "code",
   "execution_count": 16,
   "id": "2fd93f47",
   "metadata": {},
   "outputs": [
    {
     "name": "stdout",
     "output_type": "stream",
     "text": [
      "CPU times: user 3min 20s, sys: 92.6 ms, total: 3min 20s\n",
      "Wall time: 3min 20s\n"
     ]
    }
   ],
   "source": [
    "%%time\n",
    "# now let's try regular filterbox\n",
    "objs = [{'x': i} for i in range(1000000)]\n",
    "# WTF!!! why so slow omg\n",
    "# maybe we still need fast init or something, dang...\n",
    "fb = FilterBox(objs, 'x')"
   ]
  },
  {
   "cell_type": "code",
   "execution_count": 17,
   "id": "985624b5",
   "metadata": {},
   "outputs": [
    {
     "name": "stdout",
     "output_type": "stream",
     "text": [
      "22.8 µs ± 89.7 ns per loop (mean ± std. dev. of 7 runs, 10000 loops each)\n"
     ]
    }
   ],
   "source": [
    "%%timeit\n",
    "fb.find({'x': {'<': 10**5, '>': 10**5-100}})"
   ]
  },
  {
   "cell_type": "code",
   "execution_count": 18,
   "id": "16e36f4b",
   "metadata": {},
   "outputs": [
    {
     "name": "stdout",
     "output_type": "stream",
     "text": [
      "24.4 µs ± 284 ns per loop (mean ± std. dev. of 7 runs, 10000 loops each)\n"
     ]
    }
   ],
   "source": [
    "%%timeit\n",
    "lb.find(f'x < {10**5} and x > {10**5-100}')"
   ]
  },
  {
   "cell_type": "code",
   "execution_count": 19,
   "id": "7e0c7388",
   "metadata": {},
   "outputs": [],
   "source": [
    "_=\"\"\"\n",
    "OK, so BTrees is comparable to LiteBox on range queries.\n",
    "It'd be faster (albeit less general) if the objects were hashable and we could do set ops on them driectly but that's OK.\n",
    "Why not store the objs in the tree, and only deal in IDs if there's a combination to do?\n",
    "So it'd be a BTree of key -> list[obj]. Worth considering.\n",
    "\"\"\""
   ]
  },
  {
   "cell_type": "code",
   "execution_count": null,
   "id": "b9a2e0b2",
   "metadata": {},
   "outputs": [],
   "source": []
  }
 ],
 "metadata": {
  "kernelspec": {
   "display_name": "Python 3 (ipykernel)",
   "language": "python",
   "name": "python3"
  },
  "language_info": {
   "codemirror_mode": {
    "name": "ipython",
    "version": 3
   },
   "file_extension": ".py",
   "mimetype": "text/x-python",
   "name": "python",
   "nbconvert_exporter": "python",
   "pygments_lexer": "ipython3",
   "version": "3.9.7"
  }
 },
 "nbformat": 4,
 "nbformat_minor": 5
}
