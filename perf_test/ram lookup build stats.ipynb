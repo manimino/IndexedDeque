{
 "cells": [
  {
   "cell_type": "code",
   "execution_count": 9,
   "id": "a98d3eab",
   "metadata": {},
   "outputs": [],
   "source": [
    "import random\n",
    "import time\n",
    "from dataclasses import dataclass\n",
    "from hashindex import HashIndex\n",
    "\n",
    "from pympler import asizeof\n",
    "\n",
    "\n",
    "# Graphs we want:\n",
    "# - RAM usage\n",
    "# -- Determine the summed size of the objects\n",
    "# -- Find overhead of a `list` containing the objects\n",
    "# -- Find cost of a\n",
    "\n",
    "@dataclass\n",
    "class ObjTen:\n",
    "    a: str\n",
    "    b: str\n",
    "    c: str\n",
    "    d: str\n",
    "    e: str\n",
    "    f: int\n",
    "    g: int\n",
    "    h: int\n",
    "    i: int\n",
    "    j: int\n",
    "\n",
    "\n",
    "@dataclass\n",
    "class ObjOne:\n",
    "    a: str"
   ]
  },
  {
   "cell_type": "code",
   "execution_count": 10,
   "id": "113d2b93",
   "metadata": {},
   "outputs": [],
   "source": [
    "def make_objs(n_keys, n_items, exp_dist=True, key_type=str):\n",
    "    ls = []\n",
    "    for i in range(n_keys):\n",
    "        for i in range(n//10000):\n",
    "            ls.append(ObjTen(\n",
    "                a=str(i),\n",
    "                b=str(i),\n",
    "                c=str(i),\n",
    "                d=str(i),\n",
    "                e=str(i),\n",
    "                f=i,\n",
    "                g=i,\n",
    "                h=i,\n",
    "                i=i,\n",
    "                j=i,\n",
    "            ))\n",
    "    return ls\n"
   ]
  },
  {
   "cell_type": "code",
   "execution_count": 11,
   "id": "3747b968",
   "metadata": {},
   "outputs": [],
   "source": [
    "def perf_test(size=100000, n_indices=1):\n",
    "    print(f\"=== MatchIndex Test: {size} items, {n_indices} indices ===\")\n",
    "    TARGET = str(1)\n",
    "\n",
    "    ls = make_objs(size)\n",
    "\n",
    "    attribs = Obj.__annotations__.keys()\n",
    "    indices = []\n",
    "    for i, k in enumerate(attribs):\n",
    "        if i >= n_indices:\n",
    "            break\n",
    "        indices.append(k)\n",
    "\n",
    "    # build MatchIndex\n",
    "    t0 = time.time()\n",
    "    box = HashIndex(indices)\n",
    "    for item in ls:\n",
    "        box.add(item)\n",
    "    t_hashbox_build = time.time() - t0\n",
    "    print('MatchIndex Make:', round(t_hashbox_build, 6))\n",
    "\n",
    "    # linear search\n",
    "    t0 = time.time()\n",
    "    ls_item = None\n",
    "    for item in ls:\n",
    "        if item.a == TARGET:\n",
    "            ls_item = item\n",
    "            break\n",
    "    t_linear = time.time() - t0\n",
    "    print('Linear Find: ', round(t_linear, 6))\n",
    "\n",
    "    # index lookup\n",
    "    t0 = time.time()\n",
    "    box_item = box.find({'a': TARGET})[0]\n",
    "    t_hashbox = time.time() - t0\n",
    "    print('MatchIndex Find:', round(t_hashbox, 6))\n",
    "    assert ls_item == box_item  # correctness\n",
    "\n",
    "    print('List mem size:   ', asizeof.asizeof(ls))\n",
    "    print('MatchIndex mem size:', asizeof.asizeof(box))\n",
    "    time.sleep(5)\n"
   ]
  },
  {
   "cell_type": "code",
   "execution_count": 12,
   "id": "4738c0ce",
   "metadata": {},
   "outputs": [
    {
     "name": "stdout",
     "output_type": "stream",
     "text": [
      "=== MatchIndex Test: 100000 items, 1 indices ===\n"
     ]
    },
    {
     "ename": "TypeError",
     "evalue": "make_objs() missing 1 required positional argument: 'n_items'",
     "output_type": "error",
     "traceback": [
      "\u001b[0;31m---------------------------------------------------------------------------\u001b[0m",
      "\u001b[0;31mTypeError\u001b[0m                                 Traceback (most recent call last)",
      "\u001b[0;32m/tmp/ipykernel_9676/1578355786.py\u001b[0m in \u001b[0;36m<module>\u001b[0;34m\u001b[0m\n\u001b[0;32m----> 1\u001b[0;31m \u001b[0mperf_test\u001b[0m\u001b[0;34m(\u001b[0m\u001b[0msize\u001b[0m\u001b[0;34m=\u001b[0m\u001b[0;36m10\u001b[0m\u001b[0;34m**\u001b[0m\u001b[0;36m5\u001b[0m\u001b[0;34m,\u001b[0m \u001b[0mn_indices\u001b[0m\u001b[0;34m=\u001b[0m\u001b[0;36m1\u001b[0m\u001b[0;34m)\u001b[0m\u001b[0;34m\u001b[0m\u001b[0;34m\u001b[0m\u001b[0m\n\u001b[0m\u001b[1;32m      2\u001b[0m \u001b[0mperf_test\u001b[0m\u001b[0;34m(\u001b[0m\u001b[0msize\u001b[0m\u001b[0;34m=\u001b[0m\u001b[0;36m10\u001b[0m\u001b[0;34m**\u001b[0m\u001b[0;36m5\u001b[0m\u001b[0;34m,\u001b[0m \u001b[0mn_indices\u001b[0m\u001b[0;34m=\u001b[0m\u001b[0;36m10\u001b[0m\u001b[0;34m)\u001b[0m\u001b[0;34m\u001b[0m\u001b[0;34m\u001b[0m\u001b[0m\n",
      "\u001b[0;32m/tmp/ipykernel_9676/3150989247.py\u001b[0m in \u001b[0;36mperf_test\u001b[0;34m(size, n_indices)\u001b[0m\n\u001b[1;32m      3\u001b[0m     \u001b[0mTARGET\u001b[0m \u001b[0;34m=\u001b[0m \u001b[0mstr\u001b[0m\u001b[0;34m(\u001b[0m\u001b[0;36m1\u001b[0m\u001b[0;34m)\u001b[0m\u001b[0;34m\u001b[0m\u001b[0;34m\u001b[0m\u001b[0m\n\u001b[1;32m      4\u001b[0m \u001b[0;34m\u001b[0m\u001b[0m\n\u001b[0;32m----> 5\u001b[0;31m     \u001b[0mls\u001b[0m \u001b[0;34m=\u001b[0m \u001b[0mmake_objs\u001b[0m\u001b[0;34m(\u001b[0m\u001b[0msize\u001b[0m\u001b[0;34m)\u001b[0m\u001b[0;34m\u001b[0m\u001b[0;34m\u001b[0m\u001b[0m\n\u001b[0m\u001b[1;32m      6\u001b[0m \u001b[0;34m\u001b[0m\u001b[0m\n\u001b[1;32m      7\u001b[0m     \u001b[0mattribs\u001b[0m \u001b[0;34m=\u001b[0m \u001b[0mObj\u001b[0m\u001b[0;34m.\u001b[0m\u001b[0m__annotations__\u001b[0m\u001b[0;34m.\u001b[0m\u001b[0mkeys\u001b[0m\u001b[0;34m(\u001b[0m\u001b[0;34m)\u001b[0m\u001b[0;34m\u001b[0m\u001b[0;34m\u001b[0m\u001b[0m\n",
      "\u001b[0;31mTypeError\u001b[0m: make_objs() missing 1 required positional argument: 'n_items'"
     ]
    }
   ],
   "source": [
    "perf_test(size=10**5, n_indices=1)\n",
    "perf_test(size=10**5, n_indices=10)"
   ]
  },
  {
   "cell_type": "code",
   "execution_count": null,
   "id": "23c043e9",
   "metadata": {},
   "outputs": [],
   "source": []
  }
 ],
 "metadata": {
  "kernelspec": {
   "display_name": "Python 3 (ipykernel)",
   "language": "python",
   "name": "python3"
  },
  "language_info": {
   "codemirror_mode": {
    "name": "ipython",
    "version": 3
   },
   "file_extension": ".py",
   "mimetype": "text/x-python",
   "name": "python",
   "nbconvert_exporter": "python",
   "pygments_lexer": "ipython3",
   "version": "3.9.7"
  }
 },
 "nbformat": 4,
 "nbformat_minor": 5
}
