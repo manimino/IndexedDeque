{
 "cells": [
  {
   "cell_type": "code",
   "execution_count": 5,
   "id": "20449aca",
   "metadata": {},
   "outputs": [],
   "source": [
    "from hashindex import HashIndex, get_attributes\n",
    "from dataclasses import dataclass\n",
    "from words import all_wordle_words  # contains all 5-letter Wordle words\n"
   ]
  },
  {
   "cell_type": "code",
   "execution_count": 6,
   "id": "ebd7da8f",
   "metadata": {},
   "outputs": [],
   "source": [
    "\n",
    "\n",
    "@dataclass\n",
    "class Word:\n",
    "    c0: str\n",
    "    c1: str\n",
    "    c2: str\n",
    "    c3: str\n",
    "    c4: str\n",
    "\n",
    "    def __repr__(self):\n",
    "        return f'{self.c0}{self.c1}{self.c2}{self.c3}{self.c4}'\n",
    "\n",
    "\n",
    "mi = HashIndex(get_attributes(Word))\n",
    "\n",
    "for w, _ in all_wordle_words:\n",
    "    mi.add(Word(w[0], w[1], w[2], w[3], w[4]))\n",
    "# mi.freeze()"
   ]
  },
  {
   "cell_type": "code",
   "execution_count": 7,
   "id": "c1020b45",
   "metadata": {},
   "outputs": [
    {
     "name": "stdout",
     "output_type": "stream",
     "text": [
      "830 µs ± 377 µs per loop (mean ± std. dev. of 5 runs, 5 loops each)\n"
     ]
    }
   ],
   "source": [
    "%%timeit -n 5 -r 5\n",
    "\n",
    "\n",
    "# CLEAN got yellow on 'C', green on 'A'.\n",
    "r = mi.find(match={'c3': 'A'}, exclude={\n",
    "    'c0': list('CLEN'),\n",
    "    'c1': list('LEN'),\n",
    "    'c2': list('LEN'),\n",
    "    'c4': list('LEN'),\n",
    "})"
   ]
  },
  {
   "cell_type": "code",
   "execution_count": 4,
   "id": "0885d68b",
   "metadata": {},
   "outputs": [
    {
     "name": "stdout",
     "output_type": "stream",
     "text": [
      "357\n",
      "54\n",
      "6\n",
      "SCRAG\n",
      "SCRAT\n",
      "SCRAB\n",
      "SCRAW\n",
      "SCRAP\n",
      "SCRAY\n"
     ]
    }
   ],
   "source": [
    "# CLEAN got yellow on 'C', green on 'A'.\n",
    "r = mi.find(match={'c3': 'A'}, exclude={\n",
    "    'c0': list('CLEN'),\n",
    "    'c1': list('LEN'),\n",
    "    'c2': list('LEN'),\n",
    "    'c4': list('LEN'),\n",
    "})\n",
    "print(len(r))\n",
    "# for w in r:\n",
    "#     print(w)\n",
    "\n",
    "\n",
    "# SQUAD got green on S and A.\n",
    "r = mi.find(match={\n",
    "    'c0': 'S',\n",
    "    'c3': 'A'\n",
    "},\n",
    "    exclude={\n",
    "        'c1': list('LENQD'),\n",
    "        'c2': list('LENQD'),\n",
    "        'c4': list('LENQD'),\n",
    "    }\n",
    ")\n",
    "print(len(r))\n",
    "# for w in r:\n",
    "#    print(w)\n",
    "\n",
    "\n",
    "# SCRAM got green on SCRA.\n",
    "r = mi.find(match={\n",
    "    'c0': 'S',\n",
    "    'c1': 'C',\n",
    "    'c2': 'R',\n",
    "    'c3': 'A'\n",
    "},\n",
    "    exclude={\n",
    "        'c1': list('LENQDM'),\n",
    "        'c2': list('LENQDM'),\n",
    "        'c4': list('LENQDM'),\n",
    "    }\n",
    ")\n",
    "\n",
    "print(len(r))\n",
    "for w in r:\n",
    "    print(w)"
   ]
  },
  {
   "cell_type": "code",
   "execution_count": null,
   "id": "d544bf81",
   "metadata": {},
   "outputs": [],
   "source": []
  }
 ],
 "metadata": {
  "kernelspec": {
   "display_name": "Python 3 (ipykernel)",
   "language": "python",
   "name": "python3"
  },
  "language_info": {
   "codemirror_mode": {
    "name": "ipython",
    "version": 3
   },
   "file_extension": ".py",
   "mimetype": "text/x-python",
   "name": "python",
   "nbconvert_exporter": "python",
   "pygments_lexer": "ipython3",
   "version": "3.9.7"
  }
 },
 "nbformat": 4,
 "nbformat_minor": 5
}
