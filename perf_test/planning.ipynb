{
 "cells": [
  {
   "cell_type": "markdown",
   "id": "332d5f5b",
   "metadata": {},
   "source": [
    "```\n",
    "Minimum viable\n",
    " - Unit tests (nulls, dict / namedtuple handling)\n",
    " - github test badge\n",
    " - iter container, len, contains\n",
    " - Performance graphs (ram, speed)\n",
    " - Replace dict(set()) with dict(cykhash())\n",
    "\n",
    "Cool idea:\n",
    " - Custom getter functions. Don't just get attribute. Get by (lambda x: x['thing'][0].message) or whatever.\n",
    "\n",
    "Deeper optimizations:\n",
    "  + Query planning\n",
    "    - what metadata do we need?\n",
    "     - Set intersection handling:\n",
    "       - Does order of operations matter in set intersection? Should we sort by smallest -> largest?\n",
    "       - Can we short-circuit if a query will return no results? Or quit + scan each object if n_objs < threshold?\n",
    "  + RAM optimizations\n",
    "    - when to use {'attribute': {key: set()}} versus {'attribute': {hash(key): set}? What key cardinality / diversity makes this worthwhile? Ref: https://www.postgresql.org/docs/current/hash-intro.html\n",
    "    - How about we explicitly match keys that cover >1% of the values, and throw the rest in bucket-mode?\n",
    "\n",
    "\n",
    "Rabbit holes:\n",
    " - (Maybe) redo query language to allow SQL where-clause-like. Parser is easy enough.\n",
    "   - Note: Arbitrary object matches are supported by the current method. Accepting \"queries\" would not.\n",
    "     - So we will want the current syntax in addition, even if supporting \"queries\".\n",
    "   - https://stackoverflow.com/questions/2467590/dynamically-evaluating-simple-boolean-logic-in-python\n",
    "   - https://stackoverflow.com/questions/31409344/get-elements-in-and-in-logic-string-with-python\n",
    "   - https://stackoverflow.com/questions/11133339/parsing-a-complex-logical-expression-in-pyparsing-in-a-binary-tree-fashion\n",
    "\n",
    "```"
   ]
  },
  {
   "cell_type": "code",
   "execution_count": 3,
   "id": "bde9c574",
   "metadata": {},
   "outputs": [
    {
     "name": "stdout",
     "output_type": "stream",
     "text": [
      "{<function first_three_letters at 0x7f8c0042a160>: 'str'}\n"
     ]
    }
   ],
   "source": [
    "def first_three_letters(x: str):\n",
    "    return x[:3]\n",
    "\n",
    "on = {first_three_letters: 'str'}\n",
    "print(on)"
   ]
  },
  {
   "cell_type": "code",
   "execution_count": null,
   "id": "5f2bf0db",
   "metadata": {},
   "outputs": [],
   "source": []
  }
 ],
 "metadata": {
  "kernelspec": {
   "display_name": "Python 3 (ipykernel)",
   "language": "python",
   "name": "python3"
  },
  "language_info": {
   "codemirror_mode": {
    "name": "ipython",
    "version": 3
   },
   "file_extension": ".py",
   "mimetype": "text/x-python",
   "name": "python",
   "nbconvert_exporter": "python",
   "pygments_lexer": "ipython3",
   "version": "3.9.7"
  }
 },
 "nbformat": 4,
 "nbformat_minor": 5
}
