{
 "cells": [
  {
   "cell_type": "code",
   "execution_count": 1,
   "id": "a3ed3f4b",
   "metadata": {},
   "outputs": [],
   "source": [
    "import numpy as np\n",
    "import sortednp as snp\n",
    "from cykhash import Int64Set\n",
    "import heapq\n",
    "import random\n",
    "import time"
   ]
  },
  {
   "cell_type": "code",
   "execution_count": 2,
   "id": "1087b67d",
   "metadata": {},
   "outputs": [
    {
     "data": {
      "text/plain": [
       "[array([    13,     25,     33, ..., 999943, 999956, 999967]),\n",
       " array([    12,     19,     20, ..., 999998, 999998, 999999]),\n",
       " array([    19,     19,     20, ..., 999958, 999961, 999973]),\n",
       " array([     4,     15,     19, ..., 999995, 999998, 999999]),\n",
       " array([     1,      3,      7, ..., 999965, 999982, 999998]),\n",
       " array([     8,     23,     23, ..., 999973, 999991, 999995]),\n",
       " array([     6,      8,     13, ..., 999978, 999981, 999983]),\n",
       " array([     4,     11,     30, ..., 999989, 999995, 999999]),\n",
       " array([     1,     28,     39, ..., 999972, 999979, 999993]),\n",
       " array([    16,     33,     37, ..., 999984, 999984, 999996])]"
      ]
     },
     "execution_count": 2,
     "metadata": {},
     "output_type": "execute_result"
    }
   ],
   "source": [
    "arrs = [np.array(sorted([int(random.random()*10**6) for _ in range(10**5)])) for _ in range(10)]\n",
    "arrs"
   ]
  },
  {
   "cell_type": "code",
   "execution_count": 3,
   "id": "16b58db4",
   "metadata": {},
   "outputs": [
    {
     "name": "stdout",
     "output_type": "stream",
     "text": [
      "25.9 ms ± 1.36 ms per loop (mean ± std. dev. of 5 runs, 5 loops each)\n"
     ]
    }
   ],
   "source": [
    "%%timeit -r 5 -n 5\n",
    "snp.kway_merge(*arrs, assume_sorted=True, duplicates=snp.DROP)"
   ]
  },
  {
   "cell_type": "code",
   "execution_count": 4,
   "id": "6075aa27",
   "metadata": {},
   "outputs": [
    {
     "data": {
      "text/plain": [
       "array([     1,      3,      4, ..., 999996, 999998, 999999])"
      ]
     },
     "execution_count": 4,
     "metadata": {},
     "output_type": "execute_result"
    }
   ],
   "source": [
    "snp.kway_merge(*arrs, assume_sorted=True, duplicates=snp.DROP)"
   ]
  },
  {
   "cell_type": "code",
   "execution_count": 5,
   "id": "d3041eaa",
   "metadata": {},
   "outputs": [
    {
     "name": "stdout",
     "output_type": "stream",
     "text": [
      "375 ms ± 2.44 ms per loop (mean ± std. dev. of 5 runs, 5 loops each)\n"
     ]
    }
   ],
   "source": [
    "%%timeit -r 5 -n 5\n",
    "list(heapq.merge(*arrs))"
   ]
  },
  {
   "cell_type": "code",
   "execution_count": 6,
   "id": "00a6f88b",
   "metadata": {},
   "outputs": [
    {
     "name": "stdout",
     "output_type": "stream",
     "text": [
      "38.1 ms ± 964 µs per loop (mean ± std. dev. of 5 runs, 5 loops each)\n"
     ]
    }
   ],
   "source": [
    "%%timeit -r 5 -n 5\n",
    "\n",
    "np.unique(np.concatenate(arrs))"
   ]
  },
  {
   "cell_type": "code",
   "execution_count": 7,
   "id": "5a954697",
   "metadata": {},
   "outputs": [
    {
     "name": "stdout",
     "output_type": "stream",
     "text": [
      "138 ms ± 2.23 ms per loop (mean ± std. dev. of 5 runs, 5 loops each)\n"
     ]
    }
   ],
   "source": [
    "%%timeit -r 5 -n 5\n",
    "\n",
    "tot = np.array([])\n",
    "for arr in arrs:\n",
    "    tot = np.union1d(arr, tot)"
   ]
  },
  {
   "cell_type": "code",
   "execution_count": 8,
   "id": "09296eaf",
   "metadata": {},
   "outputs": [],
   "source": [
    "cyksets = [Int64Set(arr) for arr in arrs]\n"
   ]
  },
  {
   "cell_type": "code",
   "execution_count": 9,
   "id": "5384a218",
   "metadata": {},
   "outputs": [
    {
     "name": "stdout",
     "output_type": "stream",
     "text": [
      "314 ms ± 2.61 ms per loop (mean ± std. dev. of 5 runs, 5 loops each)\n"
     ]
    }
   ],
   "source": [
    "%%timeit -r 5 -n 5\n",
    "tot = Int64Set()\n",
    "for s in cyksets:\n",
    "    tot = s.union(tot)"
   ]
  },
  {
   "cell_type": "code",
   "execution_count": 10,
   "id": "69b54b86",
   "metadata": {},
   "outputs": [],
   "source": [
    "sets = [set(arr) for arr in arrs]"
   ]
  },
  {
   "cell_type": "code",
   "execution_count": 11,
   "id": "48a06ba4",
   "metadata": {},
   "outputs": [
    {
     "name": "stdout",
     "output_type": "stream",
     "text": [
      "198 ms ± 3.46 ms per loop (mean ± std. dev. of 5 runs, 5 loops each)\n"
     ]
    }
   ],
   "source": [
    "%%timeit -r 5 -n 5\n",
    "tot = set()\n",
    "for s in sets:\n",
    "    tot = s.union(tot)"
   ]
  },
  {
   "cell_type": "code",
   "execution_count": null,
   "id": "55c4ce37",
   "metadata": {},
   "outputs": [],
   "source": []
  }
 ],
 "metadata": {
  "kernelspec": {
   "display_name": "Python 3 (ipykernel)",
   "language": "python",
   "name": "python3"
  },
  "language_info": {
   "codemirror_mode": {
    "name": "ipython",
    "version": 3
   },
   "file_extension": ".py",
   "mimetype": "text/x-python",
   "name": "python",
   "nbconvert_exporter": "python",
   "pygments_lexer": "ipython3",
   "version": "3.9.7"
  }
 },
 "nbformat": 4,
 "nbformat_minor": 5
}
